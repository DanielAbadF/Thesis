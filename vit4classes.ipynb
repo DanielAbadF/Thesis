{
 "cells": [
  {
   "cell_type": "code",
   "execution_count": 20,
   "metadata": {},
   "outputs": [],
   "source": [
    "import torch\n",
    "import torch.nn as nn\n",
    "import torch.optim as optim\n",
    "from torch.utils.data import DataLoader\n",
    "import torchvision.transforms as transforms\n",
    "import torchvision.datasets as datasets\n",
    "from datasets import load_dataset\n",
    "from timm import create_model\n",
    "from transformers import ViTImageProcessor\n",
    "from transformers import ViTConfig, ViTModel\n",
    "import evaluate \n",
    "import numpy as np"
   ]
  },
  {
   "cell_type": "code",
   "execution_count": 21,
   "metadata": {},
   "outputs": [],
   "source": [
    "from transformers import ViTImageProcessor\n",
    "\n",
    "model_name_or_path = \"google/vit-base-patch16-224-in21k\"\n",
    "feature_extractor = ViTImageProcessor.from_pretrained(model_name_or_path, return_tensors='pt')"
   ]
  },
  {
   "cell_type": "code",
   "execution_count": 22,
   "metadata": {},
   "outputs": [],
   "source": [
    "# Initializing a ViT vit-base-patch16-224 style configuration\n",
    "configuration = ViTConfig()\n",
    "\n",
    "# Initializing a model (with random weights) from the vit-base-patch16-224 style configuration\n",
    "model = ViTModel(configuration)"
   ]
  },
  {
   "cell_type": "code",
   "execution_count": 23,
   "metadata": {},
   "outputs": [],
   "source": [
    "def transform(example_batch):\n",
    "    # Take a list of PIL images and turn them to pixel values\n",
    "    inputs = feature_extractor([x for x in example_batch['image']], return_tensors='pt')\n",
    "\n",
    "    # Don't forget to include the labels!\n",
    "    inputs['labels'] = example_batch['label']\n",
    "    return inputs"
   ]
  },
  {
   "cell_type": "code",
   "execution_count": 24,
   "metadata": {},
   "outputs": [
    {
     "data": {
      "application/vnd.jupyter.widget-view+json": {
       "model_id": "8f9ad4639d444903ae3ae6c674f0e1b1",
       "version_major": 2,
       "version_minor": 0
      },
      "text/plain": [
       "Resolving data files:   0%|          | 0/45388 [00:00<?, ?it/s]"
      ]
     },
     "metadata": {},
     "output_type": "display_data"
    },
    {
     "data": {
      "application/vnd.jupyter.widget-view+json": {
       "model_id": "1d06eda5d6614971b0a38d332ac9c175",
       "version_major": 2,
       "version_minor": 0
      },
      "text/plain": [
       "Resolving data files:   0%|          | 0/600 [00:00<?, ?it/s]"
      ]
     },
     "metadata": {},
     "output_type": "display_data"
    },
    {
     "data": {
      "application/vnd.jupyter.widget-view+json": {
       "model_id": "021a66a5a05949c48893020ce52ac599",
       "version_major": 2,
       "version_minor": 0
      },
      "text/plain": [
       "Resolving data files:   0%|          | 0/1150 [00:00<?, ?it/s]"
      ]
     },
     "metadata": {},
     "output_type": "display_data"
    }
   ],
   "source": [
    "ds = load_dataset(\"C:/Thesis/Dataset4classes2\", num_proc=3)\n"
   ]
  },
  {
   "cell_type": "code",
   "execution_count": 25,
   "metadata": {},
   "outputs": [
    {
     "name": "stdout",
     "output_type": "stream",
     "text": [
      "DatasetDict({\n",
      "    train: Dataset({\n",
      "        features: ['image', 'label'],\n",
      "        num_rows: 45388\n",
      "    })\n",
      "    validation: Dataset({\n",
      "        features: ['image', 'label'],\n",
      "        num_rows: 600\n",
      "    })\n",
      "    test: Dataset({\n",
      "        features: ['image', 'label'],\n",
      "        num_rows: 1150\n",
      "    })\n",
      "})\n"
     ]
    }
   ],
   "source": [
    "print(ds)"
   ]
  },
  {
   "cell_type": "code",
   "execution_count": 26,
   "metadata": {},
   "outputs": [
    {
     "name": "stdout",
     "output_type": "stream",
     "text": [
      "4 ClassLabel(names=['bcc', 'mel', 'others', 'scc'], id=None)\n"
     ]
    }
   ],
   "source": [
    "dataset_train = ds['train']\n",
    "dataset_valid = ds['validation']\n",
    "num_classes = len(set(dataset_train['label']))\n",
    "labels = ds['train'].features['label']\n",
    "print(num_classes, labels)"
   ]
  },
  {
   "cell_type": "code",
   "execution_count": 27,
   "metadata": {},
   "outputs": [],
   "source": [
    "example = feature_extractor(dataset_train[0]['image'], return_tensors = 'pt')"
   ]
  },
  {
   "cell_type": "code",
   "execution_count": 28,
   "metadata": {},
   "outputs": [
    {
     "data": {
      "text/plain": [
       "device(type='cuda')"
      ]
     },
     "execution_count": 28,
     "metadata": {},
     "output_type": "execute_result"
    }
   ],
   "source": [
    "device = torch.device('cuda' if torch.cuda.is_available() else 'cpu')\n",
    "device"
   ]
  },
  {
   "cell_type": "code",
   "execution_count": 29,
   "metadata": {},
   "outputs": [],
   "source": [
    "def preprocess(batch):\n",
    "    inputs = feature_extractor(batch['image'], return_tensors='pt').to(device)\n",
    "    inputs['label'] = batch['label']\n",
    "    return inputs"
   ]
  },
  {
   "cell_type": "code",
   "execution_count": 30,
   "metadata": {},
   "outputs": [],
   "source": [
    "prepared_train = dataset_train.with_transform(preprocess)\n",
    "prepared_valid = dataset_valid.with_transform(preprocess)"
   ]
  },
  {
   "cell_type": "code",
   "execution_count": 31,
   "metadata": {},
   "outputs": [
    {
     "name": "stdout",
     "output_type": "stream",
     "text": [
      "{'image': Image(mode=None, decode=True, id=None), 'label': ClassLabel(names=['bcc', 'mel', 'others', 'scc'], id=None)}\n"
     ]
    }
   ],
   "source": [
    "print(prepared_train.features)"
   ]
  },
  {
   "cell_type": "code",
   "execution_count": 32,
   "metadata": {},
   "outputs": [],
   "source": [
    "def collate_fn(batch):\n",
    "    return {\n",
    "        'pixel_values': torch.stack([x['pixel_values'] for x in batch]),\n",
    "        'labels': torch.tensor([x['label'] for x in batch])\n",
    "    }"
   ]
  },
  {
   "cell_type": "code",
   "execution_count": 33,
   "metadata": {},
   "outputs": [
    {
     "name": "stderr",
     "output_type": "stream",
     "text": [
      "Some weights of ViTForImageClassification were not initialized from the model checkpoint at google/vit-base-patch16-224-in21k and are newly initialized: ['classifier.bias', 'classifier.weight']\n",
      "You should probably TRAIN this model on a down-stream task to be able to use it for predictions and inference.\n"
     ]
    }
   ],
   "source": [
    "from transformers import ViTForImageClassification\n",
    "\n",
    "labels = ds['train'].features['label'].names\n",
    "\n",
    "model = ViTForImageClassification.from_pretrained(\n",
    "    model_name_or_path,\n",
    "    num_labels=len(labels),\n",
    ").to(device)"
   ]
  },
  {
   "cell_type": "code",
   "execution_count": 34,
   "metadata": {},
   "outputs": [
    {
     "name": "stderr",
     "output_type": "stream",
     "text": [
      "Using the latest cached version of the module from C:\\Users\\abadd\\.cache\\huggingface\\modules\\evaluate_modules\\metrics\\evaluate-metric--accuracy\\f887c0aab52c2d38e1f8a215681126379eca617f96c447638f751434e8e65b14 (last modified on Fri Dec  6 16:58:05 2024) since it couldn't be found locally at evaluate-metric--accuracy, or remotely on the Hugging Face Hub.\n"
     ]
    }
   ],
   "source": [
    "metric = evaluate.load(\"accuracy\")"
   ]
  },
  {
   "cell_type": "code",
   "execution_count": 35,
   "metadata": {},
   "outputs": [],
   "source": [
    "def compute_metrics(eval_pred):\n",
    "    logits, labels = eval_pred\n",
    "    predictions = np.argmax(logits, axis=-1)\n",
    "    return metric.compute(predictions=predictions, references=labels)"
   ]
  },
  {
   "cell_type": "code",
   "execution_count": 36,
   "metadata": {},
   "outputs": [],
   "source": [
    "from transformers import TrainingArguments, Trainer\n",
    "\n",
    "\n",
    "training_args = TrainingArguments(\n",
    "    output_dir='resultsbase4c', \n",
    "    per_device_eval_batch_size=12,\n",
    "    eval_strategy=\"steps\",\n",
    "    num_train_epochs=5,\n",
    "    gradient_accumulation_steps=4,\n",
    "    save_steps=500,\n",
    "    eval_steps=500,\n",
    "    logging_steps=10,\n",
    "    learning_rate=2e-5,\n",
    "    save_total_limit=2,\n",
    "    remove_unused_columns=False,\n",
    "    push_to_hub=False,\n",
    "    load_best_model_at_end=True,\n",
    "    dataloader_pin_memory=False,\n",
    "    fp16=True\n",
    "    )"
   ]
  },
  {
   "cell_type": "code",
   "execution_count": 37,
   "metadata": {},
   "outputs": [
    {
     "name": "stderr",
     "output_type": "stream",
     "text": [
      "C:\\Users\\abadd\\AppData\\Local\\Temp\\ipykernel_27632\\2735172214.py:1: FutureWarning: `tokenizer` is deprecated and will be removed in version 5.0.0 for `Trainer.__init__`. Use `processing_class` instead.\n",
      "  trainer = Trainer(\n"
     ]
    }
   ],
   "source": [
    "trainer = Trainer(\n",
    "    model=model,\n",
    "    args=training_args,\n",
    "    train_dataset= prepared_train,\n",
    "    eval_dataset= prepared_valid,\n",
    "    compute_metrics=compute_metrics,\n",
    "    data_collator=collate_fn,\n",
    "    tokenizer=feature_extractor\n",
    ")"
   ]
  },
  {
   "cell_type": "code",
   "execution_count": 38,
   "metadata": {},
   "outputs": [
    {
     "data": {
      "application/vnd.jupyter.widget-view+json": {
       "model_id": "6577c2944d114275b8788fe980176323",
       "version_major": 2,
       "version_minor": 0
      },
      "text/plain": [
       "  0%|          | 0/7090 [00:00<?, ?it/s]"
      ]
     },
     "metadata": {},
     "output_type": "display_data"
    },
    {
     "name": "stdout",
     "output_type": "stream",
     "text": [
      "{'loss': 1.3695, 'grad_norm': 4.337615966796875, 'learning_rate': 1.997179125528914e-05, 'epoch': 0.01}\n",
      "{'loss': 1.3308, 'grad_norm': 4.955028533935547, 'learning_rate': 1.994358251057828e-05, 'epoch': 0.01}\n",
      "{'loss': 1.2873, 'grad_norm': 5.138838768005371, 'learning_rate': 1.991537376586742e-05, 'epoch': 0.02}\n",
      "{'loss': 1.2376, 'grad_norm': 4.704006195068359, 'learning_rate': 1.988716502115656e-05, 'epoch': 0.03}\n",
      "{'loss': 1.2078, 'grad_norm': 6.315433979034424, 'learning_rate': 1.98589562764457e-05, 'epoch': 0.04}\n",
      "{'loss': 1.1438, 'grad_norm': 5.738340377807617, 'learning_rate': 1.983074753173484e-05, 'epoch': 0.04}\n",
      "{'loss': 1.1262, 'grad_norm': 7.075477123260498, 'learning_rate': 1.980253878702398e-05, 'epoch': 0.05}\n",
      "{'loss': 1.0582, 'grad_norm': 5.751842021942139, 'learning_rate': 1.9774330042313118e-05, 'epoch': 0.06}\n",
      "{'loss': 1.0757, 'grad_norm': 7.02844762802124, 'learning_rate': 1.974612129760226e-05, 'epoch': 0.06}\n",
      "{'loss': 1.0496, 'grad_norm': 9.727574348449707, 'learning_rate': 1.9717912552891397e-05, 'epoch': 0.07}\n",
      "{'loss': 1.027, 'grad_norm': 12.883625984191895, 'learning_rate': 1.968970380818054e-05, 'epoch': 0.08}\n",
      "{'loss': 1.0045, 'grad_norm': 7.851814270019531, 'learning_rate': 1.9661495063469677e-05, 'epoch': 0.08}\n",
      "{'loss': 0.966, 'grad_norm': 7.7600417137146, 'learning_rate': 1.963328631875882e-05, 'epoch': 0.09}\n",
      "{'loss': 0.935, 'grad_norm': 10.510849952697754, 'learning_rate': 1.9605077574047957e-05, 'epoch': 0.1}\n",
      "{'loss': 0.894, 'grad_norm': 7.500311851501465, 'learning_rate': 1.9576868829337095e-05, 'epoch': 0.11}\n",
      "{'loss': 0.8732, 'grad_norm': 8.97642993927002, 'learning_rate': 1.9548660084626237e-05, 'epoch': 0.11}\n",
      "{'loss': 0.9315, 'grad_norm': 9.80755615234375, 'learning_rate': 1.9520451339915375e-05, 'epoch': 0.12}\n",
      "{'loss': 0.8718, 'grad_norm': 7.751031398773193, 'learning_rate': 1.9492242595204517e-05, 'epoch': 0.13}\n",
      "{'loss': 0.856, 'grad_norm': 12.720892906188965, 'learning_rate': 1.9464033850493655e-05, 'epoch': 0.13}\n",
      "{'loss': 0.8978, 'grad_norm': 12.813762664794922, 'learning_rate': 1.9435825105782797e-05, 'epoch': 0.14}\n",
      "{'loss': 0.8907, 'grad_norm': 10.150551795959473, 'learning_rate': 1.9407616361071935e-05, 'epoch': 0.15}\n",
      "{'loss': 0.849, 'grad_norm': 7.652148246765137, 'learning_rate': 1.9379407616361073e-05, 'epoch': 0.16}\n",
      "{'loss': 0.8786, 'grad_norm': 12.8112154006958, 'learning_rate': 1.9351198871650215e-05, 'epoch': 0.16}\n",
      "{'loss': 0.9023, 'grad_norm': 14.529247283935547, 'learning_rate': 1.9322990126939353e-05, 'epoch': 0.17}\n",
      "{'loss': 0.8595, 'grad_norm': 8.825114250183105, 'learning_rate': 1.9294781382228495e-05, 'epoch': 0.18}\n",
      "{'loss': 0.8281, 'grad_norm': 13.055299758911133, 'learning_rate': 1.926657263751763e-05, 'epoch': 0.18}\n",
      "{'loss': 0.8399, 'grad_norm': 13.65548324584961, 'learning_rate': 1.923836389280677e-05, 'epoch': 0.19}\n",
      "{'loss': 0.8145, 'grad_norm': 14.710836410522461, 'learning_rate': 1.921015514809591e-05, 'epoch': 0.2}\n",
      "{'loss': 0.779, 'grad_norm': 13.596922874450684, 'learning_rate': 1.918194640338505e-05, 'epoch': 0.2}\n",
      "{'loss': 0.8352, 'grad_norm': 9.435547828674316, 'learning_rate': 1.915373765867419e-05, 'epoch': 0.21}\n",
      "{'loss': 0.807, 'grad_norm': 13.326519012451172, 'learning_rate': 1.912552891396333e-05, 'epoch': 0.22}\n",
      "{'loss': 0.7863, 'grad_norm': 11.681187629699707, 'learning_rate': 1.909732016925247e-05, 'epoch': 0.23}\n",
      "{'loss': 0.783, 'grad_norm': 13.82580852508545, 'learning_rate': 1.9069111424541607e-05, 'epoch': 0.23}\n",
      "{'loss': 0.7531, 'grad_norm': 14.112798690795898, 'learning_rate': 1.904090267983075e-05, 'epoch': 0.24}\n",
      "{'loss': 0.7758, 'grad_norm': 14.460541725158691, 'learning_rate': 1.9012693935119887e-05, 'epoch': 0.25}\n",
      "{'loss': 0.7799, 'grad_norm': 13.842497825622559, 'learning_rate': 1.898448519040903e-05, 'epoch': 0.25}\n",
      "{'loss': 0.7464, 'grad_norm': 11.729508399963379, 'learning_rate': 1.8956276445698167e-05, 'epoch': 0.26}\n",
      "{'loss': 0.7519, 'grad_norm': 11.694140434265137, 'learning_rate': 1.892806770098731e-05, 'epoch': 0.27}\n",
      "{'loss': 0.7391, 'grad_norm': 9.494622230529785, 'learning_rate': 1.8899858956276447e-05, 'epoch': 0.27}\n",
      "{'loss': 0.7928, 'grad_norm': 12.76634407043457, 'learning_rate': 1.8871650211565585e-05, 'epoch': 0.28}\n",
      "{'loss': 0.7492, 'grad_norm': 13.484222412109375, 'learning_rate': 1.8843441466854727e-05, 'epoch': 0.29}\n",
      "{'loss': 0.7278, 'grad_norm': 12.802643775939941, 'learning_rate': 1.8815232722143865e-05, 'epoch': 0.3}\n",
      "{'loss': 0.7545, 'grad_norm': 11.289295196533203, 'learning_rate': 1.8787023977433007e-05, 'epoch': 0.3}\n",
      "{'loss': 0.648, 'grad_norm': 7.567980766296387, 'learning_rate': 1.8758815232722145e-05, 'epoch': 0.31}\n",
      "{'loss': 0.6613, 'grad_norm': 8.147334098815918, 'learning_rate': 1.8730606488011286e-05, 'epoch': 0.32}\n",
      "{'loss': 0.6409, 'grad_norm': 14.238882064819336, 'learning_rate': 1.8702397743300425e-05, 'epoch': 0.32}\n",
      "{'loss': 0.6967, 'grad_norm': 13.96038818359375, 'learning_rate': 1.8674188998589563e-05, 'epoch': 0.33}\n",
      "{'loss': 0.7942, 'grad_norm': 16.603046417236328, 'learning_rate': 1.8645980253878704e-05, 'epoch': 0.34}\n",
      "{'loss': 0.6917, 'grad_norm': 19.419511795043945, 'learning_rate': 1.8617771509167843e-05, 'epoch': 0.35}\n",
      "{'loss': 0.715, 'grad_norm': 18.85077667236328, 'learning_rate': 1.8589562764456984e-05, 'epoch': 0.35}\n"
     ]
    },
    {
     "data": {
      "application/vnd.jupyter.widget-view+json": {
       "model_id": "51d6df50b3f948e9959dca50233b9796",
       "version_major": 2,
       "version_minor": 0
      },
      "text/plain": [
       "  0%|          | 0/50 [00:00<?, ?it/s]"
      ]
     },
     "metadata": {},
     "output_type": "display_data"
    },
    {
     "name": "stdout",
     "output_type": "stream",
     "text": [
      "{'eval_loss': 0.9693005084991455, 'eval_accuracy': 0.5883333333333334, 'eval_runtime': 63.8129, 'eval_samples_per_second': 9.402, 'eval_steps_per_second': 0.784, 'epoch': 0.35}\n",
      "{'loss': 0.6891, 'grad_norm': 13.478370666503906, 'learning_rate': 1.8561354019746123e-05, 'epoch': 0.36}\n",
      "{'loss': 0.638, 'grad_norm': 20.209972381591797, 'learning_rate': 1.8533145275035264e-05, 'epoch': 0.37}\n",
      "{'loss': 0.6733, 'grad_norm': 16.858558654785156, 'learning_rate': 1.8504936530324402e-05, 'epoch': 0.37}\n",
      "{'loss': 0.6899, 'grad_norm': 18.010610580444336, 'learning_rate': 1.847672778561354e-05, 'epoch': 0.38}\n",
      "{'loss': 0.6699, 'grad_norm': 21.225370407104492, 'learning_rate': 1.8448519040902682e-05, 'epoch': 0.39}\n",
      "{'loss': 0.6632, 'grad_norm': 17.429399490356445, 'learning_rate': 1.842031029619182e-05, 'epoch': 0.39}\n",
      "{'loss': 0.6487, 'grad_norm': 17.658828735351562, 'learning_rate': 1.8392101551480962e-05, 'epoch': 0.4}\n",
      "{'loss': 0.6694, 'grad_norm': 16.67638397216797, 'learning_rate': 1.83638928067701e-05, 'epoch': 0.41}\n",
      "{'loss': 0.667, 'grad_norm': 10.556473731994629, 'learning_rate': 1.833568406205924e-05, 'epoch': 0.42}\n",
      "{'loss': 0.7058, 'grad_norm': 20.63663101196289, 'learning_rate': 1.830747531734838e-05, 'epoch': 0.42}\n",
      "{'loss': 0.5455, 'grad_norm': 11.070169448852539, 'learning_rate': 1.827926657263752e-05, 'epoch': 0.43}\n",
      "{'loss': 0.6918, 'grad_norm': 24.71407699584961, 'learning_rate': 1.825105782792666e-05, 'epoch': 0.44}\n",
      "{'loss': 0.6706, 'grad_norm': 14.93596363067627, 'learning_rate': 1.8222849083215798e-05, 'epoch': 0.44}\n",
      "{'loss': 0.612, 'grad_norm': 13.438446044921875, 'learning_rate': 1.819464033850494e-05, 'epoch': 0.45}\n",
      "{'loss': 0.6611, 'grad_norm': 19.708377838134766, 'learning_rate': 1.8166431593794078e-05, 'epoch': 0.46}\n",
      "{'loss': 0.599, 'grad_norm': 20.82504653930664, 'learning_rate': 1.8138222849083216e-05, 'epoch': 0.47}\n",
      "{'loss': 0.5857, 'grad_norm': 12.066191673278809, 'learning_rate': 1.8110014104372358e-05, 'epoch': 0.47}\n",
      "{'loss': 0.6346, 'grad_norm': 13.834833145141602, 'learning_rate': 1.8081805359661496e-05, 'epoch': 0.48}\n",
      "{'loss': 0.6515, 'grad_norm': 19.777164459228516, 'learning_rate': 1.8053596614950638e-05, 'epoch': 0.49}\n",
      "{'loss': 0.6194, 'grad_norm': 24.257659912109375, 'learning_rate': 1.8025387870239776e-05, 'epoch': 0.49}\n",
      "{'loss': 0.6026, 'grad_norm': 16.087535858154297, 'learning_rate': 1.7997179125528918e-05, 'epoch': 0.5}\n",
      "{'loss': 0.5683, 'grad_norm': 29.952638626098633, 'learning_rate': 1.7968970380818056e-05, 'epoch': 0.51}\n",
      "{'loss': 0.5564, 'grad_norm': 18.245771408081055, 'learning_rate': 1.7940761636107194e-05, 'epoch': 0.51}\n",
      "{'loss': 0.6242, 'grad_norm': 17.291488647460938, 'learning_rate': 1.7912552891396336e-05, 'epoch': 0.52}\n",
      "{'loss': 0.6426, 'grad_norm': 14.478626251220703, 'learning_rate': 1.7884344146685474e-05, 'epoch': 0.53}\n",
      "{'loss': 0.6397, 'grad_norm': 26.397851943969727, 'learning_rate': 1.7856135401974612e-05, 'epoch': 0.54}\n",
      "{'loss': 0.5923, 'grad_norm': 22.462907791137695, 'learning_rate': 1.7827926657263754e-05, 'epoch': 0.54}\n",
      "{'loss': 0.634, 'grad_norm': 15.349162101745605, 'learning_rate': 1.7799717912552892e-05, 'epoch': 0.55}\n",
      "{'loss': 0.6946, 'grad_norm': 29.498790740966797, 'learning_rate': 1.777150916784203e-05, 'epoch': 0.56}\n",
      "{'loss': 0.6232, 'grad_norm': 16.693098068237305, 'learning_rate': 1.7743300423131172e-05, 'epoch': 0.56}\n",
      "{'loss': 0.5714, 'grad_norm': 17.26436996459961, 'learning_rate': 1.771509167842031e-05, 'epoch': 0.57}\n",
      "{'loss': 0.5154, 'grad_norm': 17.46502685546875, 'learning_rate': 1.7686882933709452e-05, 'epoch': 0.58}\n",
      "{'loss': 0.5991, 'grad_norm': 16.77707290649414, 'learning_rate': 1.765867418899859e-05, 'epoch': 0.59}\n",
      "{'loss': 0.5907, 'grad_norm': 26.598968505859375, 'learning_rate': 1.7630465444287728e-05, 'epoch': 0.59}\n",
      "{'loss': 0.5858, 'grad_norm': 24.50199317932129, 'learning_rate': 1.760225669957687e-05, 'epoch': 0.6}\n",
      "{'loss': 0.5196, 'grad_norm': 22.37601089477539, 'learning_rate': 1.7574047954866008e-05, 'epoch': 0.61}\n",
      "{'loss': 0.5969, 'grad_norm': 12.801193237304688, 'learning_rate': 1.754583921015515e-05, 'epoch': 0.61}\n",
      "{'loss': 0.5151, 'grad_norm': 20.973100662231445, 'learning_rate': 1.7517630465444288e-05, 'epoch': 0.62}\n",
      "{'loss': 0.5603, 'grad_norm': 17.424083709716797, 'learning_rate': 1.748942172073343e-05, 'epoch': 0.63}\n",
      "{'loss': 0.5634, 'grad_norm': 22.17960548400879, 'learning_rate': 1.7461212976022568e-05, 'epoch': 0.63}\n",
      "{'loss': 0.536, 'grad_norm': 14.386791229248047, 'learning_rate': 1.7433004231311706e-05, 'epoch': 0.64}\n",
      "{'loss': 0.518, 'grad_norm': 17.530982971191406, 'learning_rate': 1.7404795486600848e-05, 'epoch': 0.65}\n",
      "{'loss': 0.5425, 'grad_norm': 23.672346115112305, 'learning_rate': 1.7376586741889986e-05, 'epoch': 0.66}\n",
      "{'loss': 0.5423, 'grad_norm': 24.212385177612305, 'learning_rate': 1.7348377997179127e-05, 'epoch': 0.66}\n",
      "{'loss': 0.5527, 'grad_norm': 20.449817657470703, 'learning_rate': 1.7320169252468266e-05, 'epoch': 0.67}\n",
      "{'loss': 0.5655, 'grad_norm': 21.093046188354492, 'learning_rate': 1.7291960507757407e-05, 'epoch': 0.68}\n",
      "{'loss': 0.5991, 'grad_norm': 19.726558685302734, 'learning_rate': 1.7263751763046546e-05, 'epoch': 0.68}\n",
      "{'loss': 0.553, 'grad_norm': 16.935258865356445, 'learning_rate': 1.7235543018335684e-05, 'epoch': 0.69}\n",
      "{'loss': 0.5877, 'grad_norm': 21.66596794128418, 'learning_rate': 1.7207334273624825e-05, 'epoch': 0.7}\n",
      "{'loss': 0.5741, 'grad_norm': 24.655641555786133, 'learning_rate': 1.7179125528913964e-05, 'epoch': 0.7}\n"
     ]
    },
    {
     "data": {
      "application/vnd.jupyter.widget-view+json": {
       "model_id": "0c7578a12ddb47059134517c29da7475",
       "version_major": 2,
       "version_minor": 0
      },
      "text/plain": [
       "  0%|          | 0/50 [00:00<?, ?it/s]"
      ]
     },
     "metadata": {},
     "output_type": "display_data"
    },
    {
     "name": "stdout",
     "output_type": "stream",
     "text": [
      "{'eval_loss': 0.9173696041107178, 'eval_accuracy': 0.655, 'eval_runtime': 65.8331, 'eval_samples_per_second': 9.114, 'eval_steps_per_second': 0.759, 'epoch': 0.7}\n",
      "{'loss': 0.5682, 'grad_norm': 12.58913803100586, 'learning_rate': 1.7150916784203105e-05, 'epoch': 0.71}\n",
      "{'loss': 0.5273, 'grad_norm': 32.025970458984375, 'learning_rate': 1.7122708039492243e-05, 'epoch': 0.72}\n",
      "{'loss': 0.541, 'grad_norm': 12.401185989379883, 'learning_rate': 1.7094499294781385e-05, 'epoch': 0.73}\n",
      "{'loss': 0.4569, 'grad_norm': 17.922636032104492, 'learning_rate': 1.7066290550070523e-05, 'epoch': 0.73}\n",
      "{'loss': 0.5206, 'grad_norm': 17.821718215942383, 'learning_rate': 1.703808180535966e-05, 'epoch': 0.74}\n",
      "{'loss': 0.5066, 'grad_norm': 12.989253044128418, 'learning_rate': 1.7009873060648803e-05, 'epoch': 0.75}\n",
      "{'loss': 0.5081, 'grad_norm': 24.668367385864258, 'learning_rate': 1.698166431593794e-05, 'epoch': 0.75}\n",
      "{'loss': 0.6086, 'grad_norm': 33.337318420410156, 'learning_rate': 1.6953455571227083e-05, 'epoch': 0.76}\n",
      "{'loss': 0.489, 'grad_norm': 20.665929794311523, 'learning_rate': 1.692524682651622e-05, 'epoch': 0.77}\n",
      "{'loss': 0.4908, 'grad_norm': 9.783101081848145, 'learning_rate': 1.6897038081805363e-05, 'epoch': 0.78}\n",
      "{'loss': 0.5167, 'grad_norm': 17.811233520507812, 'learning_rate': 1.68688293370945e-05, 'epoch': 0.78}\n",
      "{'loss': 0.5401, 'grad_norm': 22.1798152923584, 'learning_rate': 1.684062059238364e-05, 'epoch': 0.79}\n",
      "{'loss': 0.5093, 'grad_norm': 30.51598358154297, 'learning_rate': 1.681241184767278e-05, 'epoch': 0.8}\n",
      "{'loss': 0.4922, 'grad_norm': 18.5598201751709, 'learning_rate': 1.678420310296192e-05, 'epoch': 0.8}\n",
      "{'loss': 0.4916, 'grad_norm': 22.07064437866211, 'learning_rate': 1.675599435825106e-05, 'epoch': 0.81}\n",
      "{'loss': 0.4808, 'grad_norm': 17.5698184967041, 'learning_rate': 1.67277856135402e-05, 'epoch': 0.82}\n",
      "{'loss': 0.4853, 'grad_norm': 18.751127243041992, 'learning_rate': 1.669957686882934e-05, 'epoch': 0.82}\n",
      "{'loss': 0.4682, 'grad_norm': 13.18070125579834, 'learning_rate': 1.667136812411848e-05, 'epoch': 0.83}\n",
      "{'loss': 0.4772, 'grad_norm': 17.87875747680664, 'learning_rate': 1.6643159379407617e-05, 'epoch': 0.84}\n",
      "{'loss': 0.561, 'grad_norm': 24.016260147094727, 'learning_rate': 1.661495063469676e-05, 'epoch': 0.85}\n",
      "{'loss': 0.5767, 'grad_norm': 16.214876174926758, 'learning_rate': 1.6586741889985897e-05, 'epoch': 0.85}\n",
      "{'loss': 0.4815, 'grad_norm': 15.181692123413086, 'learning_rate': 1.6561354019746125e-05, 'epoch': 0.86}\n",
      "{'loss': 0.4881, 'grad_norm': 19.38844108581543, 'learning_rate': 1.6533145275035263e-05, 'epoch': 0.87}\n",
      "{'loss': 0.4427, 'grad_norm': 10.195773124694824, 'learning_rate': 1.65049365303244e-05, 'epoch': 0.87}\n",
      "{'loss': 0.5035, 'grad_norm': 26.566024780273438, 'learning_rate': 1.6476727785613543e-05, 'epoch': 0.88}\n",
      "{'loss': 0.53, 'grad_norm': 28.652992248535156, 'learning_rate': 1.644851904090268e-05, 'epoch': 0.89}\n",
      "{'loss': 0.4456, 'grad_norm': 15.246870994567871, 'learning_rate': 1.6420310296191823e-05, 'epoch': 0.9}\n",
      "{'loss': 0.5064, 'grad_norm': 12.300959587097168, 'learning_rate': 1.639210155148096e-05, 'epoch': 0.9}\n",
      "{'loss': 0.4477, 'grad_norm': 10.500268936157227, 'learning_rate': 1.63638928067701e-05, 'epoch': 0.91}\n",
      "{'loss': 0.4449, 'grad_norm': 19.74039077758789, 'learning_rate': 1.633568406205924e-05, 'epoch': 0.92}\n",
      "{'loss': 0.537, 'grad_norm': 24.729904174804688, 'learning_rate': 1.630747531734838e-05, 'epoch': 0.92}\n",
      "{'loss': 0.4552, 'grad_norm': 25.00054931640625, 'learning_rate': 1.627926657263752e-05, 'epoch': 0.93}\n",
      "{'loss': 0.4795, 'grad_norm': 22.217069625854492, 'learning_rate': 1.625105782792666e-05, 'epoch': 0.94}\n",
      "{'loss': 0.455, 'grad_norm': 20.517702102661133, 'learning_rate': 1.62228490832158e-05, 'epoch': 0.94}\n",
      "{'loss': 0.3526, 'grad_norm': 47.99287033081055, 'learning_rate': 1.619464033850494e-05, 'epoch': 0.95}\n",
      "{'loss': 0.4664, 'grad_norm': 30.580686569213867, 'learning_rate': 1.6166431593794077e-05, 'epoch': 0.96}\n",
      "{'loss': 0.4319, 'grad_norm': 19.387651443481445, 'learning_rate': 1.6138222849083215e-05, 'epoch': 0.97}\n",
      "{'loss': 0.3776, 'grad_norm': 21.456026077270508, 'learning_rate': 1.6110014104372357e-05, 'epoch': 0.97}\n",
      "{'loss': 0.4423, 'grad_norm': 25.307661056518555, 'learning_rate': 1.6081805359661495e-05, 'epoch': 0.98}\n",
      "{'loss': 0.4444, 'grad_norm': 34.06818389892578, 'learning_rate': 1.6053596614950637e-05, 'epoch': 0.99}\n",
      "{'loss': 0.4214, 'grad_norm': 22.995624542236328, 'learning_rate': 1.6025387870239775e-05, 'epoch': 0.99}\n",
      "{'loss': 0.4836, 'grad_norm': 17.735361099243164, 'learning_rate': 1.5997179125528913e-05, 'epoch': 1.0}\n",
      "{'loss': 0.3109, 'grad_norm': 19.293426513671875, 'learning_rate': 1.5968970380818055e-05, 'epoch': 1.01}\n",
      "{'loss': 0.3802, 'grad_norm': 15.524883270263672, 'learning_rate': 1.5940761636107193e-05, 'epoch': 1.01}\n",
      "{'loss': 0.3892, 'grad_norm': 28.765857696533203, 'learning_rate': 1.5912552891396335e-05, 'epoch': 1.02}\n",
      "{'loss': 0.3692, 'grad_norm': 14.071821212768555, 'learning_rate': 1.5884344146685473e-05, 'epoch': 1.03}\n",
      "{'loss': 0.4499, 'grad_norm': 17.53767204284668, 'learning_rate': 1.5856135401974614e-05, 'epoch': 1.04}\n",
      "{'loss': 0.3927, 'grad_norm': 19.498836517333984, 'learning_rate': 1.5827926657263753e-05, 'epoch': 1.04}\n",
      "{'loss': 0.3417, 'grad_norm': 18.415658950805664, 'learning_rate': 1.579971791255289e-05, 'epoch': 1.05}\n",
      "{'loss': 0.3783, 'grad_norm': 12.522392272949219, 'learning_rate': 1.5771509167842032e-05, 'epoch': 1.06}\n"
     ]
    },
    {
     "data": {
      "application/vnd.jupyter.widget-view+json": {
       "model_id": "532674f82b2943239202ade8eb65c806",
       "version_major": 2,
       "version_minor": 0
      },
      "text/plain": [
       "  0%|          | 0/50 [00:00<?, ?it/s]"
      ]
     },
     "metadata": {},
     "output_type": "display_data"
    },
    {
     "name": "stdout",
     "output_type": "stream",
     "text": [
      "{'eval_loss': 1.0926177501678467, 'eval_accuracy': 0.6283333333333333, 'eval_runtime': 65.894, 'eval_samples_per_second': 9.106, 'eval_steps_per_second': 0.759, 'epoch': 1.06}\n",
      "{'loss': 0.394, 'grad_norm': 11.00757884979248, 'learning_rate': 1.574330042313117e-05, 'epoch': 1.06}\n",
      "{'loss': 0.3758, 'grad_norm': 41.30321502685547, 'learning_rate': 1.5715091678420312e-05, 'epoch': 1.07}\n",
      "{'loss': 0.3675, 'grad_norm': 14.965021133422852, 'learning_rate': 1.568688293370945e-05, 'epoch': 1.08}\n",
      "{'loss': 0.3499, 'grad_norm': 27.245914459228516, 'learning_rate': 1.565867418899859e-05, 'epoch': 1.09}\n",
      "{'loss': 0.3841, 'grad_norm': 22.30527687072754, 'learning_rate': 1.563046544428773e-05, 'epoch': 1.09}\n",
      "{'loss': 0.3433, 'grad_norm': 19.237167358398438, 'learning_rate': 1.560225669957687e-05, 'epoch': 1.1}\n",
      "{'loss': 0.3624, 'grad_norm': 17.014665603637695, 'learning_rate': 1.5576868829337096e-05, 'epoch': 1.11}\n",
      "{'loss': 0.4549, 'grad_norm': 18.574073791503906, 'learning_rate': 1.5548660084626235e-05, 'epoch': 1.11}\n",
      "{'loss': 0.3664, 'grad_norm': 13.340755462646484, 'learning_rate': 1.5520451339915373e-05, 'epoch': 1.12}\n",
      "{'loss': 0.3578, 'grad_norm': 9.960916519165039, 'learning_rate': 1.5492242595204515e-05, 'epoch': 1.13}\n",
      "{'loss': 0.3203, 'grad_norm': 17.469669342041016, 'learning_rate': 1.5464033850493653e-05, 'epoch': 1.13}\n",
      "{'loss': 0.4096, 'grad_norm': 19.365917205810547, 'learning_rate': 1.5435825105782794e-05, 'epoch': 1.14}\n",
      "{'loss': 0.384, 'grad_norm': 23.13173484802246, 'learning_rate': 1.5407616361071933e-05, 'epoch': 1.15}\n",
      "{'loss': 0.4189, 'grad_norm': 18.64048194885254, 'learning_rate': 1.5379407616361074e-05, 'epoch': 1.16}\n",
      "{'loss': 0.3415, 'grad_norm': 10.672627449035645, 'learning_rate': 1.5351198871650212e-05, 'epoch': 1.16}\n",
      "{'loss': 0.3304, 'grad_norm': 8.307120323181152, 'learning_rate': 1.532299012693935e-05, 'epoch': 1.17}\n",
      "{'loss': 0.3462, 'grad_norm': 32.88564682006836, 'learning_rate': 1.5294781382228492e-05, 'epoch': 1.18}\n",
      "{'loss': 0.4315, 'grad_norm': 18.727506637573242, 'learning_rate': 1.526657263751763e-05, 'epoch': 1.18}\n",
      "{'loss': 0.4167, 'grad_norm': 10.141221046447754, 'learning_rate': 1.523836389280677e-05, 'epoch': 1.19}\n",
      "{'loss': 0.4217, 'grad_norm': 17.184267044067383, 'learning_rate': 1.521015514809591e-05, 'epoch': 1.2}\n",
      "{'loss': 0.4586, 'grad_norm': 25.195390701293945, 'learning_rate': 1.518194640338505e-05, 'epoch': 1.21}\n",
      "{'loss': 0.4022, 'grad_norm': 28.523481369018555, 'learning_rate': 1.515373765867419e-05, 'epoch': 1.21}\n",
      "{'loss': 0.3538, 'grad_norm': 12.592132568359375, 'learning_rate': 1.512552891396333e-05, 'epoch': 1.22}\n",
      "{'loss': 0.3655, 'grad_norm': 8.246903419494629, 'learning_rate': 1.509732016925247e-05, 'epoch': 1.23}\n",
      "{'loss': 0.3799, 'grad_norm': 9.594927787780762, 'learning_rate': 1.506911142454161e-05, 'epoch': 1.23}\n",
      "{'loss': 0.3456, 'grad_norm': 18.49404525756836, 'learning_rate': 1.5040902679830748e-05, 'epoch': 1.24}\n",
      "{'loss': 0.3849, 'grad_norm': 13.368353843688965, 'learning_rate': 1.5012693935119888e-05, 'epoch': 1.25}\n",
      "{'loss': 0.3577, 'grad_norm': 23.848400115966797, 'learning_rate': 1.4984485190409028e-05, 'epoch': 1.25}\n",
      "{'loss': 0.3725, 'grad_norm': 12.30949878692627, 'learning_rate': 1.4956276445698168e-05, 'epoch': 1.26}\n",
      "{'loss': 0.4191, 'grad_norm': 14.458372116088867, 'learning_rate': 1.4928067700987308e-05, 'epoch': 1.27}\n",
      "{'loss': 0.3161, 'grad_norm': 24.310331344604492, 'learning_rate': 1.4899858956276448e-05, 'epoch': 1.28}\n",
      "{'loss': 0.4121, 'grad_norm': 23.05057144165039, 'learning_rate': 1.4871650211565588e-05, 'epoch': 1.28}\n",
      "{'loss': 0.4276, 'grad_norm': 17.038265228271484, 'learning_rate': 1.4843441466854726e-05, 'epoch': 1.29}\n",
      "{'loss': 0.3823, 'grad_norm': 20.13753318786621, 'learning_rate': 1.4815232722143866e-05, 'epoch': 1.3}\n",
      "{'loss': 0.3506, 'grad_norm': 21.75403594970703, 'learning_rate': 1.4787023977433006e-05, 'epoch': 1.3}\n",
      "{'loss': 0.3159, 'grad_norm': 32.17332458496094, 'learning_rate': 1.4758815232722146e-05, 'epoch': 1.31}\n",
      "{'loss': 0.3977, 'grad_norm': 24.3333683013916, 'learning_rate': 1.4730606488011286e-05, 'epoch': 1.32}\n",
      "{'loss': 0.3353, 'grad_norm': 28.745769500732422, 'learning_rate': 1.4702397743300426e-05, 'epoch': 1.32}\n",
      "{'loss': 0.3517, 'grad_norm': 17.25553321838379, 'learning_rate': 1.4674188998589564e-05, 'epoch': 1.33}\n",
      "{'loss': 0.3522, 'grad_norm': 32.190181732177734, 'learning_rate': 1.4645980253878704e-05, 'epoch': 1.34}\n",
      "{'loss': 0.3202, 'grad_norm': 23.030895233154297, 'learning_rate': 1.4617771509167844e-05, 'epoch': 1.35}\n",
      "{'loss': 0.4264, 'grad_norm': 44.82505416870117, 'learning_rate': 1.4589562764456984e-05, 'epoch': 1.35}\n",
      "{'loss': 0.3658, 'grad_norm': 24.588623046875, 'learning_rate': 1.4561354019746124e-05, 'epoch': 1.36}\n",
      "{'loss': 0.3505, 'grad_norm': 27.012327194213867, 'learning_rate': 1.4533145275035264e-05, 'epoch': 1.37}\n",
      "{'loss': 0.3163, 'grad_norm': 23.050180435180664, 'learning_rate': 1.4504936530324403e-05, 'epoch': 1.37}\n",
      "{'loss': 0.3738, 'grad_norm': 16.52658462524414, 'learning_rate': 1.4476727785613542e-05, 'epoch': 1.38}\n",
      "{'loss': 0.3088, 'grad_norm': 14.014301300048828, 'learning_rate': 1.4448519040902682e-05, 'epoch': 1.39}\n",
      "{'loss': 0.3147, 'grad_norm': 17.71628761291504, 'learning_rate': 1.442031029619182e-05, 'epoch': 1.4}\n",
      "{'loss': 0.2628, 'grad_norm': 18.92922592163086, 'learning_rate': 1.439210155148096e-05, 'epoch': 1.4}\n",
      "{'loss': 0.3041, 'grad_norm': 22.572813034057617, 'learning_rate': 1.43638928067701e-05, 'epoch': 1.41}\n"
     ]
    },
    {
     "data": {
      "application/vnd.jupyter.widget-view+json": {
       "model_id": "d36e831ad2a248c29e6ba78f5e56964c",
       "version_major": 2,
       "version_minor": 0
      },
      "text/plain": [
       "  0%|          | 0/50 [00:00<?, ?it/s]"
      ]
     },
     "metadata": {},
     "output_type": "display_data"
    },
    {
     "name": "stdout",
     "output_type": "stream",
     "text": [
      "{'eval_loss': 0.9927255511283875, 'eval_accuracy': 0.665, 'eval_runtime': 142.1463, 'eval_samples_per_second': 4.221, 'eval_steps_per_second': 0.352, 'epoch': 1.41}\n",
      "{'loss': 0.4137, 'grad_norm': 25.365909576416016, 'learning_rate': 1.4335684062059238e-05, 'epoch': 1.42}\n",
      "{'loss': 0.3243, 'grad_norm': 23.628562927246094, 'learning_rate': 1.4307475317348378e-05, 'epoch': 1.42}\n",
      "{'loss': 0.4191, 'grad_norm': 26.78783416748047, 'learning_rate': 1.4279266572637518e-05, 'epoch': 1.43}\n",
      "{'loss': 0.3288, 'grad_norm': 16.769521713256836, 'learning_rate': 1.4251057827926658e-05, 'epoch': 1.44}\n",
      "{'loss': 0.3199, 'grad_norm': 14.682564735412598, 'learning_rate': 1.4222849083215798e-05, 'epoch': 1.44}\n",
      "{'loss': 0.2788, 'grad_norm': 16.650806427001953, 'learning_rate': 1.4194640338504938e-05, 'epoch': 1.45}\n",
      "{'loss': 0.2497, 'grad_norm': 12.550379753112793, 'learning_rate': 1.4166431593794077e-05, 'epoch': 1.46}\n",
      "{'loss': 0.3176, 'grad_norm': 13.640280723571777, 'learning_rate': 1.4138222849083216e-05, 'epoch': 1.47}\n",
      "{'loss': 0.3812, 'grad_norm': 19.348651885986328, 'learning_rate': 1.4110014104372356e-05, 'epoch': 1.47}\n",
      "{'loss': 0.4215, 'grad_norm': 13.288418769836426, 'learning_rate': 1.4081805359661496e-05, 'epoch': 1.48}\n",
      "{'loss': 0.3009, 'grad_norm': 16.873638153076172, 'learning_rate': 1.4053596614950635e-05, 'epoch': 1.49}\n",
      "{'loss': 0.3205, 'grad_norm': 13.12180233001709, 'learning_rate': 1.4025387870239775e-05, 'epoch': 1.49}\n",
      "{'loss': 0.3128, 'grad_norm': 16.750598907470703, 'learning_rate': 1.3997179125528915e-05, 'epoch': 1.5}\n",
      "{'loss': 0.343, 'grad_norm': 13.054508209228516, 'learning_rate': 1.3968970380818054e-05, 'epoch': 1.51}\n",
      "{'loss': 0.3236, 'grad_norm': 25.406057357788086, 'learning_rate': 1.3940761636107193e-05, 'epoch': 1.52}\n",
      "{'loss': 0.2865, 'grad_norm': 7.275870323181152, 'learning_rate': 1.3912552891396333e-05, 'epoch': 1.52}\n",
      "{'loss': 0.2687, 'grad_norm': 17.81214141845703, 'learning_rate': 1.3884344146685473e-05, 'epoch': 1.53}\n",
      "{'loss': 0.3075, 'grad_norm': 25.892580032348633, 'learning_rate': 1.3856135401974613e-05, 'epoch': 1.54}\n",
      "{'loss': 0.3257, 'grad_norm': 28.487207412719727, 'learning_rate': 1.3827926657263753e-05, 'epoch': 1.54}\n",
      "{'loss': 0.3339, 'grad_norm': 15.867152214050293, 'learning_rate': 1.3799717912552893e-05, 'epoch': 1.55}\n",
      "{'loss': 0.3012, 'grad_norm': 31.536802291870117, 'learning_rate': 1.3771509167842031e-05, 'epoch': 1.56}\n",
      "{'loss': 0.2906, 'grad_norm': 26.5225887298584, 'learning_rate': 1.3743300423131171e-05, 'epoch': 1.56}\n",
      "{'loss': 0.2515, 'grad_norm': 19.20512580871582, 'learning_rate': 1.3715091678420311e-05, 'epoch': 1.57}\n",
      "{'loss': 0.3351, 'grad_norm': 50.08906555175781, 'learning_rate': 1.3686882933709451e-05, 'epoch': 1.58}\n",
      "{'loss': 0.3051, 'grad_norm': 43.247745513916016, 'learning_rate': 1.3658674188998591e-05, 'epoch': 1.59}\n",
      "{'loss': 0.2307, 'grad_norm': 10.920072555541992, 'learning_rate': 1.3630465444287731e-05, 'epoch': 1.59}\n",
      "{'loss': 0.3038, 'grad_norm': 17.376705169677734, 'learning_rate': 1.3602256699576871e-05, 'epoch': 1.6}\n",
      "{'loss': 0.3678, 'grad_norm': 52.64500427246094, 'learning_rate': 1.3574047954866009e-05, 'epoch': 1.61}\n",
      "{'loss': 0.2979, 'grad_norm': 26.179012298583984, 'learning_rate': 1.3545839210155149e-05, 'epoch': 1.61}\n",
      "{'loss': 0.3225, 'grad_norm': 31.994644165039062, 'learning_rate': 1.3517630465444289e-05, 'epoch': 1.62}\n",
      "{'loss': 0.3457, 'grad_norm': 34.891395568847656, 'learning_rate': 1.3489421720733429e-05, 'epoch': 1.63}\n",
      "{'loss': 0.3255, 'grad_norm': 25.31739616394043, 'learning_rate': 1.3461212976022569e-05, 'epoch': 1.64}\n",
      "{'loss': 0.346, 'grad_norm': 54.02361297607422, 'learning_rate': 1.3433004231311709e-05, 'epoch': 1.64}\n",
      "{'loss': 0.2852, 'grad_norm': 28.078367233276367, 'learning_rate': 1.3404795486600849e-05, 'epoch': 1.65}\n",
      "{'loss': 0.3205, 'grad_norm': 28.466890335083008, 'learning_rate': 1.3376586741889987e-05, 'epoch': 1.66}\n",
      "{'loss': 0.3489, 'grad_norm': 90.54625701904297, 'learning_rate': 1.3348377997179127e-05, 'epoch': 1.66}\n",
      "{'loss': 0.3291, 'grad_norm': 27.91617774963379, 'learning_rate': 1.3320169252468267e-05, 'epoch': 1.67}\n",
      "{'loss': 0.3366, 'grad_norm': 18.0417423248291, 'learning_rate': 1.3291960507757407e-05, 'epoch': 1.68}\n",
      "{'loss': 0.2018, 'grad_norm': 17.62139129638672, 'learning_rate': 1.3263751763046547e-05, 'epoch': 1.68}\n",
      "{'loss': 0.3419, 'grad_norm': 19.113080978393555, 'learning_rate': 1.3235543018335687e-05, 'epoch': 1.69}\n",
      "{'loss': 0.3424, 'grad_norm': 18.132003784179688, 'learning_rate': 1.3207334273624825e-05, 'epoch': 1.7}\n",
      "{'loss': 0.3038, 'grad_norm': 18.68357276916504, 'learning_rate': 1.3179125528913965e-05, 'epoch': 1.71}\n",
      "{'loss': 0.3024, 'grad_norm': 9.182177543640137, 'learning_rate': 1.3150916784203105e-05, 'epoch': 1.71}\n",
      "{'loss': 0.2806, 'grad_norm': 20.72014045715332, 'learning_rate': 1.3122708039492245e-05, 'epoch': 1.72}\n",
      "{'loss': 0.2795, 'grad_norm': 43.826934814453125, 'learning_rate': 1.3094499294781384e-05, 'epoch': 1.73}\n",
      "{'loss': 0.2661, 'grad_norm': 20.335054397583008, 'learning_rate': 1.3066290550070524e-05, 'epoch': 1.73}\n",
      "{'loss': 0.3586, 'grad_norm': 12.504642486572266, 'learning_rate': 1.3038081805359664e-05, 'epoch': 1.74}\n",
      "{'loss': 0.2916, 'grad_norm': 32.808128356933594, 'learning_rate': 1.3009873060648803e-05, 'epoch': 1.75}\n",
      "{'loss': 0.2679, 'grad_norm': 12.451770782470703, 'learning_rate': 1.298166431593794e-05, 'epoch': 1.76}\n",
      "{'loss': 0.2939, 'grad_norm': 21.047754287719727, 'learning_rate': 1.295345557122708e-05, 'epoch': 1.76}\n"
     ]
    },
    {
     "data": {
      "application/vnd.jupyter.widget-view+json": {
       "model_id": "688ff70c00eb4f1ca9954fc37e1f29f7",
       "version_major": 2,
       "version_minor": 0
      },
      "text/plain": [
       "  0%|          | 0/50 [00:00<?, ?it/s]"
      ]
     },
     "metadata": {},
     "output_type": "display_data"
    },
    {
     "name": "stdout",
     "output_type": "stream",
     "text": [
      "{'eval_loss': 1.0814241170883179, 'eval_accuracy': 0.6583333333333333, 'eval_runtime': 111.4126, 'eval_samples_per_second': 5.385, 'eval_steps_per_second': 0.449, 'epoch': 1.76}\n",
      "{'loss': 0.2789, 'grad_norm': 27.605396270751953, 'learning_rate': 1.292524682651622e-05, 'epoch': 1.77}\n",
      "{'loss': 0.3383, 'grad_norm': 28.183786392211914, 'learning_rate': 1.289703808180536e-05, 'epoch': 1.78}\n",
      "{'loss': 0.3519, 'grad_norm': 18.20772933959961, 'learning_rate': 1.2868829337094499e-05, 'epoch': 1.78}\n",
      "{'loss': 0.2787, 'grad_norm': 18.861536026000977, 'learning_rate': 1.2840620592383639e-05, 'epoch': 1.79}\n",
      "{'loss': 0.2852, 'grad_norm': 18.725358963012695, 'learning_rate': 1.2812411847672779e-05, 'epoch': 1.8}\n",
      "{'loss': 0.2997, 'grad_norm': 18.315149307250977, 'learning_rate': 1.2784203102961919e-05, 'epoch': 1.8}\n",
      "{'loss': 0.2749, 'grad_norm': 27.377487182617188, 'learning_rate': 1.2755994358251058e-05, 'epoch': 1.81}\n",
      "{'loss': 0.2838, 'grad_norm': 12.895360946655273, 'learning_rate': 1.2727785613540198e-05, 'epoch': 1.82}\n",
      "{'loss': 0.2978, 'grad_norm': 18.939085006713867, 'learning_rate': 1.2699576868829338e-05, 'epoch': 1.83}\n",
      "{'loss': 0.3038, 'grad_norm': 16.506675720214844, 'learning_rate': 1.2671368124118477e-05, 'epoch': 1.83}\n",
      "{'loss': 0.2864, 'grad_norm': 19.493579864501953, 'learning_rate': 1.2643159379407616e-05, 'epoch': 1.84}\n",
      "{'loss': 0.3074, 'grad_norm': 13.366829872131348, 'learning_rate': 1.2614950634696756e-05, 'epoch': 1.85}\n",
      "{'loss': 0.297, 'grad_norm': 23.98392677307129, 'learning_rate': 1.2586741889985896e-05, 'epoch': 1.85}\n",
      "{'loss': 0.272, 'grad_norm': 25.270509719848633, 'learning_rate': 1.2558533145275036e-05, 'epoch': 1.86}\n",
      "{'loss': 0.356, 'grad_norm': 30.008255004882812, 'learning_rate': 1.2530324400564176e-05, 'epoch': 1.87}\n",
      "{'loss': 0.3134, 'grad_norm': 10.542853355407715, 'learning_rate': 1.2502115655853314e-05, 'epoch': 1.87}\n",
      "{'loss': 0.262, 'grad_norm': 23.156902313232422, 'learning_rate': 1.2473906911142454e-05, 'epoch': 1.88}\n",
      "{'loss': 0.3278, 'grad_norm': 16.188302993774414, 'learning_rate': 1.2445698166431594e-05, 'epoch': 1.89}\n",
      "{'loss': 0.349, 'grad_norm': 21.708053588867188, 'learning_rate': 1.2417489421720734e-05, 'epoch': 1.9}\n",
      "{'loss': 0.2792, 'grad_norm': 23.6616268157959, 'learning_rate': 1.2389280677009874e-05, 'epoch': 1.9}\n",
      "{'loss': 0.3493, 'grad_norm': 20.073932647705078, 'learning_rate': 1.2361071932299014e-05, 'epoch': 1.91}\n",
      "{'loss': 0.2407, 'grad_norm': 15.348565101623535, 'learning_rate': 1.2332863187588154e-05, 'epoch': 1.92}\n",
      "{'loss': 0.2811, 'grad_norm': 23.804779052734375, 'learning_rate': 1.2304654442877292e-05, 'epoch': 1.92}\n",
      "{'loss': 0.3173, 'grad_norm': 16.500444412231445, 'learning_rate': 1.2276445698166432e-05, 'epoch': 1.93}\n",
      "{'loss': 0.266, 'grad_norm': 18.211261749267578, 'learning_rate': 1.2248236953455572e-05, 'epoch': 1.94}\n",
      "{'loss': 0.309, 'grad_norm': 51.03151321411133, 'learning_rate': 1.2220028208744712e-05, 'epoch': 1.95}\n",
      "{'loss': 0.328, 'grad_norm': 11.495990753173828, 'learning_rate': 1.2191819464033852e-05, 'epoch': 1.95}\n",
      "{'loss': 0.2499, 'grad_norm': 12.868317604064941, 'learning_rate': 1.2163610719322992e-05, 'epoch': 1.96}\n",
      "{'loss': 0.24, 'grad_norm': 38.51224899291992, 'learning_rate': 1.2135401974612132e-05, 'epoch': 1.97}\n",
      "{'loss': 0.299, 'grad_norm': 19.599153518676758, 'learning_rate': 1.210719322990127e-05, 'epoch': 1.97}\n",
      "{'loss': 0.2702, 'grad_norm': 39.34209442138672, 'learning_rate': 1.207898448519041e-05, 'epoch': 1.98}\n",
      "{'loss': 0.2767, 'grad_norm': 35.551025390625, 'learning_rate': 1.205077574047955e-05, 'epoch': 1.99}\n",
      "{'loss': 0.2606, 'grad_norm': 21.689294815063477, 'learning_rate': 1.202256699576869e-05, 'epoch': 1.99}\n",
      "{'loss': 0.2394, 'grad_norm': 16.049579620361328, 'learning_rate': 1.199435825105783e-05, 'epoch': 2.0}\n",
      "{'loss': 0.2469, 'grad_norm': 20.796527862548828, 'learning_rate': 1.196614950634697e-05, 'epoch': 2.01}\n",
      "{'loss': 0.273, 'grad_norm': 14.441349029541016, 'learning_rate': 1.193794076163611e-05, 'epoch': 2.02}\n",
      "{'loss': 0.236, 'grad_norm': 19.821624755859375, 'learning_rate': 1.1909732016925248e-05, 'epoch': 2.02}\n",
      "{'loss': 0.1999, 'grad_norm': 33.68659591674805, 'learning_rate': 1.1881523272214388e-05, 'epoch': 2.03}\n",
      "{'loss': 0.2521, 'grad_norm': 8.203547477722168, 'learning_rate': 1.1853314527503528e-05, 'epoch': 2.04}\n",
      "{'loss': 0.2195, 'grad_norm': 49.98986053466797, 'learning_rate': 1.1825105782792667e-05, 'epoch': 2.04}\n",
      "{'loss': 0.2174, 'grad_norm': 30.862260818481445, 'learning_rate': 1.1796897038081807e-05, 'epoch': 2.05}\n",
      "{'loss': 0.2187, 'grad_norm': 17.54059410095215, 'learning_rate': 1.1768688293370947e-05, 'epoch': 2.06}\n",
      "{'loss': 0.1786, 'grad_norm': 15.691377639770508, 'learning_rate': 1.1740479548660087e-05, 'epoch': 2.06}\n",
      "{'loss': 0.2325, 'grad_norm': 16.059282302856445, 'learning_rate': 1.1712270803949226e-05, 'epoch': 2.07}\n",
      "{'loss': 0.1755, 'grad_norm': 13.615813255310059, 'learning_rate': 1.1684062059238365e-05, 'epoch': 2.08}\n",
      "{'loss': 0.1685, 'grad_norm': 30.901107788085938, 'learning_rate': 1.1655853314527505e-05, 'epoch': 2.09}\n",
      "{'loss': 0.2111, 'grad_norm': 22.332841873168945, 'learning_rate': 1.1627644569816645e-05, 'epoch': 2.09}\n",
      "{'loss': 0.1952, 'grad_norm': 30.34670066833496, 'learning_rate': 1.1599435825105785e-05, 'epoch': 2.1}\n",
      "{'loss': 0.2281, 'grad_norm': 14.99608325958252, 'learning_rate': 1.1571227080394922e-05, 'epoch': 2.11}\n",
      "{'loss': 0.2191, 'grad_norm': 18.360546112060547, 'learning_rate': 1.1543018335684062e-05, 'epoch': 2.11}\n"
     ]
    },
    {
     "data": {
      "application/vnd.jupyter.widget-view+json": {
       "model_id": "af836e18ff4943faac55785078a3c9cd",
       "version_major": 2,
       "version_minor": 0
      },
      "text/plain": [
       "  0%|          | 0/50 [00:00<?, ?it/s]"
      ]
     },
     "metadata": {},
     "output_type": "display_data"
    },
    {
     "name": "stdout",
     "output_type": "stream",
     "text": [
      "{'eval_loss': 1.1231001615524292, 'eval_accuracy': 0.6566666666666666, 'eval_runtime': 63.5804, 'eval_samples_per_second': 9.437, 'eval_steps_per_second': 0.786, 'epoch': 2.11}\n",
      "{'loss': 0.1729, 'grad_norm': 27.51470184326172, 'learning_rate': 1.1514809590973202e-05, 'epoch': 2.12}\n",
      "{'loss': 0.2315, 'grad_norm': 32.67607116699219, 'learning_rate': 1.1486600846262342e-05, 'epoch': 2.13}\n",
      "{'loss': 0.2007, 'grad_norm': 28.661518096923828, 'learning_rate': 1.1458392101551481e-05, 'epoch': 2.14}\n",
      "{'loss': 0.2584, 'grad_norm': 20.193605422973633, 'learning_rate': 1.1430183356840621e-05, 'epoch': 2.14}\n",
      "{'loss': 0.1903, 'grad_norm': 14.264246940612793, 'learning_rate': 1.140197461212976e-05, 'epoch': 2.15}\n",
      "{'loss': 0.2051, 'grad_norm': 20.165163040161133, 'learning_rate': 1.13737658674189e-05, 'epoch': 2.16}\n",
      "{'loss': 0.1956, 'grad_norm': 19.228551864624023, 'learning_rate': 1.134555712270804e-05, 'epoch': 2.16}\n",
      "{'loss': 0.1801, 'grad_norm': 8.767072677612305, 'learning_rate': 1.131734837799718e-05, 'epoch': 2.17}\n",
      "{'loss': 0.2042, 'grad_norm': 32.134857177734375, 'learning_rate': 1.128913963328632e-05, 'epoch': 2.18}\n",
      "{'loss': 0.1285, 'grad_norm': 70.57009887695312, 'learning_rate': 1.126093088857546e-05, 'epoch': 2.18}\n",
      "{'loss': 0.1582, 'grad_norm': 23.807594299316406, 'learning_rate': 1.1232722143864599e-05, 'epoch': 2.19}\n",
      "{'loss': 0.2094, 'grad_norm': 43.68724060058594, 'learning_rate': 1.1204513399153737e-05, 'epoch': 2.2}\n",
      "{'loss': 0.1773, 'grad_norm': 12.548430442810059, 'learning_rate': 1.1176304654442877e-05, 'epoch': 2.21}\n",
      "{'loss': 0.1884, 'grad_norm': 32.09909439086914, 'learning_rate': 1.1148095909732017e-05, 'epoch': 2.21}\n",
      "{'loss': 0.214, 'grad_norm': 69.26383972167969, 'learning_rate': 1.1119887165021157e-05, 'epoch': 2.22}\n",
      "{'loss': 0.2067, 'grad_norm': 27.843591690063477, 'learning_rate': 1.1091678420310297e-05, 'epoch': 2.23}\n",
      "{'loss': 0.2125, 'grad_norm': 22.842370986938477, 'learning_rate': 1.1063469675599437e-05, 'epoch': 2.23}\n",
      "{'loss': 0.1878, 'grad_norm': 53.769229888916016, 'learning_rate': 1.1035260930888577e-05, 'epoch': 2.24}\n",
      "{'loss': 0.225, 'grad_norm': 10.576269149780273, 'learning_rate': 1.1007052186177715e-05, 'epoch': 2.25}\n",
      "{'loss': 0.2466, 'grad_norm': 5.012589454650879, 'learning_rate': 1.0978843441466855e-05, 'epoch': 2.26}\n",
      "{'loss': 0.1792, 'grad_norm': 30.48663330078125, 'learning_rate': 1.0950634696755995e-05, 'epoch': 2.26}\n",
      "{'loss': 0.2383, 'grad_norm': 27.123424530029297, 'learning_rate': 1.0922425952045135e-05, 'epoch': 2.27}\n",
      "{'loss': 0.2438, 'grad_norm': 10.123791694641113, 'learning_rate': 1.0894217207334275e-05, 'epoch': 2.28}\n",
      "{'loss': 0.2515, 'grad_norm': 22.48556900024414, 'learning_rate': 1.0866008462623415e-05, 'epoch': 2.28}\n",
      "{'loss': 0.2066, 'grad_norm': 12.548255920410156, 'learning_rate': 1.0837799717912553e-05, 'epoch': 2.29}\n",
      "{'loss': 0.2735, 'grad_norm': 35.052391052246094, 'learning_rate': 1.0809590973201693e-05, 'epoch': 2.3}\n",
      "{'loss': 0.2643, 'grad_norm': 27.816858291625977, 'learning_rate': 1.0781382228490833e-05, 'epoch': 2.3}\n",
      "{'loss': 0.1963, 'grad_norm': 10.167494773864746, 'learning_rate': 1.0753173483779973e-05, 'epoch': 2.31}\n",
      "{'loss': 0.1951, 'grad_norm': 25.291378021240234, 'learning_rate': 1.0724964739069113e-05, 'epoch': 2.32}\n",
      "{'loss': 0.1553, 'grad_norm': 17.07586097717285, 'learning_rate': 1.0696755994358253e-05, 'epoch': 2.33}\n",
      "{'loss': 0.1945, 'grad_norm': 22.99549102783203, 'learning_rate': 1.0668547249647393e-05, 'epoch': 2.33}\n",
      "{'loss': 0.1933, 'grad_norm': 27.833749771118164, 'learning_rate': 1.064033850493653e-05, 'epoch': 2.34}\n",
      "{'loss': 0.1939, 'grad_norm': 23.05594825744629, 'learning_rate': 1.061212976022567e-05, 'epoch': 2.35}\n",
      "{'loss': 0.2023, 'grad_norm': 16.963054656982422, 'learning_rate': 1.058392101551481e-05, 'epoch': 2.35}\n",
      "{'loss': 0.2195, 'grad_norm': 42.07888412475586, 'learning_rate': 1.055571227080395e-05, 'epoch': 2.36}\n",
      "{'loss': 0.1804, 'grad_norm': 15.822615623474121, 'learning_rate': 1.052750352609309e-05, 'epoch': 2.37}\n",
      "{'loss': 0.2137, 'grad_norm': 39.961997985839844, 'learning_rate': 1.049929478138223e-05, 'epoch': 2.38}\n",
      "{'loss': 0.1648, 'grad_norm': 24.358379364013672, 'learning_rate': 1.047108603667137e-05, 'epoch': 2.38}\n",
      "{'loss': 0.2443, 'grad_norm': 23.35481834411621, 'learning_rate': 1.0442877291960509e-05, 'epoch': 2.39}\n",
      "{'loss': 0.1905, 'grad_norm': 13.012632369995117, 'learning_rate': 1.0414668547249648e-05, 'epoch': 2.4}\n",
      "{'loss': 0.1569, 'grad_norm': 4.627151966094971, 'learning_rate': 1.0386459802538788e-05, 'epoch': 2.4}\n",
      "{'loss': 0.2032, 'grad_norm': 33.974185943603516, 'learning_rate': 1.0358251057827928e-05, 'epoch': 2.41}\n",
      "{'loss': 0.2575, 'grad_norm': 18.928972244262695, 'learning_rate': 1.0330042313117068e-05, 'epoch': 2.42}\n",
      "{'loss': 0.125, 'grad_norm': 14.049707412719727, 'learning_rate': 1.0301833568406208e-05, 'epoch': 2.42}\n",
      "{'loss': 0.1312, 'grad_norm': 50.500160217285156, 'learning_rate': 1.0273624823695348e-05, 'epoch': 2.43}\n",
      "{'loss': 0.2211, 'grad_norm': 19.069623947143555, 'learning_rate': 1.0245416078984486e-05, 'epoch': 2.44}\n",
      "{'loss': 0.2406, 'grad_norm': 44.56397247314453, 'learning_rate': 1.0217207334273626e-05, 'epoch': 2.45}\n",
      "{'loss': 0.1794, 'grad_norm': 11.902655601501465, 'learning_rate': 1.0188998589562766e-05, 'epoch': 2.45}\n",
      "{'loss': 0.2083, 'grad_norm': 37.87661361694336, 'learning_rate': 1.0160789844851906e-05, 'epoch': 2.46}\n",
      "{'loss': 0.2361, 'grad_norm': 20.452035903930664, 'learning_rate': 1.0132581100141043e-05, 'epoch': 2.47}\n"
     ]
    },
    {
     "data": {
      "application/vnd.jupyter.widget-view+json": {
       "model_id": "313da34e280b45bda425330fc1fd2db4",
       "version_major": 2,
       "version_minor": 0
      },
      "text/plain": [
       "  0%|          | 0/50 [00:00<?, ?it/s]"
      ]
     },
     "metadata": {},
     "output_type": "display_data"
    },
    {
     "name": "stdout",
     "output_type": "stream",
     "text": [
      "{'eval_loss': 1.1340553760528564, 'eval_accuracy': 0.665, 'eval_runtime': 157.6415, 'eval_samples_per_second': 3.806, 'eval_steps_per_second': 0.317, 'epoch': 2.47}\n",
      "{'loss': 0.129, 'grad_norm': 13.286096572875977, 'learning_rate': 1.0104372355430183e-05, 'epoch': 2.47}\n",
      "{'loss': 0.1501, 'grad_norm': 7.563547134399414, 'learning_rate': 1.0076163610719323e-05, 'epoch': 2.48}\n",
      "{'loss': 0.2597, 'grad_norm': 39.567588806152344, 'learning_rate': 1.0047954866008462e-05, 'epoch': 2.49}\n",
      "{'loss': 0.2219, 'grad_norm': 24.293970108032227, 'learning_rate': 1.0019746121297602e-05, 'epoch': 2.49}\n",
      "{'loss': 0.1671, 'grad_norm': 17.095367431640625, 'learning_rate': 9.991537376586742e-06, 'epoch': 2.5}\n",
      "{'loss': 0.1358, 'grad_norm': 20.650318145751953, 'learning_rate': 9.963328631875882e-06, 'epoch': 2.51}\n",
      "{'loss': 0.2169, 'grad_norm': 29.167760848999023, 'learning_rate': 9.935119887165022e-06, 'epoch': 2.52}\n",
      "{'loss': 0.1383, 'grad_norm': 19.273670196533203, 'learning_rate': 9.906911142454162e-06, 'epoch': 2.52}\n",
      "{'loss': 0.1168, 'grad_norm': 12.09595012664795, 'learning_rate': 9.878702397743302e-06, 'epoch': 2.53}\n",
      "{'loss': 0.1792, 'grad_norm': 10.909244537353516, 'learning_rate': 9.850493653032442e-06, 'epoch': 2.54}\n",
      "{'loss': 0.2104, 'grad_norm': 11.124444961547852, 'learning_rate': 9.822284908321582e-06, 'epoch': 2.54}\n",
      "{'loss': 0.1886, 'grad_norm': 40.74913787841797, 'learning_rate': 9.79407616361072e-06, 'epoch': 2.55}\n",
      "{'loss': 0.1833, 'grad_norm': 23.166101455688477, 'learning_rate': 9.76586741889986e-06, 'epoch': 2.56}\n",
      "{'loss': 0.1729, 'grad_norm': 14.090012550354004, 'learning_rate': 9.737658674188998e-06, 'epoch': 2.57}\n",
      "{'loss': 0.2266, 'grad_norm': 38.831153869628906, 'learning_rate': 9.709449929478138e-06, 'epoch': 2.57}\n",
      "{'loss': 0.2033, 'grad_norm': 34.54664611816406, 'learning_rate': 9.681241184767278e-06, 'epoch': 2.58}\n",
      "{'loss': 0.2281, 'grad_norm': 39.870216369628906, 'learning_rate': 9.653032440056418e-06, 'epoch': 2.59}\n",
      "{'loss': 0.1307, 'grad_norm': 21.15776252746582, 'learning_rate': 9.624823695345558e-06, 'epoch': 2.59}\n",
      "{'loss': 0.1311, 'grad_norm': 16.986656188964844, 'learning_rate': 9.596614950634698e-06, 'epoch': 2.6}\n",
      "{'loss': 0.2119, 'grad_norm': 30.507802963256836, 'learning_rate': 9.568406205923838e-06, 'epoch': 2.61}\n",
      "{'loss': 0.2406, 'grad_norm': 44.08932113647461, 'learning_rate': 9.540197461212976e-06, 'epoch': 2.61}\n",
      "{'loss': 0.1777, 'grad_norm': 14.581965446472168, 'learning_rate': 9.511988716502116e-06, 'epoch': 2.62}\n",
      "{'loss': 0.1723, 'grad_norm': nan, 'learning_rate': 9.486600846262342e-06, 'epoch': 2.63}\n",
      "{'loss': 0.185, 'grad_norm': 43.60293197631836, 'learning_rate': 9.458392101551482e-06, 'epoch': 2.64}\n",
      "{'loss': 0.2054, 'grad_norm': 10.295891761779785, 'learning_rate': 9.43018335684062e-06, 'epoch': 2.64}\n",
      "{'loss': 0.1596, 'grad_norm': 15.79642105102539, 'learning_rate': 9.40197461212976e-06, 'epoch': 2.65}\n",
      "{'loss': 0.1626, 'grad_norm': 10.136061668395996, 'learning_rate': 9.3737658674189e-06, 'epoch': 2.66}\n",
      "{'loss': 0.1272, 'grad_norm': 16.307138442993164, 'learning_rate': 9.34555712270804e-06, 'epoch': 2.66}\n",
      "{'loss': 0.127, 'grad_norm': 6.044680595397949, 'learning_rate': 9.31734837799718e-06, 'epoch': 2.67}\n",
      "{'loss': 0.1671, 'grad_norm': 24.80695915222168, 'learning_rate': 9.28913963328632e-06, 'epoch': 2.68}\n",
      "{'loss': 0.209, 'grad_norm': 14.591856002807617, 'learning_rate': 9.26093088857546e-06, 'epoch': 2.69}\n",
      "{'loss': 0.1741, 'grad_norm': 42.39109420776367, 'learning_rate': 9.232722143864598e-06, 'epoch': 2.69}\n",
      "{'loss': 0.1808, 'grad_norm': 45.113304138183594, 'learning_rate': 9.204513399153738e-06, 'epoch': 2.7}\n",
      "{'loss': 0.1773, 'grad_norm': 18.045650482177734, 'learning_rate': 9.176304654442878e-06, 'epoch': 2.71}\n",
      "{'loss': 0.1738, 'grad_norm': 31.374656677246094, 'learning_rate': 9.148095909732018e-06, 'epoch': 2.71}\n",
      "{'loss': 0.1769, 'grad_norm': 19.20716667175293, 'learning_rate': 9.119887165021158e-06, 'epoch': 2.72}\n",
      "{'loss': 0.1561, 'grad_norm': 7.148219108581543, 'learning_rate': 9.091678420310298e-06, 'epoch': 2.73}\n",
      "{'loss': 0.2479, 'grad_norm': 30.65532875061035, 'learning_rate': 9.063469675599438e-06, 'epoch': 2.73}\n",
      "{'loss': 0.2056, 'grad_norm': 8.780529975891113, 'learning_rate': 9.035260930888576e-06, 'epoch': 2.74}\n",
      "{'loss': 0.1288, 'grad_norm': 25.867429733276367, 'learning_rate': 9.007052186177716e-06, 'epoch': 2.75}\n",
      "{'loss': 0.1503, 'grad_norm': 14.55939769744873, 'learning_rate': 8.978843441466856e-06, 'epoch': 2.76}\n",
      "{'loss': 0.1823, 'grad_norm': 32.448028564453125, 'learning_rate': 8.950634696755996e-06, 'epoch': 2.76}\n",
      "{'loss': 0.1676, 'grad_norm': 26.868860244750977, 'learning_rate': 8.922425952045135e-06, 'epoch': 2.77}\n",
      "{'loss': 0.1825, 'grad_norm': 29.295930862426758, 'learning_rate': 8.894217207334275e-06, 'epoch': 2.78}\n",
      "{'loss': 0.2043, 'grad_norm': 17.577802658081055, 'learning_rate': 8.866008462623414e-06, 'epoch': 2.78}\n",
      "{'loss': 0.1905, 'grad_norm': 24.08011817932129, 'learning_rate': 8.837799717912554e-06, 'epoch': 2.79}\n",
      "{'loss': 0.1181, 'grad_norm': 21.231002807617188, 'learning_rate': 8.809590973201693e-06, 'epoch': 2.8}\n",
      "{'loss': 0.2347, 'grad_norm': 10.46769905090332, 'learning_rate': 8.781382228490832e-06, 'epoch': 2.81}\n",
      "{'loss': 0.1654, 'grad_norm': 23.404739379882812, 'learning_rate': 8.753173483779972e-06, 'epoch': 2.81}\n",
      "{'loss': 0.178, 'grad_norm': 15.819950103759766, 'learning_rate': 8.724964739069112e-06, 'epoch': 2.82}\n"
     ]
    },
    {
     "data": {
      "application/vnd.jupyter.widget-view+json": {
       "model_id": "8dac8f76a8ce4ea9aa8f8c0432fb1cb5",
       "version_major": 2,
       "version_minor": 0
      },
      "text/plain": [
       "  0%|          | 0/50 [00:00<?, ?it/s]"
      ]
     },
     "metadata": {},
     "output_type": "display_data"
    },
    {
     "name": "stdout",
     "output_type": "stream",
     "text": [
      "{'eval_loss': 1.2019684314727783, 'eval_accuracy': 0.6733333333333333, 'eval_runtime': 64.9926, 'eval_samples_per_second': 9.232, 'eval_steps_per_second': 0.769, 'epoch': 2.82}\n",
      "{'loss': 0.2067, 'grad_norm': 36.9284553527832, 'learning_rate': 8.696755994358251e-06, 'epoch': 2.83}\n",
      "{'loss': 0.1578, 'grad_norm': 16.339609146118164, 'learning_rate': 8.668547249647391e-06, 'epoch': 2.83}\n",
      "{'loss': 0.1406, 'grad_norm': 7.572714805603027, 'learning_rate': 8.640338504936531e-06, 'epoch': 2.84}\n",
      "{'loss': 0.1731, 'grad_norm': 20.344318389892578, 'learning_rate': 8.61212976022567e-06, 'epoch': 2.85}\n",
      "{'loss': 0.1625, 'grad_norm': 15.779095649719238, 'learning_rate': 8.58392101551481e-06, 'epoch': 2.85}\n",
      "{'loss': 0.1438, 'grad_norm': 38.792869567871094, 'learning_rate': 8.55571227080395e-06, 'epoch': 2.86}\n",
      "{'loss': 0.1784, 'grad_norm': 41.513736724853516, 'learning_rate': 8.52750352609309e-06, 'epoch': 2.87}\n",
      "{'loss': 0.1239, 'grad_norm': 19.68869400024414, 'learning_rate': 8.49929478138223e-06, 'epoch': 2.88}\n",
      "{'loss': 0.2045, 'grad_norm': 25.72689437866211, 'learning_rate': 8.47108603667137e-06, 'epoch': 2.88}\n",
      "{'loss': 0.141, 'grad_norm': 14.825676918029785, 'learning_rate': 8.442877291960509e-06, 'epoch': 2.89}\n",
      "{'loss': 0.2011, 'grad_norm': 28.84098243713379, 'learning_rate': 8.414668547249647e-06, 'epoch': 2.9}\n",
      "{'loss': 0.1803, 'grad_norm': 12.37751293182373, 'learning_rate': 8.386459802538787e-06, 'epoch': 2.9}\n",
      "{'loss': 0.1462, 'grad_norm': 8.485419273376465, 'learning_rate': 8.358251057827927e-06, 'epoch': 2.91}\n",
      "{'loss': 0.2078, 'grad_norm': 32.380393981933594, 'learning_rate': 8.330042313117067e-06, 'epoch': 2.92}\n",
      "{'loss': 0.1488, 'grad_norm': 9.229782104492188, 'learning_rate': 8.301833568406207e-06, 'epoch': 2.92}\n",
      "{'loss': 0.1595, 'grad_norm': 11.501775741577148, 'learning_rate': 8.273624823695347e-06, 'epoch': 2.93}\n",
      "{'loss': 0.1754, 'grad_norm': 11.340429306030273, 'learning_rate': 8.248236953455571e-06, 'epoch': 2.94}\n",
      "{'loss': 0.1478, 'grad_norm': 20.826095581054688, 'learning_rate': 8.220028208744711e-06, 'epoch': 2.95}\n",
      "{'loss': 0.1319, 'grad_norm': 19.986059188842773, 'learning_rate': 8.191819464033851e-06, 'epoch': 2.95}\n",
      "{'loss': 0.1824, 'grad_norm': 47.036216735839844, 'learning_rate': 8.163610719322991e-06, 'epoch': 2.96}\n",
      "{'loss': 0.1818, 'grad_norm': 43.78468704223633, 'learning_rate': 8.135401974612131e-06, 'epoch': 2.97}\n",
      "{'loss': 0.1362, 'grad_norm': 14.184388160705566, 'learning_rate': 8.10719322990127e-06, 'epoch': 2.97}\n",
      "{'loss': 0.172, 'grad_norm': 12.57429313659668, 'learning_rate': 8.07898448519041e-06, 'epoch': 2.98}\n",
      "{'loss': 0.1455, 'grad_norm': 38.23134994506836, 'learning_rate': 8.050775740479549e-06, 'epoch': 2.99}\n",
      "{'loss': 0.178, 'grad_norm': 24.483192443847656, 'learning_rate': 8.022566995768689e-06, 'epoch': 3.0}\n",
      "{'loss': 0.1361, 'grad_norm': 26.912214279174805, 'learning_rate': 7.994358251057829e-06, 'epoch': 3.0}\n",
      "{'loss': 0.1092, 'grad_norm': 6.51446533203125, 'learning_rate': 7.966149506346969e-06, 'epoch': 3.01}\n",
      "{'loss': 0.1288, 'grad_norm': 30.353845596313477, 'learning_rate': 7.937940761636109e-06, 'epoch': 3.02}\n",
      "{'loss': 0.0949, 'grad_norm': 30.142868041992188, 'learning_rate': 7.909732016925247e-06, 'epoch': 3.02}\n",
      "{'loss': 0.1219, 'grad_norm': 17.2546329498291, 'learning_rate': 7.881523272214387e-06, 'epoch': 3.03}\n",
      "{'loss': 0.1032, 'grad_norm': 19.920793533325195, 'learning_rate': 7.853314527503527e-06, 'epoch': 3.04}\n",
      "{'loss': 0.1465, 'grad_norm': 23.406585693359375, 'learning_rate': 7.825105782792667e-06, 'epoch': 3.04}\n",
      "{'loss': 0.0817, 'grad_norm': 66.9507827758789, 'learning_rate': 7.796897038081807e-06, 'epoch': 3.05}\n",
      "{'loss': 0.1169, 'grad_norm': 23.11955451965332, 'learning_rate': 7.768688293370945e-06, 'epoch': 3.06}\n",
      "{'loss': 0.0989, 'grad_norm': 25.833412170410156, 'learning_rate': 7.740479548660085e-06, 'epoch': 3.07}\n",
      "{'loss': 0.1313, 'grad_norm': 31.004566192626953, 'learning_rate': 7.712270803949225e-06, 'epoch': 3.07}\n",
      "{'loss': 0.0617, 'grad_norm': 31.763776779174805, 'learning_rate': 7.684062059238365e-06, 'epoch': 3.08}\n",
      "{'loss': 0.1708, 'grad_norm': 26.424938201904297, 'learning_rate': 7.655853314527503e-06, 'epoch': 3.09}\n",
      "{'loss': 0.1031, 'grad_norm': 30.438053131103516, 'learning_rate': 7.627644569816644e-06, 'epoch': 3.09}\n",
      "{'loss': 0.0749, 'grad_norm': 19.565025329589844, 'learning_rate': 7.599435825105783e-06, 'epoch': 3.1}\n",
      "{'loss': 0.1111, 'grad_norm': 26.156084060668945, 'learning_rate': 7.571227080394923e-06, 'epoch': 3.11}\n",
      "{'loss': 0.0965, 'grad_norm': 48.250633239746094, 'learning_rate': 7.543018335684063e-06, 'epoch': 3.11}\n",
      "{'loss': 0.0781, 'grad_norm': 3.5413765907287598, 'learning_rate': 7.514809590973202e-06, 'epoch': 3.12}\n",
      "{'loss': 0.0765, 'grad_norm': 5.973598480224609, 'learning_rate': 7.486600846262342e-06, 'epoch': 3.13}\n",
      "{'loss': 0.0699, 'grad_norm': 18.070201873779297, 'learning_rate': 7.458392101551482e-06, 'epoch': 3.14}\n",
      "{'loss': 0.142, 'grad_norm': 20.01164436340332, 'learning_rate': 7.4301833568406215e-06, 'epoch': 3.14}\n",
      "{'loss': 0.0763, 'grad_norm': 6.212895393371582, 'learning_rate': 7.401974612129761e-06, 'epoch': 3.15}\n",
      "{'loss': 0.0768, 'grad_norm': 5.608162879943848, 'learning_rate': 7.3737658674189005e-06, 'epoch': 3.16}\n",
      "{'loss': 0.1392, 'grad_norm': 62.800174713134766, 'learning_rate': 7.3455571227080405e-06, 'epoch': 3.16}\n",
      "{'loss': 0.1199, 'grad_norm': 59.253421783447266, 'learning_rate': 7.3173483779971796e-06, 'epoch': 3.17}\n"
     ]
    },
    {
     "data": {
      "application/vnd.jupyter.widget-view+json": {
       "model_id": "b40d404b2b7f4089b9fab27737e25662",
       "version_major": 2,
       "version_minor": 0
      },
      "text/plain": [
       "  0%|          | 0/50 [00:00<?, ?it/s]"
      ]
     },
     "metadata": {},
     "output_type": "display_data"
    },
    {
     "name": "stdout",
     "output_type": "stream",
     "text": [
      "{'eval_loss': 1.2163360118865967, 'eval_accuracy': 0.68, 'eval_runtime': 167.8529, 'eval_samples_per_second': 3.575, 'eval_steps_per_second': 0.298, 'epoch': 3.17}\n",
      "{'loss': 0.119, 'grad_norm': 3.9107162952423096, 'learning_rate': 7.2891396332863195e-06, 'epoch': 3.18}\n",
      "{'loss': 0.1308, 'grad_norm': 37.39494323730469, 'learning_rate': 7.260930888575459e-06, 'epoch': 3.19}\n",
      "{'loss': 0.1207, 'grad_norm': 9.352679252624512, 'learning_rate': 7.232722143864599e-06, 'epoch': 3.19}\n",
      "{'loss': 0.1121, 'grad_norm': 15.46866512298584, 'learning_rate': 7.204513399153738e-06, 'epoch': 3.2}\n",
      "{'loss': 0.1214, 'grad_norm': 13.258849143981934, 'learning_rate': 7.176304654442878e-06, 'epoch': 3.21}\n",
      "{'loss': 0.1096, 'grad_norm': 18.763267517089844, 'learning_rate': 7.148095909732018e-06, 'epoch': 3.21}\n",
      "{'loss': 0.089, 'grad_norm': 10.012444496154785, 'learning_rate': 7.119887165021157e-06, 'epoch': 3.22}\n",
      "{'loss': 0.0774, 'grad_norm': 11.132704734802246, 'learning_rate': 7.091678420310297e-06, 'epoch': 3.23}\n",
      "{'loss': 0.1584, 'grad_norm': 37.29437255859375, 'learning_rate': 7.0634696755994355e-06, 'epoch': 3.23}\n",
      "{'loss': 0.1285, 'grad_norm': 4.845050811767578, 'learning_rate': 7.035260930888575e-06, 'epoch': 3.24}\n",
      "{'loss': 0.1189, 'grad_norm': 22.014480590820312, 'learning_rate': 7.007052186177715e-06, 'epoch': 3.25}\n",
      "{'loss': 0.0981, 'grad_norm': 31.636568069458008, 'learning_rate': 6.978843441466855e-06, 'epoch': 3.26}\n",
      "{'loss': 0.0862, 'grad_norm': 43.43762969970703, 'learning_rate': 6.950634696755994e-06, 'epoch': 3.26}\n",
      "{'loss': 0.164, 'grad_norm': 7.763175010681152, 'learning_rate': 6.922425952045134e-06, 'epoch': 3.27}\n",
      "{'loss': 0.1096, 'grad_norm': 32.43684005737305, 'learning_rate': 6.894217207334274e-06, 'epoch': 3.28}\n",
      "{'loss': 0.0559, 'grad_norm': 62.76280212402344, 'learning_rate': 6.866008462623413e-06, 'epoch': 3.28}\n",
      "{'loss': 0.0912, 'grad_norm': 5.049405574798584, 'learning_rate': 6.837799717912553e-06, 'epoch': 3.29}\n",
      "{'loss': 0.0689, 'grad_norm': 7.952310562133789, 'learning_rate': 6.809590973201693e-06, 'epoch': 3.3}\n",
      "{'loss': 0.1337, 'grad_norm': 1.5695843696594238, 'learning_rate': 6.781382228490832e-06, 'epoch': 3.31}\n",
      "{'loss': 0.0972, 'grad_norm': 39.34073257446289, 'learning_rate': 6.753173483779972e-06, 'epoch': 3.31}\n",
      "{'loss': 0.1099, 'grad_norm': 13.780715942382812, 'learning_rate': 6.724964739069112e-06, 'epoch': 3.32}\n",
      "{'loss': 0.0917, 'grad_norm': 11.3524808883667, 'learning_rate': 6.696755994358252e-06, 'epoch': 3.33}\n",
      "{'loss': 0.1304, 'grad_norm': 2.9147889614105225, 'learning_rate': 6.668547249647391e-06, 'epoch': 3.33}\n",
      "{'loss': 0.112, 'grad_norm': 54.89436721801758, 'learning_rate': 6.640338504936531e-06, 'epoch': 3.34}\n",
      "{'loss': 0.1066, 'grad_norm': 2.1619760990142822, 'learning_rate': 6.612129760225671e-06, 'epoch': 3.35}\n",
      "{'loss': 0.09, 'grad_norm': 4.020830154418945, 'learning_rate': 6.58392101551481e-06, 'epoch': 3.35}\n",
      "{'loss': 0.1358, 'grad_norm': 13.855080604553223, 'learning_rate': 6.55571227080395e-06, 'epoch': 3.36}\n",
      "{'loss': 0.0778, 'grad_norm': 48.19060134887695, 'learning_rate': 6.52750352609309e-06, 'epoch': 3.37}\n",
      "{'loss': 0.0751, 'grad_norm': 13.73095417022705, 'learning_rate': 6.49929478138223e-06, 'epoch': 3.38}\n",
      "{'loss': 0.1323, 'grad_norm': 33.59504318237305, 'learning_rate': 6.471086036671369e-06, 'epoch': 3.38}\n",
      "{'loss': 0.1437, 'grad_norm': 16.42033576965332, 'learning_rate': 6.442877291960509e-06, 'epoch': 3.39}\n",
      "{'loss': 0.0927, 'grad_norm': 43.10598373413086, 'learning_rate': 6.414668547249649e-06, 'epoch': 3.4}\n",
      "{'loss': 0.0673, 'grad_norm': 98.58631134033203, 'learning_rate': 6.386459802538788e-06, 'epoch': 3.4}\n",
      "{'loss': 0.0983, 'grad_norm': 14.697037696838379, 'learning_rate': 6.358251057827928e-06, 'epoch': 3.41}\n",
      "{'loss': 0.0451, 'grad_norm': 34.05459213256836, 'learning_rate': 6.330042313117066e-06, 'epoch': 3.42}\n",
      "{'loss': 0.092, 'grad_norm': 50.12797546386719, 'learning_rate': 6.301833568406206e-06, 'epoch': 3.43}\n",
      "{'loss': 0.0996, 'grad_norm': 47.16868591308594, 'learning_rate': 6.273624823695346e-06, 'epoch': 3.43}\n",
      "{'loss': 0.1744, 'grad_norm': 29.983545303344727, 'learning_rate': 6.245416078984486e-06, 'epoch': 3.44}\n",
      "{'loss': 0.1283, 'grad_norm': 35.438079833984375, 'learning_rate': 6.217207334273625e-06, 'epoch': 3.45}\n",
      "{'loss': 0.1458, 'grad_norm': 42.921566009521484, 'learning_rate': 6.188998589562765e-06, 'epoch': 3.45}\n",
      "{'loss': 0.1178, 'grad_norm': 24.05506134033203, 'learning_rate': 6.160789844851905e-06, 'epoch': 3.46}\n",
      "{'loss': 0.0723, 'grad_norm': 7.434467792510986, 'learning_rate': 6.132581100141044e-06, 'epoch': 3.47}\n",
      "{'loss': 0.1298, 'grad_norm': 11.26397705078125, 'learning_rate': 6.104372355430184e-06, 'epoch': 3.47}\n",
      "{'loss': 0.1822, 'grad_norm': 10.763650894165039, 'learning_rate': 6.0761636107193235e-06, 'epoch': 3.48}\n",
      "{'loss': 0.1124, 'grad_norm': 41.00213623046875, 'learning_rate': 6.0479548660084635e-06, 'epoch': 3.49}\n",
      "{'loss': 0.0882, 'grad_norm': 29.009737014770508, 'learning_rate': 6.0197461212976025e-06, 'epoch': 3.5}\n",
      "{'loss': 0.1233, 'grad_norm': 32.763526916503906, 'learning_rate': 5.9915373765867425e-06, 'epoch': 3.5}\n",
      "{'loss': 0.137, 'grad_norm': 34.70201873779297, 'learning_rate': 5.963328631875882e-06, 'epoch': 3.51}\n",
      "{'loss': 0.0972, 'grad_norm': 1.8428939580917358, 'learning_rate': 5.9351198871650215e-06, 'epoch': 3.52}\n",
      "{'loss': 0.1026, 'grad_norm': 58.898353576660156, 'learning_rate': 5.906911142454161e-06, 'epoch': 3.52}\n"
     ]
    },
    {
     "data": {
      "application/vnd.jupyter.widget-view+json": {
       "model_id": "28d66097a7414add85030ede309e6486",
       "version_major": 2,
       "version_minor": 0
      },
      "text/plain": [
       "  0%|          | 0/50 [00:00<?, ?it/s]"
      ]
     },
     "metadata": {},
     "output_type": "display_data"
    },
    {
     "name": "stdout",
     "output_type": "stream",
     "text": [
      "{'eval_loss': 1.232931137084961, 'eval_accuracy': 0.6916666666666667, 'eval_runtime': 205.333, 'eval_samples_per_second': 2.922, 'eval_steps_per_second': 0.244, 'epoch': 3.52}\n",
      "{'loss': 0.1237, 'grad_norm': 7.63339376449585, 'learning_rate': 5.878702397743301e-06, 'epoch': 3.53}\n",
      "{'loss': 0.0904, 'grad_norm': 43.772621154785156, 'learning_rate': 5.85049365303244e-06, 'epoch': 3.54}\n",
      "{'loss': 0.1066, 'grad_norm': 5.865209579467773, 'learning_rate': 5.82228490832158e-06, 'epoch': 3.54}\n",
      "{'loss': 0.111, 'grad_norm': 34.58384704589844, 'learning_rate': 5.79407616361072e-06, 'epoch': 3.55}\n",
      "{'loss': 0.0848, 'grad_norm': 12.262829780578613, 'learning_rate': 5.76586741889986e-06, 'epoch': 3.56}\n",
      "{'loss': 0.125, 'grad_norm': 37.0439338684082, 'learning_rate': 5.737658674188999e-06, 'epoch': 3.57}\n",
      "{'loss': 0.108, 'grad_norm': 4.816313743591309, 'learning_rate': 5.709449929478139e-06, 'epoch': 3.57}\n",
      "{'loss': 0.1076, 'grad_norm': 21.62990951538086, 'learning_rate': 5.681241184767279e-06, 'epoch': 3.58}\n",
      "{'loss': 0.103, 'grad_norm': 68.0029067993164, 'learning_rate': 5.653032440056418e-06, 'epoch': 3.59}\n",
      "{'loss': 0.0851, 'grad_norm': 41.70248794555664, 'learning_rate': 5.624823695345557e-06, 'epoch': 3.59}\n",
      "{'loss': 0.0816, 'grad_norm': 34.235721588134766, 'learning_rate': 5.596614950634696e-06, 'epoch': 3.6}\n",
      "{'loss': 0.1245, 'grad_norm': 8.301435470581055, 'learning_rate': 5.568406205923836e-06, 'epoch': 3.61}\n",
      "{'loss': 0.1202, 'grad_norm': 32.84355926513672, 'learning_rate': 5.540197461212976e-06, 'epoch': 3.62}\n",
      "{'loss': 0.0801, 'grad_norm': 27.61632537841797, 'learning_rate': 5.511988716502116e-06, 'epoch': 3.62}\n",
      "{'loss': 0.1182, 'grad_norm': 21.961868286132812, 'learning_rate': 5.483779971791255e-06, 'epoch': 3.63}\n",
      "{'loss': 0.1394, 'grad_norm': 27.800823211669922, 'learning_rate': 5.455571227080395e-06, 'epoch': 3.64}\n",
      "{'loss': 0.1, 'grad_norm': 25.41618537902832, 'learning_rate': 5.427362482369535e-06, 'epoch': 3.64}\n",
      "{'loss': 0.1165, 'grad_norm': 21.69894790649414, 'learning_rate': 5.399153737658674e-06, 'epoch': 3.65}\n",
      "{'loss': 0.0698, 'grad_norm': 19.57773780822754, 'learning_rate': 5.370944992947814e-06, 'epoch': 3.66}\n",
      "{'loss': 0.0825, 'grad_norm': 14.767956733703613, 'learning_rate': 5.342736248236954e-06, 'epoch': 3.66}\n",
      "{'loss': 0.0971, 'grad_norm': 41.41362762451172, 'learning_rate': 5.314527503526094e-06, 'epoch': 3.67}\n",
      "{'loss': 0.0778, 'grad_norm': 6.938731670379639, 'learning_rate': 5.286318758815233e-06, 'epoch': 3.68}\n",
      "{'loss': 0.1133, 'grad_norm': 4.876570701599121, 'learning_rate': 5.258110014104373e-06, 'epoch': 3.69}\n",
      "{'loss': 0.0418, 'grad_norm': 3.333906888961792, 'learning_rate': 5.229901269393513e-06, 'epoch': 3.69}\n",
      "{'loss': 0.0921, 'grad_norm': 1.2585835456848145, 'learning_rate': 5.201692524682652e-06, 'epoch': 3.7}\n",
      "{'loss': 0.056, 'grad_norm': 59.186851501464844, 'learning_rate': 5.173483779971792e-06, 'epoch': 3.71}\n",
      "{'loss': 0.0885, 'grad_norm': 4.022009372711182, 'learning_rate': 5.145275035260932e-06, 'epoch': 3.71}\n",
      "{'loss': 0.0726, 'grad_norm': 62.472103118896484, 'learning_rate': 5.117066290550071e-06, 'epoch': 3.72}\n",
      "{'loss': 0.1354, 'grad_norm': 13.172365188598633, 'learning_rate': 5.088857545839211e-06, 'epoch': 3.73}\n",
      "{'loss': 0.0271, 'grad_norm': 3.286130428314209, 'learning_rate': 5.060648801128351e-06, 'epoch': 3.74}\n",
      "{'loss': 0.074, 'grad_norm': 0.5627588629722595, 'learning_rate': 5.032440056417491e-06, 'epoch': 3.74}\n",
      "{'loss': 0.1598, 'grad_norm': 39.201560974121094, 'learning_rate': 5.00423131170663e-06, 'epoch': 3.75}\n",
      "{'loss': 0.1109, 'grad_norm': 145.33885192871094, 'learning_rate': 4.976022566995769e-06, 'epoch': 3.76}\n",
      "{'loss': 0.11, 'grad_norm': 0.9042304158210754, 'learning_rate': 4.947813822284909e-06, 'epoch': 3.76}\n",
      "{'loss': 0.1451, 'grad_norm': 31.24187660217285, 'learning_rate': 4.919605077574049e-06, 'epoch': 3.77}\n",
      "{'loss': 0.0537, 'grad_norm': 1.4357599020004272, 'learning_rate': 4.891396332863188e-06, 'epoch': 3.78}\n",
      "{'loss': 0.099, 'grad_norm': 11.63296890258789, 'learning_rate': 4.863187588152328e-06, 'epoch': 3.78}\n",
      "{'loss': 0.1005, 'grad_norm': 3.9409873485565186, 'learning_rate': 4.8349788434414675e-06, 'epoch': 3.79}\n",
      "{'loss': 0.0662, 'grad_norm': 28.30318832397461, 'learning_rate': 4.8067700987306075e-06, 'epoch': 3.8}\n",
      "{'loss': 0.1224, 'grad_norm': 26.977161407470703, 'learning_rate': 4.7785613540197465e-06, 'epoch': 3.81}\n",
      "{'loss': 0.0969, 'grad_norm': 18.036670684814453, 'learning_rate': 4.7503526093088865e-06, 'epoch': 3.81}\n",
      "{'loss': 0.0976, 'grad_norm': 33.1689338684082, 'learning_rate': 4.7221438645980255e-06, 'epoch': 3.82}\n",
      "{'loss': 0.1027, 'grad_norm': 2.124372720718384, 'learning_rate': 4.6939351198871655e-06, 'epoch': 3.83}\n",
      "{'loss': 0.0837, 'grad_norm': 5.7719011306762695, 'learning_rate': 4.6657263751763045e-06, 'epoch': 3.83}\n",
      "{'loss': 0.1292, 'grad_norm': 7.811189651489258, 'learning_rate': 4.6375176304654445e-06, 'epoch': 3.84}\n",
      "{'loss': 0.0452, 'grad_norm': 37.410789489746094, 'learning_rate': 4.609308885754584e-06, 'epoch': 3.85}\n",
      "{'loss': 0.1463, 'grad_norm': 19.576120376586914, 'learning_rate': 4.581100141043724e-06, 'epoch': 3.86}\n",
      "{'loss': 0.0738, 'grad_norm': 30.15253448486328, 'learning_rate': 4.552891396332863e-06, 'epoch': 3.86}\n",
      "{'loss': 0.0494, 'grad_norm': 24.28831672668457, 'learning_rate': 4.524682651622003e-06, 'epoch': 3.87}\n",
      "{'loss': 0.1075, 'grad_norm': 43.437984466552734, 'learning_rate': 4.496473906911143e-06, 'epoch': 3.88}\n"
     ]
    },
    {
     "data": {
      "application/vnd.jupyter.widget-view+json": {
       "model_id": "fbc2a6b054434eaaa15429e1ae4cc1b0",
       "version_major": 2,
       "version_minor": 0
      },
      "text/plain": [
       "  0%|          | 0/50 [00:00<?, ?it/s]"
      ]
     },
     "metadata": {},
     "output_type": "display_data"
    },
    {
     "name": "stdout",
     "output_type": "stream",
     "text": [
      "{'eval_loss': 1.3659864664077759, 'eval_accuracy': 0.6766666666666666, 'eval_runtime': 191.2052, 'eval_samples_per_second': 3.138, 'eval_steps_per_second': 0.261, 'epoch': 3.88}\n",
      "{'loss': 0.0533, 'grad_norm': 4.950871467590332, 'learning_rate': 4.468265162200282e-06, 'epoch': 3.88}\n",
      "{'loss': 0.0685, 'grad_norm': 14.194499969482422, 'learning_rate': 4.440056417489422e-06, 'epoch': 3.89}\n",
      "{'loss': 0.091, 'grad_norm': 65.298828125, 'learning_rate': 4.411847672778562e-06, 'epoch': 3.9}\n",
      "{'loss': 0.1305, 'grad_norm': 33.87482452392578, 'learning_rate': 4.383638928067701e-06, 'epoch': 3.9}\n",
      "{'loss': 0.1337, 'grad_norm': 61.14765167236328, 'learning_rate': 4.355430183356841e-06, 'epoch': 3.91}\n",
      "{'loss': 0.1094, 'grad_norm': 25.49945068359375, 'learning_rate': 4.32722143864598e-06, 'epoch': 3.92}\n",
      "{'loss': 0.065, 'grad_norm': 0.41460534930229187, 'learning_rate': 4.29901269393512e-06, 'epoch': 3.93}\n",
      "{'loss': 0.0519, 'grad_norm': 1.3524739742279053, 'learning_rate': 4.27080394922426e-06, 'epoch': 3.93}\n",
      "{'loss': 0.103, 'grad_norm': 2.8743815422058105, 'learning_rate': 4.242595204513399e-06, 'epoch': 3.94}\n",
      "{'loss': 0.0958, 'grad_norm': 24.15328598022461, 'learning_rate': 4.214386459802539e-06, 'epoch': 3.95}\n",
      "{'loss': 0.0794, 'grad_norm': 47.92641830444336, 'learning_rate': 4.186177715091679e-06, 'epoch': 3.95}\n",
      "{'loss': 0.0766, 'grad_norm': 30.961225509643555, 'learning_rate': 4.157968970380818e-06, 'epoch': 3.96}\n",
      "{'loss': 0.1242, 'grad_norm': 1.365993857383728, 'learning_rate': 4.129760225669958e-06, 'epoch': 3.97}\n",
      "{'loss': 0.1687, 'grad_norm': 2.2606325149536133, 'learning_rate': 4.101551480959098e-06, 'epoch': 3.97}\n",
      "{'loss': 0.1301, 'grad_norm': 22.450380325317383, 'learning_rate': 4.073342736248238e-06, 'epoch': 3.98}\n",
      "{'loss': 0.0793, 'grad_norm': 2.7744815349578857, 'learning_rate': 4.045133991537377e-06, 'epoch': 3.99}\n",
      "{'loss': 0.091, 'grad_norm': 33.79880905151367, 'learning_rate': 4.016925246826516e-06, 'epoch': 4.0}\n",
      "{'loss': 0.0849, 'grad_norm': 0.6617991924285889, 'learning_rate': 3.988716502115656e-06, 'epoch': 4.0}\n",
      "{'loss': 0.0264, 'grad_norm': 1.681251883506775, 'learning_rate': 3.960507757404796e-06, 'epoch': 4.01}\n",
      "{'loss': 0.0456, 'grad_norm': 33.519996643066406, 'learning_rate': 3.932299012693935e-06, 'epoch': 4.02}\n",
      "{'loss': 0.0238, 'grad_norm': 1.0934628248214722, 'learning_rate': 3.904090267983075e-06, 'epoch': 4.02}\n",
      "{'loss': 0.0414, 'grad_norm': 0.6526641249656677, 'learning_rate': 3.875881523272215e-06, 'epoch': 4.03}\n",
      "{'loss': 0.103, 'grad_norm': 52.2099494934082, 'learning_rate': 3.847672778561355e-06, 'epoch': 4.04}\n",
      "{'loss': 0.0505, 'grad_norm': 1.4679043292999268, 'learning_rate': 3.819464033850494e-06, 'epoch': 4.05}\n",
      "{'loss': 0.0663, 'grad_norm': 5.75343656539917, 'learning_rate': 3.7912552891396337e-06, 'epoch': 4.05}\n",
      "{'loss': 0.04, 'grad_norm': 3.191249370574951, 'learning_rate': 3.7630465444287732e-06, 'epoch': 4.06}\n",
      "{'loss': 0.0413, 'grad_norm': 12.284749984741211, 'learning_rate': 3.734837799717913e-06, 'epoch': 4.07}\n",
      "{'loss': 0.0399, 'grad_norm': 0.33621835708618164, 'learning_rate': 3.7066290550070527e-06, 'epoch': 4.07}\n",
      "{'loss': 0.0785, 'grad_norm': 15.964178085327148, 'learning_rate': 3.6784203102961917e-06, 'epoch': 4.08}\n",
      "{'loss': 0.0718, 'grad_norm': 51.6531867980957, 'learning_rate': 3.6502115655853317e-06, 'epoch': 4.09}\n",
      "{'loss': 0.0192, 'grad_norm': 1.4700943231582642, 'learning_rate': 3.622002820874471e-06, 'epoch': 4.09}\n",
      "{'loss': 0.1014, 'grad_norm': 0.36821991205215454, 'learning_rate': 3.5937940761636107e-06, 'epoch': 4.1}\n",
      "{'loss': 0.0859, 'grad_norm': 65.77684020996094, 'learning_rate': 3.5655853314527506e-06, 'epoch': 4.11}\n",
      "{'loss': 0.0312, 'grad_norm': 1.7068427801132202, 'learning_rate': 3.53737658674189e-06, 'epoch': 4.12}\n",
      "{'loss': 0.0641, 'grad_norm': 15.432409286499023, 'learning_rate': 3.50916784203103e-06, 'epoch': 4.12}\n",
      "{'loss': 0.0811, 'grad_norm': 11.513768196105957, 'learning_rate': 3.4809590973201695e-06, 'epoch': 4.13}\n",
      "{'loss': 0.1063, 'grad_norm': 0.4379305839538574, 'learning_rate': 3.4527503526093094e-06, 'epoch': 4.14}\n",
      "{'loss': 0.0171, 'grad_norm': 0.22422045469284058, 'learning_rate': 3.424541607898449e-06, 'epoch': 4.14}\n",
      "{'loss': 0.0924, 'grad_norm': 0.8575685620307922, 'learning_rate': 3.3963328631875885e-06, 'epoch': 4.15}\n",
      "{'loss': 0.048, 'grad_norm': 34.16875457763672, 'learning_rate': 3.3681241184767284e-06, 'epoch': 4.16}\n",
      "{'loss': 0.039, 'grad_norm': 1.2323986291885376, 'learning_rate': 3.339915373765868e-06, 'epoch': 4.16}\n",
      "{'loss': 0.0548, 'grad_norm': 3.7037665843963623, 'learning_rate': 3.311706629055007e-06, 'epoch': 4.17}\n",
      "{'loss': 0.0133, 'grad_norm': 5.294044494628906, 'learning_rate': 3.283497884344147e-06, 'epoch': 4.18}\n",
      "{'loss': 0.1136, 'grad_norm': 81.72602081298828, 'learning_rate': 3.2552891396332864e-06, 'epoch': 4.19}\n",
      "{'loss': 0.065, 'grad_norm': 11.467730522155762, 'learning_rate': 3.227080394922426e-06, 'epoch': 4.19}\n",
      "{'loss': 0.0332, 'grad_norm': 3.782210111618042, 'learning_rate': 3.198871650211566e-06, 'epoch': 4.2}\n",
      "{'loss': 0.0465, 'grad_norm': 4.653371334075928, 'learning_rate': 3.1706629055007053e-06, 'epoch': 4.21}\n",
      "{'loss': 0.1046, 'grad_norm': 0.3472933769226074, 'learning_rate': 3.1424541607898452e-06, 'epoch': 4.21}\n",
      "{'loss': 0.0481, 'grad_norm': 0.20107057690620422, 'learning_rate': 3.1142454160789847e-06, 'epoch': 4.22}\n",
      "{'loss': 0.0176, 'grad_norm': 1.534197211265564, 'learning_rate': 3.0860366713681247e-06, 'epoch': 4.23}\n"
     ]
    },
    {
     "data": {
      "application/vnd.jupyter.widget-view+json": {
       "model_id": "469cd95271c44295a70351b17d7ea6b3",
       "version_major": 2,
       "version_minor": 0
      },
      "text/plain": [
       "  0%|          | 0/50 [00:00<?, ?it/s]"
      ]
     },
     "metadata": {},
     "output_type": "display_data"
    },
    {
     "name": "stdout",
     "output_type": "stream",
     "text": [
      "{'eval_loss': 1.4315744638442993, 'eval_accuracy': 0.6916666666666667, 'eval_runtime': 202.4225, 'eval_samples_per_second': 2.964, 'eval_steps_per_second': 0.247, 'epoch': 4.23}\n",
      "{'loss': 0.042, 'grad_norm': 0.9505369067192078, 'learning_rate': 3.057827926657264e-06, 'epoch': 4.24}\n",
      "{'loss': 0.0287, 'grad_norm': 1.023102045059204, 'learning_rate': 3.0296191819464037e-06, 'epoch': 4.24}\n",
      "{'loss': 0.0333, 'grad_norm': 0.6994222402572632, 'learning_rate': 3.0014104372355436e-06, 'epoch': 4.25}\n",
      "{'loss': 0.0438, 'grad_norm': 60.40647888183594, 'learning_rate': 2.973201692524683e-06, 'epoch': 4.26}\n",
      "{'loss': 0.0483, 'grad_norm': 2.1100759506225586, 'learning_rate': 2.944992947813822e-06, 'epoch': 4.26}\n",
      "{'loss': 0.0149, 'grad_norm': 1.2136781215667725, 'learning_rate': 2.916784203102962e-06, 'epoch': 4.27}\n",
      "{'loss': 0.0964, 'grad_norm': 11.594343185424805, 'learning_rate': 2.8885754583921016e-06, 'epoch': 4.28}\n",
      "{'loss': 0.054, 'grad_norm': 12.175939559936523, 'learning_rate': 2.860366713681241e-06, 'epoch': 4.28}\n",
      "{'loss': 0.0562, 'grad_norm': 0.5755395293235779, 'learning_rate': 2.832157968970381e-06, 'epoch': 4.29}\n",
      "{'loss': 0.0961, 'grad_norm': 1.0577350854873657, 'learning_rate': 2.8039492242595205e-06, 'epoch': 4.3}\n",
      "{'loss': 0.0426, 'grad_norm': 21.289260864257812, 'learning_rate': 2.7757404795486604e-06, 'epoch': 4.31}\n",
      "{'loss': 0.0512, 'grad_norm': 11.835556983947754, 'learning_rate': 2.7475317348378e-06, 'epoch': 4.31}\n",
      "{'loss': 0.1517, 'grad_norm': 0.8023070096969604, 'learning_rate': 2.71932299012694e-06, 'epoch': 4.32}\n",
      "{'loss': 0.0463, 'grad_norm': 5.681417465209961, 'learning_rate': 2.6911142454160794e-06, 'epoch': 4.33}\n",
      "{'loss': 0.0682, 'grad_norm': 11.371129035949707, 'learning_rate': 2.662905500705219e-06, 'epoch': 4.33}\n",
      "{'loss': 0.0369, 'grad_norm': 0.15332283079624176, 'learning_rate': 2.634696755994359e-06, 'epoch': 4.34}\n",
      "{'loss': 0.087, 'grad_norm': 1.0186952352523804, 'learning_rate': 2.606488011283498e-06, 'epoch': 4.35}\n",
      "{'loss': 0.067, 'grad_norm': 15.448617935180664, 'learning_rate': 2.5782792665726374e-06, 'epoch': 4.36}\n",
      "{'loss': 0.0849, 'grad_norm': 104.7332763671875, 'learning_rate': 2.5500705218617773e-06, 'epoch': 4.36}\n",
      "{'loss': 0.0776, 'grad_norm': 44.16926193237305, 'learning_rate': 2.521861777150917e-06, 'epoch': 4.37}\n",
      "{'loss': 0.0091, 'grad_norm': 16.786638259887695, 'learning_rate': 2.4936530324400567e-06, 'epoch': 4.38}\n",
      "{'loss': 0.0578, 'grad_norm': 1.815659999847412, 'learning_rate': 2.4654442877291962e-06, 'epoch': 4.38}\n",
      "{'loss': 0.0217, 'grad_norm': 1.4348671436309814, 'learning_rate': 2.4372355430183357e-06, 'epoch': 4.39}\n",
      "{'loss': 0.0937, 'grad_norm': 0.32245728373527527, 'learning_rate': 2.4090267983074757e-06, 'epoch': 4.4}\n",
      "{'loss': 0.063, 'grad_norm': 16.201091766357422, 'learning_rate': 2.380818053596615e-06, 'epoch': 4.4}\n",
      "{'loss': 0.0453, 'grad_norm': 18.105764389038086, 'learning_rate': 2.352609308885755e-06, 'epoch': 4.41}\n",
      "{'loss': 0.0502, 'grad_norm': 30.204795837402344, 'learning_rate': 2.324400564174894e-06, 'epoch': 4.42}\n",
      "{'loss': 0.0799, 'grad_norm': 2.5125467777252197, 'learning_rate': 2.296191819464034e-06, 'epoch': 4.43}\n",
      "{'loss': 0.0117, 'grad_norm': 1.1020716428756714, 'learning_rate': 2.2679830747531736e-06, 'epoch': 4.43}\n",
      "{'loss': 0.0598, 'grad_norm': 2.0023021697998047, 'learning_rate': 2.2397743300423135e-06, 'epoch': 4.44}\n",
      "{'loss': 0.0351, 'grad_norm': 0.4402018189430237, 'learning_rate': 2.211565585331453e-06, 'epoch': 4.45}\n",
      "{'loss': 0.0283, 'grad_norm': 0.2652169167995453, 'learning_rate': 2.1833568406205925e-06, 'epoch': 4.45}\n",
      "{'loss': 0.0775, 'grad_norm': 2.5358660221099854, 'learning_rate': 2.155148095909732e-06, 'epoch': 4.46}\n",
      "{'loss': 0.0321, 'grad_norm': 2.7444353103637695, 'learning_rate': 2.126939351198872e-06, 'epoch': 4.47}\n",
      "{'loss': 0.0361, 'grad_norm': 19.92097282409668, 'learning_rate': 2.0987306064880114e-06, 'epoch': 4.48}\n",
      "{'loss': 0.0693, 'grad_norm': 0.9316216111183167, 'learning_rate': 2.070521861777151e-06, 'epoch': 4.48}\n",
      "{'loss': 0.056, 'grad_norm': 1.293297290802002, 'learning_rate': 2.042313117066291e-06, 'epoch': 4.49}\n",
      "{'loss': 0.0702, 'grad_norm': 45.064334869384766, 'learning_rate': 2.0141043723554304e-06, 'epoch': 4.5}\n",
      "{'loss': 0.0559, 'grad_norm': 3.611337661743164, 'learning_rate': 1.9858956276445703e-06, 'epoch': 4.5}\n",
      "{'loss': 0.0211, 'grad_norm': 0.20697414875030518, 'learning_rate': 1.9576868829337094e-06, 'epoch': 4.51}\n",
      "{'loss': 0.0189, 'grad_norm': 46.10673904418945, 'learning_rate': 1.9294781382228493e-06, 'epoch': 4.52}\n",
      "{'loss': 0.0427, 'grad_norm': 1.172550916671753, 'learning_rate': 1.9012693935119888e-06, 'epoch': 4.52}\n",
      "{'loss': 0.0521, 'grad_norm': 14.482697486877441, 'learning_rate': 1.8730606488011285e-06, 'epoch': 4.53}\n",
      "{'loss': 0.0232, 'grad_norm': 41.76374816894531, 'learning_rate': 1.8448519040902682e-06, 'epoch': 4.54}\n",
      "{'loss': 0.0473, 'grad_norm': 1.751778483390808, 'learning_rate': 1.816643159379408e-06, 'epoch': 4.55}\n",
      "{'loss': 0.0405, 'grad_norm': 0.5800738334655762, 'learning_rate': 1.7884344146685472e-06, 'epoch': 4.55}\n",
      "{'loss': 0.0198, 'grad_norm': 0.46244382858276367, 'learning_rate': 1.760225669957687e-06, 'epoch': 4.56}\n",
      "{'loss': 0.041, 'grad_norm': 0.29620522260665894, 'learning_rate': 1.7320169252468267e-06, 'epoch': 4.57}\n",
      "{'loss': 0.0797, 'grad_norm': 9.61403751373291, 'learning_rate': 1.7038081805359664e-06, 'epoch': 4.57}\n",
      "{'loss': 0.0272, 'grad_norm': 0.1802537888288498, 'learning_rate': 1.675599435825106e-06, 'epoch': 4.58}\n"
     ]
    },
    {
     "data": {
      "application/vnd.jupyter.widget-view+json": {
       "model_id": "5eb120a1a72d40f1882651bcfa8866f1",
       "version_major": 2,
       "version_minor": 0
      },
      "text/plain": [
       "  0%|          | 0/50 [00:00<?, ?it/s]"
      ]
     },
     "metadata": {},
     "output_type": "display_data"
    },
    {
     "name": "stdout",
     "output_type": "stream",
     "text": [
      "{'eval_loss': 1.447106957435608, 'eval_accuracy': 0.705, 'eval_runtime': 62.1571, 'eval_samples_per_second': 9.653, 'eval_steps_per_second': 0.804, 'epoch': 4.58}\n",
      "{'loss': 0.1487, 'grad_norm': 0.8516893982887268, 'learning_rate': 1.6473906911142456e-06, 'epoch': 4.59}\n",
      "{'loss': 0.068, 'grad_norm': 97.39952087402344, 'learning_rate': 1.619181946403385e-06, 'epoch': 4.59}\n",
      "{'loss': 0.0226, 'grad_norm': 1.8002334833145142, 'learning_rate': 1.5909732016925248e-06, 'epoch': 4.6}\n",
      "{'loss': 0.0686, 'grad_norm': 0.720368504524231, 'learning_rate': 1.5627644569816643e-06, 'epoch': 4.61}\n",
      "{'loss': 0.0483, 'grad_norm': 1.7348151206970215, 'learning_rate': 1.534555712270804e-06, 'epoch': 4.62}\n",
      "{'loss': 0.0305, 'grad_norm': 1.141736388206482, 'learning_rate': 1.5063469675599437e-06, 'epoch': 4.62}\n",
      "{'loss': 0.0489, 'grad_norm': 66.25139617919922, 'learning_rate': 1.4781382228490834e-06, 'epoch': 4.63}\n",
      "{'loss': 0.1245, 'grad_norm': 57.50107955932617, 'learning_rate': 1.4499294781382232e-06, 'epoch': 4.64}\n",
      "{'loss': 0.0673, 'grad_norm': 6.4478840827941895, 'learning_rate': 1.4217207334273624e-06, 'epoch': 4.64}\n",
      "{'loss': 0.0426, 'grad_norm': 1.5339593887329102, 'learning_rate': 1.3935119887165022e-06, 'epoch': 4.65}\n",
      "{'loss': 0.0799, 'grad_norm': 29.422273635864258, 'learning_rate': 1.3653032440056419e-06, 'epoch': 4.66}\n",
      "{'loss': 0.084, 'grad_norm': 78.3815689086914, 'learning_rate': 1.3370944992947816e-06, 'epoch': 4.67}\n",
      "{'loss': 0.0752, 'grad_norm': 0.5847753882408142, 'learning_rate': 1.3088857545839213e-06, 'epoch': 4.67}\n",
      "{'loss': 0.0134, 'grad_norm': 0.4718722701072693, 'learning_rate': 1.2806770098730608e-06, 'epoch': 4.68}\n",
      "{'loss': 0.0177, 'grad_norm': 1.4396229982376099, 'learning_rate': 1.2524682651622003e-06, 'epoch': 4.69}\n",
      "{'loss': 0.0114, 'grad_norm': 79.32113647460938, 'learning_rate': 1.22425952045134e-06, 'epoch': 4.69}\n",
      "{'loss': 0.0428, 'grad_norm': 1.47211492061615, 'learning_rate': 1.1960507757404797e-06, 'epoch': 4.7}\n",
      "{'loss': 0.0326, 'grad_norm': 1.6332048177719116, 'learning_rate': 1.1678420310296192e-06, 'epoch': 4.71}\n",
      "{'loss': 0.03, 'grad_norm': 7.682652950286865, 'learning_rate': 1.139633286318759e-06, 'epoch': 4.71}\n",
      "{'loss': 0.0415, 'grad_norm': 0.15660463273525238, 'learning_rate': 1.1114245416078984e-06, 'epoch': 4.72}\n",
      "{'loss': 0.0529, 'grad_norm': 2.5793168544769287, 'learning_rate': 1.0832157968970382e-06, 'epoch': 4.73}\n",
      "{'loss': 0.0583, 'grad_norm': 17.535673141479492, 'learning_rate': 1.0550070521861779e-06, 'epoch': 4.74}\n",
      "{'loss': 0.0362, 'grad_norm': 1.1254949569702148, 'learning_rate': 1.0267983074753174e-06, 'epoch': 4.74}\n",
      "{'loss': 0.0526, 'grad_norm': 63.55579376220703, 'learning_rate': 9.98589562764457e-07, 'epoch': 4.75}\n",
      "{'loss': 0.0573, 'grad_norm': 20.70103645324707, 'learning_rate': 9.732016925246828e-07, 'epoch': 4.76}\n",
      "{'loss': 0.0386, 'grad_norm': 4.873945713043213, 'learning_rate': 9.449929478138225e-07, 'epoch': 4.76}\n",
      "{'loss': 0.0954, 'grad_norm': 0.9349334836006165, 'learning_rate': 9.16784203102962e-07, 'epoch': 4.77}\n",
      "{'loss': 0.0618, 'grad_norm': 2.2531425952911377, 'learning_rate': 8.885754583921016e-07, 'epoch': 4.78}\n",
      "{'loss': 0.0974, 'grad_norm': 2.2913455963134766, 'learning_rate': 8.603667136812413e-07, 'epoch': 4.79}\n",
      "{'loss': 0.0718, 'grad_norm': 0.7375550866127014, 'learning_rate': 8.321579689703808e-07, 'epoch': 4.79}\n",
      "{'loss': 0.0541, 'grad_norm': 2.4089763164520264, 'learning_rate': 8.039492242595205e-07, 'epoch': 4.8}\n",
      "{'loss': 0.0383, 'grad_norm': 0.22955811023712158, 'learning_rate': 7.757404795486602e-07, 'epoch': 4.81}\n",
      "{'loss': 0.0716, 'grad_norm': 0.8521368503570557, 'learning_rate': 7.475317348377997e-07, 'epoch': 4.81}\n",
      "{'loss': 0.1055, 'grad_norm': 45.568214416503906, 'learning_rate': 7.193229901269394e-07, 'epoch': 4.82}\n",
      "{'loss': 0.0352, 'grad_norm': 57.82096481323242, 'learning_rate': 6.91114245416079e-07, 'epoch': 4.83}\n",
      "{'loss': 0.0526, 'grad_norm': 0.23104014992713928, 'learning_rate': 6.629055007052186e-07, 'epoch': 4.83}\n",
      "{'loss': 0.0282, 'grad_norm': 0.6817845702171326, 'learning_rate': 6.346967559943583e-07, 'epoch': 4.84}\n",
      "{'loss': 0.0806, 'grad_norm': 3.3394370079040527, 'learning_rate': 6.06488011283498e-07, 'epoch': 4.85}\n",
      "{'loss': 0.1024, 'grad_norm': 25.384531021118164, 'learning_rate': 5.782792665726376e-07, 'epoch': 4.86}\n",
      "{'loss': 0.0988, 'grad_norm': 0.29143407940864563, 'learning_rate': 5.500705218617772e-07, 'epoch': 4.86}\n",
      "{'loss': 0.0714, 'grad_norm': 0.37517714500427246, 'learning_rate': 5.218617771509169e-07, 'epoch': 4.87}\n",
      "{'loss': 0.0625, 'grad_norm': 31.391969680786133, 'learning_rate': 4.936530324400565e-07, 'epoch': 4.88}\n",
      "{'loss': 0.0734, 'grad_norm': 3.026250123977661, 'learning_rate': 4.6544428772919606e-07, 'epoch': 4.88}\n",
      "{'loss': 0.0688, 'grad_norm': 33.41501998901367, 'learning_rate': 4.372355430183357e-07, 'epoch': 4.89}\n",
      "{'loss': 0.0751, 'grad_norm': 13.754955291748047, 'learning_rate': 4.090267983074753e-07, 'epoch': 4.9}\n",
      "{'loss': 0.0425, 'grad_norm': 6.280254364013672, 'learning_rate': 3.8081805359661504e-07, 'epoch': 4.91}\n",
      "{'loss': 0.0415, 'grad_norm': 14.24186897277832, 'learning_rate': 3.5260930888575464e-07, 'epoch': 4.91}\n",
      "{'loss': 0.0413, 'grad_norm': 0.8717153072357178, 'learning_rate': 3.244005641748942e-07, 'epoch': 4.92}\n",
      "{'loss': 0.0322, 'grad_norm': 0.23045553267002106, 'learning_rate': 2.9619181946403386e-07, 'epoch': 4.93}\n",
      "{'loss': 0.0077, 'grad_norm': 0.24638819694519043, 'learning_rate': 2.679830747531735e-07, 'epoch': 4.93}\n"
     ]
    },
    {
     "data": {
      "application/vnd.jupyter.widget-view+json": {
       "model_id": "07188b7e4aee49a6973cf4159a0e5aef",
       "version_major": 2,
       "version_minor": 0
      },
      "text/plain": [
       "  0%|          | 0/50 [00:00<?, ?it/s]"
      ]
     },
     "metadata": {},
     "output_type": "display_data"
    },
    {
     "name": "stdout",
     "output_type": "stream",
     "text": [
      "{'eval_loss': 1.5092445611953735, 'eval_accuracy': 0.7016666666666667, 'eval_runtime': 68.1018, 'eval_samples_per_second': 8.81, 'eval_steps_per_second': 0.734, 'epoch': 4.93}\n",
      "{'loss': 0.0528, 'grad_norm': 0.3643285632133484, 'learning_rate': 2.3977433004231313e-07, 'epoch': 4.94}\n",
      "{'loss': 0.0187, 'grad_norm': 26.834558486938477, 'learning_rate': 2.1156558533145276e-07, 'epoch': 4.95}\n",
      "{'loss': 0.0383, 'grad_norm': 0.19028198719024658, 'learning_rate': 1.833568406205924e-07, 'epoch': 4.95}\n",
      "{'loss': 0.0715, 'grad_norm': 0.24013090133666992, 'learning_rate': 1.5514809590973203e-07, 'epoch': 4.96}\n",
      "{'loss': 0.0444, 'grad_norm': 0.2005273848772049, 'learning_rate': 1.2693935119887166e-07, 'epoch': 4.97}\n",
      "{'loss': 0.0684, 'grad_norm': 37.448734283447266, 'learning_rate': 9.87306064880113e-08, 'epoch': 4.98}\n",
      "{'loss': 0.074, 'grad_norm': 0.3529965281486511, 'learning_rate': 7.052186177715093e-08, 'epoch': 4.98}\n",
      "{'loss': 0.0665, 'grad_norm': 0.22223658859729767, 'learning_rate': 4.2313117066290556e-08, 'epoch': 4.99}\n",
      "{'loss': 0.0312, 'grad_norm': 10.786279678344727, 'learning_rate': 1.4104372355430185e-08, 'epoch': 5.0}\n",
      "{'train_runtime': 29915.8583, 'train_samples_per_second': 7.586, 'train_steps_per_second': 0.237, 'train_loss': 0.2701998924250663, 'epoch': 5.0}\n"
     ]
    }
   ],
   "source": [
    "results = trainer.train()"
   ]
  },
  {
   "cell_type": "code",
   "execution_count": 39,
   "metadata": {},
   "outputs": [],
   "source": [
    "trainer.save_model()\n",
    "trainer.save_state()"
   ]
  },
  {
   "cell_type": "code",
   "execution_count": 40,
   "metadata": {},
   "outputs": [],
   "source": [
    "dataset_test = ds['test']\n",
    "prepared_test = dataset_test.with_transform(preprocess)"
   ]
  },
  {
   "cell_type": "code",
   "execution_count": 41,
   "metadata": {},
   "outputs": [
    {
     "data": {
      "application/vnd.jupyter.widget-view+json": {
       "model_id": "faa903de1fa948f6ae4e30bf125bc15a",
       "version_major": 2,
       "version_minor": 0
      },
      "text/plain": [
       "  0%|          | 0/96 [00:00<?, ?it/s]"
      ]
     },
     "metadata": {},
     "output_type": "display_data"
    }
   ],
   "source": [
    "# Obtener predicciones del modelo\n",
    "predictions = trainer.predict(prepared_test)\n",
    "\n",
    "# Extraer logits y etiquetas reales\n",
    "logits = predictions.predictions  # Salidas del modelo (antes de aplicar softmax)\n",
    "labels = predictions.label_ids    # Etiquetas reales\n",
    "\n",
    "predicted_classes = np.argmax(logits, axis=-1)"
   ]
  },
  {
   "cell_type": "code",
   "execution_count": 42,
   "metadata": {},
   "outputs": [
    {
     "data": {
      "image/png": "[encoded data removed]",
      "text/plain": [
       "<Figure size 640x480 with 2 Axes>"
      ]
     },
     "metadata": {},
     "output_type": "display_data"
    }
   ],
   "source": [
    "from sklearn.metrics import confusion_matrix, ConfusionMatrixDisplay\n",
    "import matplotlib.pyplot as plt\n",
    "\n",
    "# Calcular matriz de confusión\n",
    "cm = confusion_matrix(labels, predicted_classes)\n",
    "\n",
    "# Mostrar la matriz de confusión\n",
    "labels_names = ds['train'].features['label'].names  # Nombres de las clases\n",
    "disp = ConfusionMatrixDisplay(confusion_matrix=cm, display_labels=labels_names)\n",
    "disp.plot(cmap=plt.cm.Blues)\n",
    "\n",
    "plt.title(\"Matriz de Confusión\")\n",
    "plt.show()"
   ]
  },
  {
   "cell_type": "code",
   "execution_count": 25,
   "metadata": {},
   "outputs": [
    {
     "name": "stdout",
     "output_type": "stream",
     "text": [
      "              precision    recall  f1-score   support\n",
      "\n",
      "           0       0.76      0.87      0.81       300\n",
      "           1       0.66      0.52      0.58       300\n",
      "           2       0.63      0.65      0.64       400\n",
      "           3       0.64      0.68      0.66       150\n",
      "\n",
      "    accuracy                           0.68      1150\n",
      "   macro avg       0.67      0.68      0.67      1150\n",
      "weighted avg       0.67      0.68      0.67      1150\n",
      "\n"
     ]
    }
   ],
   "source": [
    "from sklearn.metrics import classification_report\n",
    "\n",
    "print(classification_report(labels, predicted_classes))"
   ]
  },
  {
   "cell_type": "code",
   "execution_count": 40,
   "metadata": {},
   "outputs": [],
   "source": [
    "import os\n",
    "import torchvision.transforms as T\n",
    "import json\n",
    "from tqdm.notebook import tqdm\n",
    "from PIL import Image"
   ]
  },
  {
   "cell_type": "code",
   "execution_count": 32,
   "metadata": {},
   "outputs": [
    {
     "data": {
      "application/vnd.jupyter.widget-view+json": {
       "model_id": "93dd3e7d6cca48efbbdb073ef7fb7d74",
       "version_major": 2,
       "version_minor": 0
      },
      "text/plain": [
       "Resolving data files:   0%|          | 0/20959 [00:00<?, ?it/s]"
      ]
     },
     "metadata": {},
     "output_type": "display_data"
    },
    {
     "data": {
      "application/vnd.jupyter.widget-view+json": {
       "model_id": "61b5d2bcd0f4446394fe9f4a21275271",
       "version_major": 2,
       "version_minor": 0
      },
      "text/plain": [
       "Resolving data files:   0%|          | 0/761 [00:00<?, ?it/s]"
      ]
     },
     "metadata": {},
     "output_type": "display_data"
    }
   ],
   "source": [
    "ds = load_dataset(\"C:/Tesis/DatasetBinario\", num_proc=3)\n",
    "cwd = os.getcwd()\n",
    "\n",
    "ROOT_DIR = os.path.join(cwd, \"C:/Tesis/DatasetBinario/train\")\n",
    "\n",
    "labels = {}\n",
    "\n",
    "for folder in os.listdir(ROOT_DIR):\n",
    "    for file in os.listdir(os.path.join(ROOT_DIR, folder)):\n",
    "        if file.endswith(\".jpg\") or file.endswith(\".png\"):\n",
    "            full_name = os.path.join(ROOT_DIR, folder, file)\n",
    "            labels[full_name] = folder\n",
    "\n",
    "files = labels.keys()"
   ]
  },
  {
   "cell_type": "code",
   "execution_count": 33,
   "metadata": {},
   "outputs": [
    {
     "name": "stderr",
     "output_type": "stream",
     "text": [
      "Using cache found in C:\\Users\\abadd/.cache\\torch\\hub\\facebookresearch_dinov2_main\n"
     ]
    }
   ],
   "source": [
    "dinov2_vits14 = torch.hub.load(\"facebookresearch/dinov2\", \"dinov2_vitg14\")\n",
    "device = torch.device('cuda' if torch.cuda.is_available() else \"cpu\")\n",
    "dinov2_vits14.to(device)\n",
    "transform_image = T.Compose([\n",
    "    T.Resize(244),                # Escala el lado más corto a 244 píxeles\n",
    "    T.CenterCrop(224),            # Recorta una región central de 224x224\n",
    "    T.ToTensor(),                 # Convierte la imagen a tensor\n",
    "    T.Normalize([0.485, 0.456, 0.406], [0.229, 0.224, 0.225])  # Normaliza con mean y std de ImageNet\n",
    "])"
   ]
  },
  {
   "cell_type": "code",
   "execution_count": 36,
   "metadata": {},
   "outputs": [],
   "source": [
    "def load_image(img: str) -> torch.Tensor:\n",
    "    \"\"\"\n",
    "    Load an image and return a tensor that can be used as an input to DINOv2.\n",
    "    \"\"\"\n",
    "    img = Image.open(img)\n",
    "\n",
    "    transformed_img = transform_image(img)[:3].unsqueeze(0)\n",
    "\n",
    "    return transformed_img\n",
    "\n",
    "def compute_embeddings(files: list) -> dict:\n",
    "    \"\"\"\n",
    "    Create an index that contains all of the images in the specified list of files.\n",
    "    \"\"\"\n",
    "    all_embeddings = {}\n",
    "    \n",
    "    with torch.no_grad():\n",
    "      for i, file in enumerate(tqdm(files)):\n",
    "        embeddings = dinov2_vits14(load_image(file).to(device))\n",
    "\n",
    "        all_embeddings[file] = np.array(embeddings[0].cpu().numpy()).reshape(1, -1).tolist()\n",
    "\n",
    "    with open(\"all_embeddings.json\", \"w\") as f:\n",
    "        f.write(json.dumps(all_embeddings))\n",
    "\n",
    "    return all_embeddings"
   ]
  },
  {
   "cell_type": "code",
   "execution_count": 41,
   "metadata": {},
   "outputs": [
    {
     "data": {
      "application/vnd.jupyter.widget-view+json": {
       "model_id": "4d0e988942d747f9a46f35371578ff5c",
       "version_major": 2,
       "version_minor": 0
      },
      "text/plain": [
       "  0%|          | 0/20959 [00:00<?, ?it/s]"
      ]
     },
     "metadata": {},
     "output_type": "display_data"
    },
    {
     "ename": "KeyboardInterrupt",
     "evalue": "",
     "output_type": "error",
     "traceback": [
      "\u001b[1;31m---------------------------------------------------------------------------\u001b[0m",
      "\u001b[1;31mKeyboardInterrupt\u001b[0m                         Traceback (most recent call last)",
      "Cell \u001b[1;32mIn[41], line 1\u001b[0m\n\u001b[1;32m----> 1\u001b[0m embeddings \u001b[38;5;241m=\u001b[39m compute_embeddings(files)\n",
      "Cell \u001b[1;32mIn[36], line 21\u001b[0m, in \u001b[0;36mcompute_embeddings\u001b[1;34m(files)\u001b[0m\n\u001b[0;32m     18\u001b[0m   \u001b[38;5;28;01mfor\u001b[39;00m i, file \u001b[38;5;129;01min\u001b[39;00m \u001b[38;5;28menumerate\u001b[39m(tqdm(files)):\n\u001b[0;32m     19\u001b[0m     embeddings \u001b[38;5;241m=\u001b[39m dinov2_vits14(load_image(file)\u001b[38;5;241m.\u001b[39mto(device))\n\u001b[1;32m---> 21\u001b[0m     all_embeddings[file] \u001b[38;5;241m=\u001b[39m np\u001b[38;5;241m.\u001b[39marray(embeddings[\u001b[38;5;241m0\u001b[39m]\u001b[38;5;241m.\u001b[39mcpu()\u001b[38;5;241m.\u001b[39mnumpy())\u001b[38;5;241m.\u001b[39mreshape(\u001b[38;5;241m1\u001b[39m, \u001b[38;5;241m-\u001b[39m\u001b[38;5;241m1\u001b[39m)\u001b[38;5;241m.\u001b[39mtolist()\n\u001b[0;32m     23\u001b[0m \u001b[38;5;28;01mwith\u001b[39;00m \u001b[38;5;28mopen\u001b[39m(\u001b[38;5;124m\"\u001b[39m\u001b[38;5;124mall_embeddings.json\u001b[39m\u001b[38;5;124m\"\u001b[39m, \u001b[38;5;124m\"\u001b[39m\u001b[38;5;124mw\u001b[39m\u001b[38;5;124m\"\u001b[39m) \u001b[38;5;28;01mas\u001b[39;00m f:\n\u001b[0;32m     24\u001b[0m     f\u001b[38;5;241m.\u001b[39mwrite(json\u001b[38;5;241m.\u001b[39mdumps(all_embeddings))\n",
      "\u001b[1;31mKeyboardInterrupt\u001b[0m: "
     ]
    }
   ],
   "source": [
    "embeddings = compute_embeddings(files)"
   ]
  }
 ],
 "metadata": {
  "kernelspec": {
   "display_name": "base",
   "language": "python",
   "name": "python3"
  },
  "language_info": {
   "codemirror_mode": {
    "name": "ipython",
    "version": 3
   },
   "file_extension": ".py",
   "mimetype": "text/x-python",
   "name": "python",
   "nbconvert_exporter": "python",
   "pygments_lexer": "ipython3",
   "version": "3.11.7"
  }
 },
 "nbformat": 4,
 "nbformat_minor": 2
}
