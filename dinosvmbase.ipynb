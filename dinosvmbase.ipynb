{
 "cells": [
  {
   "cell_type": "code",
   "execution_count": 1,
   "metadata": {},
   "outputs": [],
   "source": [
    "import numpy as np\n",
    "import torch\n",
    "import torchvision.transforms as T\n",
    "from PIL import Image\n",
    "import os\n",
    "import cv2\n",
    "import json\n",
    "import glob\n",
    "from tqdm.notebook import tqdm\n",
    "import torchvision.datasets as datasets\n",
    "from datasets import load_dataset\n",
    "from transformers import AutoImageProcessor, Dinov2ForImageClassification\n"
   ]
  },
  {
   "cell_type": "code",
   "execution_count": 2,
   "metadata": {},
   "outputs": [
    {
     "data": {
      "application/vnd.jupyter.widget-view+json": {
       "model_id": "68d8e4c794464a76a1e31e56d78adfe0",
       "version_major": 2,
       "version_minor": 0
      },
      "text/plain": [
       "Resolving data files:   0%|          | 0/38591 [00:00<?, ?it/s]"
      ]
     },
     "metadata": {},
     "output_type": "display_data"
    },
    {
     "data": {
      "application/vnd.jupyter.widget-view+json": {
       "model_id": "1b276acb50594e7bb020965320a0709a",
       "version_major": 2,
       "version_minor": 0
      },
      "text/plain": [
       "Resolving data files:   0%|          | 0/356 [00:00<?, ?it/s]"
      ]
     },
     "metadata": {},
     "output_type": "display_data"
    }
   ],
   "source": [
    "ds = load_dataset(\"C:/Thesis/Dataset4classes\", num_proc=3)\n",
    "cwd = os.getcwd()\n",
    "\n",
    "ROOT_DIR = os.path.join(cwd, \"C:/Thesis/Dataset4classes/train\")\n",
    "\n",
    "labels = {}\n",
    "\n",
    "for folder in os.listdir(ROOT_DIR):\n",
    "    for file in os.listdir(os.path.join(ROOT_DIR, folder)):\n",
    "        if file.endswith(\".jpg\") or file.endswith(\".png\"):\n",
    "            full_name = os.path.join(ROOT_DIR, folder, file)\n",
    "            labels[full_name] = folder\n",
    "\n",
    "files = labels.keys()"
   ]
  },
  {
   "cell_type": "code",
   "execution_count": 3,
   "metadata": {},
   "outputs": [
    {
     "name": "stdout",
     "output_type": "stream",
     "text": [
      "38591\n"
     ]
    }
   ],
   "source": [
    "print(len(files))"
   ]
  },
  {
   "cell_type": "code",
   "execution_count": 4,
   "metadata": {},
   "outputs": [
    {
     "name": "stderr",
     "output_type": "stream",
     "text": [
      "Using cache found in C:\\Users\\abadd/.cache\\torch\\hub\\facebookresearch_dinov2_main\n",
      "C:\\Users\\abadd/.cache\\torch\\hub\\facebookresearch_dinov2_main\\dinov2\\layers\\swiglu_ffn.py:51: UserWarning: xFormers is not available (SwiGLU)\n",
      "  warnings.warn(\"xFormers is not available (SwiGLU)\")\n",
      "C:\\Users\\abadd/.cache\\torch\\hub\\facebookresearch_dinov2_main\\dinov2\\layers\\attention.py:33: UserWarning: xFormers is not available (Attention)\n",
      "  warnings.warn(\"xFormers is not available (Attention)\")\n",
      "C:\\Users\\abadd/.cache\\torch\\hub\\facebookresearch_dinov2_main\\dinov2\\layers\\block.py:40: UserWarning: xFormers is not available (Block)\n",
      "  warnings.warn(\"xFormers is not available (Block)\")\n"
     ]
    }
   ],
   "source": [
    "dinov2_vits14 = model = torch.hub.load(\"facebookresearch/dinov2\", \"dinov2_vitb14\")\n",
    "device = torch.device('cuda' if torch.cuda.is_available() else \"cpu\")\n",
    "dinov2_vits14.to(device)\n",
    "transform_image = T.Compose([\n",
    "    T.Resize(244),                # Escala el lado más corto a 244 píxeles\n",
    "    T.CenterCrop(224),            # Recorta una región central de 224x224\n",
    "    T.ToTensor(),                 # Convierte la imagen a tensor\n",
    "    T.Normalize([0.485, 0.456, 0.406], [0.229, 0.224, 0.225])  # Normaliza con mean y std de ImageNet\n",
    "])"
   ]
  },
  {
   "cell_type": "code",
   "execution_count": 5,
   "metadata": {},
   "outputs": [],
   "source": [
    "def load_image(img: str) -> torch.Tensor:\n",
    "    \"\"\"\n",
    "    Load an image and return a tensor that can be used as an input to DINOv2.\n",
    "    \"\"\"\n",
    "    img = Image.open(img)\n",
    "\n",
    "    transformed_img = transform_image(img)[:3].unsqueeze(0)\n",
    "\n",
    "    return transformed_img\n",
    "\n",
    "def compute_embeddings(files: list) -> dict:\n",
    "    \"\"\"\n",
    "    Create an index that contains all of the images in the specified list of files.\n",
    "    \"\"\"\n",
    "    all_embeddings = {}\n",
    "    \n",
    "    with torch.no_grad():\n",
    "      for i, file in enumerate(tqdm(files)):\n",
    "        embeddings = dinov2_vits14(load_image(file).to(device))\n",
    "\n",
    "        all_embeddings[file] = np.array(embeddings[0].cpu().numpy()).reshape(1, -1).tolist()\n",
    "\n",
    "    with open(\"all_embeddings.json\", \"w\") as f:\n",
    "        f.write(json.dumps(all_embeddings))\n",
    "\n",
    "    return all_embeddings"
   ]
  },
  {
   "cell_type": "code",
   "execution_count": 6,
   "metadata": {},
   "outputs": [
    {
     "data": {
      "application/vnd.jupyter.widget-view+json": {
       "model_id": "fd68c4c7caca471b81c3f7478dffa98e",
       "version_major": 2,
       "version_minor": 0
      },
      "text/plain": [
       "  0%|          | 0/38591 [00:00<?, ?it/s]"
      ]
     },
     "metadata": {},
     "output_type": "display_data"
    }
   ],
   "source": [
    "embeddings = compute_embeddings(files)"
   ]
  },
  {
   "cell_type": "code",
   "execution_count": 7,
   "metadata": {},
   "outputs": [],
   "source": [
    "from sklearn.svm import SVC\n",
    "from sklearn.model_selection import GridSearchCV\n",
    "from sklearn.metrics import classification_report\n",
    "from random import shuffle\n",
    "\n",
    "y = [labels[file] for file in files]\n",
    "\n",
    "embedding_list = list(embeddings.values())\n",
    "\n",
    "combined = list(zip(embedding_list, y))\n",
    "\n",
    "# Barajar\n",
    "shuffle(combined)\n",
    "\n",
    "# Separar nuevamente\n",
    "embedding_list, y = zip(*combined)\n",
    "embedding_list = np.array(embedding_list).squeeze(1)  # Quita la dimensión de tamaño 1\n",
    " "
   ]
  },
  {
   "cell_type": "code",
   "execution_count": null,
   "metadata": {},
   "outputs": [
    {
     "name": "stdout",
     "output_type": "stream",
     "text": [
      "Fitting 5 folds for each of 16 candidates, totalling 80 fits\n"
     ]
    }
   ],
   "source": [
    "from sklearn.svm import SVC\n",
    "from sklearn.model_selection import GridSearchCV\n",
    "from sklearn.metrics import classification_report\n",
    "\n",
    "# Supongamos que ya tienes tus embeddings y etiquetas en arrays\n",
    "# embedding_array: numpy array con tus datos de entrada\n",
    "# y_array: numpy array con tus etiquetas\n",
    "\n",
    "# Definir el modelo SVM\n",
    "svm = SVC()\n",
    "\n",
    "# Definir el espacio de búsqueda para los hiperparámetros\n",
    "param_grid = {\n",
    "    'C': [0.1, 1, 10, 100],             # Regularización\n",
    "    'gamma': [1, 0.1, 0.01, 0.001],    # Parámetro del kernel RBF\n",
    "    'kernel': ['rbf']                  # Usaremos kernel RBF en este ejemplo\n",
    "}\n",
    "\n",
    "# Configurar GridSearchCV\n",
    "grid_search = GridSearchCV(\n",
    "    estimator=svm,\n",
    "    param_grid=param_grid,\n",
    "    scoring='accuracy',                # Métrica de evaluación (puedes cambiarla según el problema)\n",
    "    cv=5,                              # Validación cruzada (5 pliegues en este caso)\n",
    "    verbose=2,\n",
    "    n_jobs=-1                          # Usar todos los núcleos disponibles\n",
    ")\n",
    "\n",
    "# Ejecutar la búsqueda de hiperparámetros\n",
    "grid_search.fit(embedding_list, y)\n",
    "\n",
    "# Imprimir los mejores hiperparámetros y la puntuación asociada\n",
    "print(\"Mejores hiperparámetros:\", grid_search.best_params_)\n",
    "print(\"Mejor puntuación:\", grid_search.best_score_)\n",
    "\n",
    "# Evaluar en datos de entrenamiento (opcional)\n",
    "y_pred = grid_search.best_estimator_.predict(embedding_list)\n",
    "print(classification_report(y, y_pred))\n"
   ]
  },
  {
   "cell_type": "markdown",
   "metadata": {},
   "source": [
    "Evaluate"
   ]
  },
  {
   "cell_type": "code",
   "execution_count": 12,
   "metadata": {},
   "outputs": [
    {
     "data": {
      "text/html": [
       "<style>#sk-container-id-2 {color: black;background-color: white;}#sk-container-id-2 pre{padding: 0;}#sk-container-id-2 div.sk-toggleable {background-color: white;}#sk-container-id-2 label.sk-toggleable__label {cursor: pointer;display: block;width: 100%;margin-bottom: 0;padding: 0.3em;box-sizing: border-box;text-align: center;}#sk-container-id-2 label.sk-toggleable__label-arrow:before {content: \"▸\";float: left;margin-right: 0.25em;color: #696969;}#sk-container-id-2 label.sk-toggleable__label-arrow:hover:before {color: black;}#sk-container-id-2 div.sk-estimator:hover label.sk-toggleable__label-arrow:before {color: black;}#sk-container-id-2 div.sk-toggleable__content {max-height: 0;max-width: 0;overflow: hidden;text-align: left;background-color: #f0f8ff;}#sk-container-id-2 div.sk-toggleable__content pre {margin: 0.2em;color: black;border-radius: 0.25em;background-color: #f0f8ff;}#sk-container-id-2 input.sk-toggleable__control:checked~div.sk-toggleable__content {max-height: 200px;max-width: 100%;overflow: auto;}#sk-container-id-2 input.sk-toggleable__control:checked~label.sk-toggleable__label-arrow:before {content: \"▾\";}#sk-container-id-2 div.sk-estimator input.sk-toggleable__control:checked~label.sk-toggleable__label {background-color: #d4ebff;}#sk-container-id-2 div.sk-label input.sk-toggleable__control:checked~label.sk-toggleable__label {background-color: #d4ebff;}#sk-container-id-2 input.sk-hidden--visually {border: 0;clip: rect(1px 1px 1px 1px);clip: rect(1px, 1px, 1px, 1px);height: 1px;margin: -1px;overflow: hidden;padding: 0;position: absolute;width: 1px;}#sk-container-id-2 div.sk-estimator {font-family: monospace;background-color: #f0f8ff;border: 1px dotted black;border-radius: 0.25em;box-sizing: border-box;margin-bottom: 0.5em;}#sk-container-id-2 div.sk-estimator:hover {background-color: #d4ebff;}#sk-container-id-2 div.sk-parallel-item::after {content: \"\";width: 100%;border-bottom: 1px solid gray;flex-grow: 1;}#sk-container-id-2 div.sk-label:hover label.sk-toggleable__label {background-color: #d4ebff;}#sk-container-id-2 div.sk-serial::before {content: \"\";position: absolute;border-left: 1px solid gray;box-sizing: border-box;top: 0;bottom: 0;left: 50%;z-index: 0;}#sk-container-id-2 div.sk-serial {display: flex;flex-direction: column;align-items: center;background-color: white;padding-right: 0.2em;padding-left: 0.2em;position: relative;}#sk-container-id-2 div.sk-item {position: relative;z-index: 1;}#sk-container-id-2 div.sk-parallel {display: flex;align-items: stretch;justify-content: center;background-color: white;position: relative;}#sk-container-id-2 div.sk-item::before, #sk-container-id-2 div.sk-parallel-item::before {content: \"\";position: absolute;border-left: 1px solid gray;box-sizing: border-box;top: 0;bottom: 0;left: 50%;z-index: -1;}#sk-container-id-2 div.sk-parallel-item {display: flex;flex-direction: column;z-index: 1;position: relative;background-color: white;}#sk-container-id-2 div.sk-parallel-item:first-child::after {align-self: flex-end;width: 50%;}#sk-container-id-2 div.sk-parallel-item:last-child::after {align-self: flex-start;width: 50%;}#sk-container-id-2 div.sk-parallel-item:only-child::after {width: 0;}#sk-container-id-2 div.sk-dashed-wrapped {border: 1px dashed gray;margin: 0 0.4em 0.5em 0.4em;box-sizing: border-box;padding-bottom: 0.4em;background-color: white;}#sk-container-id-2 div.sk-label label {font-family: monospace;font-weight: bold;display: inline-block;line-height: 1.2em;}#sk-container-id-2 div.sk-label-container {text-align: center;}#sk-container-id-2 div.sk-container {/* jupyter's `normalize.less` sets `[hidden] { display: none; }` but bootstrap.min.css set `[hidden] { display: none !important; }` so we also need the `!important` here to be able to override the default hidden behavior on the sphinx rendered scikit-learn.org. See: https://github.com/scikit-learn/scikit-learn/issues/21755 */display: inline-block !important;position: relative;}#sk-container-id-2 div.sk-text-repr-fallback {display: none;}</style><div id=\"sk-container-id-2\" class=\"sk-top-container\"><div class=\"sk-text-repr-fallback\"><pre>SVC(C=10, gamma=0.001)</pre><b>In a Jupyter environment, please rerun this cell to show the HTML representation or trust the notebook. <br />On GitHub, the HTML representation is unable to render, please try loading this page with nbviewer.org.</b></div><div class=\"sk-container\" hidden><div class=\"sk-item\"><div class=\"sk-estimator sk-toggleable\"><input class=\"sk-toggleable__control sk-hidden--visually\" id=\"sk-estimator-id-2\" type=\"checkbox\" checked><label for=\"sk-estimator-id-2\" class=\"sk-toggleable__label sk-toggleable__label-arrow\">SVC</label><div class=\"sk-toggleable__content\"><pre>SVC(C=10, gamma=0.001)</pre></div></div></div></div></div>"
      ],
      "text/plain": [
       "SVC(C=10, gamma=0.001)"
      ]
     },
     "execution_count": 12,
     "metadata": {},
     "output_type": "execute_result"
    }
   ],
   "source": [
    "from sklearn.svm import SVC\n",
    "\n",
    "svm = SVC(C = 10, gamma= 0.001, kernel= 'rbf')\n",
    "\n",
    "svm.fit(embedding_list, y)"
   ]
  },
  {
   "cell_type": "code",
   "execution_count": 13,
   "metadata": {},
   "outputs": [],
   "source": [
    "from sklearn.metrics import classification_report, accuracy_score"
   ]
  },
  {
   "cell_type": "code",
   "execution_count": 32,
   "metadata": {},
   "outputs": [
    {
     "data": {
      "application/vnd.jupyter.widget-view+json": {
       "model_id": "8a415d77aa014e44b2de5efa2806b9f9",
       "version_major": 2,
       "version_minor": 0
      },
      "text/plain": [
       "  0%|          | 0/1081 [00:00<?, ?it/s]"
      ]
     },
     "metadata": {},
     "output_type": "display_data"
    },
    {
     "name": "stdout",
     "output_type": "stream",
     "text": [
      "Accuracy: 0.6484736355226642\n",
      "Classification Report:\n",
      "               precision    recall  f1-score   support\n",
      "\n",
      "         bcc       0.76      0.61      0.67       138\n",
      "         mel       0.48      0.79      0.60       320\n",
      "      others       0.84      0.60      0.70       590\n",
      "         scc       0.52      0.33      0.41        33\n",
      "\n",
      "    accuracy                           0.65      1081\n",
      "   macro avg       0.65      0.58      0.59      1081\n",
      "weighted avg       0.71      0.65      0.66      1081\n",
      "\n"
     ]
    }
   ],
   "source": [
    "ROOT_DIR = os.path.join(cwd, \"C:\\Thesis\\DermaUH Challenge - Imágenes Evaluación\")\n",
    "\n",
    "\n",
    "labels = {}\n",
    "\n",
    "for folder in os.listdir(ROOT_DIR):\n",
    "    for file in os.listdir(os.path.join(ROOT_DIR, folder)):\n",
    "        if file.endswith(\".jpg\") or file.endswith(\".png\"):\n",
    "            full_name = os.path.join(ROOT_DIR, folder, file)\n",
    "            labels[full_name] = folder\n",
    "\n",
    "testfiles = labels.keys()\n",
    "testembeddings = compute_embeddings(testfiles)\n",
    "\n",
    "y_val = [labels[file] for file in testfiles]\n",
    "y_pred = svm.predict(np.array(list(testembeddings.values())).squeeze(1))\n",
    "\n",
    "print(\"Accuracy:\", accuracy_score(y_val, y_pred))\n",
    "print(\"Classification Report:\\n\", classification_report(y_val, y_pred))\n",
    "\n"
   ]
  },
  {
   "cell_type": "code",
   "execution_count": 33,
   "metadata": {},
   "outputs": [
    {
     "data": {
      "image/png": "[encoded data removed]",
      "text/plain": [
       "<Figure size 640x480 with 2 Axes>"
      ]
     },
     "metadata": {},
     "output_type": "display_data"
    }
   ],
   "source": [
    "from sklearn.metrics import confusion_matrix, ConfusionMatrixDisplay\n",
    "import matplotlib.pyplot as plt\n",
    "\n",
    "# Calcular matriz de confusión\n",
    "cm = confusion_matrix(y_val, y_pred)\n",
    "\n",
    "# Mostrar la matriz de confusión\n",
    "labels_names = ds['train'].features['label'].names  # Nombres de las clases\n",
    "disp = ConfusionMatrixDisplay(confusion_matrix=cm, display_labels=labels_names)\n",
    "disp.plot(cmap=plt.cm.Blues)\n",
    "\n",
    "plt.title(\"Matriz de Confusión\")\n",
    "plt.show()"
   ]
  },
  {
   "cell_type": "code",
   "execution_count": 32,
   "metadata": {},
   "outputs": [
    {
     "data": {
      "text/plain": [
       "['svm_dino_4_classes_model_binary_base.pkl']"
      ]
     },
     "execution_count": 32,
     "metadata": {},
     "output_type": "execute_result"
    }
   ],
   "source": [
    "import joblib\n",
    "\n",
    "# Guarda el modelo SVM entrenado\n",
    "joblib.dump(grid_search.best_estimator_, \"svm_dino_4_classes_model_binary_base.pkl\")"
   ]
  },
  {
   "cell_type": "code",
   "execution_count": 26,
   "metadata": {},
   "outputs": [],
   "source": [
    "import numpy as np\n",
    "\n",
    "# Convierte a un array de numpy y guarda como archivo binario\n",
    "np.save(\"embeddingsbinarybase.npy\", np.array(list(embeddings.values())))\n",
    "np.save(\"labelstestbinarybaset.npy\", np.array(y))  # Guarda las etiquetas\n"
   ]
  },
  {
   "cell_type": "code",
   "execution_count": 47,
   "metadata": {},
   "outputs": [
    {
     "name": "stderr",
     "output_type": "stream",
     "text": [
      "[I 2024-12-13 12:03:25,528] A new study created in memory with name: no-name-f51397ec-ac42-4552-a480-3b4f44b0be0a\n",
      "[I 2024-12-13 12:03:42,280] Trial 8 finished with value: 0.6032934131736527 and parameters: {'n_estimators': 51, 'max_depth': 3, 'learning_rate': 0.023457573833758336, 'subsample': 0.6612272249108262, 'colsample_bytree': 0.7881975171628777, 'gamma': 3.4668185805811804, 'reg_alpha': 7.6606056209734295, 'reg_lambda': 9.150191765433974, 'min_child_weight': 11}. Best is trial 8 with value: 0.6032934131736527.\n",
      "[I 2024-12-13 12:03:53,237] Trial 6 finished with value: 0.75 and parameters: {'n_estimators': 108, 'max_depth': 3, 'learning_rate': 0.20995423045734243, 'subsample': 0.7125914506823852, 'colsample_bytree': 0.70514878839754, 'gamma': 1.5925471519685575, 'reg_alpha': 2.7121366691938475, 'reg_lambda': 5.34934710974749, 'min_child_weight': 3}. Best is trial 6 with value: 0.75.\n",
      "[I 2024-12-13 12:03:57,559] Trial 10 finished with value: 0.7110778443113772 and parameters: {'n_estimators': 100, 'max_depth': 4, 'learning_rate': 0.04157957421028162, 'subsample': 0.9286478248478608, 'colsample_bytree': 0.9673768604205327, 'gamma': 3.518609803992181, 'reg_alpha': 2.3064336366463847, 'reg_lambda': 3.9939325040503846, 'min_child_weight': 7}. Best is trial 6 with value: 0.75.\n",
      "[I 2024-12-13 12:04:19,452] Trial 2 finished with value: 0.7395209580838323 and parameters: {'n_estimators': 90, 'max_depth': 8, 'learning_rate': 0.029848812283709513, 'subsample': 0.6735354568552195, 'colsample_bytree': 0.986070691049984, 'gamma': 1.9365977812994117, 'reg_alpha': 6.87326414219224, 'reg_lambda': 7.998472275232156, 'min_child_weight': 16}. Best is trial 6 with value: 0.75.\n",
      "[I 2024-12-13 12:04:21,767] Trial 1 finished with value: 0.6736526946107785 and parameters: {'n_estimators': 254, 'max_depth': 3, 'learning_rate': 0.014389989995445635, 'subsample': 0.750531115656929, 'colsample_bytree': 0.6889085011629794, 'gamma': 3.3856094143416744, 'reg_alpha': 8.18795817916152, 'reg_lambda': 9.381257865875664, 'min_child_weight': 11}. Best is trial 6 with value: 0.75.\n",
      "[I 2024-12-13 12:04:43,886] Trial 14 finished with value: 0.8158682634730539 and parameters: {'n_estimators': 174, 'max_depth': 10, 'learning_rate': 0.11384095658871207, 'subsample': 0.8699298040688229, 'colsample_bytree': 0.7342383569175848, 'gamma': 4.3556469846497405, 'reg_alpha': 6.328247057813434, 'reg_lambda': 8.275718877658985, 'min_child_weight': 14}. Best is trial 14 with value: 0.8158682634730539.\n",
      "[I 2024-12-13 12:05:03,832] Trial 5 finished with value: 0.7649700598802395 and parameters: {'n_estimators': 214, 'max_depth': 7, 'learning_rate': 0.016146247943765915, 'subsample': 0.9874562585134503, 'colsample_bytree': 0.8626392480637703, 'gamma': 3.72398869967965, 'reg_alpha': 1.0953081662085729, 'reg_lambda': 5.8089097865457475, 'min_child_weight': 12}. Best is trial 14 with value: 0.8158682634730539.\n",
      "[I 2024-12-13 12:05:07,214] Trial 3 finished with value: 0.7455089820359282 and parameters: {'n_estimators': 293, 'max_depth': 5, 'learning_rate': 0.02490737803082629, 'subsample': 0.7291678532530192, 'colsample_bytree': 0.8451003695141368, 'gamma': 1.3521396374206285, 'reg_alpha': 4.419716326948152, 'reg_lambda': 1.8922305265037065, 'min_child_weight': 17}. Best is trial 14 with value: 0.8158682634730539.\n",
      "[I 2024-12-13 12:05:08,301] Trial 12 finished with value: 0.8023952095808383 and parameters: {'n_estimators': 381, 'max_depth': 4, 'learning_rate': 0.1329932850107269, 'subsample': 0.6120626685067228, 'colsample_bytree': 0.6354730308647285, 'gamma': 1.071980005633888, 'reg_alpha': 5.287004136049025, 'reg_lambda': 2.7435880995106157, 'min_child_weight': 6}. Best is trial 14 with value: 0.8158682634730539.\n",
      "[I 2024-12-13 12:05:11,799] Trial 7 finished with value: 0.7634730538922155 and parameters: {'n_estimators': 394, 'max_depth': 4, 'learning_rate': 0.04904295150722399, 'subsample': 0.8581907478756994, 'colsample_bytree': 0.6617176412897281, 'gamma': 4.876522207230881, 'reg_alpha': 6.507633000112321, 'reg_lambda': 7.366396911199919, 'min_child_weight': 12}. Best is trial 14 with value: 0.8158682634730539.\n",
      "[I 2024-12-13 12:05:16,432] Trial 19 finished with value: 0.7949101796407185 and parameters: {'n_estimators': 96, 'max_depth': 9, 'learning_rate': 0.06980837129686202, 'subsample': 0.8399064882557522, 'colsample_bytree': 0.7614084427480999, 'gamma': 3.2432867598756903, 'reg_alpha': 4.267355278122831, 'reg_lambda': 8.970868267164638, 'min_child_weight': 4}. Best is trial 14 with value: 0.8158682634730539.\n",
      "[I 2024-12-13 12:05:24,577] Trial 9 finished with value: 0.7874251497005988 and parameters: {'n_estimators': 301, 'max_depth': 6, 'learning_rate': 0.031686580832136726, 'subsample': 0.6317011554193637, 'colsample_bytree': 0.9571694388092047, 'gamma': 0.3307355922372063, 'reg_alpha': 4.729225244651831, 'reg_lambda': 7.414193053806705, 'min_child_weight': 4}. Best is trial 14 with value: 0.8158682634730539.\n",
      "[I 2024-12-13 12:05:31,887] Trial 18 finished with value: 0.8368263473053892 and parameters: {'n_estimators': 260, 'max_depth': 10, 'learning_rate': 0.13528291570603668, 'subsample': 0.8851574440884371, 'colsample_bytree': 0.8814946782398769, 'gamma': 1.9720830531418976, 'reg_alpha': 8.555789875204049, 'reg_lambda': 4.209005946782031, 'min_child_weight': 11}. Best is trial 18 with value: 0.8368263473053892.\n",
      "[I 2024-12-13 12:05:35,324] Trial 20 finished with value: 0.8173652694610778 and parameters: {'n_estimators': 124, 'max_depth': 10, 'learning_rate': 0.10839581562854034, 'subsample': 0.6896765690268523, 'colsample_bytree': 0.8971511071407487, 'gamma': 3.7973999970705767, 'reg_alpha': 3.8549410003580595, 'reg_lambda': 3.715962225476872, 'min_child_weight': 17}. Best is trial 18 with value: 0.8368263473053892.\n",
      "[I 2024-12-13 12:05:37,071] Trial 15 finished with value: 0.7559880239520959 and parameters: {'n_estimators': 378, 'max_depth': 5, 'learning_rate': 0.02508750941458485, 'subsample': 0.9354950143630651, 'colsample_bytree': 0.616787539073839, 'gamma': 3.9624198316563044, 'reg_alpha': 6.94996689219356, 'reg_lambda': 2.076621478388007, 'min_child_weight': 10}. Best is trial 18 with value: 0.8368263473053892.\n",
      "[I 2024-12-13 12:05:46,752] Trial 22 finished with value: 0.7529940119760479 and parameters: {'n_estimators': 127, 'max_depth': 5, 'learning_rate': 0.04726318676946489, 'subsample': 0.6924903810031691, 'colsample_bytree': 0.8235426120099867, 'gamma': 3.4473909977196877, 'reg_alpha': 0.04615709378501198, 'reg_lambda': 4.774161731540504, 'min_child_weight': 6}. Best is trial 18 with value: 0.8368263473053892.\n",
      "[I 2024-12-13 12:05:58,772] Trial 24 finished with value: 0.781437125748503 and parameters: {'n_estimators': 92, 'max_depth': 8, 'learning_rate': 0.027820373606891373, 'subsample': 0.9254970757887482, 'colsample_bytree': 0.7221556827532724, 'gamma': 0.7203403469368219, 'reg_alpha': 0.3824552060675357, 'reg_lambda': 5.924176355537823, 'min_child_weight': 2}. Best is trial 18 with value: 0.8368263473053892.\n",
      "[I 2024-12-13 12:06:08,828] Trial 21 finished with value: 0.875748502994012 and parameters: {'n_estimators': 168, 'max_depth': 8, 'learning_rate': 0.13743190917674664, 'subsample': 0.796111725132154, 'colsample_bytree': 0.9564427974505751, 'gamma': 0.4996462938805718, 'reg_alpha': 1.7516843642151225, 'reg_lambda': 3.288001000638853, 'min_child_weight': 3}. Best is trial 21 with value: 0.875748502994012.\n",
      "[I 2024-12-13 12:06:13,436] Trial 4 finished with value: 0.7634730538922155 and parameters: {'n_estimators': 351, 'max_depth': 7, 'learning_rate': 0.011617978611556397, 'subsample': 0.983948102539864, 'colsample_bytree': 0.7357284612209696, 'gamma': 1.7065215106945553, 'reg_alpha': 5.948240124033014, 'reg_lambda': 7.1893968894759155, 'min_child_weight': 13}. Best is trial 21 with value: 0.875748502994012.\n",
      "[I 2024-12-13 12:06:16,031] Trial 16 finished with value: 0.8383233532934131 and parameters: {'n_estimators': 245, 'max_depth': 10, 'learning_rate': 0.08482730484381347, 'subsample': 0.7216899541614126, 'colsample_bytree': 0.6742455425396527, 'gamma': 1.6673302433411374, 'reg_alpha': 7.126301921632474, 'reg_lambda': 4.338859871811669, 'min_child_weight': 10}. Best is trial 21 with value: 0.875748502994012.\n",
      "[I 2024-12-13 12:06:42,704] Trial 23 finished with value: 0.8053892215568862 and parameters: {'n_estimators': 164, 'max_depth': 9, 'learning_rate': 0.040114691470936936, 'subsample': 0.8919337256182194, 'colsample_bytree': 0.6963313528649115, 'gamma': 4.391768054363237, 'reg_alpha': 0.4992985805670691, 'reg_lambda': 8.487719058113308, 'min_child_weight': 4}. Best is trial 21 with value: 0.875748502994012.\n",
      "[I 2024-12-13 12:06:45,072] Trial 11 finished with value: 0.811377245508982 and parameters: {'n_estimators': 399, 'max_depth': 8, 'learning_rate': 0.023157268650245526, 'subsample': 0.688117894897782, 'colsample_bytree': 0.927213103993989, 'gamma': 1.783694911211915, 'reg_alpha': 7.126576285757603, 'reg_lambda': 7.908914842000911, 'min_child_weight': 4}. Best is trial 21 with value: 0.875748502994012.\n",
      "[I 2024-12-13 12:06:45,410] Trial 28 finished with value: 0.8098802395209581 and parameters: {'n_estimators': 186, 'max_depth': 10, 'learning_rate': 0.09463878376464901, 'subsample': 0.897636763576785, 'colsample_bytree': 0.8902270131232712, 'gamma': 4.679588130370465, 'reg_alpha': 9.979065924192213, 'reg_lambda': 0.20520863822241608, 'min_child_weight': 20}. Best is trial 21 with value: 0.875748502994012.\n",
      "[I 2024-12-13 12:06:48,087] Trial 25 finished with value: 0.842814371257485 and parameters: {'n_estimators': 164, 'max_depth': 10, 'learning_rate': 0.1027689305764584, 'subsample': 0.8345752999195987, 'colsample_bytree': 0.7603776284286525, 'gamma': 0.11635633629732567, 'reg_alpha': 9.711428648238645, 'reg_lambda': 6.390053904131309, 'min_child_weight': 19}. Best is trial 21 with value: 0.875748502994012.\n",
      "[I 2024-12-13 12:06:55,888] Trial 32 finished with value: 0.8338323353293413 and parameters: {'n_estimators': 166, 'max_depth': 10, 'learning_rate': 0.2708481819316564, 'subsample': 0.7596178694596608, 'colsample_bytree': 0.9065801798122929, 'gamma': 2.512618943389716, 'reg_alpha': 9.909126716393546, 'reg_lambda': 0.410894039754476, 'min_child_weight': 20}. Best is trial 21 with value: 0.875748502994012.\n",
      "[I 2024-12-13 12:07:03,990] Trial 30 finished with value: 0.8278443113772455 and parameters: {'n_estimators': 470, 'max_depth': 10, 'learning_rate': 0.2835701326371333, 'subsample': 0.7888538756723489, 'colsample_bytree': 0.8934675979842264, 'gamma': 2.6131192827153416, 'reg_alpha': 9.149853295076717, 'reg_lambda': 0.6592189139830675, 'min_child_weight': 20}. Best is trial 21 with value: 0.875748502994012.\n",
      "[I 2024-12-13 12:07:08,693] Trial 29 finished with value: 0.8293413173652695 and parameters: {'n_estimators': 486, 'max_depth': 10, 'learning_rate': 0.2396858486253644, 'subsample': 0.7854627496413245, 'colsample_bytree': 0.897710238784899, 'gamma': 2.5223468596728305, 'reg_alpha': 9.807066698911433, 'reg_lambda': 0.9749193658638546, 'min_child_weight': 18}. Best is trial 21 with value: 0.875748502994012.\n",
      "[I 2024-12-13 12:07:10,688] Trial 13 finished with value: 0.8038922155688623 and parameters: {'n_estimators': 414, 'max_depth': 9, 'learning_rate': 0.01937719547497065, 'subsample': 0.8620125970858883, 'colsample_bytree': 0.8196921994617965, 'gamma': 4.1846305725622175, 'reg_alpha': 4.275610570400804, 'reg_lambda': 8.961409650321857, 'min_child_weight': 17}. Best is trial 21 with value: 0.875748502994012.\n",
      "[I 2024-12-13 12:07:12,942] Trial 31 finished with value: 0.8248502994011976 and parameters: {'n_estimators': 488, 'max_depth': 10, 'learning_rate': 0.2946693358446951, 'subsample': 0.7852458497438838, 'colsample_bytree': 0.8974138019044492, 'gamma': 2.5069339850790047, 'reg_alpha': 9.902453325734667, 'reg_lambda': 0.1980789401596903, 'min_child_weight': 20}. Best is trial 21 with value: 0.875748502994012.\n",
      "[I 2024-12-13 12:07:18,524] Trial 17 finished with value: 0.7784431137724551 and parameters: {'n_estimators': 489, 'max_depth': 7, 'learning_rate': 0.010593898111739795, 'subsample': 0.7832135240477032, 'colsample_bytree': 0.8343422573303896, 'gamma': 0.2901247958789305, 'reg_alpha': 7.98506658709101, 'reg_lambda': 4.553614917115968, 'min_child_weight': 8}. Best is trial 21 with value: 0.875748502994012.\n",
      "[I 2024-12-13 12:07:26,675] Trial 33 finished with value: 0.8158682634730539 and parameters: {'n_estimators': 497, 'max_depth': 9, 'learning_rate': 0.2858401415098595, 'subsample': 0.8008586254478542, 'colsample_bytree': 0.9133303323816723, 'gamma': 2.5367928154197794, 'reg_alpha': 9.982915444285291, 'reg_lambda': 0.028003105470661538, 'min_child_weight': 8}. Best is trial 21 with value: 0.875748502994012.\n",
      "[I 2024-12-13 12:07:40,058] Trial 34 finished with value: 0.8308383233532934 and parameters: {'n_estimators': 479, 'max_depth': 9, 'learning_rate': 0.24400162413839088, 'subsample': 0.7986146820771862, 'colsample_bytree': 0.9057519970963834, 'gamma': 2.393837003466479, 'reg_alpha': 9.658838085017742, 'reg_lambda': 1.133125337801963, 'min_child_weight': 8}. Best is trial 21 with value: 0.875748502994012.\n",
      "[I 2024-12-13 12:07:46,554] Trial 38 finished with value: 0.8158682634730539 and parameters: {'n_estimators': 241, 'max_depth': 9, 'learning_rate': 0.298079955543588, 'subsample': 0.7855567568080688, 'colsample_bytree': 0.9334736588165236, 'gamma': 2.6937082874492697, 'reg_alpha': 8.914173813844805, 'reg_lambda': 3.370674832587796, 'min_child_weight': 9}. Best is trial 21 with value: 0.875748502994012.\n",
      "[I 2024-12-13 12:07:53,497] Trial 37 finished with value: 0.8293413173652695 and parameters: {'n_estimators': 236, 'max_depth': 9, 'learning_rate': 0.24246580345300855, 'subsample': 0.7949095144491392, 'colsample_bytree': 0.8992801563782067, 'gamma': 2.596008975968972, 'reg_alpha': 9.999270267134042, 'reg_lambda': 0.0668916075388859, 'min_child_weight': 9}. Best is trial 21 with value: 0.875748502994012.\n",
      "[I 2024-12-13 12:08:08,767] Trial 0 finished with value: 0.8173652694610778 and parameters: {'n_estimators': 473, 'max_depth': 10, 'learning_rate': 0.02014659786387532, 'subsample': 0.6478687711280423, 'colsample_bytree': 0.9291076590929848, 'gamma': 2.6494864676916245, 'reg_alpha': 4.076641788734996, 'reg_lambda': 2.161393388141729, 'min_child_weight': 20}. Best is trial 21 with value: 0.875748502994012.\n",
      "[I 2024-12-13 12:08:17,876] Trial 36 finished with value: 0.8278443113772455 and parameters: {'n_estimators': 498, 'max_depth': 9, 'learning_rate': 0.295779069423096, 'subsample': 0.7834374981191435, 'colsample_bytree': 0.9118021518866373, 'gamma': 2.4437224054036863, 'reg_alpha': 9.971122194856896, 'reg_lambda': 0.2864354795666664, 'min_child_weight': 20}. Best is trial 21 with value: 0.875748502994012.\n",
      "[I 2024-12-13 12:08:53,467] Trial 27 finished with value: 0.875748502994012 and parameters: {'n_estimators': 457, 'max_depth': 10, 'learning_rate': 0.12682027003301688, 'subsample': 0.8023111224955883, 'colsample_bytree': 0.6024666505367511, 'gamma': 0.5990318567337445, 'reg_alpha': 9.19163839649141, 'reg_lambda': 2.723302631376539, 'min_child_weight': 20}. Best is trial 21 with value: 0.875748502994012.\n",
      "[I 2024-12-13 12:09:00,759] Trial 43 finished with value: 0.8562874251497006 and parameters: {'n_estimators': 215, 'max_depth': 9, 'learning_rate': 0.07050594837982652, 'subsample': 0.8171762206547779, 'colsample_bytree': 0.7721409928356745, 'gamma': 0.009682938562789178, 'reg_alpha': 3.0003723135881604, 'reg_lambda': 6.432676325902381, 'min_child_weight': 9}. Best is trial 21 with value: 0.875748502994012.\n",
      "[I 2024-12-13 12:09:01,131] Trial 46 finished with value: 0.8473053892215568 and parameters: {'n_estimators': 245, 'max_depth': 9, 'learning_rate': 0.1618617461499255, 'subsample': 0.8116247822278239, 'colsample_bytree': 0.7597297429105413, 'gamma': 0.8054123392931241, 'reg_alpha': 8.517344866811989, 'reg_lambda': 3.2639067396966537, 'min_child_weight': 1}. Best is trial 21 with value: 0.875748502994012.\n",
      "[I 2024-12-13 12:09:02,615] Trial 42 finished with value: 0.8622754491017964 and parameters: {'n_estimators': 225, 'max_depth': 9, 'learning_rate': 0.07199817339066153, 'subsample': 0.8196605602818621, 'colsample_bytree': 0.7837214617633272, 'gamma': 0.12519286061363338, 'reg_alpha': 3.025042748556956, 'reg_lambda': 6.468086008565659, 'min_child_weight': 9}. Best is trial 21 with value: 0.875748502994012.\n",
      "[I 2024-12-13 12:09:03,883] Trial 44 finished with value: 0.8517964071856288 and parameters: {'n_estimators': 220, 'max_depth': 9, 'learning_rate': 0.07340667304825686, 'subsample': 0.813853232041458, 'colsample_bytree': 0.6621031971991591, 'gamma': 0.0771652579234412, 'reg_alpha': 8.306005488711554, 'reg_lambda': 6.610483146762607, 'min_child_weight': 9}. Best is trial 21 with value: 0.875748502994012.\n",
      "[I 2024-12-13 12:09:03,988] Trial 41 finished with value: 0.8607784431137725 and parameters: {'n_estimators': 220, 'max_depth': 9, 'learning_rate': 0.07075780473500348, 'subsample': 0.8165030705876783, 'colsample_bytree': 0.77941004082097, 'gamma': 0.036584910902551115, 'reg_alpha': 8.989062715933713, 'reg_lambda': 6.588880874012421, 'min_child_weight': 8}. Best is trial 21 with value: 0.875748502994012.\n",
      "[I 2024-12-13 12:09:08,429] Trial 45 finished with value: 0.8517964071856288 and parameters: {'n_estimators': 227, 'max_depth': 9, 'learning_rate': 0.07293450094914229, 'subsample': 0.8228559584658497, 'colsample_bytree': 0.6680952071243186, 'gamma': 0.0008508749861211307, 'reg_alpha': 8.655480561844483, 'reg_lambda': 6.498931636731678, 'min_child_weight': 1}. Best is trial 21 with value: 0.875748502994012.\n",
      "[I 2024-12-13 12:09:08,639] Trial 47 finished with value: 0.8562874251497006 and parameters: {'n_estimators': 250, 'max_depth': 8, 'learning_rate': 0.1654543162693573, 'subsample': 0.8310444958888108, 'colsample_bytree': 0.9956489989348986, 'gamma': 0.8311278019991272, 'reg_alpha': 8.504699668578235, 'reg_lambda': 3.6383444372471416, 'min_child_weight': 1}. Best is trial 21 with value: 0.875748502994012.\n",
      "[I 2024-12-13 12:09:16,394] Trial 48 finished with value: 0.8817365269461078 and parameters: {'n_estimators': 263, 'max_depth': 8, 'learning_rate': 0.17139402363342052, 'subsample': 0.8214113533450407, 'colsample_bytree': 0.7892220569924444, 'gamma': 0.06249853088299839, 'reg_alpha': 8.697629534082402, 'reg_lambda': 6.180661735918018, 'min_child_weight': 14}. Best is trial 48 with value: 0.8817365269461078.\n",
      "[I 2024-12-13 12:09:17,011] Trial 39 finished with value: 0.8802395209580839 and parameters: {'n_estimators': 468, 'max_depth': 9, 'learning_rate': 0.2925137072729434, 'subsample': 0.7974364548115421, 'colsample_bytree': 0.8036672229812183, 'gamma': 0.04281882689087707, 'reg_alpha': 9.655551141483228, 'reg_lambda': 6.491206172031404, 'min_child_weight': 9}. Best is trial 48 with value: 0.8817365269461078.\n",
      "[I 2024-12-13 12:09:18,244] Trial 49 finished with value: 0.8772455089820359 and parameters: {'n_estimators': 267, 'max_depth': 8, 'learning_rate': 0.15880365504324503, 'subsample': 0.8303606838090757, 'colsample_bytree': 0.7717667015759972, 'gamma': 0.08884169860606084, 'reg_alpha': 8.97779371886697, 'reg_lambda': 6.004007736184004, 'min_child_weight': 15}. Best is trial 48 with value: 0.8817365269461078.\n",
      "[I 2024-12-13 12:09:18,343] Trial 35 finished with value: 0.8907185628742516 and parameters: {'n_estimators': 444, 'max_depth': 9, 'learning_rate': 0.28880210402606993, 'subsample': 0.786196376613502, 'colsample_bytree': 0.9186882997894996, 'gamma': 0.013060996646414469, 'reg_alpha': 2.368817328962409, 'reg_lambda': 0.6171565739180114, 'min_child_weight': 8}. Best is trial 35 with value: 0.8907185628742516.\n",
      "[I 2024-12-13 12:09:18,952] Trial 26 finished with value: 0.8772455089820359 and parameters: {'n_estimators': 490, 'max_depth': 10, 'learning_rate': 0.1343965080278687, 'subsample': 0.620024000299562, 'colsample_bytree': 0.6324233698645028, 'gamma': 0.028726313126146596, 'reg_alpha': 9.944852292544978, 'reg_lambda': 0.28485398213048985, 'min_child_weight': 7}. Best is trial 35 with value: 0.8907185628742516.\n",
      "[I 2024-12-13 12:09:24,296] Trial 40 finished with value: 0.8922155688622755 and parameters: {'n_estimators': 495, 'max_depth': 9, 'learning_rate': 0.07513291174284646, 'subsample': 0.8103606987549683, 'colsample_bytree': 0.7897168158886071, 'gamma': 0.2932845334464851, 'reg_alpha': 8.968869453424377, 'reg_lambda': 6.468487200733069, 'min_child_weight': 8}. Best is trial 40 with value: 0.8922155688622755.\n"
     ]
    },
    {
     "name": "stdout",
     "output_type": "stream",
     "text": [
      "Best trial parameters: {'n_estimators': 495, 'max_depth': 9, 'learning_rate': 0.07513291174284646, 'subsample': 0.8103606987549683, 'colsample_bytree': 0.7897168158886071, 'gamma': 0.2932845334464851, 'reg_alpha': 8.968869453424377, 'reg_lambda': 6.468487200733069, 'min_child_weight': 8}\n",
      "Best trial accuracy: 0.8922155688622755\n"
     ]
    }
   ],
   "source": [
    "import optuna\n",
    "from xgboost import XGBClassifier\n",
    "from sklearn.model_selection import train_test_split, cross_val_score\n",
    "from sklearn.metrics import accuracy_score\n",
    "from sklearn.datasets import load_iris  # Reemplaza con tu dataset\n",
    "from sklearn.preprocessing import LabelEncoder\n",
    "\n",
    "label_encoder = LabelEncoder()\n",
    "y_encoded = label_encoder.fit_transform(y)\n",
    "y_val_encoded = label_encoder.fit_transform(y_val)\n",
    "\n",
    "# Crear el clasificador XGBoos\n",
    "\n",
    "# Entrenar el modelo\n",
    "\n",
    "\n",
    "# Define la función objetivo\n",
    "def objective(trial):\n",
    "    \n",
    "    \n",
    "    # Define los rangos para los hiperparámetros\n",
    "    param_grid = {\n",
    "        \"n_estimators\": trial.suggest_int(\"n_estimators\", 50, 500),\n",
    "        \"max_depth\": trial.suggest_int(\"max_depth\", 3, 10),\n",
    "        \"learning_rate\": trial.suggest_float(\"learning_rate\", 0.01, 0.3, log=True),\n",
    "        \"subsample\": trial.suggest_float(\"subsample\", 0.6, 1.0),\n",
    "        \"colsample_bytree\": trial.suggest_float(\"colsample_bytree\", 0.6, 1.0),\n",
    "        \"gamma\": trial.suggest_float(\"gamma\", 0, 5),\n",
    "        \"reg_alpha\": trial.suggest_float(\"reg_alpha\", 0, 10),\n",
    "        \"reg_lambda\": trial.suggest_float(\"reg_lambda\", 0, 10),\n",
    "        \"min_child_weight\": trial.suggest_int(\"min_child_weight\", 1, 20),\n",
    "        \"n_jobs\": -1\n",
    "    }\n",
    "\n",
    "    # Entrena el modelo\n",
    "    model = XGBClassifier(**param_grid, eval_metric=\"logloss\")\n",
    "    model.fit(embedding_list, y_encoded)\n",
    "\n",
    "    # Evalúa el modelo\n",
    "    preds = model.predict(np.array(list(testembeddings.values())).reshape(-1, 384))\n",
    "    accuracy = accuracy_score(y_val_encoded, preds)\n",
    "\n",
    "    return accuracy  # Optuna maximiza esta métrica\n",
    "\n",
    "# Configura el estudio\n",
    "study = optuna.create_study(direction=\"maximize\")\n",
    "study.optimize(objective, n_trials=50, n_jobs=-1)  # Ajusta n_trials según el tiempo disponible\n",
    "\n",
    "# Resultados\n",
    "print(\"Best trial parameters:\", study.best_params)\n",
    "print(\"Best trial accuracy:\", study.best_value)\n",
    "\n"
   ]
  },
  {
   "cell_type": "code",
   "execution_count": null,
   "metadata": {},
   "outputs": [],
   "source": []
  },
  {
   "cell_type": "code",
   "execution_count": 18,
   "metadata": {},
   "outputs": [
    {
     "data": {
      "text/html": [
       "<style>#sk-container-id-3 {color: black;background-color: white;}#sk-container-id-3 pre{padding: 0;}#sk-container-id-3 div.sk-toggleable {background-color: white;}#sk-container-id-3 label.sk-toggleable__label {cursor: pointer;display: block;width: 100%;margin-bottom: 0;padding: 0.3em;box-sizing: border-box;text-align: center;}#sk-container-id-3 label.sk-toggleable__label-arrow:before {content: \"▸\";float: left;margin-right: 0.25em;color: #696969;}#sk-container-id-3 label.sk-toggleable__label-arrow:hover:before {color: black;}#sk-container-id-3 div.sk-estimator:hover label.sk-toggleable__label-arrow:before {color: black;}#sk-container-id-3 div.sk-toggleable__content {max-height: 0;max-width: 0;overflow: hidden;text-align: left;background-color: #f0f8ff;}#sk-container-id-3 div.sk-toggleable__content pre {margin: 0.2em;color: black;border-radius: 0.25em;background-color: #f0f8ff;}#sk-container-id-3 input.sk-toggleable__control:checked~div.sk-toggleable__content {max-height: 200px;max-width: 100%;overflow: auto;}#sk-container-id-3 input.sk-toggleable__control:checked~label.sk-toggleable__label-arrow:before {content: \"▾\";}#sk-container-id-3 div.sk-estimator input.sk-toggleable__control:checked~label.sk-toggleable__label {background-color: #d4ebff;}#sk-container-id-3 div.sk-label input.sk-toggleable__control:checked~label.sk-toggleable__label {background-color: #d4ebff;}#sk-container-id-3 input.sk-hidden--visually {border: 0;clip: rect(1px 1px 1px 1px);clip: rect(1px, 1px, 1px, 1px);height: 1px;margin: -1px;overflow: hidden;padding: 0;position: absolute;width: 1px;}#sk-container-id-3 div.sk-estimator {font-family: monospace;background-color: #f0f8ff;border: 1px dotted black;border-radius: 0.25em;box-sizing: border-box;margin-bottom: 0.5em;}#sk-container-id-3 div.sk-estimator:hover {background-color: #d4ebff;}#sk-container-id-3 div.sk-parallel-item::after {content: \"\";width: 100%;border-bottom: 1px solid gray;flex-grow: 1;}#sk-container-id-3 div.sk-label:hover label.sk-toggleable__label {background-color: #d4ebff;}#sk-container-id-3 div.sk-serial::before {content: \"\";position: absolute;border-left: 1px solid gray;box-sizing: border-box;top: 0;bottom: 0;left: 50%;z-index: 0;}#sk-container-id-3 div.sk-serial {display: flex;flex-direction: column;align-items: center;background-color: white;padding-right: 0.2em;padding-left: 0.2em;position: relative;}#sk-container-id-3 div.sk-item {position: relative;z-index: 1;}#sk-container-id-3 div.sk-parallel {display: flex;align-items: stretch;justify-content: center;background-color: white;position: relative;}#sk-container-id-3 div.sk-item::before, #sk-container-id-3 div.sk-parallel-item::before {content: \"\";position: absolute;border-left: 1px solid gray;box-sizing: border-box;top: 0;bottom: 0;left: 50%;z-index: -1;}#sk-container-id-3 div.sk-parallel-item {display: flex;flex-direction: column;z-index: 1;position: relative;background-color: white;}#sk-container-id-3 div.sk-parallel-item:first-child::after {align-self: flex-end;width: 50%;}#sk-container-id-3 div.sk-parallel-item:last-child::after {align-self: flex-start;width: 50%;}#sk-container-id-3 div.sk-parallel-item:only-child::after {width: 0;}#sk-container-id-3 div.sk-dashed-wrapped {border: 1px dashed gray;margin: 0 0.4em 0.5em 0.4em;box-sizing: border-box;padding-bottom: 0.4em;background-color: white;}#sk-container-id-3 div.sk-label label {font-family: monospace;font-weight: bold;display: inline-block;line-height: 1.2em;}#sk-container-id-3 div.sk-label-container {text-align: center;}#sk-container-id-3 div.sk-container {/* jupyter's `normalize.less` sets `[hidden] { display: none; }` but bootstrap.min.css set `[hidden] { display: none !important; }` so we also need the `!important` here to be able to override the default hidden behavior on the sphinx rendered scikit-learn.org. See: https://github.com/scikit-learn/scikit-learn/issues/21755 */display: inline-block !important;position: relative;}#sk-container-id-3 div.sk-text-repr-fallback {display: none;}</style><div id=\"sk-container-id-3\" class=\"sk-top-container\"><div class=\"sk-text-repr-fallback\"><pre>XGBClassifier(base_score=None, booster=None, callbacks=None,\n",
       "              colsample_bylevel=None, colsample_bynode=None,\n",
       "              colsample_bytree=0.7897168158886071, device=None,\n",
       "              early_stopping_rounds=None, enable_categorical=False,\n",
       "              eval_metric=None, feature_types=None, gamma=0.2932845334464851,\n",
       "              grow_policy=None, importance_type=None,\n",
       "              interaction_constraints=None, learning_rate=0.07513291174284646,\n",
       "              max_bin=None, max_cat_threshold=None, max_cat_to_onehot=None,\n",
       "              max_delta_step=None, max_depth=9, max_leaves=None,\n",
       "              min_child_weight=8, missing=nan, monotone_constraints=None,\n",
       "              multi_strategy=None, n_estimators=495, n_jobs=None,\n",
       "              num_parallel_tree=None, objective=&#x27;multi:softprob&#x27;, ...)</pre><b>In a Jupyter environment, please rerun this cell to show the HTML representation or trust the notebook. <br />On GitHub, the HTML representation is unable to render, please try loading this page with nbviewer.org.</b></div><div class=\"sk-container\" hidden><div class=\"sk-item\"><div class=\"sk-estimator sk-toggleable\"><input class=\"sk-toggleable__control sk-hidden--visually\" id=\"sk-estimator-id-3\" type=\"checkbox\" checked><label for=\"sk-estimator-id-3\" class=\"sk-toggleable__label sk-toggleable__label-arrow\">XGBClassifier</label><div class=\"sk-toggleable__content\"><pre>XGBClassifier(base_score=None, booster=None, callbacks=None,\n",
       "              colsample_bylevel=None, colsample_bynode=None,\n",
       "              colsample_bytree=0.7897168158886071, device=None,\n",
       "              early_stopping_rounds=None, enable_categorical=False,\n",
       "              eval_metric=None, feature_types=None, gamma=0.2932845334464851,\n",
       "              grow_policy=None, importance_type=None,\n",
       "              interaction_constraints=None, learning_rate=0.07513291174284646,\n",
       "              max_bin=None, max_cat_threshold=None, max_cat_to_onehot=None,\n",
       "              max_delta_step=None, max_depth=9, max_leaves=None,\n",
       "              min_child_weight=8, missing=nan, monotone_constraints=None,\n",
       "              multi_strategy=None, n_estimators=495, n_jobs=None,\n",
       "              num_parallel_tree=None, objective=&#x27;multi:softprob&#x27;, ...)</pre></div></div></div></div></div>"
      ],
      "text/plain": [
       "XGBClassifier(base_score=None, booster=None, callbacks=None,\n",
       "              colsample_bylevel=None, colsample_bynode=None,\n",
       "              colsample_bytree=0.7897168158886071, device=None,\n",
       "              early_stopping_rounds=None, enable_categorical=False,\n",
       "              eval_metric=None, feature_types=None, gamma=0.2932845334464851,\n",
       "              grow_policy=None, importance_type=None,\n",
       "              interaction_constraints=None, learning_rate=0.07513291174284646,\n",
       "              max_bin=None, max_cat_threshold=None, max_cat_to_onehot=None,\n",
       "              max_delta_step=None, max_depth=9, max_leaves=None,\n",
       "              min_child_weight=8, missing=nan, monotone_constraints=None,\n",
       "              multi_strategy=None, n_estimators=495, n_jobs=None,\n",
       "              num_parallel_tree=None, objective='multi:softprob', ...)"
      ]
     },
     "execution_count": 18,
     "metadata": {},
     "output_type": "execute_result"
    }
   ],
   "source": [
    "from xgboost import XGBClassifier\n",
    "from sklearn.model_selection import train_test_split, cross_val_score\n",
    "from sklearn.metrics import accuracy_score\n",
    "from sklearn.datasets import load_iris  # Reemplaza con tu dataset\n",
    "from sklearn.preprocessing import LabelEncoder\n",
    "\n",
    "label_encoder = LabelEncoder()\n",
    "y_encoded = label_encoder.fit_transform(y)\n",
    "\n",
    "\n",
    "model = XGBClassifier(n_estimators=495, \n",
    "                      max_depth=9, \n",
    "                      learning_rate= 0.07513291174284646, \n",
    "                      subsample=0.8103606987549683, \n",
    "                      colsample_bytree = 0.7897168158886071, \n",
    "                      gamma = 0.2932845334464851, \n",
    "                      reg_alpha = 8.968869453424377,\n",
    "                      reg_lambda = 6.468487200733069, \n",
    "                      min_child_weight = 8)\n",
    "\n",
    "model.fit(embedding_list, y_encoded)\n",
    "\n"
   ]
  },
  {
   "cell_type": "code",
   "execution_count": 35,
   "metadata": {},
   "outputs": [
    {
     "name": "stdout",
     "output_type": "stream",
     "text": [
      "Accuracy: 0.6401480111008325\n",
      "Classification Report:\n",
      "               precision    recall  f1-score   support\n",
      "\n",
      "           0       0.69      0.51      0.58       138\n",
      "           1       0.49      0.78      0.60       320\n",
      "           2       0.84      0.60      0.70       590\n",
      "           3       0.36      0.52      0.43        33\n",
      "\n",
      "    accuracy                           0.64      1081\n",
      "   macro avg       0.59      0.60      0.58      1081\n",
      "weighted avg       0.70      0.64      0.65      1081\n",
      "\n"
     ]
    }
   ],
   "source": [
    "y_val_encoded = label_encoder.fit_transform(y_val)\n",
    "y_pred = model.predict(np.array(list(testembeddings.values())).squeeze(1))\n",
    "\n",
    "print(\"Accuracy:\", accuracy_score(y_val_encoded, y_pred))\n",
    "print(\"Classification Report:\\n\", classification_report(y_val_encoded, y_pred))"
   ]
  },
  {
   "cell_type": "code",
   "execution_count": 36,
   "metadata": {},
   "outputs": [
    {
     "data": {
      "image/png": "[encoded data removed]",
      "text/plain": [
       "<Figure size 640x480 with 2 Axes>"
      ]
     },
     "metadata": {},
     "output_type": "display_data"
    }
   ],
   "source": [
    "# Calcular matriz de confusión\n",
    "cm = confusion_matrix(y_val_encoded, y_pred)\n",
    "\n",
    "# Mostrar la matriz de confusión\n",
    "labels_names = ds['train'].features['label'].names  # Nombres de las clases\n",
    "disp = ConfusionMatrixDisplay(confusion_matrix=cm, display_labels=labels_names)\n",
    "disp.plot(cmap=plt.cm.Blues)\n",
    "\n",
    "plt.title(\"Matriz de Confusión\")\n",
    "plt.show()"
   ]
  },
  {
   "cell_type": "code",
   "execution_count": 25,
   "metadata": {},
   "outputs": [
    {
     "data": {
      "text/html": [
       "<style>#sk-container-id-4 {color: black;background-color: white;}#sk-container-id-4 pre{padding: 0;}#sk-container-id-4 div.sk-toggleable {background-color: white;}#sk-container-id-4 label.sk-toggleable__label {cursor: pointer;display: block;width: 100%;margin-bottom: 0;padding: 0.3em;box-sizing: border-box;text-align: center;}#sk-container-id-4 label.sk-toggleable__label-arrow:before {content: \"▸\";float: left;margin-right: 0.25em;color: #696969;}#sk-container-id-4 label.sk-toggleable__label-arrow:hover:before {color: black;}#sk-container-id-4 div.sk-estimator:hover label.sk-toggleable__label-arrow:before {color: black;}#sk-container-id-4 div.sk-toggleable__content {max-height: 0;max-width: 0;overflow: hidden;text-align: left;background-color: #f0f8ff;}#sk-container-id-4 div.sk-toggleable__content pre {margin: 0.2em;color: black;border-radius: 0.25em;background-color: #f0f8ff;}#sk-container-id-4 input.sk-toggleable__control:checked~div.sk-toggleable__content {max-height: 200px;max-width: 100%;overflow: auto;}#sk-container-id-4 input.sk-toggleable__control:checked~label.sk-toggleable__label-arrow:before {content: \"▾\";}#sk-container-id-4 div.sk-estimator input.sk-toggleable__control:checked~label.sk-toggleable__label {background-color: #d4ebff;}#sk-container-id-4 div.sk-label input.sk-toggleable__control:checked~label.sk-toggleable__label {background-color: #d4ebff;}#sk-container-id-4 input.sk-hidden--visually {border: 0;clip: rect(1px 1px 1px 1px);clip: rect(1px, 1px, 1px, 1px);height: 1px;margin: -1px;overflow: hidden;padding: 0;position: absolute;width: 1px;}#sk-container-id-4 div.sk-estimator {font-family: monospace;background-color: #f0f8ff;border: 1px dotted black;border-radius: 0.25em;box-sizing: border-box;margin-bottom: 0.5em;}#sk-container-id-4 div.sk-estimator:hover {background-color: #d4ebff;}#sk-container-id-4 div.sk-parallel-item::after {content: \"\";width: 100%;border-bottom: 1px solid gray;flex-grow: 1;}#sk-container-id-4 div.sk-label:hover label.sk-toggleable__label {background-color: #d4ebff;}#sk-container-id-4 div.sk-serial::before {content: \"\";position: absolute;border-left: 1px solid gray;box-sizing: border-box;top: 0;bottom: 0;left: 50%;z-index: 0;}#sk-container-id-4 div.sk-serial {display: flex;flex-direction: column;align-items: center;background-color: white;padding-right: 0.2em;padding-left: 0.2em;position: relative;}#sk-container-id-4 div.sk-item {position: relative;z-index: 1;}#sk-container-id-4 div.sk-parallel {display: flex;align-items: stretch;justify-content: center;background-color: white;position: relative;}#sk-container-id-4 div.sk-item::before, #sk-container-id-4 div.sk-parallel-item::before {content: \"\";position: absolute;border-left: 1px solid gray;box-sizing: border-box;top: 0;bottom: 0;left: 50%;z-index: -1;}#sk-container-id-4 div.sk-parallel-item {display: flex;flex-direction: column;z-index: 1;position: relative;background-color: white;}#sk-container-id-4 div.sk-parallel-item:first-child::after {align-self: flex-end;width: 50%;}#sk-container-id-4 div.sk-parallel-item:last-child::after {align-self: flex-start;width: 50%;}#sk-container-id-4 div.sk-parallel-item:only-child::after {width: 0;}#sk-container-id-4 div.sk-dashed-wrapped {border: 1px dashed gray;margin: 0 0.4em 0.5em 0.4em;box-sizing: border-box;padding-bottom: 0.4em;background-color: white;}#sk-container-id-4 div.sk-label label {font-family: monospace;font-weight: bold;display: inline-block;line-height: 1.2em;}#sk-container-id-4 div.sk-label-container {text-align: center;}#sk-container-id-4 div.sk-container {/* jupyter's `normalize.less` sets `[hidden] { display: none; }` but bootstrap.min.css set `[hidden] { display: none !important; }` so we also need the `!important` here to be able to override the default hidden behavior on the sphinx rendered scikit-learn.org. See: https://github.com/scikit-learn/scikit-learn/issues/21755 */display: inline-block !important;position: relative;}#sk-container-id-4 div.sk-text-repr-fallback {display: none;}</style><div id=\"sk-container-id-4\" class=\"sk-top-container\"><div class=\"sk-text-repr-fallback\"><pre>KNeighborsClassifier(metric=&#x27;euclidean&#x27;)</pre><b>In a Jupyter environment, please rerun this cell to show the HTML representation or trust the notebook. <br />On GitHub, the HTML representation is unable to render, please try loading this page with nbviewer.org.</b></div><div class=\"sk-container\" hidden><div class=\"sk-item\"><div class=\"sk-estimator sk-toggleable\"><input class=\"sk-toggleable__control sk-hidden--visually\" id=\"sk-estimator-id-4\" type=\"checkbox\" checked><label for=\"sk-estimator-id-4\" class=\"sk-toggleable__label sk-toggleable__label-arrow\">KNeighborsClassifier</label><div class=\"sk-toggleable__content\"><pre>KNeighborsClassifier(metric=&#x27;euclidean&#x27;)</pre></div></div></div></div></div>"
      ],
      "text/plain": [
       "KNeighborsClassifier(metric='euclidean')"
      ]
     },
     "execution_count": 25,
     "metadata": {},
     "output_type": "execute_result"
    }
   ],
   "source": [
    "from sklearn.neighbors import KNeighborsClassifier\n",
    "from sklearn.preprocessing import StandardScaler\n",
    "from sklearn.metrics import classification_report, confusion_matrix, accuracy_score\n",
    "import numpy as np\n",
    "\n",
    "# Normalizar los datos\n",
    "scaler = StandardScaler()\n",
    "X_train = scaler.fit_transform(embedding_list)\n",
    "X_test = scaler.transform(np.array(list(testembeddings.values())).squeeze(1))\n",
    "\n",
    "# Definir el modelo KNN\n",
    "k = 5  # Puedes probar diferentes valores de k\n",
    "knn = KNeighborsClassifier(n_neighbors=k, metric='euclidean')  # Métrica: euclidiana\n",
    "\n",
    "# Entrenar el modelo\n",
    "knn.fit(X_train, y)\n",
    "\n",
    "\n"
   ]
  },
  {
   "cell_type": "code",
   "execution_count": 31,
   "metadata": {},
   "outputs": [
    {
     "name": "stdout",
     "output_type": "stream",
     "text": [
      "^C\n"
     ]
    }
   ],
   "source": [
    "!conda install -c conda-forge openblas\n"
   ]
  },
  {
   "cell_type": "code",
   "execution_count": 30,
   "metadata": {},
   "outputs": [
    {
     "ename": "AttributeError",
     "evalue": "'NoneType' object has no attribute 'split'",
     "output_type": "error",
     "traceback": [
      "\u001b[1;31m---------------------------------------------------------------------------\u001b[0m",
      "\u001b[1;31mAttributeError\u001b[0m                            Traceback (most recent call last)",
      "Cell \u001b[1;32mIn[30], line 2\u001b[0m\n\u001b[0;32m      1\u001b[0m \u001b[38;5;66;03m# Predecir en el conjunto de prueba\u001b[39;00m\n\u001b[1;32m----> 2\u001b[0m y_pred \u001b[38;5;241m=\u001b[39m knn\u001b[38;5;241m.\u001b[39mpredict(X_test)\n\u001b[0;32m      4\u001b[0m \u001b[38;5;66;03m# Evaluar el modelo\u001b[39;00m\n\u001b[0;32m      5\u001b[0m \u001b[38;5;28mprint\u001b[39m(\u001b[38;5;124m\"\u001b[39m\u001b[38;5;124mAccuracy:\u001b[39m\u001b[38;5;124m\"\u001b[39m, accuracy_score(y_val, y_pred))\n",
      "File \u001b[1;32mc:\\ProgramData\\anaconda3\\Lib\\site-packages\\sklearn\\neighbors\\_classification.py:234\u001b[0m, in \u001b[0;36mKNeighborsClassifier.predict\u001b[1;34m(self, X)\u001b[0m\n\u001b[0;32m    218\u001b[0m \u001b[38;5;250m\u001b[39m\u001b[38;5;124;03m\"\"\"Predict the class labels for the provided data.\u001b[39;00m\n\u001b[0;32m    219\u001b[0m \n\u001b[0;32m    220\u001b[0m \u001b[38;5;124;03mParameters\u001b[39;00m\n\u001b[1;32m   (...)\u001b[0m\n\u001b[0;32m    229\u001b[0m \u001b[38;5;124;03m    Class labels for each data sample.\u001b[39;00m\n\u001b[0;32m    230\u001b[0m \u001b[38;5;124;03m\"\"\"\u001b[39;00m\n\u001b[0;32m    231\u001b[0m \u001b[38;5;28;01mif\u001b[39;00m \u001b[38;5;28mself\u001b[39m\u001b[38;5;241m.\u001b[39mweights \u001b[38;5;241m==\u001b[39m \u001b[38;5;124m\"\u001b[39m\u001b[38;5;124muniform\u001b[39m\u001b[38;5;124m\"\u001b[39m:\n\u001b[0;32m    232\u001b[0m     \u001b[38;5;66;03m# In that case, we do not need the distances to perform\u001b[39;00m\n\u001b[0;32m    233\u001b[0m     \u001b[38;5;66;03m# the weighting so we do not compute them.\u001b[39;00m\n\u001b[1;32m--> 234\u001b[0m     neigh_ind \u001b[38;5;241m=\u001b[39m \u001b[38;5;28mself\u001b[39m\u001b[38;5;241m.\u001b[39mkneighbors(X, return_distance\u001b[38;5;241m=\u001b[39m\u001b[38;5;28;01mFalse\u001b[39;00m)\n\u001b[0;32m    235\u001b[0m     neigh_dist \u001b[38;5;241m=\u001b[39m \u001b[38;5;28;01mNone\u001b[39;00m\n\u001b[0;32m    236\u001b[0m \u001b[38;5;28;01melse\u001b[39;00m:\n",
      "File \u001b[1;32mc:\\ProgramData\\anaconda3\\Lib\\site-packages\\sklearn\\neighbors\\_base.py:824\u001b[0m, in \u001b[0;36mKNeighborsMixin.kneighbors\u001b[1;34m(self, X, n_neighbors, return_distance)\u001b[0m\n\u001b[0;32m    817\u001b[0m use_pairwise_distances_reductions \u001b[38;5;241m=\u001b[39m (\n\u001b[0;32m    818\u001b[0m     \u001b[38;5;28mself\u001b[39m\u001b[38;5;241m.\u001b[39m_fit_method \u001b[38;5;241m==\u001b[39m \u001b[38;5;124m\"\u001b[39m\u001b[38;5;124mbrute\u001b[39m\u001b[38;5;124m\"\u001b[39m\n\u001b[0;32m    819\u001b[0m     \u001b[38;5;129;01mand\u001b[39;00m ArgKmin\u001b[38;5;241m.\u001b[39mis_usable_for(\n\u001b[0;32m    820\u001b[0m         X \u001b[38;5;28;01mif\u001b[39;00m X \u001b[38;5;129;01mis\u001b[39;00m \u001b[38;5;129;01mnot\u001b[39;00m \u001b[38;5;28;01mNone\u001b[39;00m \u001b[38;5;28;01melse\u001b[39;00m \u001b[38;5;28mself\u001b[39m\u001b[38;5;241m.\u001b[39m_fit_X, \u001b[38;5;28mself\u001b[39m\u001b[38;5;241m.\u001b[39m_fit_X, \u001b[38;5;28mself\u001b[39m\u001b[38;5;241m.\u001b[39meffective_metric_\n\u001b[0;32m    821\u001b[0m     )\n\u001b[0;32m    822\u001b[0m )\n\u001b[0;32m    823\u001b[0m \u001b[38;5;28;01mif\u001b[39;00m use_pairwise_distances_reductions:\n\u001b[1;32m--> 824\u001b[0m     results \u001b[38;5;241m=\u001b[39m ArgKmin\u001b[38;5;241m.\u001b[39mcompute(\n\u001b[0;32m    825\u001b[0m         X\u001b[38;5;241m=\u001b[39mX,\n\u001b[0;32m    826\u001b[0m         Y\u001b[38;5;241m=\u001b[39m\u001b[38;5;28mself\u001b[39m\u001b[38;5;241m.\u001b[39m_fit_X,\n\u001b[0;32m    827\u001b[0m         k\u001b[38;5;241m=\u001b[39mn_neighbors,\n\u001b[0;32m    828\u001b[0m         metric\u001b[38;5;241m=\u001b[39m\u001b[38;5;28mself\u001b[39m\u001b[38;5;241m.\u001b[39meffective_metric_,\n\u001b[0;32m    829\u001b[0m         metric_kwargs\u001b[38;5;241m=\u001b[39m\u001b[38;5;28mself\u001b[39m\u001b[38;5;241m.\u001b[39meffective_metric_params_,\n\u001b[0;32m    830\u001b[0m         strategy\u001b[38;5;241m=\u001b[39m\u001b[38;5;124m\"\u001b[39m\u001b[38;5;124mauto\u001b[39m\u001b[38;5;124m\"\u001b[39m,\n\u001b[0;32m    831\u001b[0m         return_distance\u001b[38;5;241m=\u001b[39mreturn_distance,\n\u001b[0;32m    832\u001b[0m     )\n\u001b[0;32m    834\u001b[0m \u001b[38;5;28;01melif\u001b[39;00m (\n\u001b[0;32m    835\u001b[0m     \u001b[38;5;28mself\u001b[39m\u001b[38;5;241m.\u001b[39m_fit_method \u001b[38;5;241m==\u001b[39m \u001b[38;5;124m\"\u001b[39m\u001b[38;5;124mbrute\u001b[39m\u001b[38;5;124m\"\u001b[39m \u001b[38;5;129;01mand\u001b[39;00m \u001b[38;5;28mself\u001b[39m\u001b[38;5;241m.\u001b[39mmetric \u001b[38;5;241m==\u001b[39m \u001b[38;5;124m\"\u001b[39m\u001b[38;5;124mprecomputed\u001b[39m\u001b[38;5;124m\"\u001b[39m \u001b[38;5;129;01mand\u001b[39;00m issparse(X)\n\u001b[0;32m    836\u001b[0m ):\n\u001b[0;32m    837\u001b[0m     results \u001b[38;5;241m=\u001b[39m _kneighbors_from_graph(\n\u001b[0;32m    838\u001b[0m         X, n_neighbors\u001b[38;5;241m=\u001b[39mn_neighbors, return_distance\u001b[38;5;241m=\u001b[39mreturn_distance\n\u001b[0;32m    839\u001b[0m     )\n",
      "File \u001b[1;32mc:\\ProgramData\\anaconda3\\Lib\\site-packages\\sklearn\\metrics\\_pairwise_distances_reduction\\_dispatcher.py:277\u001b[0m, in \u001b[0;36mArgKmin.compute\u001b[1;34m(cls, X, Y, k, metric, chunk_size, metric_kwargs, strategy, return_distance)\u001b[0m\n\u001b[0;32m    196\u001b[0m \u001b[38;5;250m\u001b[39m\u001b[38;5;124;03m\"\"\"Compute the argkmin reduction.\u001b[39;00m\n\u001b[0;32m    197\u001b[0m \n\u001b[0;32m    198\u001b[0m \u001b[38;5;124;03mParameters\u001b[39;00m\n\u001b[1;32m   (...)\u001b[0m\n\u001b[0;32m    274\u001b[0m \u001b[38;5;124;03mreturns.\u001b[39;00m\n\u001b[0;32m    275\u001b[0m \u001b[38;5;124;03m\"\"\"\u001b[39;00m\n\u001b[0;32m    276\u001b[0m \u001b[38;5;28;01mif\u001b[39;00m X\u001b[38;5;241m.\u001b[39mdtype \u001b[38;5;241m==\u001b[39m Y\u001b[38;5;241m.\u001b[39mdtype \u001b[38;5;241m==\u001b[39m np\u001b[38;5;241m.\u001b[39mfloat64:\n\u001b[1;32m--> 277\u001b[0m     \u001b[38;5;28;01mreturn\u001b[39;00m ArgKmin64\u001b[38;5;241m.\u001b[39mcompute(\n\u001b[0;32m    278\u001b[0m         X\u001b[38;5;241m=\u001b[39mX,\n\u001b[0;32m    279\u001b[0m         Y\u001b[38;5;241m=\u001b[39mY,\n\u001b[0;32m    280\u001b[0m         k\u001b[38;5;241m=\u001b[39mk,\n\u001b[0;32m    281\u001b[0m         metric\u001b[38;5;241m=\u001b[39mmetric,\n\u001b[0;32m    282\u001b[0m         chunk_size\u001b[38;5;241m=\u001b[39mchunk_size,\n\u001b[0;32m    283\u001b[0m         metric_kwargs\u001b[38;5;241m=\u001b[39mmetric_kwargs,\n\u001b[0;32m    284\u001b[0m         strategy\u001b[38;5;241m=\u001b[39mstrategy,\n\u001b[0;32m    285\u001b[0m         return_distance\u001b[38;5;241m=\u001b[39mreturn_distance,\n\u001b[0;32m    286\u001b[0m     )\n\u001b[0;32m    288\u001b[0m \u001b[38;5;28;01mif\u001b[39;00m X\u001b[38;5;241m.\u001b[39mdtype \u001b[38;5;241m==\u001b[39m Y\u001b[38;5;241m.\u001b[39mdtype \u001b[38;5;241m==\u001b[39m np\u001b[38;5;241m.\u001b[39mfloat32:\n\u001b[0;32m    289\u001b[0m     \u001b[38;5;28;01mreturn\u001b[39;00m ArgKmin32\u001b[38;5;241m.\u001b[39mcompute(\n\u001b[0;32m    290\u001b[0m         X\u001b[38;5;241m=\u001b[39mX,\n\u001b[0;32m    291\u001b[0m         Y\u001b[38;5;241m=\u001b[39mY,\n\u001b[1;32m   (...)\u001b[0m\n\u001b[0;32m    297\u001b[0m         return_distance\u001b[38;5;241m=\u001b[39mreturn_distance,\n\u001b[0;32m    298\u001b[0m     )\n",
      "File \u001b[1;32msklearn\\metrics\\_pairwise_distances_reduction\\_argkmin.pyx:95\u001b[0m, in \u001b[0;36msklearn.metrics._pairwise_distances_reduction._argkmin.ArgKmin64.compute\u001b[1;34m()\u001b[0m\n",
      "File \u001b[1;32mc:\\ProgramData\\anaconda3\\Lib\\site-packages\\sklearn\\utils\\fixes.py:139\u001b[0m, in \u001b[0;36mthreadpool_limits\u001b[1;34m(limits, user_api)\u001b[0m\n\u001b[0;32m    137\u001b[0m     \u001b[38;5;28;01mreturn\u001b[39;00m controller\u001b[38;5;241m.\u001b[39mlimit(limits\u001b[38;5;241m=\u001b[39mlimits, user_api\u001b[38;5;241m=\u001b[39muser_api)\n\u001b[0;32m    138\u001b[0m \u001b[38;5;28;01melse\u001b[39;00m:\n\u001b[1;32m--> 139\u001b[0m     \u001b[38;5;28;01mreturn\u001b[39;00m threadpoolctl\u001b[38;5;241m.\u001b[39mthreadpool_limits(limits\u001b[38;5;241m=\u001b[39mlimits, user_api\u001b[38;5;241m=\u001b[39muser_api)\n",
      "File \u001b[1;32mc:\\ProgramData\\anaconda3\\Lib\\site-packages\\threadpoolctl.py:171\u001b[0m, in \u001b[0;36mthreadpool_limits.__init__\u001b[1;34m(self, limits, user_api)\u001b[0m\n\u001b[0;32m    167\u001b[0m \u001b[38;5;28;01mdef\u001b[39;00m \u001b[38;5;21m__init__\u001b[39m(\u001b[38;5;28mself\u001b[39m, limits\u001b[38;5;241m=\u001b[39m\u001b[38;5;28;01mNone\u001b[39;00m, user_api\u001b[38;5;241m=\u001b[39m\u001b[38;5;28;01mNone\u001b[39;00m):\n\u001b[0;32m    168\u001b[0m     \u001b[38;5;28mself\u001b[39m\u001b[38;5;241m.\u001b[39m_limits, \u001b[38;5;28mself\u001b[39m\u001b[38;5;241m.\u001b[39m_user_api, \u001b[38;5;28mself\u001b[39m\u001b[38;5;241m.\u001b[39m_prefixes \u001b[38;5;241m=\u001b[39m \\\n\u001b[0;32m    169\u001b[0m         \u001b[38;5;28mself\u001b[39m\u001b[38;5;241m.\u001b[39m_check_params(limits, user_api)\n\u001b[1;32m--> 171\u001b[0m     \u001b[38;5;28mself\u001b[39m\u001b[38;5;241m.\u001b[39m_original_info \u001b[38;5;241m=\u001b[39m \u001b[38;5;28mself\u001b[39m\u001b[38;5;241m.\u001b[39m_set_threadpool_limits()\n",
      "File \u001b[1;32mc:\\ProgramData\\anaconda3\\Lib\\site-packages\\threadpoolctl.py:268\u001b[0m, in \u001b[0;36mthreadpool_limits._set_threadpool_limits\u001b[1;34m(self)\u001b[0m\n\u001b[0;32m    265\u001b[0m \u001b[38;5;28;01mif\u001b[39;00m \u001b[38;5;28mself\u001b[39m\u001b[38;5;241m.\u001b[39m_limits \u001b[38;5;129;01mis\u001b[39;00m \u001b[38;5;28;01mNone\u001b[39;00m:\n\u001b[0;32m    266\u001b[0m     \u001b[38;5;28;01mreturn\u001b[39;00m \u001b[38;5;28;01mNone\u001b[39;00m\n\u001b[1;32m--> 268\u001b[0m modules \u001b[38;5;241m=\u001b[39m _ThreadpoolInfo(prefixes\u001b[38;5;241m=\u001b[39m\u001b[38;5;28mself\u001b[39m\u001b[38;5;241m.\u001b[39m_prefixes,\n\u001b[0;32m    269\u001b[0m                           user_api\u001b[38;5;241m=\u001b[39m\u001b[38;5;28mself\u001b[39m\u001b[38;5;241m.\u001b[39m_user_api)\n\u001b[0;32m    270\u001b[0m \u001b[38;5;28;01mfor\u001b[39;00m module \u001b[38;5;129;01min\u001b[39;00m modules:\n\u001b[0;32m    271\u001b[0m     \u001b[38;5;66;03m# self._limits is a dict {key: num_threads} where key is either\u001b[39;00m\n\u001b[0;32m    272\u001b[0m     \u001b[38;5;66;03m# a prefix or a user_api. If a module matches both, the limit\u001b[39;00m\n\u001b[0;32m    273\u001b[0m     \u001b[38;5;66;03m# corresponding to the prefix is chosed.\u001b[39;00m\n\u001b[0;32m    274\u001b[0m     \u001b[38;5;28;01mif\u001b[39;00m module\u001b[38;5;241m.\u001b[39mprefix \u001b[38;5;129;01min\u001b[39;00m \u001b[38;5;28mself\u001b[39m\u001b[38;5;241m.\u001b[39m_limits:\n",
      "File \u001b[1;32mc:\\ProgramData\\anaconda3\\Lib\\site-packages\\threadpoolctl.py:340\u001b[0m, in \u001b[0;36m_ThreadpoolInfo.__init__\u001b[1;34m(self, user_api, prefixes, modules)\u001b[0m\n\u001b[0;32m    337\u001b[0m     \u001b[38;5;28mself\u001b[39m\u001b[38;5;241m.\u001b[39muser_api \u001b[38;5;241m=\u001b[39m [] \u001b[38;5;28;01mif\u001b[39;00m user_api \u001b[38;5;129;01mis\u001b[39;00m \u001b[38;5;28;01mNone\u001b[39;00m \u001b[38;5;28;01melse\u001b[39;00m user_api\n\u001b[0;32m    339\u001b[0m     \u001b[38;5;28mself\u001b[39m\u001b[38;5;241m.\u001b[39mmodules \u001b[38;5;241m=\u001b[39m []\n\u001b[1;32m--> 340\u001b[0m     \u001b[38;5;28mself\u001b[39m\u001b[38;5;241m.\u001b[39m_load_modules()\n\u001b[0;32m    341\u001b[0m     \u001b[38;5;28mself\u001b[39m\u001b[38;5;241m.\u001b[39m_warn_if_incompatible_openmp()\n\u001b[0;32m    342\u001b[0m \u001b[38;5;28;01melse\u001b[39;00m:\n",
      "File \u001b[1;32mc:\\ProgramData\\anaconda3\\Lib\\site-packages\\threadpoolctl.py:373\u001b[0m, in \u001b[0;36m_ThreadpoolInfo._load_modules\u001b[1;34m(self)\u001b[0m\n\u001b[0;32m    371\u001b[0m     \u001b[38;5;28mself\u001b[39m\u001b[38;5;241m.\u001b[39m_find_modules_with_dyld()\n\u001b[0;32m    372\u001b[0m \u001b[38;5;28;01melif\u001b[39;00m sys\u001b[38;5;241m.\u001b[39mplatform \u001b[38;5;241m==\u001b[39m \u001b[38;5;124m\"\u001b[39m\u001b[38;5;124mwin32\u001b[39m\u001b[38;5;124m\"\u001b[39m:\n\u001b[1;32m--> 373\u001b[0m     \u001b[38;5;28mself\u001b[39m\u001b[38;5;241m.\u001b[39m_find_modules_with_enum_process_module_ex()\n\u001b[0;32m    374\u001b[0m \u001b[38;5;28;01melse\u001b[39;00m:\n\u001b[0;32m    375\u001b[0m     \u001b[38;5;28mself\u001b[39m\u001b[38;5;241m.\u001b[39m_find_modules_with_dl_iterate_phdr()\n",
      "File \u001b[1;32mc:\\ProgramData\\anaconda3\\Lib\\site-packages\\threadpoolctl.py:485\u001b[0m, in \u001b[0;36m_ThreadpoolInfo._find_modules_with_enum_process_module_ex\u001b[1;34m(self)\u001b[0m\n\u001b[0;32m    482\u001b[0m         filepath \u001b[38;5;241m=\u001b[39m buf\u001b[38;5;241m.\u001b[39mvalue\n\u001b[0;32m    484\u001b[0m         \u001b[38;5;66;03m# Store the module if it is supported and selected\u001b[39;00m\n\u001b[1;32m--> 485\u001b[0m         \u001b[38;5;28mself\u001b[39m\u001b[38;5;241m.\u001b[39m_make_module_from_path(filepath)\n\u001b[0;32m    486\u001b[0m \u001b[38;5;28;01mfinally\u001b[39;00m:\n\u001b[0;32m    487\u001b[0m     kernel_32\u001b[38;5;241m.\u001b[39mCloseHandle(h_process)\n",
      "File \u001b[1;32mc:\\ProgramData\\anaconda3\\Lib\\site-packages\\threadpoolctl.py:515\u001b[0m, in \u001b[0;36m_ThreadpoolInfo._make_module_from_path\u001b[1;34m(self, filepath)\u001b[0m\n\u001b[0;32m    513\u001b[0m \u001b[38;5;28;01mif\u001b[39;00m prefix \u001b[38;5;129;01min\u001b[39;00m \u001b[38;5;28mself\u001b[39m\u001b[38;5;241m.\u001b[39mprefixes \u001b[38;5;129;01mor\u001b[39;00m user_api \u001b[38;5;129;01min\u001b[39;00m \u001b[38;5;28mself\u001b[39m\u001b[38;5;241m.\u001b[39muser_api:\n\u001b[0;32m    514\u001b[0m     module_class \u001b[38;5;241m=\u001b[39m \u001b[38;5;28mglobals\u001b[39m()[module_class]\n\u001b[1;32m--> 515\u001b[0m     module \u001b[38;5;241m=\u001b[39m module_class(filepath, prefix, user_api, internal_api)\n\u001b[0;32m    516\u001b[0m     \u001b[38;5;28mself\u001b[39m\u001b[38;5;241m.\u001b[39mmodules\u001b[38;5;241m.\u001b[39mappend(module)\n",
      "File \u001b[1;32mc:\\ProgramData\\anaconda3\\Lib\\site-packages\\threadpoolctl.py:606\u001b[0m, in \u001b[0;36m_Module.__init__\u001b[1;34m(self, filepath, prefix, user_api, internal_api)\u001b[0m\n\u001b[0;32m    604\u001b[0m \u001b[38;5;28mself\u001b[39m\u001b[38;5;241m.\u001b[39minternal_api \u001b[38;5;241m=\u001b[39m internal_api\n\u001b[0;32m    605\u001b[0m \u001b[38;5;28mself\u001b[39m\u001b[38;5;241m.\u001b[39m_dynlib \u001b[38;5;241m=\u001b[39m ctypes\u001b[38;5;241m.\u001b[39mCDLL(filepath, mode\u001b[38;5;241m=\u001b[39m_RTLD_NOLOAD)\n\u001b[1;32m--> 606\u001b[0m \u001b[38;5;28mself\u001b[39m\u001b[38;5;241m.\u001b[39mversion \u001b[38;5;241m=\u001b[39m \u001b[38;5;28mself\u001b[39m\u001b[38;5;241m.\u001b[39mget_version()\n\u001b[0;32m    607\u001b[0m \u001b[38;5;28mself\u001b[39m\u001b[38;5;241m.\u001b[39mnum_threads \u001b[38;5;241m=\u001b[39m \u001b[38;5;28mself\u001b[39m\u001b[38;5;241m.\u001b[39mget_num_threads()\n\u001b[0;32m    608\u001b[0m \u001b[38;5;28mself\u001b[39m\u001b[38;5;241m.\u001b[39m_get_extra_info()\n",
      "File \u001b[1;32mc:\\ProgramData\\anaconda3\\Lib\\site-packages\\threadpoolctl.py:646\u001b[0m, in \u001b[0;36m_OpenBLASModule.get_version\u001b[1;34m(self)\u001b[0m\n\u001b[0;32m    643\u001b[0m get_config \u001b[38;5;241m=\u001b[39m \u001b[38;5;28mgetattr\u001b[39m(\u001b[38;5;28mself\u001b[39m\u001b[38;5;241m.\u001b[39m_dynlib, \u001b[38;5;124m\"\u001b[39m\u001b[38;5;124mopenblas_get_config\u001b[39m\u001b[38;5;124m\"\u001b[39m,\n\u001b[0;32m    644\u001b[0m                      \u001b[38;5;28;01mlambda\u001b[39;00m: \u001b[38;5;28;01mNone\u001b[39;00m)\n\u001b[0;32m    645\u001b[0m get_config\u001b[38;5;241m.\u001b[39mrestype \u001b[38;5;241m=\u001b[39m ctypes\u001b[38;5;241m.\u001b[39mc_char_p\n\u001b[1;32m--> 646\u001b[0m config \u001b[38;5;241m=\u001b[39m get_config()\u001b[38;5;241m.\u001b[39msplit()\n\u001b[0;32m    647\u001b[0m \u001b[38;5;28;01mif\u001b[39;00m config[\u001b[38;5;241m0\u001b[39m] \u001b[38;5;241m==\u001b[39m \u001b[38;5;124mb\u001b[39m\u001b[38;5;124m\"\u001b[39m\u001b[38;5;124mOpenBLAS\u001b[39m\u001b[38;5;124m\"\u001b[39m:\n\u001b[0;32m    648\u001b[0m     \u001b[38;5;28;01mreturn\u001b[39;00m config[\u001b[38;5;241m1\u001b[39m]\u001b[38;5;241m.\u001b[39mdecode(\u001b[38;5;124m\"\u001b[39m\u001b[38;5;124mutf-8\u001b[39m\u001b[38;5;124m\"\u001b[39m)\n",
      "\u001b[1;31mAttributeError\u001b[0m: 'NoneType' object has no attribute 'split'"
     ]
    }
   ],
   "source": [
    "# Predecir en el conjunto de prueba\n",
    "y_pred = knn.predict(X_test)\n",
    "\n",
    "# Evaluar el modelo\n",
    "print(\"Accuracy:\", accuracy_score(y_val, y_pred))\n",
    "print(\"Classification Report:\\n\", classification_report(y_val, y_pred))\n",
    "\n",
    "# Matriz de confusión\n",
    "cm = confusion_matrix(y_val, y_pred)\n",
    "disp = ConfusionMatrixDisplay(confusion_matrix=cm, display_labels=label_encoder.classes_)\n",
    "disp.plot(cmap=plt.cm.Blues)\n",
    "plt.title(\"Matriz de Confusión - KNN\")\n",
    "plt.show()"
   ]
  },
  {
   "cell_type": "code",
   "execution_count": 9,
   "metadata": {},
   "outputs": [],
   "source": [
    "import lightgbm as lgb"
   ]
  },
  {
   "cell_type": "code",
   "execution_count": 10,
   "metadata": {},
   "outputs": [],
   "source": [
    "from sklearn.preprocessing import LabelEncoder\n",
    "\n",
    "label_encoder = LabelEncoder()\n",
    "y_encoded = label_encoder.fit_transform(y)\n"
   ]
  },
  {
   "cell_type": "code",
   "execution_count": 13,
   "metadata": {},
   "outputs": [
    {
     "data": {
      "application/vnd.jupyter.widget-view+json": {
       "model_id": "ca47c76606b241cdb28ba47bcd3b4fa4",
       "version_major": 2,
       "version_minor": 0
      },
      "text/plain": [
       "  0%|          | 0/1081 [00:00<?, ?it/s]"
      ]
     },
     "metadata": {},
     "output_type": "display_data"
    }
   ],
   "source": [
    "ROOT_DIR = os.path.join(cwd, \"C:\\Thesis\\DermaUH Challenge - Imágenes Evaluación\")\n",
    "\n",
    "\n",
    "labels = {}\n",
    "\n",
    "for folder in os.listdir(ROOT_DIR):\n",
    "    for file in os.listdir(os.path.join(ROOT_DIR, folder)):\n",
    "        if file.endswith(\".jpg\") or file.endswith(\".png\"):\n",
    "            full_name = os.path.join(ROOT_DIR, folder, file)\n",
    "            labels[full_name] = folder\n",
    "\n",
    "testfiles = labels.keys()\n",
    "testembeddings = compute_embeddings(testfiles)\n",
    "\n",
    "y_val = [labels[file] for file in testfiles]\n"
   ]
  },
  {
   "cell_type": "code",
   "execution_count": 14,
   "metadata": {},
   "outputs": [],
   "source": [
    "train_data = lgb.Dataset(embedding_list, label=y_encoded)\n",
    "valid_data = lgb.Dataset(np.array(list(testembeddings.values())).squeeze(1), label=label_encoder.fit_transform(y_val), reference=train_data)\n",
    "\n",
    "params = {\n",
    "    'objective': 'multiclass',\n",
    "    'num_class': 4,\n",
    "    'metric': 'multi_logloss',\n",
    "    'verbose': 1\n",
    "}\n"
   ]
  },
  {
   "cell_type": "code",
   "execution_count": 15,
   "metadata": {},
   "outputs": [
    {
     "name": "stdout",
     "output_type": "stream",
     "text": [
      "[LightGBM] [Info] Auto-choosing col-wise multi-threading, the overhead of testing was 0.089847 seconds.\n",
      "You can set `force_col_wise=true` to remove the overhead.\n",
      "[LightGBM] [Info] Total Bins 195840\n",
      "[LightGBM] [Info] Number of data points in the train set: 38591, number of used features: 768\n",
      "[LightGBM] [Info] Start training from score -1.362709\n",
      "[LightGBM] [Info] Start training from score -1.385543\n",
      "[LightGBM] [Info] Start training from score -1.363114\n",
      "[LightGBM] [Info] Start training from score -1.435556\n"
     ]
    }
   ],
   "source": [
    "num_rounds = 100\n",
    "model = lgb.train(params,\n",
    "                  train_data,\n",
    "                  num_rounds,\n",
    "                  valid_sets=[valid_data])"
   ]
  },
  {
   "cell_type": "code",
   "execution_count": 21,
   "metadata": {},
   "outputs": [
    {
     "name": "stdout",
     "output_type": "stream",
     "text": [
      "              precision    recall  f1-score   support\n",
      "\n",
      "           0       0.71      0.53      0.61       138\n",
      "           1       0.50      0.78      0.61       320\n",
      "           2       0.85      0.59      0.70       590\n",
      "           3       0.34      0.64      0.45        33\n",
      "\n",
      "    accuracy                           0.64      1081\n",
      "   macro avg       0.60      0.63      0.59      1081\n",
      "weighted avg       0.71      0.64      0.65      1081\n",
      "\n"
     ]
    }
   ],
   "source": [
    "\n",
    "y_pred = model.predict(np.array(list(testembeddings.values())).squeeze(1))\n",
    "y_pred = np.argmax(y_pred, axis=1)\n",
    "# Evaluar el modelo\n",
    "print(classification_report(label_encoder.fit_transform(y_val), y_pred))\n",
    "\n",
    "# Hacer predicciones\n",
    "\n",
    "\n",
    "\n"
   ]
  },
  {
   "cell_type": "code",
   "execution_count": 8,
   "metadata": {},
   "outputs": [
    {
     "name": "stdout",
     "output_type": "stream",
     "text": [
      "Fitting 4 folds for each of 64 candidates, totalling 256 fits\n",
      "[LightGBM] [Info] Auto-choosing col-wise multi-threading, the overhead of testing was 0.087801 seconds.\n",
      "You can set `force_col_wise=true` to remove the overhead.\n",
      "[LightGBM] [Info] Total Bins 195840\n",
      "[LightGBM] [Info] Number of data points in the train set: 38591, number of used features: 768\n",
      "[LightGBM] [Info] Start training from score -1.362709\n",
      "[LightGBM] [Info] Start training from score -1.385543\n",
      "[LightGBM] [Info] Start training from score -1.363114\n",
      "[LightGBM] [Info] Start training from score -1.435556\n",
      "Mejores hiperparámetros: {'colsample_bytree': 1, 'learning_rate': 0.15, 'max_depth': -1, 'min_child_samples': 70, 'n_estimators': 70, 'num_leaves': 70, 'subsample': 0.6}\n",
      "Mejor puntuación: 0.8426576275828623\n",
      "              precision    recall  f1-score   support\n",
      "\n",
      "         bcc       1.00      1.00      1.00      9878\n",
      "         mel       1.00      0.99      0.99      9655\n",
      "      others       0.99      0.99      0.99      9874\n",
      "         scc       1.00      1.00      1.00      9184\n",
      "\n",
      "    accuracy                           1.00     38591\n",
      "   macro avg       1.00      1.00      1.00     38591\n",
      "weighted avg       1.00      1.00      1.00     38591\n",
      "\n"
     ]
    }
   ],
   "source": [
    "import lightgbm as lgb\n",
    "from sklearn.model_selection import GridSearchCV\n",
    "from sklearn.metrics import classification_report\n",
    "\n",
    "# Definir el modelo LightGBM\n",
    "lgbm = lgb.LGBMClassifier()\n",
    "\n",
    "# Definir el espacio de búsqueda para los hiperparámetros de LightGBM\n",
    "param_grid = {\n",
    "    'num_leaves': [50, 70],               # Número de hojas en el árbol\n",
    "    'max_depth': [-1],                  # Profundidad máxima de los árboles\n",
    "    'learning_rate': [0.1, 0.15],         # Tasa de aprendizaje\n",
    "    'n_estimators': [50, 70],        # Número de árboles (estimadores)\n",
    "    'subsample': [0.6, 0.8],               # Fracción de datos a usar para cada árbol\n",
    "    'colsample_bytree': [0.8, 1],       # Fracción de características para cada árbol\n",
    "    'min_child_samples': [50, 70]          # Mínimo número de muestras en una hoja\n",
    "}\n",
    "\n",
    "# Configurar GridSearchCV\n",
    "grid_search = GridSearchCV(\n",
    "    estimator=lgbm,\n",
    "    param_grid=param_grid,\n",
    "    scoring='accuracy',                       # Métrica de evaluación (puedes cambiarla según el problema)\n",
    "    cv=4,                                     # Validación cruzada (5 pliegues en este caso)\n",
    "    verbose=2,\n",
    "    n_jobs=-1                                  # Usar todos los núcleos disponibles\n",
    ")\n",
    "\n",
    "# Ejecutar la búsqueda de hiperparámetros\n",
    "grid_search.fit(embedding_list, y)\n",
    "\n",
    "# Imprimir los mejores hiperparámetros y la puntuación asociada\n",
    "print(\"Mejores hiperparámetros:\", grid_search.best_params_)\n",
    "print(\"Mejor puntuación:\", grid_search.best_score_)\n",
    "\n",
    "# Evaluar en datos de entrenamiento (opcional)\n",
    "y_pred = grid_search.best_estimator_.predict(embedding_list)\n",
    "print(classification_report(y, y_pred))\n"
   ]
  },
  {
   "cell_type": "code",
   "execution_count": 27,
   "metadata": {},
   "outputs": [
    {
     "ename": "NameError",
     "evalue": "name 'accuracy_score' is not defined",
     "output_type": "error",
     "traceback": [
      "\u001b[1;31m---------------------------------------------------------------------------\u001b[0m",
      "\u001b[1;31mNameError\u001b[0m                                 Traceback (most recent call last)",
      "Cell \u001b[1;32mIn[27], line 4\u001b[0m\n\u001b[0;32m      1\u001b[0m y_val_encoded \u001b[38;5;241m=\u001b[39m label_encoder\u001b[38;5;241m.\u001b[39mfit_transform(y_val)\n\u001b[0;32m      2\u001b[0m y_pred \u001b[38;5;241m=\u001b[39m model\u001b[38;5;241m.\u001b[39mpredict(np\u001b[38;5;241m.\u001b[39marray(\u001b[38;5;28mlist\u001b[39m(testembeddings\u001b[38;5;241m.\u001b[39mvalues()))\u001b[38;5;241m.\u001b[39msqueeze(\u001b[38;5;241m1\u001b[39m))\n\u001b[1;32m----> 4\u001b[0m \u001b[38;5;28mprint\u001b[39m(\u001b[38;5;124m\"\u001b[39m\u001b[38;5;124mAccuracy:\u001b[39m\u001b[38;5;124m\"\u001b[39m, accuracy_score(y_val_encoded, y_pred))\n\u001b[0;32m      5\u001b[0m \u001b[38;5;28mprint\u001b[39m(\u001b[38;5;124m\"\u001b[39m\u001b[38;5;124mClassification Report:\u001b[39m\u001b[38;5;130;01m\\n\u001b[39;00m\u001b[38;5;124m\"\u001b[39m, classification_report(y_val_encoded, y_pred))\n",
      "\u001b[1;31mNameError\u001b[0m: name 'accuracy_score' is not defined"
     ]
    }
   ],
   "source": [
    "from sklearn.metrics import classification_report, accuracy_score\n",
    "\n",
    "y_val_encoded = label_encoder.fit_transform(y_val)\n",
    "y_pred = model.predict(np.array(list(testembeddings.values())).squeeze(1))\n",
    "\n",
    "print(\"Accuracy:\", accuracy_score(y_val_encoded, y_pred))\n",
    "print(\"Classification Report:\\n\", classification_report(y_val_encoded, y_pred))"
   ]
  }
 ],
 "metadata": {
  "kernelspec": {
   "display_name": "base",
   "language": "python",
   "name": "python3"
  },
  "language_info": {
   "codemirror_mode": {
    "name": "ipython",
    "version": 3
   },
   "file_extension": ".py",
   "mimetype": "text/x-python",
   "name": "python",
   "nbconvert_exporter": "python",
   "pygments_lexer": "ipython3",
   "version": "3.11.7"
  }
 },
 "nbformat": 4,
 "nbformat_minor": 2
}
