{
 "cells": [
  {
   "cell_type": "code",
   "execution_count": 205,
   "metadata": {},
   "outputs": [],
   "source": [
    "import torch\n",
    "import torch.nn as nn\n",
    "import torch.optim as optim\n",
    "from torch.utils.data import DataLoader\n",
    "import torchvision.transforms as transforms\n",
    "import torchvision.datasets as datasets\n",
    "from datasets import load_dataset\n",
    "from timm import create_model\n",
    "from transformers import ViTImageProcessor\n",
    "from transformers import ViTConfig, ViTModel\n",
    "import evaluate \n",
    "import numpy as np\n"
   ]
  },
  {
   "cell_type": "code",
   "execution_count": 206,
   "metadata": {},
   "outputs": [],
   "source": [
    "from transformers import ViTImageProcessor\n",
    "\n",
    "model_name_or_path = 'google/vit-base-patch16-224-in21k'\n",
    "feature_extractor = ViTImageProcessor.from_pretrained(model_name_or_path, return_tensors='pt')\n"
   ]
  },
  {
   "cell_type": "code",
   "execution_count": 207,
   "metadata": {},
   "outputs": [],
   "source": [
    "# Initializing a ViT vit-base-patch16-224 style configuration\n",
    "configuration = ViTConfig()\n",
    "\n",
    "# Initializing a model (with random weights) from the vit-base-patch16-224 style configuration\n",
    "model = ViTModel(configuration)\n",
    "\n"
   ]
  },
  {
   "cell_type": "code",
   "execution_count": 208,
   "metadata": {},
   "outputs": [],
   "source": [
    "def transform(example_batch):\n",
    "    # Take a list of PIL images and turn them to pixel values\n",
    "    inputs = feature_extractor([x for x in example_batch['image']], return_tensors='pt')\n",
    "\n",
    "    # Don't forget to include the labels!\n",
    "    inputs['labels'] = example_batch['label']\n",
    "    return inputs\n"
   ]
  },
  {
   "cell_type": "code",
   "execution_count": 209,
   "metadata": {},
   "outputs": [
    {
     "data": {
      "application/vnd.jupyter.widget-view+json": {
       "model_id": "0f86f9086f2a4ddf992a45fcd914f022",
       "version_major": 2,
       "version_minor": 0
      },
      "text/plain": [
       "Resolving data files:   0%|          | 0/20959 [00:00<?, ?it/s]"
      ]
     },
     "metadata": {},
     "output_type": "display_data"
    },
    {
     "data": {
      "application/vnd.jupyter.widget-view+json": {
       "model_id": "35ad725015954de0b1ca4698da15516e",
       "version_major": 2,
       "version_minor": 0
      },
      "text/plain": [
       "Resolving data files:   0%|          | 0/668 [00:00<?, ?it/s]"
      ]
     },
     "metadata": {},
     "output_type": "display_data"
    },
    {
     "data": {
      "application/vnd.jupyter.widget-view+json": {
       "model_id": "44c0821657a0441c86162a1d85148953",
       "version_major": 2,
       "version_minor": 0
      },
      "text/plain": [
       "Resolving data files:   0%|          | 0/768 [00:00<?, ?it/s]"
      ]
     },
     "metadata": {},
     "output_type": "display_data"
    }
   ],
   "source": [
    "ds = load_dataset(\"C:/Tesis/DatasetBinario\", num_proc=3)"
   ]
  },
  {
   "cell_type": "code",
   "execution_count": 210,
   "metadata": {},
   "outputs": [
    {
     "name": "stdout",
     "output_type": "stream",
     "text": [
      "2 ClassLabel(names=['Melanoma', 'No Melanoma'], id=None)\n"
     ]
    }
   ],
   "source": [
    "dataset_train = ds['train']\n",
    "dataset_test = ds['test']\n",
    "num_classes = len(set(dataset_train['label']))\n",
    "labels = ds['train'].features['label']\n",
    "print(num_classes, labels)"
   ]
  },
  {
   "cell_type": "code",
   "execution_count": 211,
   "metadata": {},
   "outputs": [],
   "source": [
    "example = feature_extractor(dataset_train[0]['image'], return_tensors = 'pt')"
   ]
  },
  {
   "cell_type": "code",
   "execution_count": 212,
   "metadata": {},
   "outputs": [
    {
     "data": {
      "text/plain": [
       "device(type='cuda')"
      ]
     },
     "execution_count": 212,
     "metadata": {},
     "output_type": "execute_result"
    }
   ],
   "source": [
    "device = torch.device('cuda' if torch.cuda.is_available() else 'cpu')\n",
    "device"
   ]
  },
  {
   "cell_type": "code",
   "execution_count": 213,
   "metadata": {},
   "outputs": [],
   "source": [
    "def preprocess(batch):\n",
    "    inputs = feature_extractor(batch['image'], return_tensors='pt').to(device)\n",
    "    inputs['label'] = batch['label']\n",
    "    return inputs"
   ]
  },
  {
   "cell_type": "code",
   "execution_count": 214,
   "metadata": {},
   "outputs": [],
   "source": [
    "prepared_train = dataset_train.with_transform(preprocess)\n",
    "prepared_test = dataset_test.with_transform(preprocess)"
   ]
  },
  {
   "cell_type": "code",
   "execution_count": 215,
   "metadata": {},
   "outputs": [
    {
     "name": "stdout",
     "output_type": "stream",
     "text": [
      "{'image': Image(mode=None, decode=True, id=None), 'label': ClassLabel(names=['Melanoma', 'No Melanoma'], id=None)}\n"
     ]
    }
   ],
   "source": [
    "print(prepared_train.features)"
   ]
  },
  {
   "cell_type": "code",
   "execution_count": 216,
   "metadata": {},
   "outputs": [],
   "source": [
    "def collate_fn(batch):\n",
    "    return {\n",
    "        'pixel_values': torch.stack([x['pixel_values'] for x in batch]),\n",
    "        'labels': torch.tensor([x['label'] for x in batch])\n",
    "    }\n"
   ]
  },
  {
   "cell_type": "code",
   "execution_count": 217,
   "metadata": {},
   "outputs": [
    {
     "name": "stderr",
     "output_type": "stream",
     "text": [
      "Some weights of ViTForImageClassification were not initialized from the model checkpoint at google/vit-base-patch16-224-in21k and are newly initialized: ['classifier.bias', 'classifier.weight']\n",
      "You should probably TRAIN this model on a down-stream task to be able to use it for predictions and inference.\n"
     ]
    }
   ],
   "source": [
    "from transformers import ViTForImageClassification\n",
    "\n",
    "labels = ds['train'].features['label'].names\n",
    "\n",
    "model = ViTForImageClassification.from_pretrained(\n",
    "    model_name_or_path,\n",
    "    num_labels=len(labels),\n",
    ").to(device)\n"
   ]
  },
  {
   "cell_type": "code",
   "execution_count": 218,
   "metadata": {},
   "outputs": [],
   "source": [
    "metric = evaluate.load(\"accuracy\")"
   ]
  },
  {
   "cell_type": "code",
   "execution_count": 219,
   "metadata": {},
   "outputs": [],
   "source": [
    "def compute_metrics(eval_pred):\n",
    "    logits, labels = eval_pred\n",
    "    predictions = np.argmax(logits, axis=-1)\n",
    "    return metric.compute(predictions=predictions, references=labels)"
   ]
  },
  {
   "cell_type": "code",
   "execution_count": 220,
   "metadata": {},
   "outputs": [],
   "source": [
    "from transformers import TrainingArguments, Trainer\n",
    "\n",
    "\n",
    "training_args = TrainingArguments(\n",
    "    output_dir='./results', \n",
    "    per_device_eval_batch_size=16,\n",
    "    evaluation_strategy=\"steps\",\n",
    "    num_train_epochs=4,\n",
    "    save_steps=1000,\n",
    "    eval_steps=500,\n",
    "    logging_steps=10,\n",
    "    learning_rate=2e-5,\n",
    "    save_total_limit=2,\n",
    "    remove_unused_columns=False,\n",
    "    push_to_hub=False,\n",
    "    load_best_model_at_end=True,\n",
    "    dataloader_pin_memory=False\n",
    "    \n",
    "    )"
   ]
  },
  {
   "cell_type": "code",
   "execution_count": 221,
   "metadata": {},
   "outputs": [
    {
     "name": "stderr",
     "output_type": "stream",
     "text": [
      "C:\\Users\\abadd\\AppData\\Local\\Temp\\ipykernel_24276\\1455688735.py:1: FutureWarning: `tokenizer` is deprecated and will be removed in version 5.0.0 for `Trainer.__init__`. Use `processing_class` instead.\n",
      "  trainer = Trainer(\n"
     ]
    }
   ],
   "source": [
    "trainer = Trainer(\n",
    "    model=model,\n",
    "    args=training_args,\n",
    "    train_dataset= prepared_train,\n",
    "    eval_dataset= prepared_test,\n",
    "    compute_metrics=compute_metrics,\n",
    "    data_collator=collate_fn,\n",
    "    tokenizer=feature_extractor\n",
    ")"
   ]
  },
  {
   "cell_type": "code",
   "execution_count": 222,
   "metadata": {},
   "outputs": [
    {
     "data": {
      "application/vnd.jupyter.widget-view+json": {
       "model_id": "f7bed56cb2a945f6b261968069e7a899",
       "version_major": 2,
       "version_minor": 0
      },
      "text/plain": [
       "  0%|          | 0/10480 [00:00<?, ?it/s]"
      ]
     },
     "metadata": {},
     "output_type": "display_data"
    },
    {
     "name": "stdout",
     "output_type": "stream",
     "text": [
      "{'loss': 0.6905, 'grad_norm': 1.552635669708252, 'learning_rate': 1.9980916030534353e-05, 'epoch': 0.0}\n",
      "{'loss': 0.6801, 'grad_norm': 2.5676097869873047, 'learning_rate': 1.9961832061068704e-05, 'epoch': 0.01}\n",
      "{'loss': 0.6664, 'grad_norm': 2.0010132789611816, 'learning_rate': 1.9942748091603055e-05, 'epoch': 0.01}\n",
      "{'loss': 0.6459, 'grad_norm': 2.212742567062378, 'learning_rate': 1.9923664122137406e-05, 'epoch': 0.02}\n",
      "{'loss': 0.6522, 'grad_norm': 2.185227155685425, 'learning_rate': 1.9904580152671757e-05, 'epoch': 0.02}\n",
      "{'loss': 0.6228, 'grad_norm': 1.8474783897399902, 'learning_rate': 1.988549618320611e-05, 'epoch': 0.02}\n",
      "{'loss': 0.6154, 'grad_norm': 2.6391870975494385, 'learning_rate': 1.986641221374046e-05, 'epoch': 0.03}\n",
      "{'loss': 0.5935, 'grad_norm': 2.31415057182312, 'learning_rate': 1.984732824427481e-05, 'epoch': 0.03}\n",
      "{'loss': 0.6021, 'grad_norm': 2.0074756145477295, 'learning_rate': 1.9828244274809162e-05, 'epoch': 0.03}\n",
      "{'loss': 0.5949, 'grad_norm': 3.152873992919922, 'learning_rate': 1.9809160305343513e-05, 'epoch': 0.04}\n",
      "{'loss': 0.6079, 'grad_norm': 3.0728776454925537, 'learning_rate': 1.9790076335877864e-05, 'epoch': 0.04}\n",
      "{'loss': 0.5198, 'grad_norm': 3.482550621032715, 'learning_rate': 1.9770992366412215e-05, 'epoch': 0.05}\n",
      "{'loss': 0.4991, 'grad_norm': 2.4433395862579346, 'learning_rate': 1.9751908396946566e-05, 'epoch': 0.05}\n",
      "{'loss': 0.4619, 'grad_norm': 4.597670555114746, 'learning_rate': 1.9732824427480917e-05, 'epoch': 0.05}\n",
      "{'loss': 0.4775, 'grad_norm': 2.1350998878479004, 'learning_rate': 1.971374045801527e-05, 'epoch': 0.06}\n",
      "{'loss': 0.588, 'grad_norm': 4.890632629394531, 'learning_rate': 1.969465648854962e-05, 'epoch': 0.06}\n",
      "{'loss': 0.5951, 'grad_norm': 3.8809754848480225, 'learning_rate': 1.967557251908397e-05, 'epoch': 0.06}\n",
      "{'loss': 0.5914, 'grad_norm': 4.4338860511779785, 'learning_rate': 1.9656488549618322e-05, 'epoch': 0.07}\n",
      "{'loss': 0.5772, 'grad_norm': 3.4388532638549805, 'learning_rate': 1.9637404580152673e-05, 'epoch': 0.07}\n",
      "{'loss': 0.5054, 'grad_norm': 3.2554497718811035, 'learning_rate': 1.9618320610687024e-05, 'epoch': 0.08}\n",
      "{'loss': 0.5232, 'grad_norm': 5.140759468078613, 'learning_rate': 1.9599236641221375e-05, 'epoch': 0.08}\n",
      "{'loss': 0.594, 'grad_norm': 4.589021682739258, 'learning_rate': 1.9580152671755726e-05, 'epoch': 0.08}\n",
      "{'loss': 0.5634, 'grad_norm': 2.959665060043335, 'learning_rate': 1.9561068702290077e-05, 'epoch': 0.09}\n",
      "{'loss': 0.4504, 'grad_norm': 2.854987859725952, 'learning_rate': 1.954198473282443e-05, 'epoch': 0.09}\n",
      "{'loss': 0.5004, 'grad_norm': 2.1169886589050293, 'learning_rate': 1.952290076335878e-05, 'epoch': 0.1}\n",
      "{'loss': 0.6334, 'grad_norm': 4.702188014984131, 'learning_rate': 1.950381679389313e-05, 'epoch': 0.1}\n",
      "{'loss': 0.5088, 'grad_norm': 4.726959228515625, 'learning_rate': 1.9484732824427485e-05, 'epoch': 0.1}\n",
      "{'loss': 0.5579, 'grad_norm': 3.716933488845825, 'learning_rate': 1.9465648854961833e-05, 'epoch': 0.11}\n",
      "{'loss': 0.493, 'grad_norm': 3.3799846172332764, 'learning_rate': 1.9446564885496184e-05, 'epoch': 0.11}\n",
      "{'loss': 0.5795, 'grad_norm': 3.805936098098755, 'learning_rate': 1.9427480916030535e-05, 'epoch': 0.11}\n",
      "{'loss': 0.4082, 'grad_norm': 1.7227997779846191, 'learning_rate': 1.9408396946564886e-05, 'epoch': 0.12}\n",
      "{'loss': 0.3893, 'grad_norm': 2.143627882003784, 'learning_rate': 1.9389312977099238e-05, 'epoch': 0.12}\n",
      "{'loss': 0.5555, 'grad_norm': 2.9538774490356445, 'learning_rate': 1.937022900763359e-05, 'epoch': 0.13}\n",
      "{'loss': 0.5615, 'grad_norm': 2.0153305530548096, 'learning_rate': 1.935114503816794e-05, 'epoch': 0.13}\n",
      "{'loss': 0.3742, 'grad_norm': 2.286153554916382, 'learning_rate': 1.933206106870229e-05, 'epoch': 0.13}\n",
      "{'loss': 0.5202, 'grad_norm': 2.9843080043792725, 'learning_rate': 1.9312977099236642e-05, 'epoch': 0.14}\n",
      "{'loss': 0.4467, 'grad_norm': 5.173656463623047, 'learning_rate': 1.9293893129770993e-05, 'epoch': 0.14}\n",
      "{'loss': 0.4862, 'grad_norm': 3.2885944843292236, 'learning_rate': 1.9274809160305344e-05, 'epoch': 0.15}\n",
      "{'loss': 0.5751, 'grad_norm': 2.3348159790039062, 'learning_rate': 1.9255725190839695e-05, 'epoch': 0.15}\n",
      "{'loss': 0.5451, 'grad_norm': 2.4043381214141846, 'learning_rate': 1.923664122137405e-05, 'epoch': 0.15}\n",
      "{'loss': 0.4883, 'grad_norm': 1.2430014610290527, 'learning_rate': 1.9217557251908398e-05, 'epoch': 0.16}\n",
      "{'loss': 0.5063, 'grad_norm': 2.278428316116333, 'learning_rate': 1.919847328244275e-05, 'epoch': 0.16}\n",
      "{'loss': 0.4847, 'grad_norm': 2.4041755199432373, 'learning_rate': 1.91793893129771e-05, 'epoch': 0.16}\n",
      "{'loss': 0.4231, 'grad_norm': 2.99788498878479, 'learning_rate': 1.916030534351145e-05, 'epoch': 0.17}\n",
      "{'loss': 0.5126, 'grad_norm': 3.9301040172576904, 'learning_rate': 1.9141221374045805e-05, 'epoch': 0.17}\n",
      "{'loss': 0.481, 'grad_norm': 2.424297332763672, 'learning_rate': 1.9122137404580153e-05, 'epoch': 0.18}\n",
      "{'loss': 0.4423, 'grad_norm': 0.9291077852249146, 'learning_rate': 1.9103053435114504e-05, 'epoch': 0.18}\n",
      "{'loss': 0.3708, 'grad_norm': 3.653318405151367, 'learning_rate': 1.908396946564886e-05, 'epoch': 0.18}\n",
      "{'loss': 0.5649, 'grad_norm': 4.618419170379639, 'learning_rate': 1.9064885496183207e-05, 'epoch': 0.19}\n",
      "{'loss': 0.4334, 'grad_norm': 5.812727928161621, 'learning_rate': 1.9045801526717558e-05, 'epoch': 0.19}\n"
     ]
    },
    {
     "data": {
      "application/vnd.jupyter.widget-view+json": {
       "model_id": "df7fd3a6170244a5aa0c3a156ad35adb",
       "version_major": 2,
       "version_minor": 0
      },
      "text/plain": [
       "  0%|          | 0/48 [00:00<?, ?it/s]"
      ]
     },
     "metadata": {},
     "output_type": "display_data"
    },
    {
     "name": "stdout",
     "output_type": "stream",
     "text": [
      "{'eval_loss': 0.47657182812690735, 'eval_accuracy': 0.7890625, 'eval_runtime': 38.4816, 'eval_samples_per_second': 19.958, 'eval_steps_per_second': 1.247, 'epoch': 0.19}\n",
      "{'loss': 0.5834, 'grad_norm': 1.3982537984848022, 'learning_rate': 1.902671755725191e-05, 'epoch': 0.19}\n",
      "{'loss': 0.4017, 'grad_norm': 11.956353187561035, 'learning_rate': 1.900763358778626e-05, 'epoch': 0.2}\n",
      "{'loss': 0.3618, 'grad_norm': 4.305224418640137, 'learning_rate': 1.8988549618320614e-05, 'epoch': 0.2}\n",
      "{'loss': 0.5166, 'grad_norm': 4.460570812225342, 'learning_rate': 1.8969465648854962e-05, 'epoch': 0.21}\n",
      "{'loss': 0.5058, 'grad_norm': 8.367267608642578, 'learning_rate': 1.8950381679389313e-05, 'epoch': 0.21}\n",
      "{'loss': 0.5071, 'grad_norm': 15.515195846557617, 'learning_rate': 1.8931297709923668e-05, 'epoch': 0.21}\n",
      "{'loss': 0.5324, 'grad_norm': 5.047912120819092, 'learning_rate': 1.8912213740458016e-05, 'epoch': 0.22}\n",
      "{'loss': 0.5067, 'grad_norm': 4.497890472412109, 'learning_rate': 1.889312977099237e-05, 'epoch': 0.22}\n",
      "{'loss': 0.519, 'grad_norm': 8.018987655639648, 'learning_rate': 1.8874045801526718e-05, 'epoch': 0.23}\n",
      "{'loss': 0.3283, 'grad_norm': 5.055267810821533, 'learning_rate': 1.885496183206107e-05, 'epoch': 0.23}\n",
      "{'loss': 0.4168, 'grad_norm': 5.177610397338867, 'learning_rate': 1.8835877862595423e-05, 'epoch': 0.23}\n",
      "{'loss': 0.4622, 'grad_norm': 3.8119475841522217, 'learning_rate': 1.881679389312977e-05, 'epoch': 0.24}\n",
      "{'loss': 0.5421, 'grad_norm': 7.100338935852051, 'learning_rate': 1.8797709923664126e-05, 'epoch': 0.24}\n",
      "{'loss': 0.4776, 'grad_norm': 2.6199543476104736, 'learning_rate': 1.8778625954198473e-05, 'epoch': 0.24}\n",
      "{'loss': 0.4194, 'grad_norm': 7.377380847930908, 'learning_rate': 1.8759541984732824e-05, 'epoch': 0.25}\n",
      "{'loss': 0.4865, 'grad_norm': 3.9495139122009277, 'learning_rate': 1.874045801526718e-05, 'epoch': 0.25}\n",
      "{'loss': 0.3853, 'grad_norm': 3.7312586307525635, 'learning_rate': 1.8721374045801527e-05, 'epoch': 0.26}\n",
      "{'loss': 0.5088, 'grad_norm': 3.4253976345062256, 'learning_rate': 1.8702290076335878e-05, 'epoch': 0.26}\n",
      "{'loss': 0.3629, 'grad_norm': 2.8049070835113525, 'learning_rate': 1.8683206106870232e-05, 'epoch': 0.26}\n",
      "{'loss': 0.4568, 'grad_norm': 3.55439829826355, 'learning_rate': 1.866412213740458e-05, 'epoch': 0.27}\n",
      "{'loss': 0.3482, 'grad_norm': 4.179849147796631, 'learning_rate': 1.8645038167938935e-05, 'epoch': 0.27}\n",
      "{'loss': 0.3184, 'grad_norm': 2.6946630477905273, 'learning_rate': 1.8625954198473282e-05, 'epoch': 0.27}\n",
      "{'loss': 0.6083, 'grad_norm': 5.64520788192749, 'learning_rate': 1.8606870229007633e-05, 'epoch': 0.28}\n",
      "{'loss': 0.3984, 'grad_norm': 6.2582173347473145, 'learning_rate': 1.8587786259541988e-05, 'epoch': 0.28}\n",
      "{'loss': 0.43, 'grad_norm': 4.496759414672852, 'learning_rate': 1.8568702290076336e-05, 'epoch': 0.29}\n",
      "{'loss': 0.4516, 'grad_norm': 3.316727638244629, 'learning_rate': 1.854961832061069e-05, 'epoch': 0.29}\n",
      "{'loss': 0.5283, 'grad_norm': 2.684659719467163, 'learning_rate': 1.853053435114504e-05, 'epoch': 0.29}\n",
      "{'loss': 0.4228, 'grad_norm': 3.665635824203491, 'learning_rate': 1.851145038167939e-05, 'epoch': 0.3}\n",
      "{'loss': 0.4824, 'grad_norm': 2.768787384033203, 'learning_rate': 1.8492366412213744e-05, 'epoch': 0.3}\n",
      "{'loss': 0.4045, 'grad_norm': 5.056805610656738, 'learning_rate': 1.847328244274809e-05, 'epoch': 0.31}\n",
      "{'loss': 0.4252, 'grad_norm': 2.2022361755371094, 'learning_rate': 1.8454198473282446e-05, 'epoch': 0.31}\n",
      "{'loss': 0.6075, 'grad_norm': 5.343792915344238, 'learning_rate': 1.8435114503816797e-05, 'epoch': 0.31}\n",
      "{'loss': 0.4245, 'grad_norm': 2.7348031997680664, 'learning_rate': 1.8416030534351145e-05, 'epoch': 0.32}\n",
      "{'loss': 0.4714, 'grad_norm': 1.4080523252487183, 'learning_rate': 1.83969465648855e-05, 'epoch': 0.32}\n",
      "{'loss': 0.5352, 'grad_norm': 6.864002227783203, 'learning_rate': 1.837786259541985e-05, 'epoch': 0.32}\n",
      "{'loss': 0.3932, 'grad_norm': 4.696898460388184, 'learning_rate': 1.8358778625954198e-05, 'epoch': 0.33}\n",
      "{'loss': 0.4933, 'grad_norm': 2.552288055419922, 'learning_rate': 1.8339694656488553e-05, 'epoch': 0.33}\n",
      "{'loss': 0.4062, 'grad_norm': 3.974355697631836, 'learning_rate': 1.83206106870229e-05, 'epoch': 0.34}\n",
      "{'loss': 0.4933, 'grad_norm': 3.5651636123657227, 'learning_rate': 1.8301526717557255e-05, 'epoch': 0.34}\n",
      "{'loss': 0.3949, 'grad_norm': 3.4456586837768555, 'learning_rate': 1.8282442748091606e-05, 'epoch': 0.34}\n",
      "{'loss': 0.592, 'grad_norm': 4.693874359130859, 'learning_rate': 1.8263358778625954e-05, 'epoch': 0.35}\n",
      "{'loss': 0.4017, 'grad_norm': 7.544350624084473, 'learning_rate': 1.8244274809160308e-05, 'epoch': 0.35}\n",
      "{'loss': 0.3438, 'grad_norm': 3.9232325553894043, 'learning_rate': 1.8225190839694656e-05, 'epoch': 0.35}\n",
      "{'loss': 0.3943, 'grad_norm': 4.16972017288208, 'learning_rate': 1.820610687022901e-05, 'epoch': 0.36}\n",
      "{'loss': 0.5095, 'grad_norm': 5.593568801879883, 'learning_rate': 1.818702290076336e-05, 'epoch': 0.36}\n",
      "{'loss': 0.351, 'grad_norm': 2.630145311355591, 'learning_rate': 1.816793893129771e-05, 'epoch': 0.37}\n",
      "{'loss': 0.4232, 'grad_norm': 6.304234981536865, 'learning_rate': 1.8148854961832064e-05, 'epoch': 0.37}\n",
      "{'loss': 0.4821, 'grad_norm': 4.735326290130615, 'learning_rate': 1.8129770992366415e-05, 'epoch': 0.37}\n",
      "{'loss': 0.454, 'grad_norm': 5.971539497375488, 'learning_rate': 1.8110687022900766e-05, 'epoch': 0.38}\n",
      "{'loss': 0.6022, 'grad_norm': 2.73404860496521, 'learning_rate': 1.8091603053435117e-05, 'epoch': 0.38}\n"
     ]
    },
    {
     "data": {
      "application/vnd.jupyter.widget-view+json": {
       "model_id": "46225ca573394a799022091cd0dc2a0f",
       "version_major": 2,
       "version_minor": 0
      },
      "text/plain": [
       "  0%|          | 0/48 [00:00<?, ?it/s]"
      ]
     },
     "metadata": {},
     "output_type": "display_data"
    },
    {
     "name": "stdout",
     "output_type": "stream",
     "text": [
      "{'eval_loss': 0.40661001205444336, 'eval_accuracy': 0.828125, 'eval_runtime': 38.185, 'eval_samples_per_second': 20.113, 'eval_steps_per_second': 1.257, 'epoch': 0.38}\n",
      "{'loss': 0.468, 'grad_norm': 3.6377511024475098, 'learning_rate': 1.8072519083969465e-05, 'epoch': 0.39}\n",
      "{'loss': 0.4568, 'grad_norm': 4.04453706741333, 'learning_rate': 1.805343511450382e-05, 'epoch': 0.39}\n",
      "{'loss': 0.4747, 'grad_norm': 3.9430742263793945, 'learning_rate': 1.803435114503817e-05, 'epoch': 0.39}\n",
      "{'loss': 0.5022, 'grad_norm': 4.299839019775391, 'learning_rate': 1.8015267175572518e-05, 'epoch': 0.4}\n",
      "{'loss': 0.4006, 'grad_norm': 2.2606661319732666, 'learning_rate': 1.7996183206106873e-05, 'epoch': 0.4}\n",
      "{'loss': 0.5015, 'grad_norm': 4.632437229156494, 'learning_rate': 1.7977099236641224e-05, 'epoch': 0.4}\n",
      "{'loss': 0.5348, 'grad_norm': 4.796138763427734, 'learning_rate': 1.7958015267175575e-05, 'epoch': 0.41}\n",
      "{'loss': 0.4248, 'grad_norm': 1.5784387588500977, 'learning_rate': 1.7938931297709926e-05, 'epoch': 0.41}\n",
      "{'loss': 0.3891, 'grad_norm': 1.7729322910308838, 'learning_rate': 1.7919847328244274e-05, 'epoch': 0.42}\n",
      "{'loss': 0.4656, 'grad_norm': 6.6093316078186035, 'learning_rate': 1.790076335877863e-05, 'epoch': 0.42}\n",
      "{'loss': 0.4529, 'grad_norm': 2.7773706912994385, 'learning_rate': 1.788167938931298e-05, 'epoch': 0.42}\n",
      "{'loss': 0.3878, 'grad_norm': 5.4983038902282715, 'learning_rate': 1.786259541984733e-05, 'epoch': 0.43}\n",
      "{'loss': 0.4944, 'grad_norm': 3.691272258758545, 'learning_rate': 1.784351145038168e-05, 'epoch': 0.43}\n",
      "{'loss': 0.4053, 'grad_norm': 3.9123635292053223, 'learning_rate': 1.7824427480916033e-05, 'epoch': 0.44}\n",
      "{'loss': 0.3955, 'grad_norm': 3.247568130493164, 'learning_rate': 1.7805343511450384e-05, 'epoch': 0.44}\n",
      "{'loss': 0.4178, 'grad_norm': 3.172574520111084, 'learning_rate': 1.7786259541984735e-05, 'epoch': 0.44}\n",
      "{'loss': 0.5205, 'grad_norm': 3.976255178451538, 'learning_rate': 1.7767175572519086e-05, 'epoch': 0.45}\n",
      "{'loss': 0.6033, 'grad_norm': 4.500354766845703, 'learning_rate': 1.7748091603053437e-05, 'epoch': 0.45}\n",
      "{'loss': 0.3726, 'grad_norm': 3.602717399597168, 'learning_rate': 1.772900763358779e-05, 'epoch': 0.45}\n",
      "{'loss': 0.4499, 'grad_norm': 4.2701497077941895, 'learning_rate': 1.770992366412214e-05, 'epoch': 0.46}\n",
      "{'loss': 0.3973, 'grad_norm': 5.858799457550049, 'learning_rate': 1.769083969465649e-05, 'epoch': 0.46}\n",
      "{'loss': 0.4176, 'grad_norm': 4.596988677978516, 'learning_rate': 1.767175572519084e-05, 'epoch': 0.47}\n",
      "{'loss': 0.3741, 'grad_norm': 6.323174953460693, 'learning_rate': 1.7652671755725193e-05, 'epoch': 0.47}\n",
      "{'loss': 0.4566, 'grad_norm': 5.72045373916626, 'learning_rate': 1.7633587786259544e-05, 'epoch': 0.47}\n",
      "{'loss': 0.4879, 'grad_norm': 7.707451820373535, 'learning_rate': 1.7614503816793895e-05, 'epoch': 0.48}\n",
      "{'loss': 0.4699, 'grad_norm': 5.040529727935791, 'learning_rate': 1.7595419847328246e-05, 'epoch': 0.48}\n",
      "{'loss': 0.4077, 'grad_norm': 5.453392028808594, 'learning_rate': 1.7576335877862597e-05, 'epoch': 0.48}\n",
      "{'loss': 0.4693, 'grad_norm': 3.499845027923584, 'learning_rate': 1.755725190839695e-05, 'epoch': 0.49}\n",
      "{'loss': 0.4439, 'grad_norm': 2.1489171981811523, 'learning_rate': 1.75381679389313e-05, 'epoch': 0.49}\n",
      "{'loss': 0.3353, 'grad_norm': 2.9618239402770996, 'learning_rate': 1.751908396946565e-05, 'epoch': 0.5}\n",
      "{'loss': 0.3611, 'grad_norm': 1.0838861465454102, 'learning_rate': 1.7500000000000002e-05, 'epoch': 0.5}\n",
      "{'loss': 0.3577, 'grad_norm': 5.558306694030762, 'learning_rate': 1.7480916030534353e-05, 'epoch': 0.5}\n",
      "{'loss': 0.4499, 'grad_norm': 8.25185775756836, 'learning_rate': 1.7461832061068704e-05, 'epoch': 0.51}\n",
      "{'loss': 0.3695, 'grad_norm': 1.5307108163833618, 'learning_rate': 1.7442748091603055e-05, 'epoch': 0.51}\n",
      "{'loss': 0.3303, 'grad_norm': 8.207244873046875, 'learning_rate': 1.7423664122137406e-05, 'epoch': 0.52}\n",
      "{'loss': 0.4254, 'grad_norm': 6.2844672203063965, 'learning_rate': 1.7404580152671757e-05, 'epoch': 0.52}\n",
      "{'loss': 0.4447, 'grad_norm': 2.4795236587524414, 'learning_rate': 1.738549618320611e-05, 'epoch': 0.52}\n",
      "{'loss': 0.4388, 'grad_norm': 6.69833517074585, 'learning_rate': 1.736641221374046e-05, 'epoch': 0.53}\n",
      "{'loss': 0.3679, 'grad_norm': 1.5268769264221191, 'learning_rate': 1.734732824427481e-05, 'epoch': 0.53}\n",
      "{'loss': 0.3361, 'grad_norm': 3.0792148113250732, 'learning_rate': 1.7328244274809162e-05, 'epoch': 0.53}\n",
      "{'loss': 0.4097, 'grad_norm': 6.952732563018799, 'learning_rate': 1.7309160305343513e-05, 'epoch': 0.54}\n",
      "{'loss': 0.5836, 'grad_norm': 2.3714184761047363, 'learning_rate': 1.7290076335877864e-05, 'epoch': 0.54}\n",
      "{'loss': 0.3905, 'grad_norm': 3.056885242462158, 'learning_rate': 1.7270992366412215e-05, 'epoch': 0.55}\n",
      "{'loss': 0.287, 'grad_norm': 2.1626946926116943, 'learning_rate': 1.7251908396946566e-05, 'epoch': 0.55}\n",
      "{'loss': 0.5531, 'grad_norm': 6.248455047607422, 'learning_rate': 1.7232824427480918e-05, 'epoch': 0.55}\n",
      "{'loss': 0.4022, 'grad_norm': 2.6554112434387207, 'learning_rate': 1.721374045801527e-05, 'epoch': 0.56}\n",
      "{'loss': 0.3643, 'grad_norm': 2.3690173625946045, 'learning_rate': 1.719465648854962e-05, 'epoch': 0.56}\n",
      "{'loss': 0.5043, 'grad_norm': 4.498049259185791, 'learning_rate': 1.717557251908397e-05, 'epoch': 0.56}\n",
      "{'loss': 0.4806, 'grad_norm': 9.098174095153809, 'learning_rate': 1.7156488549618322e-05, 'epoch': 0.57}\n",
      "{'loss': 0.4443, 'grad_norm': 5.217166900634766, 'learning_rate': 1.7137404580152673e-05, 'epoch': 0.57}\n"
     ]
    },
    {
     "data": {
      "application/vnd.jupyter.widget-view+json": {
       "model_id": "6bf1451788924ac7b6c7a4d8b1cbce68",
       "version_major": 2,
       "version_minor": 0
      },
      "text/plain": [
       "  0%|          | 0/48 [00:00<?, ?it/s]"
      ]
     },
     "metadata": {},
     "output_type": "display_data"
    },
    {
     "name": "stdout",
     "output_type": "stream",
     "text": [
      "{'eval_loss': 0.47458234429359436, 'eval_accuracy': 0.7981770833333334, 'eval_runtime': 40.8424, 'eval_samples_per_second': 18.804, 'eval_steps_per_second': 1.175, 'epoch': 0.57}\n",
      "{'loss': 0.3856, 'grad_norm': 3.917534351348877, 'learning_rate': 1.7118320610687024e-05, 'epoch': 0.58}\n",
      "{'loss': 0.3238, 'grad_norm': 6.601779937744141, 'learning_rate': 1.7099236641221375e-05, 'epoch': 0.58}\n",
      "{'loss': 0.4469, 'grad_norm': 6.522968769073486, 'learning_rate': 1.7080152671755727e-05, 'epoch': 0.58}\n",
      "{'loss': 0.4154, 'grad_norm': 6.177722930908203, 'learning_rate': 1.7061068702290078e-05, 'epoch': 0.59}\n",
      "{'loss': 0.3138, 'grad_norm': 1.0613584518432617, 'learning_rate': 1.704198473282443e-05, 'epoch': 0.59}\n",
      "{'loss': 0.4278, 'grad_norm': 6.441293239593506, 'learning_rate': 1.702290076335878e-05, 'epoch': 0.6}\n",
      "{'loss': 0.3378, 'grad_norm': 4.462367534637451, 'learning_rate': 1.700381679389313e-05, 'epoch': 0.6}\n",
      "{'loss': 0.4336, 'grad_norm': 3.110610246658325, 'learning_rate': 1.6984732824427482e-05, 'epoch': 0.6}\n",
      "{'loss': 0.4497, 'grad_norm': 3.838056802749634, 'learning_rate': 1.6965648854961833e-05, 'epoch': 0.61}\n",
      "{'loss': 0.3975, 'grad_norm': 2.9968667030334473, 'learning_rate': 1.6946564885496184e-05, 'epoch': 0.61}\n",
      "{'loss': 0.3977, 'grad_norm': 1.9970507621765137, 'learning_rate': 1.6927480916030535e-05, 'epoch': 0.61}\n",
      "{'loss': 0.4414, 'grad_norm': 5.271544456481934, 'learning_rate': 1.6908396946564887e-05, 'epoch': 0.62}\n",
      "{'loss': 0.2661, 'grad_norm': 6.121738433837891, 'learning_rate': 1.6889312977099238e-05, 'epoch': 0.62}\n",
      "{'loss': 0.3683, 'grad_norm': 7.309708595275879, 'learning_rate': 1.687022900763359e-05, 'epoch': 0.63}\n",
      "{'loss': 0.4476, 'grad_norm': 6.813328266143799, 'learning_rate': 1.685114503816794e-05, 'epoch': 0.63}\n",
      "{'loss': 0.518, 'grad_norm': 4.74418306350708, 'learning_rate': 1.683206106870229e-05, 'epoch': 0.63}\n",
      "{'loss': 0.346, 'grad_norm': 0.7052985429763794, 'learning_rate': 1.6812977099236642e-05, 'epoch': 0.64}\n",
      "{'loss': 0.4324, 'grad_norm': 5.134764671325684, 'learning_rate': 1.6793893129770993e-05, 'epoch': 0.64}\n",
      "{'loss': 0.3092, 'grad_norm': 3.200526714324951, 'learning_rate': 1.6774809160305344e-05, 'epoch': 0.65}\n",
      "{'loss': 0.2461, 'grad_norm': 5.10382604598999, 'learning_rate': 1.6755725190839696e-05, 'epoch': 0.65}\n",
      "{'loss': 0.3001, 'grad_norm': 4.64371395111084, 'learning_rate': 1.6736641221374047e-05, 'epoch': 0.65}\n",
      "{'loss': 0.4502, 'grad_norm': 7.995665550231934, 'learning_rate': 1.6717557251908398e-05, 'epoch': 0.66}\n",
      "{'loss': 0.5998, 'grad_norm': 4.351300239562988, 'learning_rate': 1.669847328244275e-05, 'epoch': 0.66}\n",
      "{'loss': 0.4171, 'grad_norm': 8.162168502807617, 'learning_rate': 1.66793893129771e-05, 'epoch': 0.66}\n",
      "{'loss': 0.4622, 'grad_norm': 4.771772384643555, 'learning_rate': 1.666030534351145e-05, 'epoch': 0.67}\n",
      "{'loss': 0.3663, 'grad_norm': 5.038714408874512, 'learning_rate': 1.6641221374045802e-05, 'epoch': 0.67}\n",
      "{'loss': 0.4156, 'grad_norm': 7.957311153411865, 'learning_rate': 1.6622137404580153e-05, 'epoch': 0.68}\n",
      "{'loss': 0.4643, 'grad_norm': 3.6522557735443115, 'learning_rate': 1.6603053435114505e-05, 'epoch': 0.68}\n",
      "{'loss': 0.3892, 'grad_norm': 2.2921905517578125, 'learning_rate': 1.6583969465648856e-05, 'epoch': 0.68}\n",
      "{'loss': 0.4351, 'grad_norm': 5.1144914627075195, 'learning_rate': 1.6564885496183207e-05, 'epoch': 0.69}\n",
      "{'loss': 0.4263, 'grad_norm': 4.333014011383057, 'learning_rate': 1.6545801526717558e-05, 'epoch': 0.69}\n",
      "{'loss': 0.4848, 'grad_norm': 4.19881010055542, 'learning_rate': 1.652671755725191e-05, 'epoch': 0.69}\n",
      "{'loss': 0.386, 'grad_norm': 6.273373126983643, 'learning_rate': 1.650763358778626e-05, 'epoch': 0.7}\n",
      "{'loss': 0.373, 'grad_norm': 10.19927978515625, 'learning_rate': 1.648854961832061e-05, 'epoch': 0.7}\n",
      "{'loss': 0.3036, 'grad_norm': 3.9220337867736816, 'learning_rate': 1.6469465648854962e-05, 'epoch': 0.71}\n",
      "{'loss': 0.372, 'grad_norm': 2.7021098136901855, 'learning_rate': 1.6450381679389314e-05, 'epoch': 0.71}\n",
      "{'loss': 0.3455, 'grad_norm': 3.762077808380127, 'learning_rate': 1.6431297709923665e-05, 'epoch': 0.71}\n",
      "{'loss': 0.4053, 'grad_norm': 3.9506964683532715, 'learning_rate': 1.6412213740458016e-05, 'epoch': 0.72}\n",
      "{'loss': 0.3573, 'grad_norm': 8.379404067993164, 'learning_rate': 1.639312977099237e-05, 'epoch': 0.72}\n",
      "{'loss': 0.4169, 'grad_norm': 7.947021007537842, 'learning_rate': 1.6374045801526718e-05, 'epoch': 0.73}\n",
      "{'loss': 0.534, 'grad_norm': 10.632852554321289, 'learning_rate': 1.635496183206107e-05, 'epoch': 0.73}\n",
      "{'loss': 0.4044, 'grad_norm': 3.1233017444610596, 'learning_rate': 1.633587786259542e-05, 'epoch': 0.73}\n",
      "{'loss': 0.3171, 'grad_norm': 7.4201250076293945, 'learning_rate': 1.631679389312977e-05, 'epoch': 0.74}\n",
      "{'loss': 0.3198, 'grad_norm': 6.049705505371094, 'learning_rate': 1.6297709923664126e-05, 'epoch': 0.74}\n",
      "{'loss': 0.4074, 'grad_norm': 6.102418899536133, 'learning_rate': 1.6278625954198474e-05, 'epoch': 0.74}\n",
      "{'loss': 0.4087, 'grad_norm': 2.9572908878326416, 'learning_rate': 1.6259541984732825e-05, 'epoch': 0.75}\n",
      "{'loss': 0.417, 'grad_norm': 7.444324970245361, 'learning_rate': 1.624045801526718e-05, 'epoch': 0.75}\n",
      "{'loss': 0.4742, 'grad_norm': 7.454101085662842, 'learning_rate': 1.6221374045801527e-05, 'epoch': 0.76}\n",
      "{'loss': 0.3816, 'grad_norm': 4.776520252227783, 'learning_rate': 1.6202290076335878e-05, 'epoch': 0.76}\n",
      "{'loss': 0.3493, 'grad_norm': 4.764739513397217, 'learning_rate': 1.618320610687023e-05, 'epoch': 0.76}\n"
     ]
    },
    {
     "data": {
      "application/vnd.jupyter.widget-view+json": {
       "model_id": "0a660dd2b48e43e994a05110d9fb80fb",
       "version_major": 2,
       "version_minor": 0
      },
      "text/plain": [
       "  0%|          | 0/48 [00:00<?, ?it/s]"
      ]
     },
     "metadata": {},
     "output_type": "display_data"
    },
    {
     "name": "stdout",
     "output_type": "stream",
     "text": [
      "{'eval_loss': 0.40182116627693176, 'eval_accuracy': 0.83984375, 'eval_runtime': 39.087, 'eval_samples_per_second': 19.648, 'eval_steps_per_second': 1.228, 'epoch': 0.76}\n",
      "{'loss': 0.4367, 'grad_norm': 3.688586473464966, 'learning_rate': 1.616412213740458e-05, 'epoch': 0.77}\n",
      "{'loss': 0.2953, 'grad_norm': 2.413177013397217, 'learning_rate': 1.6145038167938935e-05, 'epoch': 0.77}\n",
      "{'loss': 0.3656, 'grad_norm': 6.669562816619873, 'learning_rate': 1.6125954198473283e-05, 'epoch': 0.77}\n",
      "{'loss': 0.4591, 'grad_norm': 5.1793904304504395, 'learning_rate': 1.6106870229007634e-05, 'epoch': 0.78}\n",
      "{'loss': 0.4789, 'grad_norm': 0.6805974841117859, 'learning_rate': 1.6087786259541985e-05, 'epoch': 0.78}\n",
      "{'loss': 0.3778, 'grad_norm': 8.919229507446289, 'learning_rate': 1.6068702290076336e-05, 'epoch': 0.79}\n",
      "{'loss': 0.3643, 'grad_norm': 3.5672786235809326, 'learning_rate': 1.604961832061069e-05, 'epoch': 0.79}\n",
      "{'loss': 0.3638, 'grad_norm': 9.20043659210205, 'learning_rate': 1.6030534351145038e-05, 'epoch': 0.79}\n",
      "{'loss': 0.2524, 'grad_norm': 1.6129941940307617, 'learning_rate': 1.601145038167939e-05, 'epoch': 0.8}\n",
      "{'loss': 0.4858, 'grad_norm': 4.209764003753662, 'learning_rate': 1.5992366412213744e-05, 'epoch': 0.8}\n",
      "{'loss': 0.4351, 'grad_norm': 3.5980019569396973, 'learning_rate': 1.597328244274809e-05, 'epoch': 0.81}\n",
      "{'loss': 0.325, 'grad_norm': 0.7929927110671997, 'learning_rate': 1.5954198473282446e-05, 'epoch': 0.81}\n",
      "{'loss': 0.4497, 'grad_norm': 4.77683687210083, 'learning_rate': 1.5935114503816794e-05, 'epoch': 0.81}\n",
      "{'loss': 0.3123, 'grad_norm': 4.661567687988281, 'learning_rate': 1.5916030534351145e-05, 'epoch': 0.82}\n",
      "{'loss': 0.307, 'grad_norm': 2.897557258605957, 'learning_rate': 1.58969465648855e-05, 'epoch': 0.82}\n",
      "{'loss': 0.3631, 'grad_norm': 5.350829601287842, 'learning_rate': 1.5877862595419847e-05, 'epoch': 0.82}\n",
      "{'loss': 0.399, 'grad_norm': 3.9970715045928955, 'learning_rate': 1.5858778625954198e-05, 'epoch': 0.83}\n",
      "{'loss': 0.3837, 'grad_norm': 2.9749276638031006, 'learning_rate': 1.5839694656488553e-05, 'epoch': 0.83}\n",
      "{'loss': 0.4065, 'grad_norm': 5.378746032714844, 'learning_rate': 1.58206106870229e-05, 'epoch': 0.84}\n",
      "{'loss': 0.3831, 'grad_norm': 6.091311454772949, 'learning_rate': 1.5801526717557255e-05, 'epoch': 0.84}\n",
      "{'loss': 0.4036, 'grad_norm': 5.655540466308594, 'learning_rate': 1.5782442748091603e-05, 'epoch': 0.84}\n",
      "{'loss': 0.495, 'grad_norm': 6.246529579162598, 'learning_rate': 1.5763358778625954e-05, 'epoch': 0.85}\n",
      "{'loss': 0.4484, 'grad_norm': 2.5360794067382812, 'learning_rate': 1.574427480916031e-05, 'epoch': 0.85}\n",
      "{'loss': 0.392, 'grad_norm': 4.768913745880127, 'learning_rate': 1.5725190839694656e-05, 'epoch': 0.85}\n",
      "{'loss': 0.4104, 'grad_norm': 6.383353233337402, 'learning_rate': 1.570610687022901e-05, 'epoch': 0.86}\n",
      "{'loss': 0.4057, 'grad_norm': 3.0679235458374023, 'learning_rate': 1.5687022900763362e-05, 'epoch': 0.86}\n",
      "{'loss': 0.2901, 'grad_norm': 1.3909517526626587, 'learning_rate': 1.566793893129771e-05, 'epoch': 0.87}\n",
      "{'loss': 0.4888, 'grad_norm': 7.372733116149902, 'learning_rate': 1.5648854961832064e-05, 'epoch': 0.87}\n",
      "{'loss': 0.3874, 'grad_norm': 1.42972993850708, 'learning_rate': 1.5629770992366412e-05, 'epoch': 0.87}\n",
      "{'loss': 0.4485, 'grad_norm': 3.5263147354125977, 'learning_rate': 1.5610687022900766e-05, 'epoch': 0.88}\n",
      "{'loss': 0.3788, 'grad_norm': 2.455244302749634, 'learning_rate': 1.5591603053435117e-05, 'epoch': 0.88}\n",
      "{'loss': 0.4688, 'grad_norm': 5.56610107421875, 'learning_rate': 1.5572519083969465e-05, 'epoch': 0.89}\n",
      "{'loss': 0.3831, 'grad_norm': 8.106922149658203, 'learning_rate': 1.555343511450382e-05, 'epoch': 0.89}\n",
      "{'loss': 0.3826, 'grad_norm': 8.3098783493042, 'learning_rate': 1.5534351145038167e-05, 'epoch': 0.89}\n",
      "{'loss': 0.3473, 'grad_norm': 7.12401819229126, 'learning_rate': 1.551526717557252e-05, 'epoch': 0.9}\n",
      "{'loss': 0.3279, 'grad_norm': 1.355984091758728, 'learning_rate': 1.5496183206106873e-05, 'epoch': 0.9}\n",
      "{'loss': 0.4008, 'grad_norm': 2.9374890327453613, 'learning_rate': 1.547709923664122e-05, 'epoch': 0.9}\n",
      "{'loss': 0.4831, 'grad_norm': 18.716960906982422, 'learning_rate': 1.5458015267175575e-05, 'epoch': 0.91}\n",
      "{'loss': 0.3294, 'grad_norm': 0.6141133308410645, 'learning_rate': 1.5438931297709926e-05, 'epoch': 0.91}\n",
      "{'loss': 0.3621, 'grad_norm': 9.257847785949707, 'learning_rate': 1.5419847328244274e-05, 'epoch': 0.92}\n",
      "{'loss': 0.4648, 'grad_norm': 9.470914840698242, 'learning_rate': 1.540076335877863e-05, 'epoch': 0.92}\n",
      "{'loss': 0.4412, 'grad_norm': 6.1407246589660645, 'learning_rate': 1.5381679389312976e-05, 'epoch': 0.92}\n",
      "{'loss': 0.4641, 'grad_norm': 7.830680847167969, 'learning_rate': 1.536259541984733e-05, 'epoch': 0.93}\n",
      "{'loss': 0.3219, 'grad_norm': 9.210539817810059, 'learning_rate': 1.5343511450381682e-05, 'epoch': 0.93}\n",
      "{'loss': 0.2915, 'grad_norm': 3.257164239883423, 'learning_rate': 1.532442748091603e-05, 'epoch': 0.94}\n",
      "{'loss': 0.4363, 'grad_norm': 9.003581047058105, 'learning_rate': 1.5305343511450384e-05, 'epoch': 0.94}\n",
      "{'loss': 0.4413, 'grad_norm': 9.220184326171875, 'learning_rate': 1.5286259541984735e-05, 'epoch': 0.94}\n",
      "{'loss': 0.2703, 'grad_norm': 3.7481210231781006, 'learning_rate': 1.5267175572519086e-05, 'epoch': 0.95}\n",
      "{'loss': 0.4301, 'grad_norm': 6.590273857116699, 'learning_rate': 1.5248091603053436e-05, 'epoch': 0.95}\n",
      "{'loss': 0.4588, 'grad_norm': 2.740957498550415, 'learning_rate': 1.5229007633587787e-05, 'epoch': 0.95}\n"
     ]
    },
    {
     "data": {
      "application/vnd.jupyter.widget-view+json": {
       "model_id": "dff9848f344f455ca71a2944c34bcbc3",
       "version_major": 2,
       "version_minor": 0
      },
      "text/plain": [
       "  0%|          | 0/48 [00:00<?, ?it/s]"
      ]
     },
     "metadata": {},
     "output_type": "display_data"
    },
    {
     "name": "stdout",
     "output_type": "stream",
     "text": [
      "{'eval_loss': 0.37510597705841064, 'eval_accuracy': 0.8619791666666666, 'eval_runtime': 96.6479, 'eval_samples_per_second': 7.946, 'eval_steps_per_second': 0.497, 'epoch': 0.95}\n",
      "{'loss': 0.4461, 'grad_norm': 2.7196547985076904, 'learning_rate': 1.520992366412214e-05, 'epoch': 0.96}\n",
      "{'loss': 0.2865, 'grad_norm': 8.064708709716797, 'learning_rate': 1.519083969465649e-05, 'epoch': 0.96}\n",
      "{'loss': 0.3231, 'grad_norm': 3.082542896270752, 'learning_rate': 1.517175572519084e-05, 'epoch': 0.97}\n",
      "{'loss': 0.4351, 'grad_norm': 1.666566252708435, 'learning_rate': 1.5152671755725193e-05, 'epoch': 0.97}\n",
      "{'loss': 0.3671, 'grad_norm': 7.271581172943115, 'learning_rate': 1.5133587786259543e-05, 'epoch': 0.97}\n",
      "{'loss': 0.3594, 'grad_norm': 7.675926208496094, 'learning_rate': 1.5114503816793895e-05, 'epoch': 0.98}\n",
      "{'loss': 0.3055, 'grad_norm': 2.544844627380371, 'learning_rate': 1.5095419847328245e-05, 'epoch': 0.98}\n",
      "{'loss': 0.3108, 'grad_norm': 2.3471827507019043, 'learning_rate': 1.5076335877862596e-05, 'epoch': 0.98}\n",
      "{'loss': 0.3151, 'grad_norm': 8.042496681213379, 'learning_rate': 1.5057251908396949e-05, 'epoch': 0.99}\n",
      "{'loss': 0.2823, 'grad_norm': 1.5197526216506958, 'learning_rate': 1.5038167938931298e-05, 'epoch': 0.99}\n",
      "{'loss': 0.4663, 'grad_norm': 7.53056001663208, 'learning_rate': 1.5019083969465651e-05, 'epoch': 1.0}\n",
      "{'loss': 0.4122, 'grad_norm': 10.974489212036133, 'learning_rate': 1.5000000000000002e-05, 'epoch': 1.0}\n",
      "{'loss': 0.3664, 'grad_norm': 3.1447927951812744, 'learning_rate': 1.4980916030534352e-05, 'epoch': 1.0}\n",
      "{'loss': 0.3494, 'grad_norm': 4.893153190612793, 'learning_rate': 1.4961832061068704e-05, 'epoch': 1.01}\n",
      "{'loss': 0.3634, 'grad_norm': 10.944315910339355, 'learning_rate': 1.4942748091603054e-05, 'epoch': 1.01}\n",
      "{'loss': 0.335, 'grad_norm': 9.448412895202637, 'learning_rate': 1.4923664122137407e-05, 'epoch': 1.02}\n",
      "{'loss': 0.2683, 'grad_norm': 10.464484214782715, 'learning_rate': 1.4904580152671758e-05, 'epoch': 1.02}\n",
      "{'loss': 0.3051, 'grad_norm': 5.437860488891602, 'learning_rate': 1.4885496183206107e-05, 'epoch': 1.02}\n",
      "{'loss': 0.282, 'grad_norm': 9.161615371704102, 'learning_rate': 1.486641221374046e-05, 'epoch': 1.03}\n",
      "{'loss': 0.2674, 'grad_norm': 10.703617095947266, 'learning_rate': 1.484732824427481e-05, 'epoch': 1.03}\n",
      "{'loss': 0.2229, 'grad_norm': 4.0579047203063965, 'learning_rate': 1.4828244274809162e-05, 'epoch': 1.03}\n",
      "{'loss': 0.3566, 'grad_norm': 11.888660430908203, 'learning_rate': 1.4809160305343513e-05, 'epoch': 1.04}\n",
      "{'loss': 0.2349, 'grad_norm': 6.886195659637451, 'learning_rate': 1.4790076335877863e-05, 'epoch': 1.04}\n",
      "{'loss': 0.3999, 'grad_norm': 2.8007588386535645, 'learning_rate': 1.4770992366412216e-05, 'epoch': 1.05}\n",
      "{'loss': 0.2774, 'grad_norm': 0.8414199352264404, 'learning_rate': 1.4751908396946567e-05, 'epoch': 1.05}\n",
      "{'loss': 0.2284, 'grad_norm': 6.5522685050964355, 'learning_rate': 1.4732824427480916e-05, 'epoch': 1.05}\n",
      "{'loss': 0.3492, 'grad_norm': 6.974775791168213, 'learning_rate': 1.4713740458015269e-05, 'epoch': 1.06}\n",
      "{'loss': 0.2291, 'grad_norm': 1.539528250694275, 'learning_rate': 1.4694656488549618e-05, 'epoch': 1.06}\n",
      "{'loss': 0.3509, 'grad_norm': 0.4647250175476074, 'learning_rate': 1.4675572519083971e-05, 'epoch': 1.06}\n",
      "{'loss': 0.2764, 'grad_norm': 11.561772346496582, 'learning_rate': 1.4656488549618322e-05, 'epoch': 1.07}\n",
      "{'loss': 0.3237, 'grad_norm': 6.316349029541016, 'learning_rate': 1.4637404580152672e-05, 'epoch': 1.07}\n",
      "{'loss': 0.2651, 'grad_norm': 7.145489692687988, 'learning_rate': 1.4618320610687024e-05, 'epoch': 1.08}\n",
      "{'loss': 0.2815, 'grad_norm': 6.885304927825928, 'learning_rate': 1.4599236641221376e-05, 'epoch': 1.08}\n",
      "{'loss': 0.2791, 'grad_norm': 0.44903138279914856, 'learning_rate': 1.4580152671755727e-05, 'epoch': 1.08}\n",
      "{'loss': 0.264, 'grad_norm': 4.519095420837402, 'learning_rate': 1.4561068702290078e-05, 'epoch': 1.09}\n",
      "{'loss': 0.3039, 'grad_norm': 3.1090729236602783, 'learning_rate': 1.4541984732824427e-05, 'epoch': 1.09}\n",
      "{'loss': 0.2445, 'grad_norm': 3.627943277359009, 'learning_rate': 1.452290076335878e-05, 'epoch': 1.1}\n",
      "{'loss': 0.302, 'grad_norm': 22.339256286621094, 'learning_rate': 1.4503816793893131e-05, 'epoch': 1.1}\n",
      "{'loss': 0.519, 'grad_norm': 4.04247522354126, 'learning_rate': 1.4484732824427484e-05, 'epoch': 1.1}\n",
      "{'loss': 0.2351, 'grad_norm': 3.0348143577575684, 'learning_rate': 1.4465648854961833e-05, 'epoch': 1.11}\n",
      "{'loss': 0.2124, 'grad_norm': 1.4262324571609497, 'learning_rate': 1.4446564885496185e-05, 'epoch': 1.11}\n",
      "{'loss': 0.3262, 'grad_norm': 3.720306634902954, 'learning_rate': 1.4427480916030536e-05, 'epoch': 1.11}\n",
      "{'loss': 0.2695, 'grad_norm': 6.408259868621826, 'learning_rate': 1.4408396946564887e-05, 'epoch': 1.12}\n",
      "{'loss': 0.2693, 'grad_norm': 15.290369033813477, 'learning_rate': 1.4389312977099236e-05, 'epoch': 1.12}\n",
      "{'loss': 0.1913, 'grad_norm': 2.0499589443206787, 'learning_rate': 1.4370229007633589e-05, 'epoch': 1.13}\n",
      "{'loss': 0.3252, 'grad_norm': 0.30550694465637207, 'learning_rate': 1.435114503816794e-05, 'epoch': 1.13}\n",
      "{'loss': 0.2183, 'grad_norm': 9.373754501342773, 'learning_rate': 1.4332061068702291e-05, 'epoch': 1.13}\n",
      "{'loss': 0.4382, 'grad_norm': 14.757104873657227, 'learning_rate': 1.4312977099236642e-05, 'epoch': 1.14}\n",
      "{'loss': 0.3826, 'grad_norm': 0.49886298179626465, 'learning_rate': 1.4293893129770992e-05, 'epoch': 1.14}\n",
      "{'loss': 0.3027, 'grad_norm': 12.88899040222168, 'learning_rate': 1.4274809160305345e-05, 'epoch': 1.15}\n"
     ]
    },
    {
     "data": {
      "application/vnd.jupyter.widget-view+json": {
       "model_id": "17cf765a71084dd2a4b7d22d91991062",
       "version_major": 2,
       "version_minor": 0
      },
      "text/plain": [
       "  0%|          | 0/48 [00:00<?, ?it/s]"
      ]
     },
     "metadata": {},
     "output_type": "display_data"
    },
    {
     "name": "stdout",
     "output_type": "stream",
     "text": [
      "{'eval_loss': 0.3272438943386078, 'eval_accuracy': 0.8776041666666666, 'eval_runtime': 39.6634, 'eval_samples_per_second': 19.363, 'eval_steps_per_second': 1.21, 'epoch': 1.15}\n",
      "{'loss': 0.3298, 'grad_norm': 7.682697772979736, 'learning_rate': 1.4255725190839696e-05, 'epoch': 1.15}\n",
      "{'loss': 0.244, 'grad_norm': 7.023153781890869, 'learning_rate': 1.4236641221374049e-05, 'epoch': 1.15}\n",
      "{'loss': 0.322, 'grad_norm': 1.2836869955062866, 'learning_rate': 1.4217557251908398e-05, 'epoch': 1.16}\n",
      "{'loss': 0.3124, 'grad_norm': 5.359719276428223, 'learning_rate': 1.4198473282442749e-05, 'epoch': 1.16}\n",
      "{'loss': 0.2671, 'grad_norm': 1.5788213014602661, 'learning_rate': 1.41793893129771e-05, 'epoch': 1.16}\n",
      "{'loss': 0.4116, 'grad_norm': 4.87848424911499, 'learning_rate': 1.4160305343511451e-05, 'epoch': 1.17}\n",
      "{'loss': 0.2252, 'grad_norm': 2.2266347408294678, 'learning_rate': 1.4141221374045804e-05, 'epoch': 1.17}\n",
      "{'loss': 0.2572, 'grad_norm': 5.951173305511475, 'learning_rate': 1.4122137404580154e-05, 'epoch': 1.18}\n",
      "{'loss': 0.1773, 'grad_norm': 1.694649577140808, 'learning_rate': 1.4103053435114505e-05, 'epoch': 1.18}\n",
      "{'loss': 0.2827, 'grad_norm': 13.834437370300293, 'learning_rate': 1.4083969465648858e-05, 'epoch': 1.18}\n",
      "{'loss': 0.3122, 'grad_norm': 4.3603973388671875, 'learning_rate': 1.4064885496183207e-05, 'epoch': 1.19}\n",
      "{'loss': 0.3192, 'grad_norm': 17.66778564453125, 'learning_rate': 1.4045801526717558e-05, 'epoch': 1.19}\n",
      "{'loss': 0.1461, 'grad_norm': 5.096314907073975, 'learning_rate': 1.402671755725191e-05, 'epoch': 1.19}\n",
      "{'loss': 0.3499, 'grad_norm': 5.622381687164307, 'learning_rate': 1.400763358778626e-05, 'epoch': 1.2}\n",
      "{'loss': 0.3965, 'grad_norm': 16.482545852661133, 'learning_rate': 1.3988549618320613e-05, 'epoch': 1.2}\n",
      "{'loss': 0.3078, 'grad_norm': 4.648693561553955, 'learning_rate': 1.3969465648854963e-05, 'epoch': 1.21}\n",
      "{'loss': 0.2803, 'grad_norm': 9.326600074768066, 'learning_rate': 1.3950381679389314e-05, 'epoch': 1.21}\n",
      "{'loss': 0.1527, 'grad_norm': 0.34556689858436584, 'learning_rate': 1.3931297709923667e-05, 'epoch': 1.21}\n",
      "{'loss': 0.414, 'grad_norm': 18.498506546020508, 'learning_rate': 1.3912213740458016e-05, 'epoch': 1.22}\n",
      "{'loss': 0.2239, 'grad_norm': 1.608703374862671, 'learning_rate': 1.3893129770992369e-05, 'epoch': 1.22}\n",
      "{'loss': 0.1895, 'grad_norm': 3.4681389331817627, 'learning_rate': 1.3874045801526718e-05, 'epoch': 1.23}\n",
      "{'loss': 0.3267, 'grad_norm': 7.932293891906738, 'learning_rate': 1.385496183206107e-05, 'epoch': 1.23}\n",
      "{'loss': 0.3203, 'grad_norm': 8.990753173828125, 'learning_rate': 1.3835877862595422e-05, 'epoch': 1.23}\n",
      "{'loss': 0.2573, 'grad_norm': 5.749023914337158, 'learning_rate': 1.3816793893129772e-05, 'epoch': 1.24}\n",
      "{'loss': 0.1842, 'grad_norm': 1.094139814376831, 'learning_rate': 1.3797709923664124e-05, 'epoch': 1.24}\n",
      "{'loss': 0.3545, 'grad_norm': 7.391557693481445, 'learning_rate': 1.3778625954198474e-05, 'epoch': 1.24}\n",
      "{'loss': 0.1421, 'grad_norm': 0.7545107007026672, 'learning_rate': 1.3759541984732825e-05, 'epoch': 1.25}\n",
      "{'loss': 0.1608, 'grad_norm': 7.224686145782471, 'learning_rate': 1.3740458015267178e-05, 'epoch': 1.25}\n",
      "{'loss': 0.356, 'grad_norm': 0.1994982361793518, 'learning_rate': 1.3721374045801527e-05, 'epoch': 1.26}\n",
      "{'loss': 0.2997, 'grad_norm': 11.438089370727539, 'learning_rate': 1.3702290076335878e-05, 'epoch': 1.26}\n",
      "{'loss': 0.5085, 'grad_norm': 7.16057825088501, 'learning_rate': 1.3683206106870231e-05, 'epoch': 1.26}\n",
      "{'loss': 0.3239, 'grad_norm': 9.912381172180176, 'learning_rate': 1.366412213740458e-05, 'epoch': 1.27}\n",
      "{'loss': 0.3602, 'grad_norm': 3.591681957244873, 'learning_rate': 1.3645038167938933e-05, 'epoch': 1.27}\n",
      "{'loss': 0.2169, 'grad_norm': 5.172150611877441, 'learning_rate': 1.3625954198473283e-05, 'epoch': 1.27}\n",
      "{'loss': 0.2465, 'grad_norm': 0.8838655948638916, 'learning_rate': 1.3606870229007634e-05, 'epoch': 1.28}\n",
      "{'loss': 0.2658, 'grad_norm': 9.836017608642578, 'learning_rate': 1.3587786259541987e-05, 'epoch': 1.28}\n",
      "{'loss': 0.291, 'grad_norm': 4.75805139541626, 'learning_rate': 1.3568702290076336e-05, 'epoch': 1.29}\n",
      "{'loss': 0.2841, 'grad_norm': 3.7511825561523438, 'learning_rate': 1.3549618320610689e-05, 'epoch': 1.29}\n",
      "{'loss': 0.3102, 'grad_norm': 5.437623500823975, 'learning_rate': 1.353053435114504e-05, 'epoch': 1.29}\n",
      "{'loss': 0.1893, 'grad_norm': 2.760265350341797, 'learning_rate': 1.351145038167939e-05, 'epoch': 1.3}\n",
      "{'loss': 0.3192, 'grad_norm': 12.554550170898438, 'learning_rate': 1.3492366412213742e-05, 'epoch': 1.3}\n",
      "{'loss': 0.3984, 'grad_norm': 12.498588562011719, 'learning_rate': 1.3473282442748092e-05, 'epoch': 1.31}\n",
      "{'loss': 0.2029, 'grad_norm': 5.183122158050537, 'learning_rate': 1.3454198473282445e-05, 'epoch': 1.31}\n",
      "{'loss': 0.3754, 'grad_norm': 10.456389427185059, 'learning_rate': 1.3435114503816796e-05, 'epoch': 1.31}\n",
      "{'loss': 0.215, 'grad_norm': 2.8205316066741943, 'learning_rate': 1.3416030534351145e-05, 'epoch': 1.32}\n",
      "{'loss': 0.2286, 'grad_norm': 1.6694568395614624, 'learning_rate': 1.3396946564885498e-05, 'epoch': 1.32}\n",
      "{'loss': 0.1694, 'grad_norm': 5.305575370788574, 'learning_rate': 1.3377862595419849e-05, 'epoch': 1.32}\n",
      "{'loss': 0.4089, 'grad_norm': 8.904684066772461, 'learning_rate': 1.3358778625954198e-05, 'epoch': 1.33}\n",
      "{'loss': 0.2513, 'grad_norm': 15.67609691619873, 'learning_rate': 1.3339694656488551e-05, 'epoch': 1.33}\n",
      "{'loss': 0.2502, 'grad_norm': 0.8590754270553589, 'learning_rate': 1.33206106870229e-05, 'epoch': 1.34}\n"
     ]
    },
    {
     "data": {
      "application/vnd.jupyter.widget-view+json": {
       "model_id": "0ec0196ab8f14b60acc4260692501047",
       "version_major": 2,
       "version_minor": 0
      },
      "text/plain": [
       "  0%|          | 0/48 [00:00<?, ?it/s]"
      ]
     },
     "metadata": {},
     "output_type": "display_data"
    },
    {
     "name": "stdout",
     "output_type": "stream",
     "text": [
      "{'eval_loss': 0.3653348982334137, 'eval_accuracy': 0.8684895833333334, 'eval_runtime': 41.1424, 'eval_samples_per_second': 18.667, 'eval_steps_per_second': 1.167, 'epoch': 1.34}\n",
      "{'loss': 0.4145, 'grad_norm': 12.314449310302734, 'learning_rate': 1.3301526717557254e-05, 'epoch': 1.34}\n",
      "{'loss': 0.2531, 'grad_norm': 15.70746898651123, 'learning_rate': 1.3282442748091605e-05, 'epoch': 1.34}\n",
      "{'loss': 0.4129, 'grad_norm': 10.081790924072266, 'learning_rate': 1.3263358778625954e-05, 'epoch': 1.35}\n",
      "{'loss': 0.2236, 'grad_norm': 1.6651313304901123, 'learning_rate': 1.3244274809160307e-05, 'epoch': 1.35}\n",
      "{'loss': 0.4765, 'grad_norm': 12.385013580322266, 'learning_rate': 1.3225190839694656e-05, 'epoch': 1.35}\n",
      "{'loss': 0.3243, 'grad_norm': 4.126578330993652, 'learning_rate': 1.3206106870229009e-05, 'epoch': 1.36}\n",
      "{'loss': 0.2258, 'grad_norm': 4.643072128295898, 'learning_rate': 1.318702290076336e-05, 'epoch': 1.36}\n",
      "{'loss': 0.1764, 'grad_norm': 9.785735130310059, 'learning_rate': 1.316793893129771e-05, 'epoch': 1.37}\n",
      "{'loss': 0.2614, 'grad_norm': 11.077683448791504, 'learning_rate': 1.3148854961832062e-05, 'epoch': 1.37}\n",
      "{'loss': 0.3003, 'grad_norm': 6.026196002960205, 'learning_rate': 1.3129770992366414e-05, 'epoch': 1.37}\n",
      "{'loss': 0.2095, 'grad_norm': 11.563002586364746, 'learning_rate': 1.3110687022900765e-05, 'epoch': 1.38}\n",
      "{'loss': 0.3855, 'grad_norm': 8.664454460144043, 'learning_rate': 1.3091603053435116e-05, 'epoch': 1.38}\n",
      "{'loss': 0.2952, 'grad_norm': 2.4025890827178955, 'learning_rate': 1.3072519083969465e-05, 'epoch': 1.39}\n",
      "{'loss': 0.3219, 'grad_norm': 5.969397068023682, 'learning_rate': 1.3053435114503818e-05, 'epoch': 1.39}\n",
      "{'loss': 0.2966, 'grad_norm': 18.41391944885254, 'learning_rate': 1.303435114503817e-05, 'epoch': 1.39}\n",
      "{'loss': 0.3443, 'grad_norm': 1.830135464668274, 'learning_rate': 1.3015267175572519e-05, 'epoch': 1.4}\n",
      "{'loss': 0.3218, 'grad_norm': 8.372015953063965, 'learning_rate': 1.2996183206106871e-05, 'epoch': 1.4}\n",
      "{'loss': 0.2604, 'grad_norm': 0.8381080031394958, 'learning_rate': 1.2977099236641223e-05, 'epoch': 1.4}\n",
      "{'loss': 0.263, 'grad_norm': 4.213284492492676, 'learning_rate': 1.2958015267175574e-05, 'epoch': 1.41}\n",
      "{'loss': 0.251, 'grad_norm': 8.49500560760498, 'learning_rate': 1.2938931297709925e-05, 'epoch': 1.41}\n",
      "{'loss': 0.1287, 'grad_norm': 3.7437736988067627, 'learning_rate': 1.2919847328244274e-05, 'epoch': 1.42}\n",
      "{'loss': 0.3042, 'grad_norm': 8.416218757629395, 'learning_rate': 1.2900763358778627e-05, 'epoch': 1.42}\n",
      "{'loss': 0.2171, 'grad_norm': 13.876558303833008, 'learning_rate': 1.2881679389312978e-05, 'epoch': 1.42}\n",
      "{'loss': 0.3191, 'grad_norm': 20.471906661987305, 'learning_rate': 1.2862595419847331e-05, 'epoch': 1.43}\n",
      "{'loss': 0.3611, 'grad_norm': 0.7451722025871277, 'learning_rate': 1.284351145038168e-05, 'epoch': 1.43}\n",
      "{'loss': 0.3187, 'grad_norm': 4.39714241027832, 'learning_rate': 1.2824427480916032e-05, 'epoch': 1.44}\n",
      "{'loss': 0.1235, 'grad_norm': 2.0036747455596924, 'learning_rate': 1.2805343511450383e-05, 'epoch': 1.44}\n",
      "{'loss': 0.2766, 'grad_norm': 3.375250816345215, 'learning_rate': 1.2786259541984734e-05, 'epoch': 1.44}\n",
      "{'loss': 0.2984, 'grad_norm': 0.6019799709320068, 'learning_rate': 1.2767175572519087e-05, 'epoch': 1.45}\n",
      "{'loss': 0.1752, 'grad_norm': 5.147625923156738, 'learning_rate': 1.2748091603053436e-05, 'epoch': 1.45}\n",
      "{'loss': 0.3675, 'grad_norm': 1.070530891418457, 'learning_rate': 1.2729007633587787e-05, 'epoch': 1.45}\n",
      "{'loss': 0.2353, 'grad_norm': 7.459521770477295, 'learning_rate': 1.2709923664122138e-05, 'epoch': 1.46}\n",
      "{'loss': 0.3725, 'grad_norm': 2.150792360305786, 'learning_rate': 1.269083969465649e-05, 'epoch': 1.46}\n",
      "{'loss': 0.2911, 'grad_norm': 4.4230523109436035, 'learning_rate': 1.2671755725190839e-05, 'epoch': 1.47}\n",
      "{'loss': 0.4768, 'grad_norm': 3.0052921772003174, 'learning_rate': 1.2652671755725192e-05, 'epoch': 1.47}\n",
      "{'loss': 0.2711, 'grad_norm': 16.93523406982422, 'learning_rate': 1.2633587786259543e-05, 'epoch': 1.47}\n",
      "{'loss': 0.3629, 'grad_norm': 0.47459542751312256, 'learning_rate': 1.2614503816793896e-05, 'epoch': 1.48}\n",
      "{'loss': 0.4584, 'grad_norm': 0.6615282297134399, 'learning_rate': 1.2595419847328245e-05, 'epoch': 1.48}\n",
      "{'loss': 0.2445, 'grad_norm': 5.4167327880859375, 'learning_rate': 1.2576335877862596e-05, 'epoch': 1.48}\n",
      "{'loss': 0.371, 'grad_norm': 27.855796813964844, 'learning_rate': 1.2557251908396947e-05, 'epoch': 1.49}\n",
      "{'loss': 0.3709, 'grad_norm': 6.018679618835449, 'learning_rate': 1.2538167938931298e-05, 'epoch': 1.49}\n",
      "{'loss': 0.3258, 'grad_norm': 9.680553436279297, 'learning_rate': 1.2519083969465651e-05, 'epoch': 1.5}\n",
      "{'loss': 0.3741, 'grad_norm': 11.141277313232422, 'learning_rate': 1.25e-05, 'epoch': 1.5}\n",
      "{'loss': 0.2849, 'grad_norm': 8.419541358947754, 'learning_rate': 1.2480916030534352e-05, 'epoch': 1.5}\n",
      "{'loss': 0.3566, 'grad_norm': 6.090878963470459, 'learning_rate': 1.2461832061068705e-05, 'epoch': 1.51}\n",
      "{'loss': 0.2676, 'grad_norm': 0.3779121935367584, 'learning_rate': 1.2442748091603054e-05, 'epoch': 1.51}\n",
      "{'loss': 0.2021, 'grad_norm': 4.031004905700684, 'learning_rate': 1.2423664122137407e-05, 'epoch': 1.52}\n",
      "{'loss': 0.3793, 'grad_norm': 3.483659029006958, 'learning_rate': 1.2404580152671756e-05, 'epoch': 1.52}\n",
      "{'loss': 0.2449, 'grad_norm': 10.477614402770996, 'learning_rate': 1.2385496183206107e-05, 'epoch': 1.52}\n",
      "{'loss': 0.1835, 'grad_norm': 4.978600025177002, 'learning_rate': 1.236641221374046e-05, 'epoch': 1.53}\n"
     ]
    },
    {
     "data": {
      "application/vnd.jupyter.widget-view+json": {
       "model_id": "71e8ca6d195e4af19224b5823d825172",
       "version_major": 2,
       "version_minor": 0
      },
      "text/plain": [
       "  0%|          | 0/48 [00:00<?, ?it/s]"
      ]
     },
     "metadata": {},
     "output_type": "display_data"
    },
    {
     "name": "stdout",
     "output_type": "stream",
     "text": [
      "{'eval_loss': 0.3570276200771332, 'eval_accuracy': 0.8606770833333334, 'eval_runtime': 38.7944, 'eval_samples_per_second': 19.797, 'eval_steps_per_second': 1.237, 'epoch': 1.53}\n",
      "{'loss': 0.2591, 'grad_norm': 16.431716918945312, 'learning_rate': 1.234732824427481e-05, 'epoch': 1.53}\n",
      "{'loss': 0.2235, 'grad_norm': 10.535872459411621, 'learning_rate': 1.2328244274809162e-05, 'epoch': 1.53}\n",
      "{'loss': 0.094, 'grad_norm': 2.7303225994110107, 'learning_rate': 1.2309160305343514e-05, 'epoch': 1.54}\n",
      "{'loss': 0.5461, 'grad_norm': 5.5601959228515625, 'learning_rate': 1.2290076335877863e-05, 'epoch': 1.54}\n",
      "{'loss': 0.2462, 'grad_norm': 9.193886756896973, 'learning_rate': 1.2270992366412216e-05, 'epoch': 1.55}\n",
      "{'loss': 0.2121, 'grad_norm': 7.927665710449219, 'learning_rate': 1.2251908396946565e-05, 'epoch': 1.55}\n",
      "{'loss': 0.269, 'grad_norm': 9.644990921020508, 'learning_rate': 1.2232824427480916e-05, 'epoch': 1.55}\n",
      "{'loss': 0.2601, 'grad_norm': 9.923142433166504, 'learning_rate': 1.2213740458015269e-05, 'epoch': 1.56}\n",
      "{'loss': 0.1183, 'grad_norm': 1.8036497831344604, 'learning_rate': 1.2194656488549619e-05, 'epoch': 1.56}\n",
      "{'loss': 0.2837, 'grad_norm': 0.5461623668670654, 'learning_rate': 1.2175572519083971e-05, 'epoch': 1.56}\n",
      "{'loss': 0.2562, 'grad_norm': 3.657827615737915, 'learning_rate': 1.215648854961832e-05, 'epoch': 1.57}\n",
      "{'loss': 0.1854, 'grad_norm': 0.4674679934978485, 'learning_rate': 1.2137404580152672e-05, 'epoch': 1.57}\n",
      "{'loss': 0.356, 'grad_norm': 5.8779683113098145, 'learning_rate': 1.2118320610687025e-05, 'epoch': 1.58}\n",
      "{'loss': 0.4339, 'grad_norm': 7.388973712921143, 'learning_rate': 1.2099236641221374e-05, 'epoch': 1.58}\n",
      "{'loss': 0.2772, 'grad_norm': 6.084658145904541, 'learning_rate': 1.2080152671755727e-05, 'epoch': 1.58}\n",
      "{'loss': 0.2349, 'grad_norm': 15.912042617797852, 'learning_rate': 1.2061068702290078e-05, 'epoch': 1.59}\n",
      "{'loss': 0.3216, 'grad_norm': 16.296566009521484, 'learning_rate': 1.2041984732824427e-05, 'epoch': 1.59}\n",
      "{'loss': 0.3075, 'grad_norm': 15.210237503051758, 'learning_rate': 1.202290076335878e-05, 'epoch': 1.6}\n",
      "{'loss': 0.2188, 'grad_norm': 7.24007511138916, 'learning_rate': 1.200381679389313e-05, 'epoch': 1.6}\n",
      "{'loss': 0.3545, 'grad_norm': 0.39706701040267944, 'learning_rate': 1.1984732824427483e-05, 'epoch': 1.6}\n",
      "{'loss': 0.3967, 'grad_norm': 9.63691520690918, 'learning_rate': 1.1965648854961834e-05, 'epoch': 1.61}\n",
      "{'loss': 0.2243, 'grad_norm': 13.632458686828613, 'learning_rate': 1.1946564885496183e-05, 'epoch': 1.61}\n",
      "{'loss': 0.3349, 'grad_norm': 4.891153812408447, 'learning_rate': 1.1927480916030536e-05, 'epoch': 1.61}\n",
      "{'loss': 0.2237, 'grad_norm': 1.6055067777633667, 'learning_rate': 1.1908396946564887e-05, 'epoch': 1.62}\n",
      "{'loss': 0.2358, 'grad_norm': 10.8169584274292, 'learning_rate': 1.1889312977099236e-05, 'epoch': 1.62}\n",
      "{'loss': 0.2368, 'grad_norm': 5.842259407043457, 'learning_rate': 1.187022900763359e-05, 'epoch': 1.63}\n",
      "{'loss': 0.2087, 'grad_norm': 10.670402526855469, 'learning_rate': 1.1851145038167939e-05, 'epoch': 1.63}\n",
      "{'loss': 0.2001, 'grad_norm': 1.1702940464019775, 'learning_rate': 1.1832061068702292e-05, 'epoch': 1.63}\n",
      "{'loss': 0.3542, 'grad_norm': 14.97171401977539, 'learning_rate': 1.1812977099236643e-05, 'epoch': 1.64}\n",
      "{'loss': 0.1866, 'grad_norm': 0.2676374018192291, 'learning_rate': 1.1793893129770992e-05, 'epoch': 1.64}\n",
      "{'loss': 0.2499, 'grad_norm': 10.820968627929688, 'learning_rate': 1.1774809160305345e-05, 'epoch': 1.65}\n",
      "{'loss': 0.4047, 'grad_norm': 4.644257068634033, 'learning_rate': 1.1755725190839696e-05, 'epoch': 1.65}\n",
      "{'loss': 0.1494, 'grad_norm': 4.220635890960693, 'learning_rate': 1.1736641221374047e-05, 'epoch': 1.65}\n",
      "{'loss': 0.1536, 'grad_norm': 15.666851997375488, 'learning_rate': 1.1717557251908398e-05, 'epoch': 1.66}\n",
      "{'loss': 0.3688, 'grad_norm': 2.6254971027374268, 'learning_rate': 1.1698473282442748e-05, 'epoch': 1.66}\n",
      "{'loss': 0.3488, 'grad_norm': 3.9592230319976807, 'learning_rate': 1.16793893129771e-05, 'epoch': 1.66}\n",
      "{'loss': 0.2484, 'grad_norm': 11.084720611572266, 'learning_rate': 1.1660305343511452e-05, 'epoch': 1.67}\n",
      "{'loss': 0.0839, 'grad_norm': 1.847743272781372, 'learning_rate': 1.1641221374045803e-05, 'epoch': 1.67}\n",
      "{'loss': 0.3612, 'grad_norm': 6.823971748352051, 'learning_rate': 1.1622137404580154e-05, 'epoch': 1.68}\n",
      "{'loss': 0.0898, 'grad_norm': 19.57090187072754, 'learning_rate': 1.1603053435114503e-05, 'epoch': 1.68}\n",
      "{'loss': 0.2149, 'grad_norm': 23.121450424194336, 'learning_rate': 1.1583969465648856e-05, 'epoch': 1.68}\n",
      "{'loss': 0.395, 'grad_norm': 0.09760096669197083, 'learning_rate': 1.1564885496183207e-05, 'epoch': 1.69}\n",
      "{'loss': 0.2162, 'grad_norm': 0.32321685552597046, 'learning_rate': 1.1545801526717557e-05, 'epoch': 1.69}\n",
      "{'loss': 0.3412, 'grad_norm': 3.3523013591766357, 'learning_rate': 1.152671755725191e-05, 'epoch': 1.69}\n",
      "{'loss': 0.1885, 'grad_norm': 6.504211902618408, 'learning_rate': 1.150763358778626e-05, 'epoch': 1.7}\n",
      "{'loss': 0.3353, 'grad_norm': 2.4171125888824463, 'learning_rate': 1.1488549618320612e-05, 'epoch': 1.7}\n",
      "{'loss': 0.3286, 'grad_norm': 12.779980659484863, 'learning_rate': 1.1469465648854963e-05, 'epoch': 1.71}\n",
      "{'loss': 0.2277, 'grad_norm': 2.125241756439209, 'learning_rate': 1.1450381679389312e-05, 'epoch': 1.71}\n",
      "{'loss': 0.3023, 'grad_norm': 5.435418605804443, 'learning_rate': 1.1431297709923665e-05, 'epoch': 1.71}\n",
      "{'loss': 0.4909, 'grad_norm': 9.534574508666992, 'learning_rate': 1.1412213740458016e-05, 'epoch': 1.72}\n"
     ]
    },
    {
     "data": {
      "application/vnd.jupyter.widget-view+json": {
       "model_id": "5086bb9810824966bfc2b2eaeab57105",
       "version_major": 2,
       "version_minor": 0
      },
      "text/plain": [
       "  0%|          | 0/48 [00:00<?, ?it/s]"
      ]
     },
     "metadata": {},
     "output_type": "display_data"
    },
    {
     "name": "stdout",
     "output_type": "stream",
     "text": [
      "{'eval_loss': 0.3869473934173584, 'eval_accuracy': 0.8697916666666666, 'eval_runtime': 39.4568, 'eval_samples_per_second': 19.464, 'eval_steps_per_second': 1.217, 'epoch': 1.72}\n",
      "{'loss': 0.1562, 'grad_norm': 8.081207275390625, 'learning_rate': 1.1393129770992369e-05, 'epoch': 1.72}\n",
      "{'loss': 0.2906, 'grad_norm': 0.13061267137527466, 'learning_rate': 1.1374045801526718e-05, 'epoch': 1.73}\n",
      "{'loss': 0.3291, 'grad_norm': 20.25176239013672, 'learning_rate': 1.135496183206107e-05, 'epoch': 1.73}\n",
      "{'loss': 0.2453, 'grad_norm': 6.555213451385498, 'learning_rate': 1.133587786259542e-05, 'epoch': 1.73}\n",
      "{'loss': 0.2018, 'grad_norm': 7.30574893951416, 'learning_rate': 1.1316793893129772e-05, 'epoch': 1.74}\n",
      "{'loss': 0.1838, 'grad_norm': 0.5705980658531189, 'learning_rate': 1.1297709923664125e-05, 'epoch': 1.74}\n",
      "{'loss': 0.3289, 'grad_norm': 16.68720817565918, 'learning_rate': 1.1278625954198474e-05, 'epoch': 1.74}\n",
      "{'loss': 0.3884, 'grad_norm': 32.546539306640625, 'learning_rate': 1.1259541984732825e-05, 'epoch': 1.75}\n",
      "{'loss': 0.1797, 'grad_norm': 16.024288177490234, 'learning_rate': 1.1240458015267178e-05, 'epoch': 1.75}\n",
      "{'loss': 0.3952, 'grad_norm': 0.42210179567337036, 'learning_rate': 1.1221374045801527e-05, 'epoch': 1.76}\n",
      "{'loss': 0.3127, 'grad_norm': 7.675723552703857, 'learning_rate': 1.1202290076335879e-05, 'epoch': 1.76}\n",
      "{'loss': 0.133, 'grad_norm': 0.35702571272850037, 'learning_rate': 1.118320610687023e-05, 'epoch': 1.76}\n",
      "{'loss': 0.1821, 'grad_norm': 8.358406066894531, 'learning_rate': 1.116412213740458e-05, 'epoch': 1.77}\n",
      "{'loss': 0.35, 'grad_norm': 0.7416350841522217, 'learning_rate': 1.1145038167938934e-05, 'epoch': 1.77}\n",
      "{'loss': 0.2733, 'grad_norm': 13.634087562561035, 'learning_rate': 1.1125954198473283e-05, 'epoch': 1.77}\n",
      "{'loss': 0.273, 'grad_norm': 0.4703364968299866, 'learning_rate': 1.1106870229007634e-05, 'epoch': 1.78}\n",
      "{'loss': 0.1542, 'grad_norm': 13.530250549316406, 'learning_rate': 1.1087786259541985e-05, 'epoch': 1.78}\n",
      "{'loss': 0.1743, 'grad_norm': 7.786754131317139, 'learning_rate': 1.1068702290076336e-05, 'epoch': 1.79}\n",
      "{'loss': 0.1424, 'grad_norm': 16.81918716430664, 'learning_rate': 1.104961832061069e-05, 'epoch': 1.79}\n",
      "{'loss': 0.2596, 'grad_norm': 13.8143892288208, 'learning_rate': 1.1030534351145039e-05, 'epoch': 1.79}\n",
      "{'loss': 0.3512, 'grad_norm': 1.3033084869384766, 'learning_rate': 1.101145038167939e-05, 'epoch': 1.8}\n",
      "{'loss': 0.2401, 'grad_norm': 22.314807891845703, 'learning_rate': 1.0992366412213743e-05, 'epoch': 1.8}\n",
      "{'loss': 0.3666, 'grad_norm': 19.72898292541504, 'learning_rate': 1.0973282442748092e-05, 'epoch': 1.81}\n",
      "{'loss': 0.2619, 'grad_norm': 21.58283042907715, 'learning_rate': 1.0954198473282445e-05, 'epoch': 1.81}\n",
      "{'loss': 0.2922, 'grad_norm': 7.543671131134033, 'learning_rate': 1.0935114503816794e-05, 'epoch': 1.81}\n",
      "{'loss': 0.1537, 'grad_norm': 1.16761314868927, 'learning_rate': 1.0916030534351145e-05, 'epoch': 1.82}\n",
      "{'loss': 0.1947, 'grad_norm': 21.312406539916992, 'learning_rate': 1.0896946564885498e-05, 'epoch': 1.82}\n",
      "{'loss': 0.2655, 'grad_norm': 3.2565314769744873, 'learning_rate': 1.0877862595419848e-05, 'epoch': 1.82}\n",
      "{'loss': 0.2004, 'grad_norm': 12.381879806518555, 'learning_rate': 1.0858778625954199e-05, 'epoch': 1.83}\n",
      "{'loss': 0.4684, 'grad_norm': 10.945475578308105, 'learning_rate': 1.0839694656488552e-05, 'epoch': 1.83}\n",
      "{'loss': 0.2875, 'grad_norm': 9.312817573547363, 'learning_rate': 1.0820610687022901e-05, 'epoch': 1.84}\n",
      "{'loss': 0.2068, 'grad_norm': 7.462341785430908, 'learning_rate': 1.0801526717557254e-05, 'epoch': 1.84}\n",
      "{'loss': 0.3188, 'grad_norm': 19.812362670898438, 'learning_rate': 1.0782442748091603e-05, 'epoch': 1.84}\n",
      "{'loss': 0.2029, 'grad_norm': 0.24865145981311798, 'learning_rate': 1.0763358778625954e-05, 'epoch': 1.85}\n",
      "{'loss': 0.2004, 'grad_norm': 9.229585647583008, 'learning_rate': 1.0744274809160307e-05, 'epoch': 1.85}\n",
      "{'loss': 0.2533, 'grad_norm': 4.916479110717773, 'learning_rate': 1.0725190839694657e-05, 'epoch': 1.85}\n",
      "{'loss': 0.3238, 'grad_norm': 11.469694137573242, 'learning_rate': 1.070610687022901e-05, 'epoch': 1.86}\n",
      "{'loss': 0.2885, 'grad_norm': 16.483970642089844, 'learning_rate': 1.068702290076336e-05, 'epoch': 1.86}\n",
      "{'loss': 0.1655, 'grad_norm': 0.34795644879341125, 'learning_rate': 1.066793893129771e-05, 'epoch': 1.87}\n",
      "{'loss': 0.1939, 'grad_norm': 0.2532334625720978, 'learning_rate': 1.0648854961832063e-05, 'epoch': 1.87}\n",
      "{'loss': 0.2977, 'grad_norm': 0.8196232318878174, 'learning_rate': 1.0629770992366412e-05, 'epoch': 1.87}\n",
      "{'loss': 0.1202, 'grad_norm': 32.964515686035156, 'learning_rate': 1.0610687022900765e-05, 'epoch': 1.88}\n",
      "{'loss': 0.4604, 'grad_norm': 11.296513557434082, 'learning_rate': 1.0591603053435116e-05, 'epoch': 1.88}\n",
      "{'loss': 0.2707, 'grad_norm': 14.00468635559082, 'learning_rate': 1.0572519083969465e-05, 'epoch': 1.89}\n",
      "{'loss': 0.2184, 'grad_norm': 8.325223922729492, 'learning_rate': 1.0553435114503818e-05, 'epoch': 1.89}\n",
      "{'loss': 0.1851, 'grad_norm': 0.29964616894721985, 'learning_rate': 1.0534351145038168e-05, 'epoch': 1.89}\n",
      "{'loss': 0.1948, 'grad_norm': 0.19797611236572266, 'learning_rate': 1.0515267175572519e-05, 'epoch': 1.9}\n",
      "{'loss': 0.1981, 'grad_norm': 8.501307487487793, 'learning_rate': 1.0496183206106872e-05, 'epoch': 1.9}\n",
      "{'loss': 0.2498, 'grad_norm': 11.81795597076416, 'learning_rate': 1.0477099236641221e-05, 'epoch': 1.9}\n",
      "{'loss': 0.3009, 'grad_norm': 10.419086456298828, 'learning_rate': 1.0458015267175574e-05, 'epoch': 1.91}\n"
     ]
    },
    {
     "data": {
      "application/vnd.jupyter.widget-view+json": {
       "model_id": "aecbf2bcdc6b4854aea8e0dd6682f3a2",
       "version_major": 2,
       "version_minor": 0
      },
      "text/plain": [
       "  0%|          | 0/48 [00:00<?, ?it/s]"
      ]
     },
     "metadata": {},
     "output_type": "display_data"
    },
    {
     "name": "stdout",
     "output_type": "stream",
     "text": [
      "{'eval_loss': 0.26207318902015686, 'eval_accuracy': 0.9153645833333334, 'eval_runtime': 37.9845, 'eval_samples_per_second': 20.219, 'eval_steps_per_second': 1.264, 'epoch': 1.91}\n",
      "{'loss': 0.2589, 'grad_norm': 19.93729591369629, 'learning_rate': 1.0438931297709925e-05, 'epoch': 1.91}\n",
      "{'loss': 0.2708, 'grad_norm': 0.6772887706756592, 'learning_rate': 1.0419847328244274e-05, 'epoch': 1.92}\n",
      "{'loss': 0.2541, 'grad_norm': 12.062906265258789, 'learning_rate': 1.0400763358778627e-05, 'epoch': 1.92}\n",
      "{'loss': 0.3142, 'grad_norm': 36.21210861206055, 'learning_rate': 1.0381679389312977e-05, 'epoch': 1.92}\n",
      "{'loss': 0.2464, 'grad_norm': 16.43659019470215, 'learning_rate': 1.036259541984733e-05, 'epoch': 1.93}\n",
      "{'loss': 0.2321, 'grad_norm': 5.877859592437744, 'learning_rate': 1.034351145038168e-05, 'epoch': 1.93}\n",
      "{'loss': 0.3302, 'grad_norm': 15.939898490905762, 'learning_rate': 1.032442748091603e-05, 'epoch': 1.94}\n",
      "{'loss': 0.2147, 'grad_norm': 17.8555965423584, 'learning_rate': 1.0305343511450383e-05, 'epoch': 1.94}\n",
      "{'loss': 0.1885, 'grad_norm': 26.44241714477539, 'learning_rate': 1.0286259541984734e-05, 'epoch': 1.94}\n",
      "{'loss': 0.221, 'grad_norm': 0.2794974446296692, 'learning_rate': 1.0267175572519085e-05, 'epoch': 1.95}\n",
      "{'loss': 0.3611, 'grad_norm': 11.85400676727295, 'learning_rate': 1.0248091603053436e-05, 'epoch': 1.95}\n",
      "{'loss': 0.2598, 'grad_norm': 0.7186496257781982, 'learning_rate': 1.0229007633587786e-05, 'epoch': 1.95}\n",
      "{'loss': 0.1433, 'grad_norm': 0.1181771531701088, 'learning_rate': 1.0209923664122138e-05, 'epoch': 1.96}\n",
      "{'loss': 0.3104, 'grad_norm': 2.9964027404785156, 'learning_rate': 1.019083969465649e-05, 'epoch': 1.96}\n",
      "{'loss': 0.1769, 'grad_norm': 16.702659606933594, 'learning_rate': 1.0171755725190839e-05, 'epoch': 1.97}\n",
      "{'loss': 0.1321, 'grad_norm': 0.5576766133308411, 'learning_rate': 1.0152671755725192e-05, 'epoch': 1.97}\n",
      "{'loss': 0.1937, 'grad_norm': 21.374710083007812, 'learning_rate': 1.0133587786259543e-05, 'epoch': 1.97}\n",
      "{'loss': 0.384, 'grad_norm': 16.479991912841797, 'learning_rate': 1.0114503816793894e-05, 'epoch': 1.98}\n",
      "{'loss': 0.2973, 'grad_norm': 14.098455429077148, 'learning_rate': 1.0095419847328245e-05, 'epoch': 1.98}\n",
      "{'loss': 0.1711, 'grad_norm': 2.845771551132202, 'learning_rate': 1.0076335877862595e-05, 'epoch': 1.98}\n",
      "{'loss': 0.1468, 'grad_norm': 0.36048927903175354, 'learning_rate': 1.0057251908396947e-05, 'epoch': 1.99}\n",
      "{'loss': 0.2927, 'grad_norm': 12.001128196716309, 'learning_rate': 1.0038167938931299e-05, 'epoch': 1.99}\n",
      "{'loss': 0.2607, 'grad_norm': 0.9295212626457214, 'learning_rate': 1.001908396946565e-05, 'epoch': 2.0}\n",
      "{'loss': 0.1122, 'grad_norm': 1.1116600036621094, 'learning_rate': 1e-05, 'epoch': 2.0}\n",
      "{'loss': 0.108, 'grad_norm': 18.777006149291992, 'learning_rate': 9.980916030534352e-06, 'epoch': 2.0}\n",
      "{'loss': 0.034, 'grad_norm': 0.10688883066177368, 'learning_rate': 9.961832061068703e-06, 'epoch': 2.01}\n",
      "{'loss': 0.0973, 'grad_norm': 0.400850385427475, 'learning_rate': 9.942748091603054e-06, 'epoch': 2.01}\n",
      "{'loss': 0.1886, 'grad_norm': 34.060279846191406, 'learning_rate': 9.923664122137405e-06, 'epoch': 2.02}\n",
      "{'loss': 0.0576, 'grad_norm': 14.593374252319336, 'learning_rate': 9.904580152671756e-06, 'epoch': 2.02}\n",
      "{'loss': 0.1588, 'grad_norm': 2.078733444213867, 'learning_rate': 9.885496183206108e-06, 'epoch': 2.02}\n",
      "{'loss': 0.2069, 'grad_norm': 40.14658737182617, 'learning_rate': 9.866412213740459e-06, 'epoch': 2.03}\n",
      "{'loss': 0.258, 'grad_norm': 1.3952767848968506, 'learning_rate': 9.84732824427481e-06, 'epoch': 2.03}\n",
      "{'loss': 0.2555, 'grad_norm': 0.09329517930746078, 'learning_rate': 9.828244274809161e-06, 'epoch': 2.03}\n",
      "{'loss': 0.1472, 'grad_norm': 0.7539037466049194, 'learning_rate': 9.809160305343512e-06, 'epoch': 2.04}\n",
      "{'loss': 0.0383, 'grad_norm': 8.686538696289062, 'learning_rate': 9.790076335877863e-06, 'epoch': 2.04}\n",
      "{'loss': 0.0799, 'grad_norm': 0.062099505215883255, 'learning_rate': 9.770992366412214e-06, 'epoch': 2.05}\n",
      "{'loss': 0.1271, 'grad_norm': 30.60281753540039, 'learning_rate': 9.751908396946565e-06, 'epoch': 2.05}\n",
      "{'loss': 0.2594, 'grad_norm': 21.643983840942383, 'learning_rate': 9.732824427480917e-06, 'epoch': 2.05}\n",
      "{'loss': 0.1976, 'grad_norm': 2.598642110824585, 'learning_rate': 9.713740458015268e-06, 'epoch': 2.06}\n",
      "{'loss': 0.2263, 'grad_norm': 0.4939333200454712, 'learning_rate': 9.694656488549619e-06, 'epoch': 2.06}\n",
      "{'loss': 0.158, 'grad_norm': 6.6775126457214355, 'learning_rate': 9.67557251908397e-06, 'epoch': 2.06}\n",
      "{'loss': 0.1825, 'grad_norm': 19.6823673248291, 'learning_rate': 9.656488549618321e-06, 'epoch': 2.07}\n",
      "{'loss': 0.1626, 'grad_norm': 13.99374771118164, 'learning_rate': 9.637404580152672e-06, 'epoch': 2.07}\n",
      "{'loss': 0.2602, 'grad_norm': 2.019958972930908, 'learning_rate': 9.618320610687025e-06, 'epoch': 2.08}\n",
      "{'loss': 0.042, 'grad_norm': 11.580122947692871, 'learning_rate': 9.599236641221374e-06, 'epoch': 2.08}\n",
      "{'loss': 0.0604, 'grad_norm': 0.2726758122444153, 'learning_rate': 9.580152671755725e-06, 'epoch': 2.08}\n",
      "{'loss': 0.1245, 'grad_norm': 0.3945245146751404, 'learning_rate': 9.561068702290077e-06, 'epoch': 2.09}\n",
      "{'loss': 0.1231, 'grad_norm': 23.52063751220703, 'learning_rate': 9.54198473282443e-06, 'epoch': 2.09}\n",
      "{'loss': 0.3266, 'grad_norm': 22.069894790649414, 'learning_rate': 9.522900763358779e-06, 'epoch': 2.1}\n",
      "{'loss': 0.029, 'grad_norm': 20.958694458007812, 'learning_rate': 9.50381679389313e-06, 'epoch': 2.1}\n"
     ]
    },
    {
     "data": {
      "application/vnd.jupyter.widget-view+json": {
       "model_id": "20ada92fa9b94f76ae1663fdd3b77b68",
       "version_major": 2,
       "version_minor": 0
      },
      "text/plain": [
       "  0%|          | 0/48 [00:00<?, ?it/s]"
      ]
     },
     "metadata": {},
     "output_type": "display_data"
    },
    {
     "name": "stdout",
     "output_type": "stream",
     "text": [
      "{'eval_loss': 0.30510497093200684, 'eval_accuracy': 0.9192708333333334, 'eval_runtime': 38.4104, 'eval_samples_per_second': 19.995, 'eval_steps_per_second': 1.25, 'epoch': 2.1}\n",
      "{'loss': 0.0933, 'grad_norm': 20.136791229248047, 'learning_rate': 9.484732824427481e-06, 'epoch': 2.1}\n",
      "{'loss': 0.1284, 'grad_norm': 0.97950279712677, 'learning_rate': 9.465648854961834e-06, 'epoch': 2.11}\n",
      "{'loss': 0.2031, 'grad_norm': 3.167043924331665, 'learning_rate': 9.446564885496185e-06, 'epoch': 2.11}\n",
      "{'loss': 0.1916, 'grad_norm': 13.306791305541992, 'learning_rate': 9.427480916030534e-06, 'epoch': 2.11}\n",
      "{'loss': 0.0893, 'grad_norm': 0.254468709230423, 'learning_rate': 9.408396946564886e-06, 'epoch': 2.12}\n",
      "{'loss': 0.3082, 'grad_norm': 0.13270103931427002, 'learning_rate': 9.389312977099237e-06, 'epoch': 2.12}\n",
      "{'loss': 0.1103, 'grad_norm': 0.485128790140152, 'learning_rate': 9.37022900763359e-06, 'epoch': 2.13}\n",
      "{'loss': 0.2137, 'grad_norm': 6.281590461730957, 'learning_rate': 9.351145038167939e-06, 'epoch': 2.13}\n",
      "{'loss': 0.1318, 'grad_norm': 23.470224380493164, 'learning_rate': 9.33206106870229e-06, 'epoch': 2.13}\n",
      "{'loss': 0.0622, 'grad_norm': 0.331343412399292, 'learning_rate': 9.312977099236641e-06, 'epoch': 2.14}\n",
      "{'loss': 0.0602, 'grad_norm': 0.0862177237868309, 'learning_rate': 9.293893129770994e-06, 'epoch': 2.14}\n",
      "{'loss': 0.1592, 'grad_norm': 52.988372802734375, 'learning_rate': 9.274809160305345e-06, 'epoch': 2.15}\n",
      "{'loss': 0.2211, 'grad_norm': 31.9882869720459, 'learning_rate': 9.255725190839695e-06, 'epoch': 2.15}\n",
      "{'loss': 0.0576, 'grad_norm': 0.5430814623832703, 'learning_rate': 9.236641221374046e-06, 'epoch': 2.15}\n",
      "{'loss': 0.1573, 'grad_norm': 37.76466369628906, 'learning_rate': 9.217557251908398e-06, 'epoch': 2.16}\n",
      "{'loss': 0.2516, 'grad_norm': 0.06693120300769806, 'learning_rate': 9.19847328244275e-06, 'epoch': 2.16}\n",
      "{'loss': 0.0407, 'grad_norm': 0.11383529752492905, 'learning_rate': 9.179389312977099e-06, 'epoch': 2.16}\n",
      "{'loss': 0.212, 'grad_norm': 0.14943908154964447, 'learning_rate': 9.16030534351145e-06, 'epoch': 2.17}\n",
      "{'loss': 0.0379, 'grad_norm': 3.235365152359009, 'learning_rate': 9.141221374045803e-06, 'epoch': 2.17}\n",
      "{'loss': 0.1557, 'grad_norm': 15.468762397766113, 'learning_rate': 9.122137404580154e-06, 'epoch': 2.18}\n",
      "{'loss': 0.1533, 'grad_norm': 0.09257690608501434, 'learning_rate': 9.103053435114505e-06, 'epoch': 2.18}\n",
      "{'loss': 0.1444, 'grad_norm': 0.17474457621574402, 'learning_rate': 9.083969465648855e-06, 'epoch': 2.18}\n",
      "{'loss': 0.1959, 'grad_norm': 41.408138275146484, 'learning_rate': 9.064885496183207e-06, 'epoch': 2.19}\n",
      "{'loss': 0.0772, 'grad_norm': 0.11905165761709213, 'learning_rate': 9.045801526717559e-06, 'epoch': 2.19}\n",
      "{'loss': 0.1699, 'grad_norm': 0.09843230992555618, 'learning_rate': 9.02671755725191e-06, 'epoch': 2.19}\n",
      "{'loss': 0.1458, 'grad_norm': 0.1148279458284378, 'learning_rate': 9.007633587786259e-06, 'epoch': 2.2}\n",
      "{'loss': 0.1985, 'grad_norm': 0.2605721354484558, 'learning_rate': 8.988549618320612e-06, 'epoch': 2.2}\n",
      "{'loss': 0.1443, 'grad_norm': 0.11834987252950668, 'learning_rate': 8.969465648854963e-06, 'epoch': 2.21}\n",
      "{'loss': 0.1442, 'grad_norm': 0.1229328140616417, 'learning_rate': 8.950381679389314e-06, 'epoch': 2.21}\n",
      "{'loss': 0.2147, 'grad_norm': 14.821016311645508, 'learning_rate': 8.931297709923665e-06, 'epoch': 2.21}\n",
      "{'loss': 0.2991, 'grad_norm': 36.56275177001953, 'learning_rate': 8.912213740458016e-06, 'epoch': 2.22}\n",
      "{'loss': 0.1095, 'grad_norm': 0.1546381711959839, 'learning_rate': 8.893129770992368e-06, 'epoch': 2.22}\n",
      "{'loss': 0.1249, 'grad_norm': 14.813666343688965, 'learning_rate': 8.874045801526719e-06, 'epoch': 2.23}\n",
      "{'loss': 0.1899, 'grad_norm': 2.4618241786956787, 'learning_rate': 8.85496183206107e-06, 'epoch': 2.23}\n",
      "{'loss': 0.1609, 'grad_norm': 2.0950262546539307, 'learning_rate': 8.83587786259542e-06, 'epoch': 2.23}\n",
      "{'loss': 0.1162, 'grad_norm': 0.19184446334838867, 'learning_rate': 8.816793893129772e-06, 'epoch': 2.24}\n",
      "{'loss': 0.2328, 'grad_norm': 5.339219093322754, 'learning_rate': 8.797709923664123e-06, 'epoch': 2.24}\n",
      "{'loss': 0.2852, 'grad_norm': 3.617576837539673, 'learning_rate': 8.778625954198474e-06, 'epoch': 2.24}\n",
      "{'loss': 0.0811, 'grad_norm': 1.34220290184021, 'learning_rate': 8.759541984732825e-06, 'epoch': 2.25}\n",
      "{'loss': 0.2733, 'grad_norm': 1.2272061109542847, 'learning_rate': 8.740458015267176e-06, 'epoch': 2.25}\n",
      "{'loss': 0.0685, 'grad_norm': 11.245030403137207, 'learning_rate': 8.721374045801528e-06, 'epoch': 2.26}\n",
      "{'loss': 0.0986, 'grad_norm': 0.06519732624292374, 'learning_rate': 8.702290076335879e-06, 'epoch': 2.26}\n",
      "{'loss': 0.0636, 'grad_norm': 0.45813924074172974, 'learning_rate': 8.68320610687023e-06, 'epoch': 2.26}\n",
      "{'loss': 0.1348, 'grad_norm': 0.16983789205551147, 'learning_rate': 8.664122137404581e-06, 'epoch': 2.27}\n",
      "{'loss': 0.1032, 'grad_norm': 47.86185836791992, 'learning_rate': 8.645038167938932e-06, 'epoch': 2.27}\n",
      "{'loss': 0.0759, 'grad_norm': 0.13876491785049438, 'learning_rate': 8.625954198473283e-06, 'epoch': 2.27}\n",
      "{'loss': 0.2448, 'grad_norm': 23.97144889831543, 'learning_rate': 8.606870229007634e-06, 'epoch': 2.28}\n",
      "{'loss': 0.0147, 'grad_norm': 0.1157306581735611, 'learning_rate': 8.587786259541985e-06, 'epoch': 2.28}\n",
      "{'loss': 0.2492, 'grad_norm': 0.7908084392547607, 'learning_rate': 8.568702290076337e-06, 'epoch': 2.29}\n",
      "{'loss': 0.1537, 'grad_norm': 0.20029108226299286, 'learning_rate': 8.549618320610688e-06, 'epoch': 2.29}\n"
     ]
    },
    {
     "data": {
      "application/vnd.jupyter.widget-view+json": {
       "model_id": "8f6af536212a4f358e67a61c5aaf49f3",
       "version_major": 2,
       "version_minor": 0
      },
      "text/plain": [
       "  0%|          | 0/48 [00:00<?, ?it/s]"
      ]
     },
     "metadata": {},
     "output_type": "display_data"
    },
    {
     "name": "stdout",
     "output_type": "stream",
     "text": [
      "{'eval_loss': 0.34112048149108887, 'eval_accuracy': 0.90234375, 'eval_runtime': 38.831, 'eval_samples_per_second': 19.778, 'eval_steps_per_second': 1.236, 'epoch': 2.29}\n",
      "{'loss': 0.1135, 'grad_norm': 4.1303935050964355, 'learning_rate': 8.530534351145039e-06, 'epoch': 2.29}\n",
      "{'loss': 0.1948, 'grad_norm': 0.11243554949760437, 'learning_rate': 8.51145038167939e-06, 'epoch': 2.3}\n",
      "{'loss': 0.2259, 'grad_norm': 2.5493505001068115, 'learning_rate': 8.492366412213741e-06, 'epoch': 2.3}\n",
      "{'loss': 0.2569, 'grad_norm': 10.9332275390625, 'learning_rate': 8.473282442748092e-06, 'epoch': 2.31}\n",
      "{'loss': 0.1359, 'grad_norm': 1.6692614555358887, 'learning_rate': 8.454198473282443e-06, 'epoch': 2.31}\n",
      "{'loss': 0.1142, 'grad_norm': 0.24639663100242615, 'learning_rate': 8.435114503816794e-06, 'epoch': 2.31}\n",
      "{'loss': 0.2043, 'grad_norm': 0.4010794758796692, 'learning_rate': 8.416030534351146e-06, 'epoch': 2.32}\n",
      "{'loss': 0.0824, 'grad_norm': 1.49448561668396, 'learning_rate': 8.396946564885497e-06, 'epoch': 2.32}\n",
      "{'loss': 0.1271, 'grad_norm': 0.905429482460022, 'learning_rate': 8.377862595419848e-06, 'epoch': 2.32}\n",
      "{'loss': 0.1473, 'grad_norm': 0.3650897145271301, 'learning_rate': 8.358778625954199e-06, 'epoch': 2.33}\n",
      "{'loss': 0.109, 'grad_norm': 0.27149006724357605, 'learning_rate': 8.33969465648855e-06, 'epoch': 2.33}\n",
      "{'loss': 0.1497, 'grad_norm': 1.6135249137878418, 'learning_rate': 8.320610687022901e-06, 'epoch': 2.34}\n",
      "{'loss': 0.1228, 'grad_norm': 81.2297592163086, 'learning_rate': 8.301526717557252e-06, 'epoch': 2.34}\n",
      "{'loss': 0.1756, 'grad_norm': 4.974498271942139, 'learning_rate': 8.282442748091603e-06, 'epoch': 2.34}\n",
      "{'loss': 0.4441, 'grad_norm': 0.6664374470710754, 'learning_rate': 8.263358778625955e-06, 'epoch': 2.35}\n",
      "{'loss': 0.098, 'grad_norm': 17.07339859008789, 'learning_rate': 8.244274809160306e-06, 'epoch': 2.35}\n",
      "{'loss': 0.3067, 'grad_norm': 0.33059659600257874, 'learning_rate': 8.225190839694657e-06, 'epoch': 2.35}\n",
      "{'loss': 0.3478, 'grad_norm': 6.583033084869385, 'learning_rate': 8.206106870229008e-06, 'epoch': 2.36}\n",
      "{'loss': 0.1309, 'grad_norm': 0.19926030933856964, 'learning_rate': 8.187022900763359e-06, 'epoch': 2.36}\n",
      "{'loss': 0.2386, 'grad_norm': 22.652067184448242, 'learning_rate': 8.16793893129771e-06, 'epoch': 2.37}\n",
      "{'loss': 0.0265, 'grad_norm': 1.2236957550048828, 'learning_rate': 8.148854961832063e-06, 'epoch': 2.37}\n",
      "{'loss': 0.0519, 'grad_norm': 0.12613148987293243, 'learning_rate': 8.129770992366412e-06, 'epoch': 2.37}\n",
      "{'loss': 0.1885, 'grad_norm': 0.2678658068180084, 'learning_rate': 8.110687022900763e-06, 'epoch': 2.38}\n",
      "{'loss': 0.0679, 'grad_norm': 15.070816040039062, 'learning_rate': 8.091603053435115e-06, 'epoch': 2.38}\n",
      "{'loss': 0.1683, 'grad_norm': 0.4901755750179291, 'learning_rate': 8.072519083969467e-06, 'epoch': 2.39}\n",
      "{'loss': 0.0849, 'grad_norm': 1.8431373834609985, 'learning_rate': 8.053435114503817e-06, 'epoch': 2.39}\n",
      "{'loss': 0.2487, 'grad_norm': 0.07139873504638672, 'learning_rate': 8.034351145038168e-06, 'epoch': 2.39}\n",
      "{'loss': 0.1351, 'grad_norm': 3.541952133178711, 'learning_rate': 8.015267175572519e-06, 'epoch': 2.4}\n",
      "{'loss': 0.1014, 'grad_norm': 0.17605996131896973, 'learning_rate': 7.996183206106872e-06, 'epoch': 2.4}\n",
      "{'loss': 0.4218, 'grad_norm': 3.0562117099761963, 'learning_rate': 7.977099236641223e-06, 'epoch': 2.4}\n",
      "{'loss': 0.0544, 'grad_norm': 8.506631851196289, 'learning_rate': 7.958015267175572e-06, 'epoch': 2.41}\n",
      "{'loss': 0.214, 'grad_norm': 16.307538986206055, 'learning_rate': 7.938931297709924e-06, 'epoch': 2.41}\n",
      "{'loss': 0.1201, 'grad_norm': 0.10998223721981049, 'learning_rate': 7.919847328244276e-06, 'epoch': 2.42}\n",
      "{'loss': 0.0712, 'grad_norm': 6.231428146362305, 'learning_rate': 7.900763358778627e-06, 'epoch': 2.42}\n",
      "{'loss': 0.1778, 'grad_norm': 0.1302778273820877, 'learning_rate': 7.881679389312977e-06, 'epoch': 2.42}\n",
      "{'loss': 0.1686, 'grad_norm': 2.8521413803100586, 'learning_rate': 7.862595419847328e-06, 'epoch': 2.43}\n",
      "{'loss': 0.2573, 'grad_norm': 5.375421524047852, 'learning_rate': 7.843511450381681e-06, 'epoch': 2.43}\n",
      "{'loss': 0.1728, 'grad_norm': 0.06374391168355942, 'learning_rate': 7.824427480916032e-06, 'epoch': 2.44}\n",
      "{'loss': 0.1487, 'grad_norm': 1.2557481527328491, 'learning_rate': 7.805343511450383e-06, 'epoch': 2.44}\n",
      "{'loss': 0.1742, 'grad_norm': 51.74045181274414, 'learning_rate': 7.786259541984733e-06, 'epoch': 2.44}\n",
      "{'loss': 0.262, 'grad_norm': 0.15989413857460022, 'learning_rate': 7.767175572519084e-06, 'epoch': 2.45}\n",
      "{'loss': 0.0656, 'grad_norm': 0.564523458480835, 'learning_rate': 7.748091603053436e-06, 'epoch': 2.45}\n",
      "{'loss': 0.1531, 'grad_norm': 0.2889523506164551, 'learning_rate': 7.729007633587788e-06, 'epoch': 2.45}\n",
      "{'loss': 0.1574, 'grad_norm': 17.221790313720703, 'learning_rate': 7.709923664122137e-06, 'epoch': 2.46}\n",
      "{'loss': 0.0361, 'grad_norm': 0.15377575159072876, 'learning_rate': 7.690839694656488e-06, 'epoch': 2.46}\n",
      "{'loss': 0.2491, 'grad_norm': 2.9036951065063477, 'learning_rate': 7.671755725190841e-06, 'epoch': 2.47}\n",
      "{'loss': 0.1517, 'grad_norm': 0.570999801158905, 'learning_rate': 7.652671755725192e-06, 'epoch': 2.47}\n",
      "{'loss': 0.1822, 'grad_norm': 1.673203945159912, 'learning_rate': 7.633587786259543e-06, 'epoch': 2.47}\n",
      "{'loss': 0.1535, 'grad_norm': 0.12362850457429886, 'learning_rate': 7.6145038167938935e-06, 'epoch': 2.48}\n",
      "{'loss': 0.2177, 'grad_norm': 0.09499204158782959, 'learning_rate': 7.595419847328245e-06, 'epoch': 2.48}\n"
     ]
    },
    {
     "data": {
      "application/vnd.jupyter.widget-view+json": {
       "model_id": "196d536085e848a68652d811327b1743",
       "version_major": 2,
       "version_minor": 0
      },
      "text/plain": [
       "  0%|          | 0/48 [00:00<?, ?it/s]"
      ]
     },
     "metadata": {},
     "output_type": "display_data"
    },
    {
     "name": "stdout",
     "output_type": "stream",
     "text": [
      "{'eval_loss': 0.34681010246276855, 'eval_accuracy': 0.9049479166666666, 'eval_runtime': 188.894, 'eval_samples_per_second': 4.066, 'eval_steps_per_second': 0.254, 'epoch': 2.48}\n",
      "{'loss': 0.0565, 'grad_norm': 0.07635242491960526, 'learning_rate': 7.5763358778625966e-06, 'epoch': 2.48}\n",
      "{'loss': 0.2311, 'grad_norm': 0.10588251054286957, 'learning_rate': 7.557251908396948e-06, 'epoch': 2.49}\n",
      "{'loss': 0.0722, 'grad_norm': 3.31844425201416, 'learning_rate': 7.538167938931298e-06, 'epoch': 2.49}\n",
      "{'loss': 0.1606, 'grad_norm': 0.18084588646888733, 'learning_rate': 7.519083969465649e-06, 'epoch': 2.5}\n",
      "{'loss': 0.327, 'grad_norm': 7.961402893066406, 'learning_rate': 7.500000000000001e-06, 'epoch': 2.5}\n",
      "{'loss': 0.1244, 'grad_norm': 0.352988600730896, 'learning_rate': 7.480916030534352e-06, 'epoch': 2.5}\n",
      "{'loss': 0.0897, 'grad_norm': 1.2033518552780151, 'learning_rate': 7.461832061068703e-06, 'epoch': 2.51}\n",
      "{'loss': 0.2713, 'grad_norm': 0.8200973868370056, 'learning_rate': 7.4427480916030536e-06, 'epoch': 2.51}\n",
      "{'loss': 0.1903, 'grad_norm': 5.087281227111816, 'learning_rate': 7.423664122137405e-06, 'epoch': 2.52}\n",
      "{'loss': 0.0733, 'grad_norm': 0.10283482819795609, 'learning_rate': 7.404580152671757e-06, 'epoch': 2.52}\n",
      "{'loss': 0.0482, 'grad_norm': 0.10684315860271454, 'learning_rate': 7.385496183206108e-06, 'epoch': 2.52}\n",
      "{'loss': 0.1821, 'grad_norm': 0.1831422746181488, 'learning_rate': 7.366412213740458e-06, 'epoch': 2.53}\n",
      "{'loss': 0.1065, 'grad_norm': 5.62653112411499, 'learning_rate': 7.347328244274809e-06, 'epoch': 2.53}\n",
      "{'loss': 0.2048, 'grad_norm': 12.588824272155762, 'learning_rate': 7.328244274809161e-06, 'epoch': 2.53}\n",
      "{'loss': 0.1471, 'grad_norm': 0.043074797838926315, 'learning_rate': 7.309160305343512e-06, 'epoch': 2.54}\n",
      "{'loss': 0.0175, 'grad_norm': 1.5870862007141113, 'learning_rate': 7.290076335877863e-06, 'epoch': 2.54}\n",
      "{'loss': 0.1614, 'grad_norm': 0.0724419504404068, 'learning_rate': 7.270992366412214e-06, 'epoch': 2.55}\n",
      "{'loss': 0.1987, 'grad_norm': 0.1791779100894928, 'learning_rate': 7.251908396946566e-06, 'epoch': 2.55}\n",
      "{'loss': 0.0685, 'grad_norm': 0.05096633359789848, 'learning_rate': 7.232824427480917e-06, 'epoch': 2.55}\n",
      "{'loss': 0.0897, 'grad_norm': 0.05332425236701965, 'learning_rate': 7.213740458015268e-06, 'epoch': 2.56}\n",
      "{'loss': 0.1339, 'grad_norm': 105.98841857910156, 'learning_rate': 7.194656488549618e-06, 'epoch': 2.56}\n",
      "{'loss': 0.2012, 'grad_norm': 0.042191267013549805, 'learning_rate': 7.17557251908397e-06, 'epoch': 2.56}\n",
      "{'loss': 0.2045, 'grad_norm': 0.39673519134521484, 'learning_rate': 7.156488549618321e-06, 'epoch': 2.57}\n",
      "{'loss': 0.253, 'grad_norm': 14.997690200805664, 'learning_rate': 7.137404580152672e-06, 'epoch': 2.57}\n",
      "{'loss': 0.2708, 'grad_norm': 0.06769349426031113, 'learning_rate': 7.118320610687024e-06, 'epoch': 2.58}\n",
      "{'loss': 0.0776, 'grad_norm': 0.0619908832013607, 'learning_rate': 7.0992366412213746e-06, 'epoch': 2.58}\n",
      "{'loss': 0.0897, 'grad_norm': 0.18160797655582428, 'learning_rate': 7.080152671755726e-06, 'epoch': 2.58}\n",
      "{'loss': 0.1889, 'grad_norm': 0.09360195696353912, 'learning_rate': 7.061068702290077e-06, 'epoch': 2.59}\n",
      "{'loss': 0.1854, 'grad_norm': 10.569783210754395, 'learning_rate': 7.041984732824429e-06, 'epoch': 2.59}\n",
      "{'loss': 0.1802, 'grad_norm': 6.9961113929748535, 'learning_rate': 7.022900763358779e-06, 'epoch': 2.6}\n",
      "{'loss': 0.2547, 'grad_norm': 0.04748477041721344, 'learning_rate': 7.00381679389313e-06, 'epoch': 2.6}\n",
      "{'loss': 0.0661, 'grad_norm': 0.5725033283233643, 'learning_rate': 6.984732824427481e-06, 'epoch': 2.6}\n",
      "{'loss': 0.1824, 'grad_norm': 5.608346462249756, 'learning_rate': 6.965648854961833e-06, 'epoch': 2.61}\n",
      "{'loss': 0.013, 'grad_norm': 0.078522227704525, 'learning_rate': 6.946564885496184e-06, 'epoch': 2.61}\n",
      "{'loss': 0.0598, 'grad_norm': 1.1338908672332764, 'learning_rate': 6.927480916030535e-06, 'epoch': 2.61}\n",
      "{'loss': 0.0746, 'grad_norm': 0.1260664016008377, 'learning_rate': 6.908396946564886e-06, 'epoch': 2.62}\n",
      "{'loss': 0.1195, 'grad_norm': 0.04690580070018768, 'learning_rate': 6.889312977099237e-06, 'epoch': 2.62}\n",
      "{'loss': 0.1715, 'grad_norm': 0.09307853132486343, 'learning_rate': 6.870229007633589e-06, 'epoch': 2.63}\n",
      "{'loss': 0.062, 'grad_norm': 0.07366573810577393, 'learning_rate': 6.851145038167939e-06, 'epoch': 2.63}\n",
      "{'loss': 0.2891, 'grad_norm': 3.806788206100464, 'learning_rate': 6.83206106870229e-06, 'epoch': 2.63}\n",
      "{'loss': 0.1314, 'grad_norm': 7.8665266036987305, 'learning_rate': 6.812977099236641e-06, 'epoch': 2.64}\n",
      "{'loss': 0.0651, 'grad_norm': 0.17944537103176117, 'learning_rate': 6.793893129770993e-06, 'epoch': 2.64}\n",
      "{'loss': 0.0647, 'grad_norm': 5.431367874145508, 'learning_rate': 6.7748091603053445e-06, 'epoch': 2.65}\n",
      "{'loss': 0.1841, 'grad_norm': 3.435457706451416, 'learning_rate': 6.755725190839695e-06, 'epoch': 2.65}\n",
      "{'loss': 0.1983, 'grad_norm': 53.53519058227539, 'learning_rate': 6.736641221374046e-06, 'epoch': 2.65}\n",
      "{'loss': 0.2914, 'grad_norm': 49.345340728759766, 'learning_rate': 6.717557251908398e-06, 'epoch': 2.66}\n",
      "{'loss': 0.1828, 'grad_norm': 0.12071715295314789, 'learning_rate': 6.698473282442749e-06, 'epoch': 2.66}\n",
      "{'loss': 0.1894, 'grad_norm': 10.439457893371582, 'learning_rate': 6.679389312977099e-06, 'epoch': 2.66}\n",
      "{'loss': 0.1058, 'grad_norm': 7.008233070373535, 'learning_rate': 6.66030534351145e-06, 'epoch': 2.67}\n",
      "{'loss': 0.1558, 'grad_norm': 3.210334300994873, 'learning_rate': 6.641221374045802e-06, 'epoch': 2.67}\n"
     ]
    },
    {
     "data": {
      "application/vnd.jupyter.widget-view+json": {
       "model_id": "8863a61cf9794977a7f415ac4d003d1d",
       "version_major": 2,
       "version_minor": 0
      },
      "text/plain": [
       "  0%|          | 0/48 [00:00<?, ?it/s]"
      ]
     },
     "metadata": {},
     "output_type": "display_data"
    },
    {
     "name": "stdout",
     "output_type": "stream",
     "text": [
      "{'eval_loss': 0.3500773012638092, 'eval_accuracy': 0.9075520833333334, 'eval_runtime': 116.0406, 'eval_samples_per_second': 6.618, 'eval_steps_per_second': 0.414, 'epoch': 2.67}\n",
      "{'loss': 0.1343, 'grad_norm': 8.155163764953613, 'learning_rate': 6.6221374045801534e-06, 'epoch': 2.68}\n",
      "{'loss': 0.3252, 'grad_norm': 9.5454683303833, 'learning_rate': 6.6030534351145046e-06, 'epoch': 2.68}\n",
      "{'loss': 0.1222, 'grad_norm': 22.338550567626953, 'learning_rate': 6.583969465648855e-06, 'epoch': 2.68}\n",
      "{'loss': 0.1654, 'grad_norm': 0.4974415600299835, 'learning_rate': 6.564885496183207e-06, 'epoch': 2.69}\n",
      "{'loss': 0.1539, 'grad_norm': 0.15317018330097198, 'learning_rate': 6.545801526717558e-06, 'epoch': 2.69}\n",
      "{'loss': 0.0668, 'grad_norm': 0.23272329568862915, 'learning_rate': 6.526717557251909e-06, 'epoch': 2.69}\n",
      "{'loss': 0.0958, 'grad_norm': 0.08949902653694153, 'learning_rate': 6.507633587786259e-06, 'epoch': 2.7}\n",
      "{'loss': 0.1455, 'grad_norm': 4.653984546661377, 'learning_rate': 6.488549618320611e-06, 'epoch': 2.7}\n",
      "{'loss': 0.1978, 'grad_norm': 0.3242846429347992, 'learning_rate': 6.469465648854962e-06, 'epoch': 2.71}\n",
      "{'loss': 0.0601, 'grad_norm': 22.163450241088867, 'learning_rate': 6.4503816793893135e-06, 'epoch': 2.71}\n",
      "{'loss': 0.1168, 'grad_norm': 0.11772594600915909, 'learning_rate': 6.4312977099236655e-06, 'epoch': 2.71}\n",
      "{'loss': 0.065, 'grad_norm': 0.05409695953130722, 'learning_rate': 6.412213740458016e-06, 'epoch': 2.72}\n",
      "{'loss': 0.0642, 'grad_norm': 0.1125057265162468, 'learning_rate': 6.393129770992367e-06, 'epoch': 2.72}\n",
      "{'loss': 0.1866, 'grad_norm': 3.1182432174682617, 'learning_rate': 6.374045801526718e-06, 'epoch': 2.73}\n",
      "{'loss': 0.0778, 'grad_norm': 3.3904342651367188, 'learning_rate': 6.354961832061069e-06, 'epoch': 2.73}\n",
      "{'loss': 0.2266, 'grad_norm': 2.1197164058685303, 'learning_rate': 6.335877862595419e-06, 'epoch': 2.73}\n",
      "{'loss': 0.1149, 'grad_norm': 0.06618840247392654, 'learning_rate': 6.316793893129771e-06, 'epoch': 2.74}\n",
      "{'loss': 0.2552, 'grad_norm': 28.965538024902344, 'learning_rate': 6.2977099236641225e-06, 'epoch': 2.74}\n",
      "{'loss': 0.0946, 'grad_norm': 0.07119864970445633, 'learning_rate': 6.278625954198474e-06, 'epoch': 2.74}\n",
      "{'loss': 0.0779, 'grad_norm': 0.17550449073314667, 'learning_rate': 6.259541984732826e-06, 'epoch': 2.75}\n",
      "{'loss': 0.132, 'grad_norm': 0.11478663235902786, 'learning_rate': 6.240458015267176e-06, 'epoch': 2.75}\n",
      "{'loss': 0.1346, 'grad_norm': 4.7536540031433105, 'learning_rate': 6.221374045801527e-06, 'epoch': 2.76}\n",
      "{'loss': 0.0742, 'grad_norm': 0.04965099319815636, 'learning_rate': 6.202290076335878e-06, 'epoch': 2.76}\n",
      "{'loss': 0.0121, 'grad_norm': 0.05780647322535515, 'learning_rate': 6.18320610687023e-06, 'epoch': 2.76}\n",
      "{'loss': 0.0668, 'grad_norm': 14.618953704833984, 'learning_rate': 6.164122137404581e-06, 'epoch': 2.77}\n",
      "{'loss': 0.1311, 'grad_norm': 0.09411638230085373, 'learning_rate': 6.1450381679389315e-06, 'epoch': 2.77}\n",
      "{'loss': 0.0412, 'grad_norm': 0.12612998485565186, 'learning_rate': 6.125954198473283e-06, 'epoch': 2.77}\n",
      "{'loss': 0.0265, 'grad_norm': 0.06915730237960815, 'learning_rate': 6.1068702290076346e-06, 'epoch': 2.78}\n",
      "{'loss': 0.1165, 'grad_norm': 0.4091792404651642, 'learning_rate': 6.087786259541986e-06, 'epoch': 2.78}\n",
      "{'loss': 0.0246, 'grad_norm': 0.05311562493443489, 'learning_rate': 6.068702290076336e-06, 'epoch': 2.79}\n",
      "{'loss': 0.0367, 'grad_norm': 0.05036070942878723, 'learning_rate': 6.049618320610687e-06, 'epoch': 2.79}\n",
      "{'loss': 0.0446, 'grad_norm': 0.559369683265686, 'learning_rate': 6.030534351145039e-06, 'epoch': 2.79}\n",
      "{'loss': 0.1821, 'grad_norm': 0.5476996302604675, 'learning_rate': 6.01145038167939e-06, 'epoch': 2.8}\n",
      "{'loss': 0.0834, 'grad_norm': 0.17734776437282562, 'learning_rate': 5.992366412213741e-06, 'epoch': 2.8}\n",
      "{'loss': 0.0331, 'grad_norm': 14.258018493652344, 'learning_rate': 5.9732824427480916e-06, 'epoch': 2.81}\n",
      "{'loss': 0.211, 'grad_norm': 51.40697479248047, 'learning_rate': 5.9541984732824435e-06, 'epoch': 2.81}\n",
      "{'loss': 0.049, 'grad_norm': 0.04235875979065895, 'learning_rate': 5.935114503816795e-06, 'epoch': 2.81}\n",
      "{'loss': 0.0362, 'grad_norm': 2.3386669158935547, 'learning_rate': 5.916030534351146e-06, 'epoch': 2.82}\n",
      "{'loss': 0.0503, 'grad_norm': 0.8181807398796082, 'learning_rate': 5.896946564885496e-06, 'epoch': 2.82}\n",
      "{'loss': 0.1896, 'grad_norm': 0.08099288493394852, 'learning_rate': 5.877862595419848e-06, 'epoch': 2.82}\n",
      "{'loss': 0.0669, 'grad_norm': 119.1917495727539, 'learning_rate': 5.858778625954199e-06, 'epoch': 2.83}\n",
      "{'loss': 0.2295, 'grad_norm': 27.91147232055664, 'learning_rate': 5.83969465648855e-06, 'epoch': 2.83}\n",
      "{'loss': 0.2926, 'grad_norm': 0.3414357304573059, 'learning_rate': 5.820610687022901e-06, 'epoch': 2.84}\n",
      "{'loss': 0.2189, 'grad_norm': 5.4417805671691895, 'learning_rate': 5.801526717557252e-06, 'epoch': 2.84}\n",
      "{'loss': 0.1372, 'grad_norm': 0.04491332173347473, 'learning_rate': 5.782442748091604e-06, 'epoch': 2.84}\n",
      "{'loss': 0.1778, 'grad_norm': 0.04311933368444443, 'learning_rate': 5.763358778625955e-06, 'epoch': 2.85}\n",
      "{'loss': 0.0932, 'grad_norm': 0.05853623151779175, 'learning_rate': 5.744274809160306e-06, 'epoch': 2.85}\n",
      "{'loss': 0.088, 'grad_norm': 25.082014083862305, 'learning_rate': 5.725190839694656e-06, 'epoch': 2.85}\n",
      "{'loss': 0.2301, 'grad_norm': 36.97537612915039, 'learning_rate': 5.706106870229008e-06, 'epoch': 2.86}\n",
      "{'loss': 0.1159, 'grad_norm': 0.05483625456690788, 'learning_rate': 5.687022900763359e-06, 'epoch': 2.86}\n"
     ]
    },
    {
     "data": {
      "application/vnd.jupyter.widget-view+json": {
       "model_id": "c745acd5ff1a4a0db509c61a21928c6a",
       "version_major": 2,
       "version_minor": 0
      },
      "text/plain": [
       "  0%|          | 0/48 [00:00<?, ?it/s]"
      ]
     },
     "metadata": {},
     "output_type": "display_data"
    },
    {
     "name": "stdout",
     "output_type": "stream",
     "text": [
      "{'eval_loss': 0.3627554476261139, 'eval_accuracy': 0.9114583333333334, 'eval_runtime': 145.7074, 'eval_samples_per_second': 5.271, 'eval_steps_per_second': 0.329, 'epoch': 2.86}\n",
      "{'loss': 0.2213, 'grad_norm': 0.03610485419631004, 'learning_rate': 5.66793893129771e-06, 'epoch': 2.87}\n",
      "{'loss': 0.144, 'grad_norm': 0.826445460319519, 'learning_rate': 5.648854961832062e-06, 'epoch': 2.87}\n",
      "{'loss': 0.1305, 'grad_norm': 0.1436082422733307, 'learning_rate': 5.6297709923664126e-06, 'epoch': 2.87}\n",
      "{'loss': 0.0791, 'grad_norm': 35.430938720703125, 'learning_rate': 5.610687022900764e-06, 'epoch': 2.88}\n",
      "{'loss': 0.1618, 'grad_norm': 6.144839763641357, 'learning_rate': 5.591603053435115e-06, 'epoch': 2.88}\n",
      "{'loss': 0.1649, 'grad_norm': 0.17348115146160126, 'learning_rate': 5.572519083969467e-06, 'epoch': 2.89}\n",
      "{'loss': 0.1822, 'grad_norm': 3.0512537956237793, 'learning_rate': 5.553435114503817e-06, 'epoch': 2.89}\n",
      "{'loss': 0.1187, 'grad_norm': 9.641916275024414, 'learning_rate': 5.534351145038168e-06, 'epoch': 2.89}\n",
      "{'loss': 0.3038, 'grad_norm': 9.579526901245117, 'learning_rate': 5.515267175572519e-06, 'epoch': 2.9}\n",
      "{'loss': 0.109, 'grad_norm': 0.07910074293613434, 'learning_rate': 5.496183206106871e-06, 'epoch': 2.9}\n",
      "{'loss': 0.1352, 'grad_norm': 0.10956815630197525, 'learning_rate': 5.477099236641222e-06, 'epoch': 2.9}\n",
      "{'loss': 0.1349, 'grad_norm': 0.03717201575636864, 'learning_rate': 5.458015267175573e-06, 'epoch': 2.91}\n",
      "{'loss': 0.0789, 'grad_norm': 0.0933041200041771, 'learning_rate': 5.438931297709924e-06, 'epoch': 2.91}\n",
      "{'loss': 0.2375, 'grad_norm': 0.31699126958847046, 'learning_rate': 5.419847328244276e-06, 'epoch': 2.92}\n",
      "{'loss': 0.0782, 'grad_norm': 0.971560001373291, 'learning_rate': 5.400763358778627e-06, 'epoch': 2.92}\n",
      "{'loss': 0.1735, 'grad_norm': 0.12831677496433258, 'learning_rate': 5.381679389312977e-06, 'epoch': 2.92}\n",
      "{'loss': 0.1387, 'grad_norm': 0.05465700849890709, 'learning_rate': 5.362595419847328e-06, 'epoch': 2.93}\n",
      "{'loss': 0.106, 'grad_norm': 3.6540513038635254, 'learning_rate': 5.34351145038168e-06, 'epoch': 2.93}\n",
      "{'loss': 0.0372, 'grad_norm': 0.30521485209465027, 'learning_rate': 5.324427480916031e-06, 'epoch': 2.94}\n",
      "{'loss': 0.1342, 'grad_norm': 0.329851895570755, 'learning_rate': 5.3053435114503825e-06, 'epoch': 2.94}\n",
      "{'loss': 0.2267, 'grad_norm': 2.1177079677581787, 'learning_rate': 5.286259541984733e-06, 'epoch': 2.94}\n",
      "{'loss': 0.0867, 'grad_norm': 55.22713088989258, 'learning_rate': 5.267175572519084e-06, 'epoch': 2.95}\n",
      "{'loss': 0.0577, 'grad_norm': 0.09623806178569794, 'learning_rate': 5.248091603053436e-06, 'epoch': 2.95}\n",
      "{'loss': 0.1956, 'grad_norm': 0.13360971212387085, 'learning_rate': 5.229007633587787e-06, 'epoch': 2.95}\n",
      "{'loss': 0.2052, 'grad_norm': 6.663537502288818, 'learning_rate': 5.209923664122137e-06, 'epoch': 2.96}\n",
      "{'loss': 0.1834, 'grad_norm': 0.04137129336595535, 'learning_rate': 5.190839694656488e-06, 'epoch': 2.96}\n",
      "{'loss': 0.1312, 'grad_norm': 32.83381652832031, 'learning_rate': 5.17175572519084e-06, 'epoch': 2.97}\n",
      "{'loss': 0.2305, 'grad_norm': 8.478724479675293, 'learning_rate': 5.1526717557251914e-06, 'epoch': 2.97}\n",
      "{'loss': 0.0321, 'grad_norm': 0.0747564360499382, 'learning_rate': 5.1335877862595426e-06, 'epoch': 2.97}\n",
      "{'loss': 0.1348, 'grad_norm': 0.6761863231658936, 'learning_rate': 5.114503816793893e-06, 'epoch': 2.98}\n",
      "{'loss': 0.1775, 'grad_norm': 0.5076038837432861, 'learning_rate': 5.095419847328245e-06, 'epoch': 2.98}\n",
      "{'loss': 0.143, 'grad_norm': 42.141845703125, 'learning_rate': 5.076335877862596e-06, 'epoch': 2.98}\n",
      "{'loss': 0.2154, 'grad_norm': 0.23336508870124817, 'learning_rate': 5.057251908396947e-06, 'epoch': 2.99}\n",
      "{'loss': 0.1417, 'grad_norm': 4.823149681091309, 'learning_rate': 5.038167938931297e-06, 'epoch': 2.99}\n",
      "{'loss': 0.1538, 'grad_norm': 0.1119612529873848, 'learning_rate': 5.019083969465649e-06, 'epoch': 3.0}\n",
      "{'loss': 0.021, 'grad_norm': 0.03918857127428055, 'learning_rate': 5e-06, 'epoch': 3.0}\n",
      "{'loss': 0.1453, 'grad_norm': 3.056797504425049, 'learning_rate': 4.9809160305343515e-06, 'epoch': 3.0}\n",
      "{'loss': 0.04, 'grad_norm': 0.17008662223815918, 'learning_rate': 4.961832061068703e-06, 'epoch': 3.01}\n",
      "{'loss': 0.0424, 'grad_norm': 8.053736686706543, 'learning_rate': 4.942748091603054e-06, 'epoch': 3.01}\n",
      "{'loss': 0.0093, 'grad_norm': 0.1997680366039276, 'learning_rate': 4.923664122137405e-06, 'epoch': 3.02}\n",
      "{'loss': 0.1163, 'grad_norm': 48.15459442138672, 'learning_rate': 4.904580152671756e-06, 'epoch': 3.02}\n",
      "{'loss': 0.0197, 'grad_norm': 0.12386906892061234, 'learning_rate': 4.885496183206107e-06, 'epoch': 3.02}\n",
      "{'loss': 0.0503, 'grad_norm': 0.23289448022842407, 'learning_rate': 4.866412213740458e-06, 'epoch': 3.03}\n",
      "{'loss': 0.0848, 'grad_norm': 0.051390718668699265, 'learning_rate': 4.847328244274809e-06, 'epoch': 3.03}\n",
      "{'loss': 0.0125, 'grad_norm': 0.09872271865606308, 'learning_rate': 4.8282442748091605e-06, 'epoch': 3.03}\n",
      "{'loss': 0.0424, 'grad_norm': 13.055224418640137, 'learning_rate': 4.8091603053435125e-06, 'epoch': 3.04}\n",
      "{'loss': 0.0119, 'grad_norm': 0.045858077704906464, 'learning_rate': 4.790076335877863e-06, 'epoch': 3.04}\n",
      "{'loss': 0.0881, 'grad_norm': 0.03488312289118767, 'learning_rate': 4.770992366412215e-06, 'epoch': 3.05}\n",
      "{'loss': 0.0366, 'grad_norm': 0.038212850689888, 'learning_rate': 4.751908396946565e-06, 'epoch': 3.05}\n",
      "{'loss': 0.0635, 'grad_norm': 1.5452840328216553, 'learning_rate': 4.732824427480917e-06, 'epoch': 3.05}\n"
     ]
    },
    {
     "data": {
      "application/vnd.jupyter.widget-view+json": {
       "model_id": "cb6bfa73ad6040e98668703a9b110ba1",
       "version_major": 2,
       "version_minor": 0
      },
      "text/plain": [
       "  0%|          | 0/48 [00:00<?, ?it/s]"
      ]
     },
     "metadata": {},
     "output_type": "display_data"
    },
    {
     "name": "stdout",
     "output_type": "stream",
     "text": [
      "{'eval_loss': 0.558494508266449, 'eval_accuracy': 0.86328125, 'eval_runtime': 39.2216, 'eval_samples_per_second': 19.581, 'eval_steps_per_second': 1.224, 'epoch': 3.05}\n",
      "{'loss': 0.0085, 'grad_norm': 0.03301946446299553, 'learning_rate': 4.713740458015267e-06, 'epoch': 3.06}\n",
      "{'loss': 0.0369, 'grad_norm': 0.08191090077161789, 'learning_rate': 4.694656488549618e-06, 'epoch': 3.06}\n",
      "{'loss': 0.005, 'grad_norm': 1.3144664764404297, 'learning_rate': 4.6755725190839695e-06, 'epoch': 3.06}\n",
      "{'loss': 0.0054, 'grad_norm': 0.046782322227954865, 'learning_rate': 4.656488549618321e-06, 'epoch': 3.07}\n",
      "{'loss': 0.0904, 'grad_norm': 10.398768424987793, 'learning_rate': 4.6374045801526726e-06, 'epoch': 3.07}\n",
      "{'loss': 0.067, 'grad_norm': 0.029651924967765808, 'learning_rate': 4.618320610687023e-06, 'epoch': 3.08}\n",
      "{'loss': 0.0533, 'grad_norm': 0.09175103157758713, 'learning_rate': 4.599236641221375e-06, 'epoch': 3.08}\n",
      "{'loss': 0.169, 'grad_norm': 0.8410604000091553, 'learning_rate': 4.580152671755725e-06, 'epoch': 3.08}\n",
      "{'loss': 0.0424, 'grad_norm': 0.06342224031686783, 'learning_rate': 4.561068702290077e-06, 'epoch': 3.09}\n",
      "{'loss': 0.062, 'grad_norm': 5.545840740203857, 'learning_rate': 4.541984732824427e-06, 'epoch': 3.09}\n",
      "{'loss': 0.1505, 'grad_norm': 0.03295566141605377, 'learning_rate': 4.522900763358779e-06, 'epoch': 3.1}\n",
      "{'loss': 0.0707, 'grad_norm': 0.03067879006266594, 'learning_rate': 4.5038167938931296e-06, 'epoch': 3.1}\n",
      "{'loss': 0.0936, 'grad_norm': 0.03828499838709831, 'learning_rate': 4.4847328244274815e-06, 'epoch': 3.1}\n",
      "{'loss': 0.0175, 'grad_norm': 0.04212157428264618, 'learning_rate': 4.465648854961833e-06, 'epoch': 3.11}\n",
      "{'loss': 0.0977, 'grad_norm': 0.08858822286128998, 'learning_rate': 4.446564885496184e-06, 'epoch': 3.11}\n",
      "{'loss': 0.071, 'grad_norm': 1.9268566370010376, 'learning_rate': 4.427480916030535e-06, 'epoch': 3.11}\n",
      "{'loss': 0.1168, 'grad_norm': 0.07723206281661987, 'learning_rate': 4.408396946564886e-06, 'epoch': 3.12}\n",
      "{'loss': 0.0047, 'grad_norm': 0.060682397335767746, 'learning_rate': 4.389312977099237e-06, 'epoch': 3.12}\n",
      "{'loss': 0.0048, 'grad_norm': 0.16027605533599854, 'learning_rate': 4.370229007633588e-06, 'epoch': 3.13}\n",
      "{'loss': 0.0306, 'grad_norm': 0.029802553355693817, 'learning_rate': 4.351145038167939e-06, 'epoch': 3.13}\n",
      "{'loss': 0.0079, 'grad_norm': 0.28720206022262573, 'learning_rate': 4.3320610687022905e-06, 'epoch': 3.13}\n",
      "{'loss': 0.0388, 'grad_norm': 0.11250234395265579, 'learning_rate': 4.312977099236642e-06, 'epoch': 3.14}\n",
      "{'loss': 0.1393, 'grad_norm': 0.040483612567186356, 'learning_rate': 4.293893129770993e-06, 'epoch': 3.14}\n",
      "{'loss': 0.3178, 'grad_norm': 0.05431549251079559, 'learning_rate': 4.274809160305344e-06, 'epoch': 3.15}\n",
      "{'loss': 0.0092, 'grad_norm': 0.5132673978805542, 'learning_rate': 4.255725190839695e-06, 'epoch': 3.15}\n",
      "{'loss': 0.0679, 'grad_norm': 0.03691726177930832, 'learning_rate': 4.236641221374046e-06, 'epoch': 3.15}\n",
      "{'loss': 0.0545, 'grad_norm': 2.232489824295044, 'learning_rate': 4.217557251908397e-06, 'epoch': 3.16}\n",
      "{'loss': 0.0075, 'grad_norm': 1.0054330825805664, 'learning_rate': 4.198473282442748e-06, 'epoch': 3.16}\n",
      "{'loss': 0.1878, 'grad_norm': 0.10627392679452896, 'learning_rate': 4.1793893129770995e-06, 'epoch': 3.16}\n",
      "{'loss': 0.0413, 'grad_norm': 1.1902551651000977, 'learning_rate': 4.1603053435114506e-06, 'epoch': 3.17}\n",
      "{'loss': 0.095, 'grad_norm': 3.3179261684417725, 'learning_rate': 4.141221374045802e-06, 'epoch': 3.17}\n",
      "{'loss': 0.0781, 'grad_norm': 1.8483927249908447, 'learning_rate': 4.122137404580153e-06, 'epoch': 3.18}\n",
      "{'loss': 0.0043, 'grad_norm': 0.05350140482187271, 'learning_rate': 4.103053435114504e-06, 'epoch': 3.18}\n",
      "{'loss': 0.117, 'grad_norm': 0.06268856674432755, 'learning_rate': 4.083969465648855e-06, 'epoch': 3.18}\n",
      "{'loss': 0.1762, 'grad_norm': 0.0635136142373085, 'learning_rate': 4.064885496183206e-06, 'epoch': 3.19}\n",
      "{'loss': 0.0084, 'grad_norm': 0.26263129711151123, 'learning_rate': 4.045801526717557e-06, 'epoch': 3.19}\n",
      "{'loss': 0.065, 'grad_norm': 1.3058959245681763, 'learning_rate': 4.026717557251908e-06, 'epoch': 3.19}\n",
      "{'loss': 0.007, 'grad_norm': 0.03970862552523613, 'learning_rate': 4.0076335877862595e-06, 'epoch': 3.2}\n",
      "{'loss': 0.0666, 'grad_norm': 0.03588955104351044, 'learning_rate': 3.9885496183206115e-06, 'epoch': 3.2}\n",
      "{'loss': 0.0043, 'grad_norm': 0.08288373053073883, 'learning_rate': 3.969465648854962e-06, 'epoch': 3.21}\n",
      "{'loss': 0.0297, 'grad_norm': 0.6535607576370239, 'learning_rate': 3.950381679389314e-06, 'epoch': 3.21}\n",
      "{'loss': 0.0041, 'grad_norm': 0.03791741654276848, 'learning_rate': 3.931297709923664e-06, 'epoch': 3.21}\n",
      "{'loss': 0.1579, 'grad_norm': 0.060197167098522186, 'learning_rate': 3.912213740458016e-06, 'epoch': 3.22}\n",
      "{'loss': 0.0641, 'grad_norm': 1.6176596879959106, 'learning_rate': 3.893129770992366e-06, 'epoch': 3.22}\n",
      "{'loss': 0.0082, 'grad_norm': 0.03948814794421196, 'learning_rate': 3.874045801526718e-06, 'epoch': 3.23}\n",
      "{'loss': 0.0621, 'grad_norm': 0.047128304839134216, 'learning_rate': 3.8549618320610685e-06, 'epoch': 3.23}\n",
      "{'loss': 0.0099, 'grad_norm': 0.06662581861019135, 'learning_rate': 3.8358778625954205e-06, 'epoch': 3.23}\n",
      "{'loss': 0.1937, 'grad_norm': 0.05201055482029915, 'learning_rate': 3.816793893129772e-06, 'epoch': 3.24}\n",
      "{'loss': 0.0496, 'grad_norm': 27.759450912475586, 'learning_rate': 3.7977099236641223e-06, 'epoch': 3.24}\n",
      "{'loss': 0.0643, 'grad_norm': 45.017818450927734, 'learning_rate': 3.778625954198474e-06, 'epoch': 3.24}\n"
     ]
    },
    {
     "data": {
      "application/vnd.jupyter.widget-view+json": {
       "model_id": "ee37cc4bb4d740cba06ca5177b4e1192",
       "version_major": 2,
       "version_minor": 0
      },
      "text/plain": [
       "  0%|          | 0/48 [00:00<?, ?it/s]"
      ]
     },
     "metadata": {},
     "output_type": "display_data"
    },
    {
     "name": "stdout",
     "output_type": "stream",
     "text": [
      "{'eval_loss': 0.349542498588562, 'eval_accuracy': 0.9166666666666666, 'eval_runtime': 40.7596, 'eval_samples_per_second': 18.842, 'eval_steps_per_second': 1.178, 'epoch': 3.24}\n",
      "{'loss': 0.0043, 'grad_norm': 0.048534225672483444, 'learning_rate': 3.7595419847328245e-06, 'epoch': 3.25}\n",
      "{'loss': 0.0049, 'grad_norm': 2.211925983428955, 'learning_rate': 3.740458015267176e-06, 'epoch': 3.25}\n",
      "{'loss': 0.2227, 'grad_norm': 0.04052073508501053, 'learning_rate': 3.7213740458015268e-06, 'epoch': 3.26}\n",
      "{'loss': 0.0495, 'grad_norm': 0.03189254552125931, 'learning_rate': 3.7022900763358783e-06, 'epoch': 3.26}\n",
      "{'loss': 0.0429, 'grad_norm': 0.03395929932594299, 'learning_rate': 3.683206106870229e-06, 'epoch': 3.26}\n",
      "{'loss': 0.135, 'grad_norm': 17.017671585083008, 'learning_rate': 3.6641221374045806e-06, 'epoch': 3.27}\n",
      "{'loss': 0.0257, 'grad_norm': 0.046125736087560654, 'learning_rate': 3.6450381679389317e-06, 'epoch': 3.27}\n",
      "{'loss': 0.0849, 'grad_norm': 0.09006045758724213, 'learning_rate': 3.625954198473283e-06, 'epoch': 3.27}\n",
      "{'loss': 0.108, 'grad_norm': 25.87465476989746, 'learning_rate': 3.606870229007634e-06, 'epoch': 3.28}\n",
      "{'loss': 0.0154, 'grad_norm': 1.190861463546753, 'learning_rate': 3.587786259541985e-06, 'epoch': 3.28}\n",
      "{'loss': 0.0041, 'grad_norm': 0.0578281469643116, 'learning_rate': 3.568702290076336e-06, 'epoch': 3.29}\n",
      "{'loss': 0.2206, 'grad_norm': 108.02799224853516, 'learning_rate': 3.5496183206106873e-06, 'epoch': 3.29}\n",
      "{'loss': 0.0609, 'grad_norm': 0.038854505866765976, 'learning_rate': 3.5305343511450384e-06, 'epoch': 3.29}\n",
      "{'loss': 0.0534, 'grad_norm': 0.05859885364770889, 'learning_rate': 3.5114503816793895e-06, 'epoch': 3.3}\n",
      "{'loss': 0.0903, 'grad_norm': 0.034594710916280746, 'learning_rate': 3.4923664122137406e-06, 'epoch': 3.3}\n",
      "{'loss': 0.0329, 'grad_norm': 0.0832635909318924, 'learning_rate': 3.473282442748092e-06, 'epoch': 3.31}\n",
      "{'loss': 0.1201, 'grad_norm': 3.113415479660034, 'learning_rate': 3.454198473282443e-06, 'epoch': 3.31}\n",
      "{'loss': 0.0781, 'grad_norm': 0.07723648846149445, 'learning_rate': 3.4351145038167944e-06, 'epoch': 3.31}\n",
      "{'loss': 0.0039, 'grad_norm': 0.20770502090454102, 'learning_rate': 3.416030534351145e-06, 'epoch': 3.32}\n",
      "{'loss': 0.0074, 'grad_norm': 0.722089946269989, 'learning_rate': 3.3969465648854967e-06, 'epoch': 3.32}\n",
      "{'loss': 0.1048, 'grad_norm': 1.5935653448104858, 'learning_rate': 3.3778625954198474e-06, 'epoch': 3.32}\n",
      "{'loss': 0.0167, 'grad_norm': 0.0586223341524601, 'learning_rate': 3.358778625954199e-06, 'epoch': 3.33}\n",
      "{'loss': 0.0963, 'grad_norm': 0.71164470911026, 'learning_rate': 3.3396946564885496e-06, 'epoch': 3.33}\n",
      "{'loss': 0.074, 'grad_norm': 0.08652416616678238, 'learning_rate': 3.320610687022901e-06, 'epoch': 3.34}\n",
      "{'loss': 0.0653, 'grad_norm': 6.646294593811035, 'learning_rate': 3.3015267175572523e-06, 'epoch': 3.34}\n",
      "{'loss': 0.0179, 'grad_norm': 94.39836883544922, 'learning_rate': 3.2824427480916034e-06, 'epoch': 3.34}\n",
      "{'loss': 0.1073, 'grad_norm': 0.03662802278995514, 'learning_rate': 3.2633587786259545e-06, 'epoch': 3.35}\n",
      "{'loss': 0.0128, 'grad_norm': 0.036594972014427185, 'learning_rate': 3.2442748091603056e-06, 'epoch': 3.35}\n",
      "{'loss': 0.0193, 'grad_norm': 0.031716857105493546, 'learning_rate': 3.2251908396946568e-06, 'epoch': 3.35}\n",
      "{'loss': 0.0693, 'grad_norm': 0.04252753406763077, 'learning_rate': 3.206106870229008e-06, 'epoch': 3.36}\n",
      "{'loss': 0.0039, 'grad_norm': 0.0370778888463974, 'learning_rate': 3.187022900763359e-06, 'epoch': 3.36}\n",
      "{'loss': 0.0051, 'grad_norm': 0.03457603603601456, 'learning_rate': 3.1679389312977097e-06, 'epoch': 3.37}\n",
      "{'loss': 0.0719, 'grad_norm': 0.026286831125617027, 'learning_rate': 3.1488549618320612e-06, 'epoch': 3.37}\n",
      "{'loss': 0.0035, 'grad_norm': 0.034217189997434616, 'learning_rate': 3.129770992366413e-06, 'epoch': 3.37}\n",
      "{'loss': 0.0041, 'grad_norm': 0.17846325039863586, 'learning_rate': 3.1106870229007635e-06, 'epoch': 3.38}\n",
      "{'loss': 0.074, 'grad_norm': 0.04295799881219864, 'learning_rate': 3.091603053435115e-06, 'epoch': 3.38}\n",
      "{'loss': 0.004, 'grad_norm': 0.052469443529844284, 'learning_rate': 3.0725190839694657e-06, 'epoch': 3.39}\n",
      "{'loss': 0.0222, 'grad_norm': 0.03864936903119087, 'learning_rate': 3.0534351145038173e-06, 'epoch': 3.39}\n",
      "{'loss': 0.0674, 'grad_norm': 0.4902237355709076, 'learning_rate': 3.034351145038168e-06, 'epoch': 3.39}\n",
      "{'loss': 0.0748, 'grad_norm': 0.14630423486232758, 'learning_rate': 3.0152671755725195e-06, 'epoch': 3.4}\n",
      "{'loss': 0.0671, 'grad_norm': 0.036042116582393646, 'learning_rate': 2.9961832061068706e-06, 'epoch': 3.4}\n",
      "{'loss': 0.0462, 'grad_norm': 76.55210876464844, 'learning_rate': 2.9770992366412218e-06, 'epoch': 3.4}\n",
      "{'loss': 0.0651, 'grad_norm': 0.026832208037376404, 'learning_rate': 2.958015267175573e-06, 'epoch': 3.41}\n",
      "{'loss': 0.0037, 'grad_norm': 0.03340884670615196, 'learning_rate': 2.938931297709924e-06, 'epoch': 3.41}\n",
      "{'loss': 0.0082, 'grad_norm': 0.03204159438610077, 'learning_rate': 2.919847328244275e-06, 'epoch': 3.42}\n",
      "{'loss': 0.1204, 'grad_norm': 0.9059848189353943, 'learning_rate': 2.900763358778626e-06, 'epoch': 3.42}\n",
      "{'loss': 0.0207, 'grad_norm': 0.07258623838424683, 'learning_rate': 2.8816793893129774e-06, 'epoch': 3.42}\n",
      "{'loss': 0.0765, 'grad_norm': 1.5838581323623657, 'learning_rate': 2.862595419847328e-06, 'epoch': 3.43}\n",
      "{'loss': 0.0054, 'grad_norm': 0.03724223002791405, 'learning_rate': 2.8435114503816796e-06, 'epoch': 3.43}\n",
      "{'loss': 0.0164, 'grad_norm': 0.034122224897146225, 'learning_rate': 2.824427480916031e-06, 'epoch': 3.44}\n"
     ]
    },
    {
     "data": {
      "application/vnd.jupyter.widget-view+json": {
       "model_id": "665968e362174158866ed042a652e957",
       "version_major": 2,
       "version_minor": 0
      },
      "text/plain": [
       "  0%|          | 0/48 [00:00<?, ?it/s]"
      ]
     },
     "metadata": {},
     "output_type": "display_data"
    },
    {
     "name": "stdout",
     "output_type": "stream",
     "text": [
      "{'eval_loss': 0.3506127893924713, 'eval_accuracy': 0.9140625, 'eval_runtime': 39.2158, 'eval_samples_per_second': 19.584, 'eval_steps_per_second': 1.224, 'epoch': 3.44}\n",
      "{'loss': 0.0549, 'grad_norm': 0.07913768291473389, 'learning_rate': 2.805343511450382e-06, 'epoch': 3.44}\n",
      "{'loss': 0.0256, 'grad_norm': 0.02899402752518654, 'learning_rate': 2.7862595419847334e-06, 'epoch': 3.44}\n",
      "{'loss': 0.0045, 'grad_norm': 0.04354069381952286, 'learning_rate': 2.767175572519084e-06, 'epoch': 3.45}\n",
      "{'loss': 0.0602, 'grad_norm': 0.0358809158205986, 'learning_rate': 2.7480916030534356e-06, 'epoch': 3.45}\n",
      "{'loss': 0.0659, 'grad_norm': 4.546030521392822, 'learning_rate': 2.7290076335877863e-06, 'epoch': 3.45}\n",
      "{'loss': 0.0751, 'grad_norm': 0.039456285536289215, 'learning_rate': 2.709923664122138e-06, 'epoch': 3.46}\n",
      "{'loss': 0.0814, 'grad_norm': 0.09595288336277008, 'learning_rate': 2.6908396946564886e-06, 'epoch': 3.46}\n",
      "{'loss': 0.0135, 'grad_norm': 0.03707500547170639, 'learning_rate': 2.67175572519084e-06, 'epoch': 3.47}\n",
      "{'loss': 0.0048, 'grad_norm': 0.04448806494474411, 'learning_rate': 2.6526717557251912e-06, 'epoch': 3.47}\n",
      "{'loss': 0.0749, 'grad_norm': 0.057913463562726974, 'learning_rate': 2.633587786259542e-06, 'epoch': 3.47}\n",
      "{'loss': 0.0871, 'grad_norm': 0.0508500374853611, 'learning_rate': 2.6145038167938935e-06, 'epoch': 3.48}\n",
      "{'loss': 0.0937, 'grad_norm': 0.030086355283856392, 'learning_rate': 2.595419847328244e-06, 'epoch': 3.48}\n",
      "{'loss': 0.0032, 'grad_norm': 0.024662047624588013, 'learning_rate': 2.5763358778625957e-06, 'epoch': 3.48}\n",
      "{'loss': 0.0084, 'grad_norm': 0.026739809662103653, 'learning_rate': 2.5572519083969464e-06, 'epoch': 3.49}\n",
      "{'loss': 0.0062, 'grad_norm': 0.04091964662075043, 'learning_rate': 2.538167938931298e-06, 'epoch': 3.49}\n",
      "{'loss': 0.0705, 'grad_norm': 0.11906524747610092, 'learning_rate': 2.5190839694656487e-06, 'epoch': 3.5}\n",
      "{'loss': 0.0904, 'grad_norm': 0.052345629781484604, 'learning_rate': 2.5e-06, 'epoch': 3.5}\n",
      "{'loss': 0.0937, 'grad_norm': 0.03418974578380585, 'learning_rate': 2.4809160305343513e-06, 'epoch': 3.5}\n",
      "{'loss': 0.0247, 'grad_norm': 0.07562097162008286, 'learning_rate': 2.4618320610687024e-06, 'epoch': 3.51}\n",
      "{'loss': 0.0037, 'grad_norm': 0.6249923706054688, 'learning_rate': 2.4427480916030536e-06, 'epoch': 3.51}\n",
      "{'loss': 0.0033, 'grad_norm': 0.03389516845345497, 'learning_rate': 2.4236641221374047e-06, 'epoch': 3.52}\n",
      "{'loss': 0.0776, 'grad_norm': 47.77402114868164, 'learning_rate': 2.4045801526717562e-06, 'epoch': 3.52}\n",
      "{'loss': 0.0037, 'grad_norm': 0.028281603008508682, 'learning_rate': 2.3854961832061074e-06, 'epoch': 3.52}\n",
      "{'loss': 0.0532, 'grad_norm': 0.14350610971450806, 'learning_rate': 2.3664122137404585e-06, 'epoch': 3.53}\n",
      "{'loss': 0.1318, 'grad_norm': 0.03889407962560654, 'learning_rate': 2.347328244274809e-06, 'epoch': 3.53}\n",
      "{'loss': 0.004, 'grad_norm': 0.026897696778178215, 'learning_rate': 2.3282442748091603e-06, 'epoch': 3.53}\n",
      "{'loss': 0.0709, 'grad_norm': 0.09029537439346313, 'learning_rate': 2.3091603053435114e-06, 'epoch': 3.54}\n",
      "{'loss': 0.0101, 'grad_norm': 0.4649392366409302, 'learning_rate': 2.2900763358778625e-06, 'epoch': 3.54}\n",
      "{'loss': 0.1586, 'grad_norm': 1.7487239837646484, 'learning_rate': 2.2709923664122137e-06, 'epoch': 3.55}\n",
      "{'loss': 0.0699, 'grad_norm': 0.029678896069526672, 'learning_rate': 2.2519083969465648e-06, 'epoch': 3.55}\n",
      "{'loss': 0.0416, 'grad_norm': 0.034114718437194824, 'learning_rate': 2.2328244274809163e-06, 'epoch': 3.55}\n",
      "{'loss': 0.0034, 'grad_norm': 0.02750280313193798, 'learning_rate': 2.2137404580152674e-06, 'epoch': 3.56}\n",
      "{'loss': 0.0037, 'grad_norm': 0.0729626789689064, 'learning_rate': 2.1946564885496186e-06, 'epoch': 3.56}\n",
      "{'loss': 0.1518, 'grad_norm': 2.6379055976867676, 'learning_rate': 2.1755725190839697e-06, 'epoch': 3.56}\n",
      "{'loss': 0.1232, 'grad_norm': 1.5478287935256958, 'learning_rate': 2.156488549618321e-06, 'epoch': 3.57}\n",
      "{'loss': 0.0082, 'grad_norm': 0.050061218440532684, 'learning_rate': 2.137404580152672e-06, 'epoch': 3.57}\n",
      "{'loss': 0.0774, 'grad_norm': 0.150592640042305, 'learning_rate': 2.118320610687023e-06, 'epoch': 3.58}\n",
      "{'loss': 0.0032, 'grad_norm': 0.024021167308092117, 'learning_rate': 2.099236641221374e-06, 'epoch': 3.58}\n",
      "{'loss': 0.0156, 'grad_norm': 2.272246837615967, 'learning_rate': 2.0801526717557253e-06, 'epoch': 3.58}\n",
      "{'loss': 0.0083, 'grad_norm': 0.1987673044204712, 'learning_rate': 2.0610687022900764e-06, 'epoch': 3.59}\n",
      "{'loss': 0.1001, 'grad_norm': 4.38968563079834, 'learning_rate': 2.0419847328244275e-06, 'epoch': 3.59}\n",
      "{'loss': 0.0227, 'grad_norm': 0.05142403393983841, 'learning_rate': 2.0229007633587786e-06, 'epoch': 3.6}\n",
      "{'loss': 0.188, 'grad_norm': 0.04953063651919365, 'learning_rate': 2.0038167938931298e-06, 'epoch': 3.6}\n",
      "{'loss': 0.0032, 'grad_norm': 0.03764354810118675, 'learning_rate': 1.984732824427481e-06, 'epoch': 3.6}\n",
      "{'loss': 0.1065, 'grad_norm': 23.66318702697754, 'learning_rate': 1.965648854961832e-06, 'epoch': 3.61}\n",
      "{'loss': 0.0685, 'grad_norm': 0.03244286775588989, 'learning_rate': 1.946564885496183e-06, 'epoch': 3.61}\n",
      "{'loss': 0.075, 'grad_norm': 0.10532104223966599, 'learning_rate': 1.9274809160305343e-06, 'epoch': 3.61}\n",
      "{'loss': 0.0922, 'grad_norm': 5.5245680809021, 'learning_rate': 1.908396946564886e-06, 'epoch': 3.62}\n",
      "{'loss': 0.004, 'grad_norm': 0.021736640483140945, 'learning_rate': 1.889312977099237e-06, 'epoch': 3.62}\n",
      "{'loss': 0.0208, 'grad_norm': 4.062991142272949, 'learning_rate': 1.870229007633588e-06, 'epoch': 3.63}\n"
     ]
    },
    {
     "data": {
      "application/vnd.jupyter.widget-view+json": {
       "model_id": "5bbad279f745476083182e97a067c1d4",
       "version_major": 2,
       "version_minor": 0
      },
      "text/plain": [
       "  0%|          | 0/48 [00:00<?, ?it/s]"
      ]
     },
     "metadata": {},
     "output_type": "display_data"
    },
    {
     "name": "stdout",
     "output_type": "stream",
     "text": [
      "{'eval_loss': 0.37487515807151794, 'eval_accuracy': 0.9114583333333334, 'eval_runtime': 76.893, 'eval_samples_per_second': 9.988, 'eval_steps_per_second': 0.624, 'epoch': 3.63}\n",
      "{'loss': 0.0041, 'grad_norm': 0.04281257838010788, 'learning_rate': 1.8511450381679392e-06, 'epoch': 3.63}\n",
      "{'loss': 0.027, 'grad_norm': 0.8221969604492188, 'learning_rate': 1.8320610687022903e-06, 'epoch': 3.63}\n",
      "{'loss': 0.0273, 'grad_norm': 0.026127588003873825, 'learning_rate': 1.8129770992366414e-06, 'epoch': 3.64}\n",
      "{'loss': 0.2178, 'grad_norm': 8.104713439941406, 'learning_rate': 1.7938931297709925e-06, 'epoch': 3.64}\n",
      "{'loss': 0.0035, 'grad_norm': 0.024140330031514168, 'learning_rate': 1.7748091603053436e-06, 'epoch': 3.65}\n",
      "{'loss': 0.0893, 'grad_norm': 1.6791025400161743, 'learning_rate': 1.7557251908396948e-06, 'epoch': 3.65}\n",
      "{'loss': 0.1043, 'grad_norm': 0.22810927033424377, 'learning_rate': 1.736641221374046e-06, 'epoch': 3.65}\n",
      "{'loss': 0.1035, 'grad_norm': 0.0848689004778862, 'learning_rate': 1.7175572519083972e-06, 'epoch': 3.66}\n",
      "{'loss': 0.0034, 'grad_norm': 0.033586062490940094, 'learning_rate': 1.6984732824427483e-06, 'epoch': 3.66}\n",
      "{'loss': 0.0975, 'grad_norm': 48.99101638793945, 'learning_rate': 1.6793893129770995e-06, 'epoch': 3.66}\n",
      "{'loss': 0.0864, 'grad_norm': 0.030287984758615494, 'learning_rate': 1.6603053435114506e-06, 'epoch': 3.67}\n",
      "{'loss': 0.1158, 'grad_norm': 0.07224985957145691, 'learning_rate': 1.6412213740458017e-06, 'epoch': 3.67}\n",
      "{'loss': 0.0035, 'grad_norm': 0.1984862983226776, 'learning_rate': 1.6221374045801528e-06, 'epoch': 3.68}\n",
      "{'loss': 0.0043, 'grad_norm': 0.07744418829679489, 'learning_rate': 1.603053435114504e-06, 'epoch': 3.68}\n",
      "{'loss': 0.0491, 'grad_norm': 102.17523956298828, 'learning_rate': 1.5839694656488549e-06, 'epoch': 3.68}\n",
      "{'loss': 0.0408, 'grad_norm': 0.04086586460471153, 'learning_rate': 1.5648854961832064e-06, 'epoch': 3.69}\n",
      "{'loss': 0.0033, 'grad_norm': 0.037250250577926636, 'learning_rate': 1.5458015267175575e-06, 'epoch': 3.69}\n",
      "{'loss': 0.2833, 'grad_norm': 4.6158552169799805, 'learning_rate': 1.5267175572519086e-06, 'epoch': 3.69}\n",
      "{'loss': 0.0979, 'grad_norm': 8.317696571350098, 'learning_rate': 1.5076335877862598e-06, 'epoch': 3.7}\n",
      "{'loss': 0.0246, 'grad_norm': 0.041937485337257385, 'learning_rate': 1.4885496183206109e-06, 'epoch': 3.7}\n",
      "{'loss': 0.0634, 'grad_norm': 0.0683794841170311, 'learning_rate': 1.469465648854962e-06, 'epoch': 3.71}\n",
      "{'loss': 0.1415, 'grad_norm': 0.09716778993606567, 'learning_rate': 1.450381679389313e-06, 'epoch': 3.71}\n",
      "{'loss': 0.0033, 'grad_norm': 0.042942240834236145, 'learning_rate': 1.431297709923664e-06, 'epoch': 3.71}\n",
      "{'loss': 0.0414, 'grad_norm': 0.06647428125143051, 'learning_rate': 1.4122137404580156e-06, 'epoch': 3.72}\n",
      "{'loss': 0.0129, 'grad_norm': 0.2843402624130249, 'learning_rate': 1.3931297709923667e-06, 'epoch': 3.72}\n",
      "{'loss': 0.0274, 'grad_norm': 0.04020227491855621, 'learning_rate': 1.3740458015267178e-06, 'epoch': 3.73}\n",
      "{'loss': 0.0036, 'grad_norm': 0.04267315939068794, 'learning_rate': 1.354961832061069e-06, 'epoch': 3.73}\n",
      "{'loss': 0.1452, 'grad_norm': 0.0962822362780571, 'learning_rate': 1.33587786259542e-06, 'epoch': 3.73}\n",
      "{'loss': 0.0207, 'grad_norm': 19.480756759643555, 'learning_rate': 1.316793893129771e-06, 'epoch': 3.74}\n",
      "{'loss': 0.0041, 'grad_norm': 0.03573222458362579, 'learning_rate': 1.297709923664122e-06, 'epoch': 3.74}\n",
      "{'loss': 0.1514, 'grad_norm': 0.23331709206104279, 'learning_rate': 1.2786259541984732e-06, 'epoch': 3.74}\n",
      "{'loss': 0.0875, 'grad_norm': 0.04705320671200752, 'learning_rate': 1.2595419847328243e-06, 'epoch': 3.75}\n",
      "{'loss': 0.0891, 'grad_norm': 0.5029491186141968, 'learning_rate': 1.2404580152671757e-06, 'epoch': 3.75}\n",
      "{'loss': 0.033, 'grad_norm': 0.05048513785004616, 'learning_rate': 1.2213740458015268e-06, 'epoch': 3.76}\n",
      "{'loss': 0.0089, 'grad_norm': 0.057043351233005524, 'learning_rate': 1.2022900763358781e-06, 'epoch': 3.76}\n",
      "{'loss': 0.0047, 'grad_norm': 0.5954356789588928, 'learning_rate': 1.1832061068702292e-06, 'epoch': 3.76}\n",
      "{'loss': 0.0041, 'grad_norm': 0.04608672484755516, 'learning_rate': 1.1641221374045801e-06, 'epoch': 3.77}\n",
      "{'loss': 0.0033, 'grad_norm': 0.02814377285540104, 'learning_rate': 1.1450381679389313e-06, 'epoch': 3.77}\n",
      "{'loss': 0.1175, 'grad_norm': 2.4042041301727295, 'learning_rate': 1.1259541984732824e-06, 'epoch': 3.77}\n",
      "{'loss': 0.0538, 'grad_norm': 0.03408774733543396, 'learning_rate': 1.1068702290076337e-06, 'epoch': 3.78}\n",
      "{'loss': 0.0677, 'grad_norm': 0.03369506821036339, 'learning_rate': 1.0877862595419848e-06, 'epoch': 3.78}\n",
      "{'loss': 0.0056, 'grad_norm': 0.022957660257816315, 'learning_rate': 1.068702290076336e-06, 'epoch': 3.79}\n",
      "{'loss': 0.0066, 'grad_norm': 0.2775082290172577, 'learning_rate': 1.049618320610687e-06, 'epoch': 3.79}\n",
      "{'loss': 0.0505, 'grad_norm': 0.027008863165974617, 'learning_rate': 1.0305343511450382e-06, 'epoch': 3.79}\n",
      "{'loss': 0.0748, 'grad_norm': 0.055783145129680634, 'learning_rate': 1.0114503816793893e-06, 'epoch': 3.8}\n",
      "{'loss': 0.0052, 'grad_norm': 2.3354651927948, 'learning_rate': 9.923664122137404e-07, 'epoch': 3.8}\n",
      "{'loss': 0.0315, 'grad_norm': 0.04210523143410683, 'learning_rate': 9.732824427480916e-07, 'epoch': 3.81}\n",
      "{'loss': 0.0662, 'grad_norm': 0.02171275019645691, 'learning_rate': 9.54198473282443e-07, 'epoch': 3.81}\n",
      "{'loss': 0.0034, 'grad_norm': 0.037900954484939575, 'learning_rate': 9.35114503816794e-07, 'epoch': 3.81}\n",
      "{'loss': 0.0149, 'grad_norm': 0.02558848448097706, 'learning_rate': 9.160305343511451e-07, 'epoch': 3.82}\n"
     ]
    },
    {
     "data": {
      "application/vnd.jupyter.widget-view+json": {
       "model_id": "d52840b5b4e6470c9ad84da1a4e78db2",
       "version_major": 2,
       "version_minor": 0
      },
      "text/plain": [
       "  0%|          | 0/48 [00:00<?, ?it/s]"
      ]
     },
     "metadata": {},
     "output_type": "display_data"
    },
    {
     "name": "stdout",
     "output_type": "stream",
     "text": [
      "{'eval_loss': 0.4121273458003998, 'eval_accuracy': 0.9010416666666666, 'eval_runtime': 70.8672, 'eval_samples_per_second': 10.837, 'eval_steps_per_second': 0.677, 'epoch': 3.82}\n",
      "{'loss': 0.0706, 'grad_norm': 0.02534552291035652, 'learning_rate': 8.969465648854963e-07, 'epoch': 3.82}\n",
      "{'loss': 0.1329, 'grad_norm': 0.040772199630737305, 'learning_rate': 8.778625954198474e-07, 'epoch': 3.82}\n",
      "{'loss': 0.0526, 'grad_norm': 0.0337890163064003, 'learning_rate': 8.587786259541986e-07, 'epoch': 3.83}\n",
      "{'loss': 0.0036, 'grad_norm': 0.038144223392009735, 'learning_rate': 8.396946564885497e-07, 'epoch': 3.83}\n",
      "{'loss': 0.1351, 'grad_norm': 0.027762508019804955, 'learning_rate': 8.206106870229009e-07, 'epoch': 3.84}\n",
      "{'loss': 0.003, 'grad_norm': 0.031778834760189056, 'learning_rate': 8.01526717557252e-07, 'epoch': 3.84}\n",
      "{'loss': 0.0065, 'grad_norm': 0.11197499185800552, 'learning_rate': 7.824427480916032e-07, 'epoch': 3.84}\n",
      "{'loss': 0.1622, 'grad_norm': 0.0315922275185585, 'learning_rate': 7.633587786259543e-07, 'epoch': 3.85}\n",
      "{'loss': 0.0032, 'grad_norm': 0.06960932910442352, 'learning_rate': 7.442748091603054e-07, 'epoch': 3.85}\n",
      "{'loss': 0.0677, 'grad_norm': 0.036456190049648285, 'learning_rate': 7.251908396946565e-07, 'epoch': 3.85}\n",
      "{'loss': 0.0845, 'grad_norm': 0.027258217334747314, 'learning_rate': 7.061068702290078e-07, 'epoch': 3.86}\n",
      "{'loss': 0.0034, 'grad_norm': 0.0676896944642067, 'learning_rate': 6.870229007633589e-07, 'epoch': 3.86}\n",
      "{'loss': 0.0661, 'grad_norm': 0.259660542011261, 'learning_rate': 6.6793893129771e-07, 'epoch': 3.87}\n",
      "{'loss': 0.0032, 'grad_norm': 0.02904610149562359, 'learning_rate': 6.48854961832061e-07, 'epoch': 3.87}\n",
      "{'loss': 0.0041, 'grad_norm': 0.0351022444665432, 'learning_rate': 6.297709923664122e-07, 'epoch': 3.87}\n",
      "{'loss': 0.1341, 'grad_norm': 9.28709602355957, 'learning_rate': 6.106870229007634e-07, 'epoch': 3.88}\n",
      "{'loss': 0.0525, 'grad_norm': 0.028019165620207787, 'learning_rate': 5.916030534351146e-07, 'epoch': 3.88}\n",
      "{'loss': 0.1735, 'grad_norm': 0.09040462225675583, 'learning_rate': 5.725190839694656e-07, 'epoch': 3.89}\n",
      "{'loss': 0.0677, 'grad_norm': 0.04261922463774681, 'learning_rate': 5.534351145038169e-07, 'epoch': 3.89}\n",
      "{'loss': 0.0031, 'grad_norm': 0.03558852896094322, 'learning_rate': 5.34351145038168e-07, 'epoch': 3.89}\n",
      "{'loss': 0.0948, 'grad_norm': 0.02714884653687477, 'learning_rate': 5.152671755725191e-07, 'epoch': 3.9}\n",
      "{'loss': 0.0416, 'grad_norm': 0.03303498029708862, 'learning_rate': 4.961832061068702e-07, 'epoch': 3.9}\n",
      "{'loss': 0.0654, 'grad_norm': 3.847564935684204, 'learning_rate': 4.770992366412214e-07, 'epoch': 3.9}\n",
      "{'loss': 0.0031, 'grad_norm': 0.13469187915325165, 'learning_rate': 4.5801526717557257e-07, 'epoch': 3.91}\n",
      "{'loss': 0.0059, 'grad_norm': 0.032832980155944824, 'learning_rate': 4.389312977099237e-07, 'epoch': 3.91}\n",
      "{'loss': 0.1091, 'grad_norm': 29.151294708251953, 'learning_rate': 4.1984732824427486e-07, 'epoch': 3.92}\n",
      "{'loss': 0.0616, 'grad_norm': 0.026088211685419083, 'learning_rate': 4.00763358778626e-07, 'epoch': 3.92}\n",
      "{'loss': 0.0032, 'grad_norm': 0.04078645259141922, 'learning_rate': 3.8167938931297716e-07, 'epoch': 3.92}\n",
      "{'loss': 0.1073, 'grad_norm': 29.77161979675293, 'learning_rate': 3.6259541984732823e-07, 'epoch': 3.93}\n",
      "{'loss': 0.0045, 'grad_norm': 0.025875484570860863, 'learning_rate': 3.4351145038167945e-07, 'epoch': 3.93}\n",
      "{'loss': 0.0052, 'grad_norm': 0.030294107273221016, 'learning_rate': 3.244274809160305e-07, 'epoch': 3.94}\n",
      "{'loss': 0.0732, 'grad_norm': 0.02731158770620823, 'learning_rate': 3.053435114503817e-07, 'epoch': 3.94}\n",
      "{'loss': 0.0056, 'grad_norm': 0.03014412149786949, 'learning_rate': 2.862595419847328e-07, 'epoch': 3.94}\n",
      "{'loss': 0.0038, 'grad_norm': 0.3215404152870178, 'learning_rate': 2.67175572519084e-07, 'epoch': 3.95}\n",
      "{'loss': 0.1099, 'grad_norm': 0.031528547406196594, 'learning_rate': 2.480916030534351e-07, 'epoch': 3.95}\n",
      "{'loss': 0.1059, 'grad_norm': 45.703250885009766, 'learning_rate': 2.2900763358778629e-07, 'epoch': 3.95}\n",
      "{'loss': 0.0241, 'grad_norm': 6.015071868896484, 'learning_rate': 2.0992366412213743e-07, 'epoch': 3.96}\n",
      "{'loss': 0.1458, 'grad_norm': 0.042069874703884125, 'learning_rate': 1.9083969465648858e-07, 'epoch': 3.96}\n",
      "{'loss': 0.0033, 'grad_norm': 0.04108016565442085, 'learning_rate': 1.7175572519083973e-07, 'epoch': 3.97}\n",
      "{'loss': 0.0285, 'grad_norm': 0.5158838033676147, 'learning_rate': 1.5267175572519085e-07, 'epoch': 3.97}\n",
      "{'loss': 0.0982, 'grad_norm': 0.6514853239059448, 'learning_rate': 1.33587786259542e-07, 'epoch': 3.97}\n",
      "{'loss': 0.0758, 'grad_norm': 0.031590256839990616, 'learning_rate': 1.1450381679389314e-07, 'epoch': 3.98}\n",
      "{'loss': 0.0032, 'grad_norm': 0.03709014877676964, 'learning_rate': 9.541984732824429e-08, 'epoch': 3.98}\n",
      "{'loss': 0.0522, 'grad_norm': 0.2011999785900116, 'learning_rate': 7.633587786259542e-08, 'epoch': 3.98}\n",
      "{'loss': 0.1372, 'grad_norm': 0.07530000805854797, 'learning_rate': 5.725190839694657e-08, 'epoch': 3.99}\n",
      "{'loss': 0.0034, 'grad_norm': 0.1821233034133911, 'learning_rate': 3.816793893129771e-08, 'epoch': 3.99}\n",
      "{'loss': 0.017, 'grad_norm': 0.09274795651435852, 'learning_rate': 1.9083969465648856e-08, 'epoch': 4.0}\n",
      "{'loss': 0.0066, 'grad_norm': 0.022177791222929955, 'learning_rate': 0.0, 'epoch': 4.0}\n",
      "{'train_runtime': 22792.3306, 'train_samples_per_second': 3.678, 'train_steps_per_second': 0.46, 'train_loss': 0.23013947155212855, 'epoch': 4.0}\n"
     ]
    },
    {
     "data": {
      "text/plain": [
       "TrainOutput(global_step=10480, training_loss=0.23013947155212855, metrics={'train_runtime': 22792.3306, 'train_samples_per_second': 3.678, 'train_steps_per_second': 0.46, 'total_flos': 6.496618441328935e+18, 'train_loss': 0.23013947155212855, 'epoch': 4.0})"
      ]
     },
     "execution_count": 222,
     "metadata": {},
     "output_type": "execute_result"
    }
   ],
   "source": [
    "trainer.train()"
   ]
  },
  {
   "cell_type": "code",
   "execution_count": null,
   "metadata": {},
   "outputs": [],
   "source": [
    "trainer.save_model()\n",
    "trainer.save_state()\n"
   ]
  },
  {
   "cell_type": "code",
   "execution_count": 226,
   "metadata": {},
   "outputs": [],
   "source": [
    "prepared_val = ds['validation'].with_transform(preprocess)"
   ]
  },
  {
   "cell_type": "code",
   "execution_count": null,
   "metadata": {},
   "outputs": [
    {
     "data": {
      "application/vnd.jupyter.widget-view+json": {
       "model_id": "9edc08a03e48492cb6a743bc086b14ec",
       "version_major": 2,
       "version_minor": 0
      },
      "text/plain": [
       "  0%|          | 0/42 [00:00<?, ?it/s]"
      ]
     },
     "metadata": {},
     "output_type": "display_data"
    },
    {
     "data": {
      "text/plain": [
       "{'eval_loss': 0.3163492679595947,\n",
       " 'eval_accuracy': 0.907185628742515,\n",
       " 'eval_runtime': 70.2505,\n",
       " 'eval_samples_per_second': 9.509,\n",
       " 'eval_steps_per_second': 0.598,\n",
       " 'epoch': 4.0}"
      ]
     },
     "execution_count": 227,
     "metadata": {},
     "output_type": "execute_result"
    },
    {
     "ename": "",
     "evalue": "",
     "output_type": "error",
     "traceback": [
      "\u001b[1;31mThe Kernel crashed while executing code in the current cell or a previous cell. \n",
      "\u001b[1;31mPlease review the code in the cell(s) to identify a possible cause of the failure. \n",
      "\u001b[1;31mClick <a href='https://aka.ms/vscodeJupyterKernelCrash'>here</a> for more info. \n",
      "\u001b[1;31mView Jupyter <a href='command:jupyter.viewOutput'>log</a> for further details."
     ]
    }
   ],
   "source": []
  }
 ],
 "metadata": {
  "kernelspec": {
   "display_name": "base",
   "language": "python",
   "name": "python3"
  },
  "language_info": {
   "codemirror_mode": {
    "name": "ipython",
    "version": 3
   },
   "file_extension": ".py",
   "mimetype": "text/x-python",
   "name": "python",
   "nbconvert_exporter": "python",
   "pygments_lexer": "ipython3",
   "version": "3.11.7"
  }
 },
 "nbformat": 4,
 "nbformat_minor": 2
}
