{
 "cells": [
  {
   "cell_type": "code",
   "execution_count": 8,
   "metadata": {},
   "outputs": [],
   "source": [
    "import torch\n",
    "import torch.nn as nn\n",
    "import torch.optim as optim\n",
    "from torch.utils.data import DataLoader\n",
    "import torchvision.transforms as transforms\n",
    "import torchvision.datasets as datasets\n",
    "from datasets import load_dataset\n",
    "from timm import create_model\n",
    "from transformers import ViTImageProcessor\n",
    "from transformers import ViTConfig, ViTModel\n",
    "import evaluate \n",
    "import numpy as np\n"
   ]
  },
  {
   "cell_type": "code",
   "execution_count": 9,
   "metadata": {},
   "outputs": [],
   "source": [
    "from transformers import ViTImageProcessor\n",
    "\n",
    "model_name_or_path = 'google/vit-base-patch16-224-in21k'\n",
    "feature_extractor = ViTImageProcessor.from_pretrained(model_name_or_path, return_tensors='pt')\n"
   ]
  },
  {
   "cell_type": "code",
   "execution_count": 10,
   "metadata": {},
   "outputs": [],
   "source": [
    "# Initializing a ViT vit-base-patch16-224 style configuration\n",
    "configuration = ViTConfig()\n",
    "\n",
    "# Initializing a model (with random weights) from the vit-base-patch16-224 style configuration\n",
    "model = ViTModel(configuration)\n",
    "\n"
   ]
  },
  {
   "cell_type": "code",
   "execution_count": 11,
   "metadata": {},
   "outputs": [],
   "source": [
    "def transform(example_batch):\n",
    "    # Take a list of PIL images and turn them to pixel values\n",
    "    inputs = feature_extractor([x for x in example_batch['image']], return_tensors='pt')\n",
    "\n",
    "    # Don't forget to include the labels!\n",
    "    inputs['labels'] = example_batch['label']\n",
    "    return inputs\n"
   ]
  },
  {
   "cell_type": "code",
   "execution_count": 12,
   "metadata": {},
   "outputs": [
    {
     "data": {
      "application/vnd.jupyter.widget-view+json": {
       "model_id": "c475682b062e408ca99833dfff0a4825",
       "version_major": 2,
       "version_minor": 0
      },
      "text/plain": [
       "Resolving data files:   0%|          | 0/20851 [00:00<?, ?it/s]"
      ]
     },
     "metadata": {},
     "output_type": "display_data"
    },
    {
     "data": {
      "application/vnd.jupyter.widget-view+json": {
       "model_id": "42b224b1fb1147c4a3eb16d23b1ea0f9",
       "version_major": 2,
       "version_minor": 0
      },
      "text/plain": [
       "Resolving data files:   0%|          | 0/108 [00:00<?, ?it/s]"
      ]
     },
     "metadata": {},
     "output_type": "display_data"
    },
    {
     "data": {
      "application/vnd.jupyter.widget-view+json": {
       "model_id": "553988934c4f40058bafdceff9f1215d",
       "version_major": 2,
       "version_minor": 0
      },
      "text/plain": [
       "Resolving data files:   0%|          | 0/1436 [00:00<?, ?it/s]"
      ]
     },
     "metadata": {},
     "output_type": "display_data"
    }
   ],
   "source": [
    "ds = load_dataset(\"C:/Tesis/DatasetBinario\", num_proc=3)"
   ]
  },
  {
   "cell_type": "code",
   "execution_count": 13,
   "metadata": {},
   "outputs": [
    {
     "data": {
      "text/plain": [
       "DatasetDict({\n",
       "    train: Dataset({\n",
       "        features: ['image', 'label'],\n",
       "        num_rows: 20851\n",
       "    })\n",
       "    validation: Dataset({\n",
       "        features: ['image', 'label'],\n",
       "        num_rows: 108\n",
       "    })\n",
       "    test: Dataset({\n",
       "        features: ['image', 'label'],\n",
       "        num_rows: 1436\n",
       "    })\n",
       "})"
      ]
     },
     "execution_count": 13,
     "metadata": {},
     "output_type": "execute_result"
    }
   ],
   "source": [
    "ds"
   ]
  },
  {
   "cell_type": "code",
   "execution_count": 14,
   "metadata": {},
   "outputs": [
    {
     "name": "stdout",
     "output_type": "stream",
     "text": [
      "2 ClassLabel(names=['Melanoma', 'No Melanoma'], id=None)\n"
     ]
    }
   ],
   "source": [
    "dataset_train = ds['train']\n",
    "dataset_val = ds['validation']\n",
    "num_classes = len(set(dataset_train['label']))\n",
    "labels = ds['train'].features['label']\n",
    "print(num_classes, labels)"
   ]
  },
  {
   "cell_type": "code",
   "execution_count": 15,
   "metadata": {},
   "outputs": [],
   "source": [
    "example = feature_extractor(dataset_train[0]['image'], return_tensors = 'pt')"
   ]
  },
  {
   "cell_type": "code",
   "execution_count": 16,
   "metadata": {},
   "outputs": [
    {
     "data": {
      "text/plain": [
       "device(type='cuda')"
      ]
     },
     "execution_count": 16,
     "metadata": {},
     "output_type": "execute_result"
    }
   ],
   "source": [
    "device = torch.device('cuda' if torch.cuda.is_available() else 'cpu')\n",
    "device"
   ]
  },
  {
   "cell_type": "code",
   "execution_count": 17,
   "metadata": {},
   "outputs": [],
   "source": [
    "def preprocess(batch):\n",
    "    inputs = feature_extractor(batch['image'], return_tensors='pt').to(device)\n",
    "    inputs['label'] = batch['label']\n",
    "    return inputs"
   ]
  },
  {
   "cell_type": "code",
   "execution_count": 18,
   "metadata": {},
   "outputs": [],
   "source": [
    "prepared_train = dataset_train.with_transform(preprocess)\n",
    "prepared_test = dataset_val.with_transform(preprocess)"
   ]
  },
  {
   "cell_type": "code",
   "execution_count": 19,
   "metadata": {},
   "outputs": [
    {
     "name": "stdout",
     "output_type": "stream",
     "text": [
      "{'image': Image(mode=None, decode=True, id=None), 'label': ClassLabel(names=['Melanoma', 'No Melanoma'], id=None)}\n"
     ]
    }
   ],
   "source": [
    "print(prepared_train.features)"
   ]
  },
  {
   "cell_type": "code",
   "execution_count": 20,
   "metadata": {},
   "outputs": [],
   "source": [
    "def collate_fn(batch):\n",
    "    return {\n",
    "        'pixel_values': torch.stack([x['pixel_values'] for x in batch]),\n",
    "        'labels': torch.tensor([x['label'] for x in batch])\n",
    "    }\n"
   ]
  },
  {
   "cell_type": "code",
   "execution_count": 21,
   "metadata": {},
   "outputs": [
    {
     "name": "stderr",
     "output_type": "stream",
     "text": [
      "Some weights of ViTForImageClassification were not initialized from the model checkpoint at google/vit-base-patch16-224-in21k and are newly initialized: ['classifier.bias', 'classifier.weight']\n",
      "You should probably TRAIN this model on a down-stream task to be able to use it for predictions and inference.\n"
     ]
    }
   ],
   "source": [
    "from transformers import ViTForImageClassification\n",
    "\n",
    "labels = ds['train'].features['label'].names\n",
    "\n",
    "model = ViTForImageClassification.from_pretrained(\n",
    "    model_name_or_path,\n",
    "    num_labels=len(labels),\n",
    ").to(device)\n"
   ]
  },
  {
   "cell_type": "code",
   "execution_count": 22,
   "metadata": {},
   "outputs": [],
   "source": [
    "metric = evaluate.load(\"accuracy\")"
   ]
  },
  {
   "cell_type": "code",
   "execution_count": 23,
   "metadata": {},
   "outputs": [],
   "source": [
    "def compute_metrics(eval_pred):\n",
    "    logits, labels = eval_pred\n",
    "    predictions = np.argmax(logits, axis=-1)\n",
    "    return metric.compute(predictions=predictions, references=labels)"
   ]
  },
  {
   "cell_type": "code",
   "execution_count": 24,
   "metadata": {},
   "outputs": [
    {
     "name": "stderr",
     "output_type": "stream",
     "text": [
      "C:\\Users\\abadd\\AppData\\Roaming\\Python\\Python311\\site-packages\\transformers\\training_args.py:1575: FutureWarning: `evaluation_strategy` is deprecated and will be removed in version 4.46 of 🤗 Transformers. Use `eval_strategy` instead\n",
      "  warnings.warn(\n"
     ]
    }
   ],
   "source": [
    "from transformers import TrainingArguments, Trainer\n",
    "\n",
    "\n",
    "training_args = TrainingArguments(\n",
    "    output_dir='./resultsViTBinary', \n",
    "    per_device_eval_batch_size=16,\n",
    "    evaluation_strategy=\"steps\",\n",
    "    num_train_epochs=4,\n",
    "    save_steps=500,\n",
    "    eval_steps=500,\n",
    "    logging_steps=10,\n",
    "    learning_rate=2e-5,\n",
    "    save_total_limit=2,\n",
    "    remove_unused_columns=False,\n",
    "    push_to_hub=False,\n",
    "    load_best_model_at_end=True,\n",
    "    dataloader_pin_memory=False\n",
    "    \n",
    "    )"
   ]
  },
  {
   "cell_type": "code",
   "execution_count": 25,
   "metadata": {},
   "outputs": [
    {
     "name": "stderr",
     "output_type": "stream",
     "text": [
      "C:\\Users\\abadd\\AppData\\Local\\Temp\\ipykernel_25872\\1455688735.py:1: FutureWarning: `tokenizer` is deprecated and will be removed in version 5.0.0 for `Trainer.__init__`. Use `processing_class` instead.\n",
      "  trainer = Trainer(\n"
     ]
    }
   ],
   "source": [
    "trainer = Trainer(\n",
    "    model=model,\n",
    "    args=training_args,\n",
    "    train_dataset= prepared_train,\n",
    "    eval_dataset= prepared_test,\n",
    "    compute_metrics=compute_metrics,\n",
    "    data_collator=collate_fn,\n",
    "    tokenizer=feature_extractor\n",
    ")"
   ]
  },
  {
   "cell_type": "code",
   "execution_count": 26,
   "metadata": {},
   "outputs": [
    {
     "data": {
      "application/vnd.jupyter.widget-view+json": {
       "model_id": "3e266839af824f55a1f21c3ee7c8bcf1",
       "version_major": 2,
       "version_minor": 0
      },
      "text/plain": [
       "  0%|          | 0/10428 [00:00<?, ?it/s]"
      ]
     },
     "metadata": {},
     "output_type": "display_data"
    },
    {
     "name": "stdout",
     "output_type": "stream",
     "text": [
      "{'loss': 0.6744, 'grad_norm': 1.654010534286499, 'learning_rate': 1.9980820866896817e-05, 'epoch': 0.0}\n",
      "{'loss': 0.6752, 'grad_norm': 2.1206185817718506, 'learning_rate': 1.9961641733793635e-05, 'epoch': 0.01}\n",
      "{'loss': 0.6345, 'grad_norm': 2.130784749984741, 'learning_rate': 1.994246260069045e-05, 'epoch': 0.01}\n",
      "{'loss': 0.6473, 'grad_norm': 2.233139753341675, 'learning_rate': 1.9923283467587265e-05, 'epoch': 0.02}\n",
      "{'loss': 0.6211, 'grad_norm': 2.426104784011841, 'learning_rate': 1.9904104334484084e-05, 'epoch': 0.02}\n",
      "{'loss': 0.6329, 'grad_norm': 2.6524240970611572, 'learning_rate': 1.98849252013809e-05, 'epoch': 0.02}\n",
      "{'loss': 0.6078, 'grad_norm': 2.9728901386260986, 'learning_rate': 1.9865746068277718e-05, 'epoch': 0.03}\n",
      "{'loss': 0.6195, 'grad_norm': 3.1424577236175537, 'learning_rate': 1.9846566935174533e-05, 'epoch': 0.03}\n",
      "{'loss': 0.5756, 'grad_norm': 3.0410590171813965, 'learning_rate': 1.9827387802071348e-05, 'epoch': 0.03}\n",
      "{'loss': 0.577, 'grad_norm': 2.2300784587860107, 'learning_rate': 1.9808208668968166e-05, 'epoch': 0.04}\n",
      "{'loss': 0.539, 'grad_norm': 2.5240859985351562, 'learning_rate': 1.978902953586498e-05, 'epoch': 0.04}\n",
      "{'loss': 0.5827, 'grad_norm': 1.834463357925415, 'learning_rate': 1.9769850402761797e-05, 'epoch': 0.05}\n",
      "{'loss': 0.5957, 'grad_norm': 2.725851535797119, 'learning_rate': 1.975067126965861e-05, 'epoch': 0.05}\n",
      "{'loss': 0.5349, 'grad_norm': 2.2219743728637695, 'learning_rate': 1.973149213655543e-05, 'epoch': 0.05}\n",
      "{'loss': 0.5113, 'grad_norm': 2.9052398204803467, 'learning_rate': 1.9712313003452245e-05, 'epoch': 0.06}\n",
      "{'loss': 0.616, 'grad_norm': 3.109807014465332, 'learning_rate': 1.969313387034906e-05, 'epoch': 0.06}\n",
      "{'loss': 0.5473, 'grad_norm': 3.046886920928955, 'learning_rate': 1.967395473724588e-05, 'epoch': 0.07}\n",
      "{'loss': 0.5604, 'grad_norm': 1.9451537132263184, 'learning_rate': 1.9654775604142694e-05, 'epoch': 0.07}\n",
      "{'loss': 0.5374, 'grad_norm': 1.5304123163223267, 'learning_rate': 1.9635596471039512e-05, 'epoch': 0.07}\n",
      "{'loss': 0.5069, 'grad_norm': 2.648961305618286, 'learning_rate': 1.9616417337936328e-05, 'epoch': 0.08}\n",
      "{'loss': 0.4441, 'grad_norm': 1.6293600797653198, 'learning_rate': 1.9597238204833143e-05, 'epoch': 0.08}\n",
      "{'loss': 0.5399, 'grad_norm': 1.6853182315826416, 'learning_rate': 1.957805907172996e-05, 'epoch': 0.08}\n",
      "{'loss': 0.5846, 'grad_norm': 2.768362283706665, 'learning_rate': 1.9558879938626776e-05, 'epoch': 0.09}\n",
      "{'loss': 0.5615, 'grad_norm': 2.475752592086792, 'learning_rate': 1.953970080552359e-05, 'epoch': 0.09}\n",
      "{'loss': 0.5574, 'grad_norm': 2.0206971168518066, 'learning_rate': 1.9520521672420407e-05, 'epoch': 0.1}\n",
      "{'loss': 0.5595, 'grad_norm': 3.3519234657287598, 'learning_rate': 1.9501342539317225e-05, 'epoch': 0.1}\n",
      "{'loss': 0.4615, 'grad_norm': 2.849607467651367, 'learning_rate': 1.948216340621404e-05, 'epoch': 0.1}\n",
      "{'loss': 0.5845, 'grad_norm': 3.087331533432007, 'learning_rate': 1.9462984273110855e-05, 'epoch': 0.11}\n",
      "{'loss': 0.5353, 'grad_norm': 2.729672431945801, 'learning_rate': 1.9443805140007674e-05, 'epoch': 0.11}\n",
      "{'loss': 0.5299, 'grad_norm': 3.7453107833862305, 'learning_rate': 1.942462600690449e-05, 'epoch': 0.12}\n",
      "{'loss': 0.5327, 'grad_norm': 3.0901739597320557, 'learning_rate': 1.9405446873801307e-05, 'epoch': 0.12}\n",
      "{'loss': 0.5131, 'grad_norm': 2.507807731628418, 'learning_rate': 1.9386267740698123e-05, 'epoch': 0.12}\n",
      "{'loss': 0.4601, 'grad_norm': 1.8467214107513428, 'learning_rate': 1.936708860759494e-05, 'epoch': 0.13}\n",
      "{'loss': 0.5154, 'grad_norm': 9.680868148803711, 'learning_rate': 1.9347909474491756e-05, 'epoch': 0.13}\n",
      "{'loss': 0.4759, 'grad_norm': 5.454748153686523, 'learning_rate': 1.932873034138857e-05, 'epoch': 0.13}\n",
      "{'loss': 0.4481, 'grad_norm': 3.9415407180786133, 'learning_rate': 1.9309551208285386e-05, 'epoch': 0.14}\n",
      "{'loss': 0.4558, 'grad_norm': 6.0885138511657715, 'learning_rate': 1.9290372075182205e-05, 'epoch': 0.14}\n",
      "{'loss': 0.4391, 'grad_norm': 3.0831515789031982, 'learning_rate': 1.927119294207902e-05, 'epoch': 0.15}\n",
      "{'loss': 0.5566, 'grad_norm': 5.111001968383789, 'learning_rate': 1.9252013808975835e-05, 'epoch': 0.15}\n",
      "{'loss': 0.4259, 'grad_norm': 1.8202887773513794, 'learning_rate': 1.923283467587265e-05, 'epoch': 0.15}\n",
      "{'loss': 0.4942, 'grad_norm': 3.8285372257232666, 'learning_rate': 1.921365554276947e-05, 'epoch': 0.16}\n",
      "{'loss': 0.4637, 'grad_norm': 2.966357946395874, 'learning_rate': 1.9194476409666284e-05, 'epoch': 0.16}\n",
      "{'loss': 0.5388, 'grad_norm': 3.5427958965301514, 'learning_rate': 1.9175297276563102e-05, 'epoch': 0.16}\n",
      "{'loss': 0.5472, 'grad_norm': 2.1159515380859375, 'learning_rate': 1.9156118143459917e-05, 'epoch': 0.17}\n",
      "{'loss': 0.5026, 'grad_norm': 3.3607614040374756, 'learning_rate': 1.9136939010356736e-05, 'epoch': 0.17}\n",
      "{'loss': 0.6211, 'grad_norm': 3.0059056282043457, 'learning_rate': 1.911775987725355e-05, 'epoch': 0.18}\n",
      "{'loss': 0.4419, 'grad_norm': 3.0702152252197266, 'learning_rate': 1.9098580744150366e-05, 'epoch': 0.18}\n",
      "{'loss': 0.504, 'grad_norm': 5.995489597320557, 'learning_rate': 1.907940161104718e-05, 'epoch': 0.18}\n",
      "{'loss': 0.6111, 'grad_norm': 2.877286672592163, 'learning_rate': 1.9060222477944e-05, 'epoch': 0.19}\n",
      "{'loss': 0.5593, 'grad_norm': 3.4909682273864746, 'learning_rate': 1.9041043344840815e-05, 'epoch': 0.19}\n"
     ]
    },
    {
     "data": {
      "application/vnd.jupyter.widget-view+json": {
       "model_id": "05c4377a834f401298d5a645cbe17914",
       "version_major": 2,
       "version_minor": 0
      },
      "text/plain": [
       "  0%|          | 0/7 [00:00<?, ?it/s]"
      ]
     },
     "metadata": {},
     "output_type": "display_data"
    },
    {
     "name": "stdout",
     "output_type": "stream",
     "text": [
      "{'eval_loss': 0.3780050575733185, 'eval_accuracy': 0.8611111111111112, 'eval_runtime': 13.3772, 'eval_samples_per_second': 8.073, 'eval_steps_per_second': 0.523, 'epoch': 0.19}\n",
      "{'loss': 0.5164, 'grad_norm': 2.280686855316162, 'learning_rate': 1.902186421173763e-05, 'epoch': 0.2}\n",
      "{'loss': 0.4879, 'grad_norm': 5.4873552322387695, 'learning_rate': 1.9002685078634445e-05, 'epoch': 0.2}\n",
      "{'loss': 0.558, 'grad_norm': 3.3039088249206543, 'learning_rate': 1.8983505945531264e-05, 'epoch': 0.2}\n",
      "{'loss': 0.4763, 'grad_norm': 4.06662654876709, 'learning_rate': 1.896432681242808e-05, 'epoch': 0.21}\n",
      "{'loss': 0.4265, 'grad_norm': 3.193070650100708, 'learning_rate': 1.8945147679324897e-05, 'epoch': 0.21}\n",
      "{'loss': 0.4638, 'grad_norm': 5.0375213623046875, 'learning_rate': 1.8925968546221712e-05, 'epoch': 0.21}\n",
      "{'loss': 0.3806, 'grad_norm': 5.01851224899292, 'learning_rate': 1.890678941311853e-05, 'epoch': 0.22}\n",
      "{'loss': 0.4968, 'grad_norm': 3.6763322353363037, 'learning_rate': 1.8887610280015346e-05, 'epoch': 0.22}\n",
      "{'loss': 0.5423, 'grad_norm': 4.6538166999816895, 'learning_rate': 1.886843114691216e-05, 'epoch': 0.23}\n",
      "{'loss': 0.4952, 'grad_norm': 3.726215124130249, 'learning_rate': 1.8849252013808976e-05, 'epoch': 0.23}\n",
      "{'loss': 0.4249, 'grad_norm': 7.503842830657959, 'learning_rate': 1.8830072880705795e-05, 'epoch': 0.23}\n",
      "{'loss': 0.3596, 'grad_norm': 4.78208589553833, 'learning_rate': 1.881089374760261e-05, 'epoch': 0.24}\n",
      "{'loss': 0.5653, 'grad_norm': 2.524367094039917, 'learning_rate': 1.8791714614499425e-05, 'epoch': 0.24}\n",
      "{'loss': 0.3999, 'grad_norm': 3.8509607315063477, 'learning_rate': 1.8772535481396243e-05, 'epoch': 0.25}\n",
      "{'loss': 0.4994, 'grad_norm': 0.9217163920402527, 'learning_rate': 1.875335634829306e-05, 'epoch': 0.25}\n",
      "{'loss': 0.4367, 'grad_norm': 4.005788803100586, 'learning_rate': 1.8734177215189874e-05, 'epoch': 0.25}\n",
      "{'loss': 0.5018, 'grad_norm': 6.231234550476074, 'learning_rate': 1.8714998082086692e-05, 'epoch': 0.26}\n",
      "{'loss': 0.427, 'grad_norm': 4.297477722167969, 'learning_rate': 1.8695818948983507e-05, 'epoch': 0.26}\n",
      "{'loss': 0.3765, 'grad_norm': 3.585947275161743, 'learning_rate': 1.8676639815880326e-05, 'epoch': 0.26}\n",
      "{'loss': 0.5199, 'grad_norm': 3.330937623977661, 'learning_rate': 1.865746068277714e-05, 'epoch': 0.27}\n",
      "{'loss': 0.4087, 'grad_norm': 2.0703680515289307, 'learning_rate': 1.8638281549673956e-05, 'epoch': 0.27}\n",
      "{'loss': 0.5537, 'grad_norm': 5.9896464347839355, 'learning_rate': 1.8619102416570774e-05, 'epoch': 0.28}\n",
      "{'loss': 0.3846, 'grad_norm': 3.3866286277770996, 'learning_rate': 1.859992328346759e-05, 'epoch': 0.28}\n",
      "{'loss': 0.3783, 'grad_norm': 2.5317487716674805, 'learning_rate': 1.8580744150364405e-05, 'epoch': 0.28}\n",
      "{'loss': 0.5401, 'grad_norm': 3.951918840408325, 'learning_rate': 1.856156501726122e-05, 'epoch': 0.29}\n",
      "{'loss': 0.5996, 'grad_norm': 4.120150566101074, 'learning_rate': 1.8542385884158038e-05, 'epoch': 0.29}\n",
      "{'loss': 0.4308, 'grad_norm': 3.7820279598236084, 'learning_rate': 1.8523206751054853e-05, 'epoch': 0.3}\n",
      "{'loss': 0.3946, 'grad_norm': 4.722506999969482, 'learning_rate': 1.850402761795167e-05, 'epoch': 0.3}\n",
      "{'loss': 0.4121, 'grad_norm': 5.2991766929626465, 'learning_rate': 1.8484848484848487e-05, 'epoch': 0.3}\n",
      "{'loss': 0.4699, 'grad_norm': 4.098738670349121, 'learning_rate': 1.8465669351745302e-05, 'epoch': 0.31}\n",
      "{'loss': 0.3981, 'grad_norm': 2.233771324157715, 'learning_rate': 1.844649021864212e-05, 'epoch': 0.31}\n",
      "{'loss': 0.444, 'grad_norm': 3.87601375579834, 'learning_rate': 1.8427311085538936e-05, 'epoch': 0.31}\n",
      "{'loss': 0.3855, 'grad_norm': 5.210330963134766, 'learning_rate': 1.840813195243575e-05, 'epoch': 0.32}\n",
      "{'loss': 0.4502, 'grad_norm': 3.999143123626709, 'learning_rate': 1.838895281933257e-05, 'epoch': 0.32}\n",
      "{'loss': 0.4718, 'grad_norm': 5.060973167419434, 'learning_rate': 1.8369773686229384e-05, 'epoch': 0.33}\n",
      "{'loss': 0.4931, 'grad_norm': 1.8359425067901611, 'learning_rate': 1.83505945531262e-05, 'epoch': 0.33}\n",
      "{'loss': 0.4332, 'grad_norm': 3.056443214416504, 'learning_rate': 1.8331415420023015e-05, 'epoch': 0.33}\n",
      "{'loss': 0.45, 'grad_norm': 2.6910858154296875, 'learning_rate': 1.8312236286919833e-05, 'epoch': 0.34}\n",
      "{'loss': 0.4572, 'grad_norm': 5.295093536376953, 'learning_rate': 1.829305715381665e-05, 'epoch': 0.34}\n",
      "{'loss': 0.3608, 'grad_norm': 3.141216278076172, 'learning_rate': 1.8273878020713463e-05, 'epoch': 0.35}\n",
      "{'loss': 0.4673, 'grad_norm': 2.9583096504211426, 'learning_rate': 1.8254698887610282e-05, 'epoch': 0.35}\n",
      "{'loss': 0.4084, 'grad_norm': 1.775850772857666, 'learning_rate': 1.8235519754507097e-05, 'epoch': 0.35}\n",
      "{'loss': 0.3402, 'grad_norm': 4.02060604095459, 'learning_rate': 1.8216340621403916e-05, 'epoch': 0.36}\n",
      "{'loss': 0.5057, 'grad_norm': 7.250178337097168, 'learning_rate': 1.819716148830073e-05, 'epoch': 0.36}\n",
      "{'loss': 0.491, 'grad_norm': 3.8762269020080566, 'learning_rate': 1.817798235519755e-05, 'epoch': 0.36}\n",
      "{'loss': 0.3347, 'grad_norm': 5.433386325836182, 'learning_rate': 1.8158803222094364e-05, 'epoch': 0.37}\n",
      "{'loss': 0.483, 'grad_norm': 5.817562580108643, 'learning_rate': 1.813962408899118e-05, 'epoch': 0.37}\n",
      "{'loss': 0.4748, 'grad_norm': 4.071195125579834, 'learning_rate': 1.8120444955887995e-05, 'epoch': 0.38}\n",
      "{'loss': 0.5157, 'grad_norm': 3.6396214962005615, 'learning_rate': 1.8101265822784813e-05, 'epoch': 0.38}\n",
      "{'loss': 0.5218, 'grad_norm': 5.590706825256348, 'learning_rate': 1.8082086689681628e-05, 'epoch': 0.38}\n"
     ]
    },
    {
     "data": {
      "application/vnd.jupyter.widget-view+json": {
       "model_id": "8d680fdaa8e04760830606fb3db9f6cd",
       "version_major": 2,
       "version_minor": 0
      },
      "text/plain": [
       "  0%|          | 0/7 [00:00<?, ?it/s]"
      ]
     },
     "metadata": {},
     "output_type": "display_data"
    },
    {
     "name": "stdout",
     "output_type": "stream",
     "text": [
      "{'eval_loss': 0.400713711977005, 'eval_accuracy': 0.8333333333333334, 'eval_runtime': 10.3425, 'eval_samples_per_second': 10.442, 'eval_steps_per_second': 0.677, 'epoch': 0.38}\n",
      "{'loss': 0.4543, 'grad_norm': 3.2673304080963135, 'learning_rate': 1.8062907556578443e-05, 'epoch': 0.39}\n",
      "{'loss': 0.5095, 'grad_norm': 5.045934677124023, 'learning_rate': 1.804372842347526e-05, 'epoch': 0.39}\n",
      "{'loss': 0.4815, 'grad_norm': 4.081511974334717, 'learning_rate': 1.8024549290372077e-05, 'epoch': 0.4}\n",
      "{'loss': 0.4142, 'grad_norm': 4.855908393859863, 'learning_rate': 1.8005370157268892e-05, 'epoch': 0.4}\n",
      "{'loss': 0.3688, 'grad_norm': 4.206729888916016, 'learning_rate': 1.798619102416571e-05, 'epoch': 0.4}\n",
      "{'loss': 0.4777, 'grad_norm': 1.7972731590270996, 'learning_rate': 1.7967011891062526e-05, 'epoch': 0.41}\n",
      "{'loss': 0.4762, 'grad_norm': 7.002444267272949, 'learning_rate': 1.7947832757959344e-05, 'epoch': 0.41}\n",
      "{'loss': 0.506, 'grad_norm': 6.149186134338379, 'learning_rate': 1.792865362485616e-05, 'epoch': 0.41}\n",
      "{'loss': 0.4647, 'grad_norm': 2.507564067840576, 'learning_rate': 1.7909474491752974e-05, 'epoch': 0.42}\n",
      "{'loss': 0.3606, 'grad_norm': 3.811974048614502, 'learning_rate': 1.789029535864979e-05, 'epoch': 0.42}\n",
      "{'loss': 0.4187, 'grad_norm': 4.40640926361084, 'learning_rate': 1.7871116225546608e-05, 'epoch': 0.43}\n",
      "{'loss': 0.4139, 'grad_norm': 6.465350151062012, 'learning_rate': 1.7851937092443423e-05, 'epoch': 0.43}\n",
      "{'loss': 0.3598, 'grad_norm': 6.2371087074279785, 'learning_rate': 1.7832757959340238e-05, 'epoch': 0.43}\n",
      "{'loss': 0.4232, 'grad_norm': 10.75723934173584, 'learning_rate': 1.7813578826237053e-05, 'epoch': 0.44}\n",
      "{'loss': 0.3301, 'grad_norm': 1.8037949800491333, 'learning_rate': 1.7794399693133872e-05, 'epoch': 0.44}\n",
      "{'loss': 0.3634, 'grad_norm': 4.930850505828857, 'learning_rate': 1.7775220560030687e-05, 'epoch': 0.44}\n",
      "{'loss': 0.4188, 'grad_norm': 5.73215389251709, 'learning_rate': 1.7756041426927505e-05, 'epoch': 0.45}\n",
      "{'loss': 0.4221, 'grad_norm': 1.7569128274917603, 'learning_rate': 1.773686229382432e-05, 'epoch': 0.45}\n",
      "{'loss': 0.3635, 'grad_norm': 3.4040064811706543, 'learning_rate': 1.771768316072114e-05, 'epoch': 0.46}\n",
      "{'loss': 0.4733, 'grad_norm': 8.044001579284668, 'learning_rate': 1.7698504027617954e-05, 'epoch': 0.46}\n",
      "{'loss': 0.5497, 'grad_norm': 5.336172580718994, 'learning_rate': 1.767932489451477e-05, 'epoch': 0.46}\n",
      "{'loss': 0.5039, 'grad_norm': 7.423121929168701, 'learning_rate': 1.7660145761411584e-05, 'epoch': 0.47}\n",
      "{'loss': 0.4988, 'grad_norm': 5.283718585968018, 'learning_rate': 1.7640966628308403e-05, 'epoch': 0.47}\n",
      "{'loss': 0.5033, 'grad_norm': 3.2473061084747314, 'learning_rate': 1.7621787495205218e-05, 'epoch': 0.48}\n",
      "{'loss': 0.361, 'grad_norm': 4.674022197723389, 'learning_rate': 1.7602608362102033e-05, 'epoch': 0.48}\n",
      "{'loss': 0.4089, 'grad_norm': 3.288005828857422, 'learning_rate': 1.758342922899885e-05, 'epoch': 0.48}\n",
      "{'loss': 0.4133, 'grad_norm': 3.0173089504241943, 'learning_rate': 1.7564250095895667e-05, 'epoch': 0.49}\n",
      "{'loss': 0.4632, 'grad_norm': 5.353822708129883, 'learning_rate': 1.7545070962792482e-05, 'epoch': 0.49}\n",
      "{'loss': 0.3111, 'grad_norm': 3.6092653274536133, 'learning_rate': 1.75258918296893e-05, 'epoch': 0.49}\n",
      "{'loss': 0.4779, 'grad_norm': 3.8218140602111816, 'learning_rate': 1.7506712696586115e-05, 'epoch': 0.5}\n",
      "{'loss': 0.5423, 'grad_norm': 3.9985575675964355, 'learning_rate': 1.7487533563482934e-05, 'epoch': 0.5}\n",
      "{'loss': 0.4345, 'grad_norm': 4.420840263366699, 'learning_rate': 1.746835443037975e-05, 'epoch': 0.51}\n",
      "{'loss': 0.3554, 'grad_norm': 1.6091008186340332, 'learning_rate': 1.7449175297276564e-05, 'epoch': 0.51}\n",
      "{'loss': 0.3306, 'grad_norm': 9.982596397399902, 'learning_rate': 1.7429996164173383e-05, 'epoch': 0.51}\n",
      "{'loss': 0.4709, 'grad_norm': 4.2620062828063965, 'learning_rate': 1.7410817031070198e-05, 'epoch': 0.52}\n",
      "{'loss': 0.2685, 'grad_norm': 2.5864040851593018, 'learning_rate': 1.7391637897967013e-05, 'epoch': 0.52}\n",
      "{'loss': 0.4426, 'grad_norm': 2.5771303176879883, 'learning_rate': 1.7372458764863828e-05, 'epoch': 0.53}\n",
      "{'loss': 0.4377, 'grad_norm': 2.824913740158081, 'learning_rate': 1.7353279631760646e-05, 'epoch': 0.53}\n",
      "{'loss': 0.5251, 'grad_norm': 7.648980140686035, 'learning_rate': 1.733410049865746e-05, 'epoch': 0.53}\n",
      "{'loss': 0.5198, 'grad_norm': 2.311093330383301, 'learning_rate': 1.7314921365554277e-05, 'epoch': 0.54}\n",
      "{'loss': 0.4691, 'grad_norm': 4.856884956359863, 'learning_rate': 1.7295742232451095e-05, 'epoch': 0.54}\n",
      "{'loss': 0.3638, 'grad_norm': 4.278520584106445, 'learning_rate': 1.727656309934791e-05, 'epoch': 0.54}\n",
      "{'loss': 0.417, 'grad_norm': 5.4907355308532715, 'learning_rate': 1.725738396624473e-05, 'epoch': 0.55}\n",
      "{'loss': 0.4489, 'grad_norm': 3.6216883659362793, 'learning_rate': 1.7238204833141544e-05, 'epoch': 0.55}\n",
      "{'loss': 0.5385, 'grad_norm': 3.7688674926757812, 'learning_rate': 1.721902570003836e-05, 'epoch': 0.56}\n",
      "{'loss': 0.4173, 'grad_norm': 1.8113104104995728, 'learning_rate': 1.7199846566935178e-05, 'epoch': 0.56}\n",
      "{'loss': 0.4611, 'grad_norm': 3.483947515487671, 'learning_rate': 1.7180667433831993e-05, 'epoch': 0.56}\n",
      "{'loss': 0.438, 'grad_norm': 3.488311767578125, 'learning_rate': 1.7161488300728808e-05, 'epoch': 0.57}\n",
      "{'loss': 0.3764, 'grad_norm': 4.252886772155762, 'learning_rate': 1.7142309167625623e-05, 'epoch': 0.57}\n",
      "{'loss': 0.3674, 'grad_norm': 4.209129333496094, 'learning_rate': 1.712313003452244e-05, 'epoch': 0.58}\n"
     ]
    },
    {
     "data": {
      "application/vnd.jupyter.widget-view+json": {
       "model_id": "7a4f3496d1cc4a1fbb9f3c2a491947ed",
       "version_major": 2,
       "version_minor": 0
      },
      "text/plain": [
       "  0%|          | 0/7 [00:00<?, ?it/s]"
      ]
     },
     "metadata": {},
     "output_type": "display_data"
    },
    {
     "name": "stdout",
     "output_type": "stream",
     "text": [
      "{'eval_loss': 0.5681933760643005, 'eval_accuracy': 0.7314814814814815, 'eval_runtime': 9.3164, 'eval_samples_per_second': 11.592, 'eval_steps_per_second': 0.751, 'epoch': 0.58}\n",
      "{'loss': 0.4011, 'grad_norm': 3.3645620346069336, 'learning_rate': 1.7103950901419256e-05, 'epoch': 0.58}\n",
      "{'loss': 0.3964, 'grad_norm': 4.130848407745361, 'learning_rate': 1.708477176831607e-05, 'epoch': 0.58}\n",
      "{'loss': 0.3875, 'grad_norm': 1.1540842056274414, 'learning_rate': 1.706559263521289e-05, 'epoch': 0.59}\n",
      "{'loss': 0.3974, 'grad_norm': 7.271149158477783, 'learning_rate': 1.7046413502109705e-05, 'epoch': 0.59}\n",
      "{'loss': 0.3913, 'grad_norm': 6.260169506072998, 'learning_rate': 1.7027234369006524e-05, 'epoch': 0.59}\n",
      "{'loss': 0.5022, 'grad_norm': 3.986598491668701, 'learning_rate': 1.700805523590334e-05, 'epoch': 0.6}\n",
      "{'loss': 0.3145, 'grad_norm': 3.205718517303467, 'learning_rate': 1.6988876102800157e-05, 'epoch': 0.6}\n",
      "{'loss': 0.3992, 'grad_norm': 5.789570331573486, 'learning_rate': 1.6969696969696972e-05, 'epoch': 0.61}\n",
      "{'loss': 0.4367, 'grad_norm': 3.8176310062408447, 'learning_rate': 1.6950517836593788e-05, 'epoch': 0.61}\n",
      "{'loss': 0.4163, 'grad_norm': 3.3917341232299805, 'learning_rate': 1.6931338703490603e-05, 'epoch': 0.61}\n",
      "{'loss': 0.4358, 'grad_norm': 3.5669515132904053, 'learning_rate': 1.691215957038742e-05, 'epoch': 0.62}\n",
      "{'loss': 0.3891, 'grad_norm': 4.755151271820068, 'learning_rate': 1.6892980437284236e-05, 'epoch': 0.62}\n",
      "{'loss': 0.3625, 'grad_norm': 2.1151866912841797, 'learning_rate': 1.687380130418105e-05, 'epoch': 0.63}\n",
      "{'loss': 0.3081, 'grad_norm': 3.2410433292388916, 'learning_rate': 1.6854622171077866e-05, 'epoch': 0.63}\n",
      "{'loss': 0.4721, 'grad_norm': 4.494781970977783, 'learning_rate': 1.6835443037974685e-05, 'epoch': 0.63}\n",
      "{'loss': 0.4354, 'grad_norm': 5.805915832519531, 'learning_rate': 1.68162639048715e-05, 'epoch': 0.64}\n",
      "{'loss': 0.4396, 'grad_norm': 5.843222618103027, 'learning_rate': 1.679708477176832e-05, 'epoch': 0.64}\n",
      "{'loss': 0.3626, 'grad_norm': 3.908245086669922, 'learning_rate': 1.6777905638665134e-05, 'epoch': 0.64}\n",
      "{'loss': 0.3895, 'grad_norm': 5.8916521072387695, 'learning_rate': 1.6758726505561952e-05, 'epoch': 0.65}\n",
      "{'loss': 0.5981, 'grad_norm': 5.768836498260498, 'learning_rate': 1.6739547372458767e-05, 'epoch': 0.65}\n",
      "{'loss': 0.3315, 'grad_norm': 2.5564944744110107, 'learning_rate': 1.6720368239355582e-05, 'epoch': 0.66}\n",
      "{'loss': 0.4131, 'grad_norm': 2.706667184829712, 'learning_rate': 1.6701189106252398e-05, 'epoch': 0.66}\n",
      "{'loss': 0.3801, 'grad_norm': 3.824836015701294, 'learning_rate': 1.6682009973149216e-05, 'epoch': 0.66}\n",
      "{'loss': 0.3463, 'grad_norm': 3.86572527885437, 'learning_rate': 1.666283084004603e-05, 'epoch': 0.67}\n",
      "{'loss': 0.376, 'grad_norm': 5.866970539093018, 'learning_rate': 1.6643651706942846e-05, 'epoch': 0.67}\n",
      "{'loss': 0.4052, 'grad_norm': 4.095832347869873, 'learning_rate': 1.662447257383966e-05, 'epoch': 0.68}\n",
      "{'loss': 0.5584, 'grad_norm': 5.428494930267334, 'learning_rate': 1.660529344073648e-05, 'epoch': 0.68}\n",
      "{'loss': 0.34, 'grad_norm': 5.990753173828125, 'learning_rate': 1.6586114307633295e-05, 'epoch': 0.68}\n",
      "{'loss': 0.3863, 'grad_norm': 9.570053100585938, 'learning_rate': 1.6566935174530114e-05, 'epoch': 0.69}\n",
      "{'loss': 0.4558, 'grad_norm': 4.214795112609863, 'learning_rate': 1.654775604142693e-05, 'epoch': 0.69}\n",
      "{'loss': 0.3765, 'grad_norm': 8.561245918273926, 'learning_rate': 1.6528576908323747e-05, 'epoch': 0.69}\n",
      "{'loss': 0.419, 'grad_norm': 4.923524856567383, 'learning_rate': 1.6509397775220562e-05, 'epoch': 0.7}\n",
      "{'loss': 0.2947, 'grad_norm': 6.696004390716553, 'learning_rate': 1.6490218642117377e-05, 'epoch': 0.7}\n",
      "{'loss': 0.2868, 'grad_norm': 7.239721298217773, 'learning_rate': 1.6471039509014192e-05, 'epoch': 0.71}\n",
      "{'loss': 0.3921, 'grad_norm': 4.083492755889893, 'learning_rate': 1.645186037591101e-05, 'epoch': 0.71}\n",
      "{'loss': 0.3513, 'grad_norm': 7.470623016357422, 'learning_rate': 1.6432681242807826e-05, 'epoch': 0.71}\n",
      "{'loss': 0.4172, 'grad_norm': 4.698578834533691, 'learning_rate': 1.641350210970464e-05, 'epoch': 0.72}\n",
      "{'loss': 0.3394, 'grad_norm': 4.579487323760986, 'learning_rate': 1.639432297660146e-05, 'epoch': 0.72}\n",
      "{'loss': 0.4524, 'grad_norm': 5.213740348815918, 'learning_rate': 1.6375143843498275e-05, 'epoch': 0.72}\n",
      "{'loss': 0.4355, 'grad_norm': 6.707601070404053, 'learning_rate': 1.635596471039509e-05, 'epoch': 0.73}\n",
      "{'loss': 0.3369, 'grad_norm': 4.9147820472717285, 'learning_rate': 1.633678557729191e-05, 'epoch': 0.73}\n",
      "{'loss': 0.381, 'grad_norm': 3.1549384593963623, 'learning_rate': 1.6317606444188724e-05, 'epoch': 0.74}\n",
      "{'loss': 0.409, 'grad_norm': 4.721967697143555, 'learning_rate': 1.6298427311085542e-05, 'epoch': 0.74}\n",
      "{'loss': 0.3613, 'grad_norm': 6.529316425323486, 'learning_rate': 1.6279248177982357e-05, 'epoch': 0.74}\n",
      "{'loss': 0.2757, 'grad_norm': 3.255206346511841, 'learning_rate': 1.6260069044879172e-05, 'epoch': 0.75}\n",
      "{'loss': 0.4622, 'grad_norm': 2.6014504432678223, 'learning_rate': 1.624088991177599e-05, 'epoch': 0.75}\n",
      "{'loss': 0.3712, 'grad_norm': 6.177636623382568, 'learning_rate': 1.6221710778672806e-05, 'epoch': 0.76}\n",
      "{'loss': 0.3504, 'grad_norm': 3.9454946517944336, 'learning_rate': 1.620253164556962e-05, 'epoch': 0.76}\n",
      "{'loss': 0.2955, 'grad_norm': 4.77186393737793, 'learning_rate': 1.6183352512466436e-05, 'epoch': 0.76}\n",
      "{'loss': 0.3015, 'grad_norm': 9.634879112243652, 'learning_rate': 1.6164173379363255e-05, 'epoch': 0.77}\n"
     ]
    },
    {
     "data": {
      "application/vnd.jupyter.widget-view+json": {
       "model_id": "3a46febf392f4327abb64f0d7af5177c",
       "version_major": 2,
       "version_minor": 0
      },
      "text/plain": [
       "  0%|          | 0/7 [00:00<?, ?it/s]"
      ]
     },
     "metadata": {},
     "output_type": "display_data"
    },
    {
     "name": "stdout",
     "output_type": "stream",
     "text": [
      "{'eval_loss': 0.5459250211715698, 'eval_accuracy': 0.7777777777777778, 'eval_runtime': 9.509, 'eval_samples_per_second': 11.358, 'eval_steps_per_second': 0.736, 'epoch': 0.77}\n",
      "{'loss': 0.4044, 'grad_norm': 4.488623142242432, 'learning_rate': 1.614499424626007e-05, 'epoch': 0.77}\n",
      "{'loss': 0.3596, 'grad_norm': 0.9099118709564209, 'learning_rate': 1.6125815113156885e-05, 'epoch': 0.77}\n",
      "{'loss': 0.3143, 'grad_norm': 4.697057247161865, 'learning_rate': 1.6106635980053703e-05, 'epoch': 0.78}\n",
      "{'loss': 0.3162, 'grad_norm': 10.567681312561035, 'learning_rate': 1.608745684695052e-05, 'epoch': 0.78}\n",
      "{'loss': 0.416, 'grad_norm': 3.7173633575439453, 'learning_rate': 1.6068277713847337e-05, 'epoch': 0.79}\n",
      "{'loss': 0.4593, 'grad_norm': 10.358061790466309, 'learning_rate': 1.6049098580744152e-05, 'epoch': 0.79}\n",
      "{'loss': 0.3866, 'grad_norm': 4.39102029800415, 'learning_rate': 1.6029919447640967e-05, 'epoch': 0.79}\n",
      "{'loss': 0.4709, 'grad_norm': 6.285432815551758, 'learning_rate': 1.6010740314537786e-05, 'epoch': 0.8}\n",
      "{'loss': 0.3142, 'grad_norm': 1.6354939937591553, 'learning_rate': 1.59915611814346e-05, 'epoch': 0.8}\n",
      "{'loss': 0.2775, 'grad_norm': 6.262670040130615, 'learning_rate': 1.5972382048331416e-05, 'epoch': 0.81}\n",
      "{'loss': 0.4954, 'grad_norm': 5.786980628967285, 'learning_rate': 1.595320291522823e-05, 'epoch': 0.81}\n",
      "{'loss': 0.3557, 'grad_norm': 2.8433687686920166, 'learning_rate': 1.593402378212505e-05, 'epoch': 0.81}\n",
      "{'loss': 0.3322, 'grad_norm': 1.8742852210998535, 'learning_rate': 1.5914844649021865e-05, 'epoch': 0.82}\n",
      "{'loss': 0.3494, 'grad_norm': 3.8308773040771484, 'learning_rate': 1.589566551591868e-05, 'epoch': 0.82}\n",
      "{'loss': 0.4035, 'grad_norm': 4.577287197113037, 'learning_rate': 1.5876486382815498e-05, 'epoch': 0.82}\n",
      "{'loss': 0.4365, 'grad_norm': 3.9056644439697266, 'learning_rate': 1.5857307249712313e-05, 'epoch': 0.83}\n",
      "{'loss': 0.3929, 'grad_norm': 6.7658915519714355, 'learning_rate': 1.5838128116609132e-05, 'epoch': 0.83}\n",
      "{'loss': 0.5076, 'grad_norm': 3.9350674152374268, 'learning_rate': 1.5818948983505947e-05, 'epoch': 0.84}\n",
      "{'loss': 0.4183, 'grad_norm': 8.201313972473145, 'learning_rate': 1.5799769850402765e-05, 'epoch': 0.84}\n",
      "{'loss': 0.4622, 'grad_norm': 1.5119736194610596, 'learning_rate': 1.578059071729958e-05, 'epoch': 0.84}\n",
      "{'loss': 0.466, 'grad_norm': 3.3534889221191406, 'learning_rate': 1.5761411584196396e-05, 'epoch': 0.85}\n",
      "{'loss': 0.3205, 'grad_norm': 3.7065093517303467, 'learning_rate': 1.574223245109321e-05, 'epoch': 0.85}\n",
      "{'loss': 0.2758, 'grad_norm': 1.0100324153900146, 'learning_rate': 1.572305331799003e-05, 'epoch': 0.86}\n",
      "{'loss': 0.2958, 'grad_norm': 5.903614521026611, 'learning_rate': 1.5703874184886844e-05, 'epoch': 0.86}\n",
      "{'loss': 0.4904, 'grad_norm': 1.5435006618499756, 'learning_rate': 1.568469505178366e-05, 'epoch': 0.86}\n",
      "{'loss': 0.3296, 'grad_norm': 2.305124282836914, 'learning_rate': 1.5665515918680475e-05, 'epoch': 0.87}\n",
      "{'loss': 0.4757, 'grad_norm': 6.3434672355651855, 'learning_rate': 1.5646336785577293e-05, 'epoch': 0.87}\n",
      "{'loss': 0.4159, 'grad_norm': 2.453336715698242, 'learning_rate': 1.5627157652474108e-05, 'epoch': 0.87}\n",
      "{'loss': 0.4043, 'grad_norm': 5.630210876464844, 'learning_rate': 1.5607978519370927e-05, 'epoch': 0.88}\n",
      "{'loss': 0.3753, 'grad_norm': 6.281069278717041, 'learning_rate': 1.5588799386267742e-05, 'epoch': 0.88}\n",
      "{'loss': 0.3394, 'grad_norm': 1.0237257480621338, 'learning_rate': 1.556962025316456e-05, 'epoch': 0.89}\n",
      "{'loss': 0.4463, 'grad_norm': 9.221258163452148, 'learning_rate': 1.5550441120061375e-05, 'epoch': 0.89}\n",
      "{'loss': 0.4491, 'grad_norm': 4.060737609863281, 'learning_rate': 1.553126198695819e-05, 'epoch': 0.89}\n",
      "{'loss': 0.4199, 'grad_norm': 4.810913562774658, 'learning_rate': 1.5512082853855006e-05, 'epoch': 0.9}\n",
      "{'loss': 0.3886, 'grad_norm': 3.97135329246521, 'learning_rate': 1.5492903720751824e-05, 'epoch': 0.9}\n",
      "{'loss': 0.3639, 'grad_norm': 3.969379186630249, 'learning_rate': 1.547372458764864e-05, 'epoch': 0.91}\n",
      "{'loss': 0.2757, 'grad_norm': 3.8779568672180176, 'learning_rate': 1.5454545454545454e-05, 'epoch': 0.91}\n",
      "{'loss': 0.4827, 'grad_norm': 5.844771862030029, 'learning_rate': 1.543536632144227e-05, 'epoch': 0.91}\n",
      "{'loss': 0.3674, 'grad_norm': 4.982157230377197, 'learning_rate': 1.5416187188339088e-05, 'epoch': 0.92}\n",
      "{'loss': 0.2987, 'grad_norm': 6.441051959991455, 'learning_rate': 1.5397008055235903e-05, 'epoch': 0.92}\n",
      "{'loss': 0.3846, 'grad_norm': 7.771611213684082, 'learning_rate': 1.537782892213272e-05, 'epoch': 0.92}\n",
      "{'loss': 0.4388, 'grad_norm': 3.8457088470458984, 'learning_rate': 1.5358649789029537e-05, 'epoch': 0.93}\n",
      "{'loss': 0.296, 'grad_norm': 2.6935856342315674, 'learning_rate': 1.5339470655926355e-05, 'epoch': 0.93}\n",
      "{'loss': 0.3284, 'grad_norm': 3.8079986572265625, 'learning_rate': 1.532029152282317e-05, 'epoch': 0.94}\n",
      "{'loss': 0.3189, 'grad_norm': 2.501304864883423, 'learning_rate': 1.5301112389719985e-05, 'epoch': 0.94}\n",
      "{'loss': 0.314, 'grad_norm': 8.076912879943848, 'learning_rate': 1.5281933256616804e-05, 'epoch': 0.94}\n",
      "{'loss': 0.3123, 'grad_norm': 3.9746363162994385, 'learning_rate': 1.526275412351362e-05, 'epoch': 0.95}\n",
      "{'loss': 0.4543, 'grad_norm': 4.805692195892334, 'learning_rate': 1.5243574990410434e-05, 'epoch': 0.95}\n",
      "{'loss': 0.4136, 'grad_norm': 6.631357192993164, 'learning_rate': 1.5224395857307251e-05, 'epoch': 0.96}\n",
      "{'loss': 0.3483, 'grad_norm': 5.951277732849121, 'learning_rate': 1.5205216724204068e-05, 'epoch': 0.96}\n"
     ]
    },
    {
     "data": {
      "application/vnd.jupyter.widget-view+json": {
       "model_id": "33dbdfb0d6ad4864bfee790051b6d7ef",
       "version_major": 2,
       "version_minor": 0
      },
      "text/plain": [
       "  0%|          | 0/7 [00:00<?, ?it/s]"
      ]
     },
     "metadata": {},
     "output_type": "display_data"
    },
    {
     "name": "stdout",
     "output_type": "stream",
     "text": [
      "{'eval_loss': 0.42372265458106995, 'eval_accuracy': 0.8055555555555556, 'eval_runtime': 9.1694, 'eval_samples_per_second': 11.778, 'eval_steps_per_second': 0.763, 'epoch': 0.96}\n",
      "{'loss': 0.2712, 'grad_norm': 3.440399646759033, 'learning_rate': 1.5186037591100885e-05, 'epoch': 0.96}\n",
      "{'loss': 0.3157, 'grad_norm': 3.4949676990509033, 'learning_rate': 1.51668584579977e-05, 'epoch': 0.97}\n",
      "{'loss': 0.3999, 'grad_norm': 4.951318264007568, 'learning_rate': 1.5147679324894515e-05, 'epoch': 0.97}\n",
      "{'loss': 0.5326, 'grad_norm': 9.653203010559082, 'learning_rate': 1.5128500191791333e-05, 'epoch': 0.97}\n",
      "{'loss': 0.2789, 'grad_norm': 1.712977647781372, 'learning_rate': 1.5109321058688148e-05, 'epoch': 0.98}\n",
      "{'loss': 0.4047, 'grad_norm': 4.4955573081970215, 'learning_rate': 1.5090141925584965e-05, 'epoch': 0.98}\n",
      "{'loss': 0.2551, 'grad_norm': 4.070214748382568, 'learning_rate': 1.507096279248178e-05, 'epoch': 0.99}\n",
      "{'loss': 0.3826, 'grad_norm': 3.242966413497925, 'learning_rate': 1.5051783659378599e-05, 'epoch': 0.99}\n",
      "{'loss': 0.3357, 'grad_norm': 9.569457054138184, 'learning_rate': 1.5032604526275414e-05, 'epoch': 0.99}\n",
      "{'loss': 0.4592, 'grad_norm': 4.975043296813965, 'learning_rate': 1.5013425393172229e-05, 'epoch': 1.0}\n",
      "{'loss': 0.4318, 'grad_norm': 6.4793219566345215, 'learning_rate': 1.4994246260069046e-05, 'epoch': 1.0}\n",
      "{'loss': 0.4443, 'grad_norm': 0.5732178092002869, 'learning_rate': 1.4975067126965863e-05, 'epoch': 1.0}\n",
      "{'loss': 0.2352, 'grad_norm': 1.576136827468872, 'learning_rate': 1.495588799386268e-05, 'epoch': 1.01}\n",
      "{'loss': 0.3301, 'grad_norm': 2.136465311050415, 'learning_rate': 1.4936708860759495e-05, 'epoch': 1.01}\n",
      "{'loss': 0.2207, 'grad_norm': 5.812273025512695, 'learning_rate': 1.491752972765631e-05, 'epoch': 1.02}\n",
      "{'loss': 0.2739, 'grad_norm': 8.785167694091797, 'learning_rate': 1.4898350594553128e-05, 'epoch': 1.02}\n",
      "{'loss': 0.4308, 'grad_norm': 7.177229881286621, 'learning_rate': 1.4879171461449943e-05, 'epoch': 1.02}\n",
      "{'loss': 0.3514, 'grad_norm': 7.512988090515137, 'learning_rate': 1.485999232834676e-05, 'epoch': 1.03}\n",
      "{'loss': 0.2556, 'grad_norm': 2.891470432281494, 'learning_rate': 1.4840813195243575e-05, 'epoch': 1.03}\n",
      "{'loss': 0.303, 'grad_norm': 9.632452964782715, 'learning_rate': 1.4821634062140394e-05, 'epoch': 1.04}\n",
      "{'loss': 0.3482, 'grad_norm': 4.653258800506592, 'learning_rate': 1.4802454929037209e-05, 'epoch': 1.04}\n",
      "{'loss': 0.3238, 'grad_norm': 7.150054931640625, 'learning_rate': 1.4783275795934024e-05, 'epoch': 1.04}\n",
      "{'loss': 0.2044, 'grad_norm': 10.362178802490234, 'learning_rate': 1.476409666283084e-05, 'epoch': 1.05}\n",
      "{'loss': 0.294, 'grad_norm': 1.367952585220337, 'learning_rate': 1.4744917529727658e-05, 'epoch': 1.05}\n",
      "{'loss': 0.2102, 'grad_norm': 11.792431831359863, 'learning_rate': 1.4725738396624474e-05, 'epoch': 1.05}\n",
      "{'loss': 0.3125, 'grad_norm': 9.006464004516602, 'learning_rate': 1.470655926352129e-05, 'epoch': 1.06}\n",
      "{'loss': 0.3208, 'grad_norm': 2.0830888748168945, 'learning_rate': 1.4687380130418108e-05, 'epoch': 1.06}\n",
      "{'loss': 0.3467, 'grad_norm': 4.591910362243652, 'learning_rate': 1.4668200997314923e-05, 'epoch': 1.07}\n",
      "{'loss': 0.249, 'grad_norm': 7.067726135253906, 'learning_rate': 1.4649021864211738e-05, 'epoch': 1.07}\n",
      "{'loss': 0.4928, 'grad_norm': 7.040748119354248, 'learning_rate': 1.4629842731108555e-05, 'epoch': 1.07}\n",
      "{'loss': 0.2393, 'grad_norm': 11.720050811767578, 'learning_rate': 1.4610663598005372e-05, 'epoch': 1.08}\n",
      "{'loss': 0.358, 'grad_norm': 7.612894058227539, 'learning_rate': 1.4591484464902189e-05, 'epoch': 1.08}\n",
      "{'loss': 0.1857, 'grad_norm': 4.163614749908447, 'learning_rate': 1.4572305331799004e-05, 'epoch': 1.09}\n",
      "{'loss': 0.3602, 'grad_norm': 6.571609020233154, 'learning_rate': 1.4553126198695819e-05, 'epoch': 1.09}\n",
      "{'loss': 0.3341, 'grad_norm': 4.088547706604004, 'learning_rate': 1.4533947065592637e-05, 'epoch': 1.09}\n",
      "{'loss': 0.2313, 'grad_norm': 8.764293670654297, 'learning_rate': 1.4514767932489453e-05, 'epoch': 1.1}\n",
      "{'loss': 0.2806, 'grad_norm': 2.282249927520752, 'learning_rate': 1.449558879938627e-05, 'epoch': 1.1}\n",
      "{'loss': 0.2302, 'grad_norm': 4.925756454467773, 'learning_rate': 1.4476409666283084e-05, 'epoch': 1.1}\n",
      "{'loss': 0.1932, 'grad_norm': 5.775904178619385, 'learning_rate': 1.4457230533179903e-05, 'epoch': 1.11}\n",
      "{'loss': 0.1579, 'grad_norm': 15.970138549804688, 'learning_rate': 1.4438051400076718e-05, 'epoch': 1.11}\n",
      "{'loss': 0.3216, 'grad_norm': 11.301811218261719, 'learning_rate': 1.4418872266973533e-05, 'epoch': 1.12}\n",
      "{'loss': 0.3101, 'grad_norm': 4.002353668212891, 'learning_rate': 1.439969313387035e-05, 'epoch': 1.12}\n",
      "{'loss': 0.1461, 'grad_norm': 13.677746772766113, 'learning_rate': 1.4380514000767167e-05, 'epoch': 1.12}\n",
      "{'loss': 0.2823, 'grad_norm': 6.847456455230713, 'learning_rate': 1.4361334867663984e-05, 'epoch': 1.13}\n",
      "{'loss': 0.2606, 'grad_norm': 20.377443313598633, 'learning_rate': 1.4342155734560799e-05, 'epoch': 1.13}\n",
      "{'loss': 0.3896, 'grad_norm': 10.573960304260254, 'learning_rate': 1.4322976601457614e-05, 'epoch': 1.14}\n",
      "{'loss': 0.2382, 'grad_norm': 13.52100944519043, 'learning_rate': 1.4303797468354432e-05, 'epoch': 1.14}\n",
      "{'loss': 0.2329, 'grad_norm': 1.299845814704895, 'learning_rate': 1.4284618335251247e-05, 'epoch': 1.14}\n",
      "{'loss': 0.3445, 'grad_norm': 5.737839698791504, 'learning_rate': 1.4265439202148064e-05, 'epoch': 1.15}\n",
      "{'loss': 0.4236, 'grad_norm': 0.4211789071559906, 'learning_rate': 1.424626006904488e-05, 'epoch': 1.15}\n"
     ]
    },
    {
     "data": {
      "application/vnd.jupyter.widget-view+json": {
       "model_id": "f70608883c4b44f5b1fa535d3d5398d2",
       "version_major": 2,
       "version_minor": 0
      },
      "text/plain": [
       "  0%|          | 0/7 [00:00<?, ?it/s]"
      ]
     },
     "metadata": {},
     "output_type": "display_data"
    },
    {
     "name": "stdout",
     "output_type": "stream",
     "text": [
      "{'eval_loss': 0.5297947525978088, 'eval_accuracy': 0.75, 'eval_runtime': 9.3401, 'eval_samples_per_second': 11.563, 'eval_steps_per_second': 0.749, 'epoch': 1.15}\n",
      "{'loss': 0.2294, 'grad_norm': 2.4858574867248535, 'learning_rate': 1.4227080935941698e-05, 'epoch': 1.15}\n",
      "{'loss': 0.2061, 'grad_norm': 2.1236889362335205, 'learning_rate': 1.4207901802838513e-05, 'epoch': 1.16}\n",
      "{'loss': 0.2865, 'grad_norm': 13.611586570739746, 'learning_rate': 1.4188722669735328e-05, 'epoch': 1.16}\n",
      "{'loss': 0.3009, 'grad_norm': 6.334510803222656, 'learning_rate': 1.4169543536632145e-05, 'epoch': 1.17}\n",
      "{'loss': 0.2933, 'grad_norm': 1.5485103130340576, 'learning_rate': 1.4150364403528962e-05, 'epoch': 1.17}\n",
      "{'loss': 0.2287, 'grad_norm': 4.869540214538574, 'learning_rate': 1.4131185270425779e-05, 'epoch': 1.17}\n",
      "{'loss': 0.2261, 'grad_norm': 2.8867554664611816, 'learning_rate': 1.4112006137322594e-05, 'epoch': 1.18}\n",
      "{'loss': 0.2535, 'grad_norm': 5.850001335144043, 'learning_rate': 1.4092827004219412e-05, 'epoch': 1.18}\n",
      "{'loss': 0.2278, 'grad_norm': 7.564108371734619, 'learning_rate': 1.4073647871116227e-05, 'epoch': 1.19}\n",
      "{'loss': 0.3311, 'grad_norm': 8.488664627075195, 'learning_rate': 1.4054468738013042e-05, 'epoch': 1.19}\n",
      "{'loss': 0.3448, 'grad_norm': 9.437966346740723, 'learning_rate': 1.403528960490986e-05, 'epoch': 1.19}\n",
      "{'loss': 0.201, 'grad_norm': 6.324306011199951, 'learning_rate': 1.4016110471806676e-05, 'epoch': 1.2}\n",
      "{'loss': 0.2852, 'grad_norm': 0.25208428502082825, 'learning_rate': 1.3996931338703493e-05, 'epoch': 1.2}\n",
      "{'loss': 0.3079, 'grad_norm': 10.305375099182129, 'learning_rate': 1.3977752205600308e-05, 'epoch': 1.2}\n",
      "{'loss': 0.2857, 'grad_norm': 1.8085228204727173, 'learning_rate': 1.3958573072497123e-05, 'epoch': 1.21}\n",
      "{'loss': 0.4109, 'grad_norm': 1.4516956806182861, 'learning_rate': 1.3939393939393942e-05, 'epoch': 1.21}\n",
      "{'loss': 0.2311, 'grad_norm': 1.9381366968154907, 'learning_rate': 1.3920214806290757e-05, 'epoch': 1.22}\n",
      "{'loss': 0.2987, 'grad_norm': 0.9406763315200806, 'learning_rate': 1.3901035673187573e-05, 'epoch': 1.22}\n",
      "{'loss': 0.3327, 'grad_norm': 2.6551036834716797, 'learning_rate': 1.3881856540084389e-05, 'epoch': 1.22}\n",
      "{'loss': 0.2215, 'grad_norm': 8.70444393157959, 'learning_rate': 1.3862677406981207e-05, 'epoch': 1.23}\n",
      "{'loss': 0.2403, 'grad_norm': 11.916528701782227, 'learning_rate': 1.3843498273878022e-05, 'epoch': 1.23}\n",
      "{'loss': 0.1894, 'grad_norm': 1.510244369506836, 'learning_rate': 1.3824319140774837e-05, 'epoch': 1.24}\n",
      "{'loss': 0.4286, 'grad_norm': 0.4617764949798584, 'learning_rate': 1.3805140007671654e-05, 'epoch': 1.24}\n",
      "{'loss': 0.1922, 'grad_norm': 3.276561975479126, 'learning_rate': 1.3785960874568471e-05, 'epoch': 1.24}\n",
      "{'loss': 0.2631, 'grad_norm': 3.6208159923553467, 'learning_rate': 1.3766781741465288e-05, 'epoch': 1.25}\n",
      "{'loss': 0.2788, 'grad_norm': 8.182995796203613, 'learning_rate': 1.3747602608362103e-05, 'epoch': 1.25}\n",
      "{'loss': 0.2816, 'grad_norm': 7.29857063293457, 'learning_rate': 1.3728423475258918e-05, 'epoch': 1.25}\n",
      "{'loss': 0.2182, 'grad_norm': 1.7777875661849976, 'learning_rate': 1.3709244342155736e-05, 'epoch': 1.26}\n",
      "{'loss': 0.206, 'grad_norm': 6.32260799407959, 'learning_rate': 1.3690065209052552e-05, 'epoch': 1.26}\n",
      "{'loss': 0.3991, 'grad_norm': 2.1271142959594727, 'learning_rate': 1.3670886075949368e-05, 'epoch': 1.27}\n",
      "{'loss': 0.3138, 'grad_norm': 3.4110639095306396, 'learning_rate': 1.3651706942846183e-05, 'epoch': 1.27}\n",
      "{'loss': 0.1847, 'grad_norm': 0.8346208930015564, 'learning_rate': 1.3632527809743002e-05, 'epoch': 1.27}\n",
      "{'loss': 0.2978, 'grad_norm': 10.353816032409668, 'learning_rate': 1.3613348676639817e-05, 'epoch': 1.28}\n",
      "{'loss': 0.3377, 'grad_norm': 11.353650093078613, 'learning_rate': 1.3594169543536632e-05, 'epoch': 1.28}\n",
      "{'loss': 0.3354, 'grad_norm': 16.375925064086914, 'learning_rate': 1.3574990410433449e-05, 'epoch': 1.29}\n",
      "{'loss': 0.2143, 'grad_norm': 5.018359661102295, 'learning_rate': 1.3555811277330266e-05, 'epoch': 1.29}\n",
      "{'loss': 0.299, 'grad_norm': 6.049648761749268, 'learning_rate': 1.3536632144227083e-05, 'epoch': 1.29}\n",
      "{'loss': 0.1996, 'grad_norm': 6.366257667541504, 'learning_rate': 1.3517453011123898e-05, 'epoch': 1.3}\n",
      "{'loss': 0.2045, 'grad_norm': 5.279991149902344, 'learning_rate': 1.3498273878020716e-05, 'epoch': 1.3}\n",
      "{'loss': 0.257, 'grad_norm': 2.27929949760437, 'learning_rate': 1.3479094744917531e-05, 'epoch': 1.3}\n",
      "{'loss': 0.3064, 'grad_norm': 1.3027249574661255, 'learning_rate': 1.3459915611814346e-05, 'epoch': 1.31}\n",
      "{'loss': 0.1391, 'grad_norm': 12.261959075927734, 'learning_rate': 1.3440736478711163e-05, 'epoch': 1.31}\n",
      "{'loss': 0.2114, 'grad_norm': 4.272938251495361, 'learning_rate': 1.342155734560798e-05, 'epoch': 1.32}\n",
      "{'loss': 0.2548, 'grad_norm': 9.23028564453125, 'learning_rate': 1.3402378212504797e-05, 'epoch': 1.32}\n",
      "{'loss': 0.1885, 'grad_norm': 0.7709162831306458, 'learning_rate': 1.3383199079401612e-05, 'epoch': 1.32}\n",
      "{'loss': 0.3862, 'grad_norm': 4.182794094085693, 'learning_rate': 1.3364019946298427e-05, 'epoch': 1.33}\n",
      "{'loss': 0.3775, 'grad_norm': 5.645535945892334, 'learning_rate': 1.3344840813195246e-05, 'epoch': 1.33}\n",
      "{'loss': 0.1634, 'grad_norm': 10.43525505065918, 'learning_rate': 1.332566168009206e-05, 'epoch': 1.33}\n",
      "{'loss': 0.2195, 'grad_norm': 3.595318555831909, 'learning_rate': 1.3306482546988878e-05, 'epoch': 1.34}\n",
      "{'loss': 0.237, 'grad_norm': 4.1666483879089355, 'learning_rate': 1.3287303413885693e-05, 'epoch': 1.34}\n"
     ]
    },
    {
     "data": {
      "application/vnd.jupyter.widget-view+json": {
       "model_id": "cec530fbe628493588585e07ad12e3fd",
       "version_major": 2,
       "version_minor": 0
      },
      "text/plain": [
       "  0%|          | 0/7 [00:00<?, ?it/s]"
      ]
     },
     "metadata": {},
     "output_type": "display_data"
    },
    {
     "name": "stdout",
     "output_type": "stream",
     "text": [
      "{'eval_loss': 0.8460211157798767, 'eval_accuracy': 0.6851851851851852, 'eval_runtime': 10.1318, 'eval_samples_per_second': 10.66, 'eval_steps_per_second': 0.691, 'epoch': 1.34}\n",
      "{'loss': 0.3364, 'grad_norm': 1.732947826385498, 'learning_rate': 1.3268124280782511e-05, 'epoch': 1.35}\n",
      "{'loss': 0.2182, 'grad_norm': 14.706263542175293, 'learning_rate': 1.3248945147679326e-05, 'epoch': 1.35}\n",
      "{'loss': 0.4637, 'grad_norm': 12.265542984008789, 'learning_rate': 1.3229766014576141e-05, 'epoch': 1.35}\n",
      "{'loss': 0.183, 'grad_norm': 8.969168663024902, 'learning_rate': 1.3210586881472958e-05, 'epoch': 1.36}\n",
      "{'loss': 0.2348, 'grad_norm': 7.634190082550049, 'learning_rate': 1.3191407748369775e-05, 'epoch': 1.36}\n",
      "{'loss': 0.3683, 'grad_norm': 2.5386857986450195, 'learning_rate': 1.3172228615266592e-05, 'epoch': 1.37}\n",
      "{'loss': 0.2335, 'grad_norm': 1.4728387594223022, 'learning_rate': 1.3153049482163407e-05, 'epoch': 1.37}\n",
      "{'loss': 0.2878, 'grad_norm': 10.974739074707031, 'learning_rate': 1.3133870349060222e-05, 'epoch': 1.37}\n",
      "{'loss': 0.3303, 'grad_norm': 6.329748153686523, 'learning_rate': 1.311469121595704e-05, 'epoch': 1.38}\n",
      "{'loss': 0.1164, 'grad_norm': 1.6355565786361694, 'learning_rate': 1.3095512082853856e-05, 'epoch': 1.38}\n",
      "{'loss': 0.2014, 'grad_norm': 0.33852842450141907, 'learning_rate': 1.3076332949750672e-05, 'epoch': 1.38}\n",
      "{'loss': 0.2, 'grad_norm': 4.607364177703857, 'learning_rate': 1.3057153816647488e-05, 'epoch': 1.39}\n",
      "{'loss': 0.3103, 'grad_norm': 9.196919441223145, 'learning_rate': 1.3037974683544306e-05, 'epoch': 1.39}\n",
      "{'loss': 0.1746, 'grad_norm': 1.6433229446411133, 'learning_rate': 1.3018795550441121e-05, 'epoch': 1.4}\n",
      "{'loss': 0.4065, 'grad_norm': 0.12386495620012283, 'learning_rate': 1.2999616417337936e-05, 'epoch': 1.4}\n",
      "{'loss': 0.2173, 'grad_norm': 0.7634536027908325, 'learning_rate': 1.2980437284234753e-05, 'epoch': 1.4}\n",
      "{'loss': 0.4058, 'grad_norm': 33.10481643676758, 'learning_rate': 1.296125815113157e-05, 'epoch': 1.41}\n",
      "{'loss': 0.4296, 'grad_norm': 7.816006660461426, 'learning_rate': 1.2942079018028387e-05, 'epoch': 1.41}\n",
      "{'loss': 0.2952, 'grad_norm': 16.99069595336914, 'learning_rate': 1.2922899884925202e-05, 'epoch': 1.42}\n",
      "{'loss': 0.4864, 'grad_norm': 12.503619194030762, 'learning_rate': 1.290372075182202e-05, 'epoch': 1.42}\n",
      "{'loss': 0.508, 'grad_norm': 8.332717895507812, 'learning_rate': 1.2884541618718835e-05, 'epoch': 1.42}\n",
      "{'loss': 0.1998, 'grad_norm': 0.9948570132255554, 'learning_rate': 1.286536248561565e-05, 'epoch': 1.43}\n",
      "{'loss': 0.3947, 'grad_norm': 5.210932731628418, 'learning_rate': 1.2846183352512467e-05, 'epoch': 1.43}\n",
      "{'loss': 0.3217, 'grad_norm': 6.193166255950928, 'learning_rate': 1.2827004219409284e-05, 'epoch': 1.43}\n",
      "{'loss': 0.2825, 'grad_norm': 14.443501472473145, 'learning_rate': 1.2807825086306101e-05, 'epoch': 1.44}\n",
      "{'loss': 0.3202, 'grad_norm': 10.824742317199707, 'learning_rate': 1.2788645953202916e-05, 'epoch': 1.44}\n",
      "{'loss': 0.2146, 'grad_norm': 10.827712059020996, 'learning_rate': 1.2769466820099731e-05, 'epoch': 1.45}\n",
      "{'loss': 0.0896, 'grad_norm': 6.160292625427246, 'learning_rate': 1.275028768699655e-05, 'epoch': 1.45}\n",
      "{'loss': 0.1038, 'grad_norm': 0.3138953745365143, 'learning_rate': 1.2731108553893365e-05, 'epoch': 1.45}\n",
      "{'loss': 0.2289, 'grad_norm': 7.37336540222168, 'learning_rate': 1.2711929420790182e-05, 'epoch': 1.46}\n",
      "{'loss': 0.3119, 'grad_norm': 3.989781141281128, 'learning_rate': 1.2692750287686997e-05, 'epoch': 1.46}\n",
      "{'loss': 0.2039, 'grad_norm': 0.3191165626049042, 'learning_rate': 1.2673571154583815e-05, 'epoch': 1.47}\n",
      "{'loss': 0.3456, 'grad_norm': 4.941928386688232, 'learning_rate': 1.265439202148063e-05, 'epoch': 1.47}\n",
      "{'loss': 0.126, 'grad_norm': 15.919708251953125, 'learning_rate': 1.2635212888377445e-05, 'epoch': 1.47}\n",
      "{'loss': 0.4137, 'grad_norm': 10.630647659301758, 'learning_rate': 1.2616033755274262e-05, 'epoch': 1.48}\n",
      "{'loss': 0.1509, 'grad_norm': 18.131559371948242, 'learning_rate': 1.2596854622171079e-05, 'epoch': 1.48}\n",
      "{'loss': 0.1799, 'grad_norm': 5.224730014801025, 'learning_rate': 1.2577675489067896e-05, 'epoch': 1.48}\n",
      "{'loss': 0.1835, 'grad_norm': 15.872398376464844, 'learning_rate': 1.2558496355964711e-05, 'epoch': 1.49}\n",
      "{'loss': 0.188, 'grad_norm': 17.29244041442871, 'learning_rate': 1.2539317222861526e-05, 'epoch': 1.49}\n",
      "{'loss': 0.2546, 'grad_norm': 2.025965929031372, 'learning_rate': 1.2520138089758345e-05, 'epoch': 1.5}\n",
      "{'loss': 0.366, 'grad_norm': 6.9647369384765625, 'learning_rate': 1.250095895665516e-05, 'epoch': 1.5}\n",
      "{'loss': 0.2863, 'grad_norm': 1.950038194656372, 'learning_rate': 1.2481779823551976e-05, 'epoch': 1.5}\n",
      "{'loss': 0.3746, 'grad_norm': 3.7569217681884766, 'learning_rate': 1.2462600690448792e-05, 'epoch': 1.51}\n",
      "{'loss': 0.2843, 'grad_norm': 12.329862594604492, 'learning_rate': 1.244342155734561e-05, 'epoch': 1.51}\n",
      "{'loss': 0.2941, 'grad_norm': 7.42555570602417, 'learning_rate': 1.2424242424242425e-05, 'epoch': 1.52}\n",
      "{'loss': 0.1393, 'grad_norm': 5.817667007446289, 'learning_rate': 1.240506329113924e-05, 'epoch': 1.52}\n",
      "{'loss': 0.2975, 'grad_norm': 11.311108589172363, 'learning_rate': 1.2385884158036057e-05, 'epoch': 1.52}\n",
      "{'loss': 0.2143, 'grad_norm': 27.210613250732422, 'learning_rate': 1.2366705024932874e-05, 'epoch': 1.53}\n",
      "{'loss': 0.3977, 'grad_norm': 3.5589072704315186, 'learning_rate': 1.234752589182969e-05, 'epoch': 1.53}\n",
      "{'loss': 0.2039, 'grad_norm': 0.8202908039093018, 'learning_rate': 1.2328346758726506e-05, 'epoch': 1.53}\n"
     ]
    },
    {
     "data": {
      "application/vnd.jupyter.widget-view+json": {
       "model_id": "b00ed070859446a48454fb0a2d29b3ec",
       "version_major": 2,
       "version_minor": 0
      },
      "text/plain": [
       "  0%|          | 0/7 [00:00<?, ?it/s]"
      ]
     },
     "metadata": {},
     "output_type": "display_data"
    },
    {
     "name": "stdout",
     "output_type": "stream",
     "text": [
      "{'eval_loss': 0.4428214728832245, 'eval_accuracy': 0.8425925925925926, 'eval_runtime': 9.476, 'eval_samples_per_second': 11.397, 'eval_steps_per_second': 0.739, 'epoch': 1.53}\n",
      "{'loss': 0.3503, 'grad_norm': 2.905151844024658, 'learning_rate': 1.2309167625623324e-05, 'epoch': 1.54}\n",
      "{'loss': 0.3548, 'grad_norm': 20.184911727905273, 'learning_rate': 1.228998849252014e-05, 'epoch': 1.54}\n",
      "{'loss': 0.3265, 'grad_norm': 4.348641872406006, 'learning_rate': 1.2270809359416955e-05, 'epoch': 1.55}\n",
      "{'loss': 0.4562, 'grad_norm': 14.762227058410645, 'learning_rate': 1.2251630226313771e-05, 'epoch': 1.55}\n",
      "{'loss': 0.2151, 'grad_norm': 10.902569770812988, 'learning_rate': 1.2232451093210588e-05, 'epoch': 1.55}\n",
      "{'loss': 0.3099, 'grad_norm': 8.122758865356445, 'learning_rate': 1.2213271960107405e-05, 'epoch': 1.56}\n",
      "{'loss': 0.3, 'grad_norm': 3.4519400596618652, 'learning_rate': 1.219409282700422e-05, 'epoch': 1.56}\n",
      "{'loss': 0.2773, 'grad_norm': 0.23909693956375122, 'learning_rate': 1.2174913693901035e-05, 'epoch': 1.57}\n",
      "{'loss': 0.2777, 'grad_norm': 10.517833709716797, 'learning_rate': 1.2155734560797854e-05, 'epoch': 1.57}\n",
      "{'loss': 0.3101, 'grad_norm': 5.695828914642334, 'learning_rate': 1.2136555427694669e-05, 'epoch': 1.57}\n",
      "{'loss': 0.3763, 'grad_norm': 0.4315759241580963, 'learning_rate': 1.2117376294591486e-05, 'epoch': 1.58}\n",
      "{'loss': 0.2947, 'grad_norm': 11.486196517944336, 'learning_rate': 1.20981971614883e-05, 'epoch': 1.58}\n",
      "{'loss': 0.1714, 'grad_norm': 8.646251678466797, 'learning_rate': 1.207901802838512e-05, 'epoch': 1.58}\n",
      "{'loss': 0.2546, 'grad_norm': 13.649510383605957, 'learning_rate': 1.2059838895281934e-05, 'epoch': 1.59}\n",
      "{'loss': 0.4028, 'grad_norm': 4.185227870941162, 'learning_rate': 1.204065976217875e-05, 'epoch': 1.59}\n",
      "{'loss': 0.1529, 'grad_norm': 0.6478331089019775, 'learning_rate': 1.2021480629075566e-05, 'epoch': 1.6}\n",
      "{'loss': 0.3543, 'grad_norm': 5.502041816711426, 'learning_rate': 1.2002301495972383e-05, 'epoch': 1.6}\n",
      "{'loss': 0.2995, 'grad_norm': 6.645031452178955, 'learning_rate': 1.19831223628692e-05, 'epoch': 1.6}\n",
      "{'loss': 0.3227, 'grad_norm': 23.71653938293457, 'learning_rate': 1.1963943229766015e-05, 'epoch': 1.61}\n",
      "{'loss': 0.4007, 'grad_norm': 0.7313408255577087, 'learning_rate': 1.194476409666283e-05, 'epoch': 1.61}\n",
      "{'loss': 0.2987, 'grad_norm': 6.765920639038086, 'learning_rate': 1.1925584963559649e-05, 'epoch': 1.61}\n",
      "{'loss': 0.3151, 'grad_norm': 11.84477424621582, 'learning_rate': 1.1906405830456464e-05, 'epoch': 1.62}\n",
      "{'loss': 0.3022, 'grad_norm': 18.56831169128418, 'learning_rate': 1.188722669735328e-05, 'epoch': 1.62}\n",
      "{'loss': 0.1895, 'grad_norm': 0.46848368644714355, 'learning_rate': 1.1868047564250096e-05, 'epoch': 1.63}\n",
      "{'loss': 0.2094, 'grad_norm': 10.055035591125488, 'learning_rate': 1.1848868431146914e-05, 'epoch': 1.63}\n",
      "{'loss': 0.3413, 'grad_norm': 15.929125785827637, 'learning_rate': 1.182968929804373e-05, 'epoch': 1.63}\n",
      "{'loss': 0.3034, 'grad_norm': 3.03243088722229, 'learning_rate': 1.1810510164940544e-05, 'epoch': 1.64}\n",
      "{'loss': 0.2121, 'grad_norm': 17.881702423095703, 'learning_rate': 1.1791331031837361e-05, 'epoch': 1.64}\n",
      "{'loss': 0.1965, 'grad_norm': 0.581258237361908, 'learning_rate': 1.1772151898734178e-05, 'epoch': 1.65}\n",
      "{'loss': 0.1167, 'grad_norm': 0.3484688997268677, 'learning_rate': 1.1752972765630995e-05, 'epoch': 1.65}\n",
      "{'loss': 0.4727, 'grad_norm': 19.26032829284668, 'learning_rate': 1.173379363252781e-05, 'epoch': 1.65}\n",
      "{'loss': 0.2342, 'grad_norm': 7.863231658935547, 'learning_rate': 1.1714614499424628e-05, 'epoch': 1.66}\n",
      "{'loss': 0.1344, 'grad_norm': 1.7486916780471802, 'learning_rate': 1.1695435366321444e-05, 'epoch': 1.66}\n",
      "{'loss': 0.3949, 'grad_norm': 8.961256980895996, 'learning_rate': 1.1676256233218259e-05, 'epoch': 1.66}\n",
      "{'loss': 0.2958, 'grad_norm': 6.9748711585998535, 'learning_rate': 1.1657077100115075e-05, 'epoch': 1.67}\n",
      "{'loss': 0.2714, 'grad_norm': 1.6934638023376465, 'learning_rate': 1.1637897967011892e-05, 'epoch': 1.67}\n",
      "{'loss': 0.1855, 'grad_norm': 4.819114685058594, 'learning_rate': 1.1618718833908709e-05, 'epoch': 1.68}\n",
      "{'loss': 0.4288, 'grad_norm': 3.787597894668579, 'learning_rate': 1.1599539700805524e-05, 'epoch': 1.68}\n",
      "{'loss': 0.3509, 'grad_norm': 12.299138069152832, 'learning_rate': 1.158036056770234e-05, 'epoch': 1.68}\n",
      "{'loss': 0.1109, 'grad_norm': 4.441232204437256, 'learning_rate': 1.1561181434599158e-05, 'epoch': 1.69}\n",
      "{'loss': 0.3183, 'grad_norm': 11.042878150939941, 'learning_rate': 1.1542002301495973e-05, 'epoch': 1.69}\n",
      "{'loss': 0.1114, 'grad_norm': 1.024777889251709, 'learning_rate': 1.152282316839279e-05, 'epoch': 1.7}\n",
      "{'loss': 0.2076, 'grad_norm': 21.48385238647461, 'learning_rate': 1.1503644035289605e-05, 'epoch': 1.7}\n",
      "{'loss': 0.2928, 'grad_norm': 0.17213329672813416, 'learning_rate': 1.1484464902186423e-05, 'epoch': 1.7}\n",
      "{'loss': 0.3327, 'grad_norm': 2.0536692142486572, 'learning_rate': 1.1465285769083238e-05, 'epoch': 1.71}\n",
      "{'loss': 0.3524, 'grad_norm': 9.909467697143555, 'learning_rate': 1.1446106635980054e-05, 'epoch': 1.71}\n",
      "{'loss': 0.3153, 'grad_norm': 12.03082275390625, 'learning_rate': 1.142692750287687e-05, 'epoch': 1.71}\n",
      "{'loss': 0.3545, 'grad_norm': 13.447356224060059, 'learning_rate': 1.1407748369773687e-05, 'epoch': 1.72}\n",
      "{'loss': 0.2437, 'grad_norm': 7.214907646179199, 'learning_rate': 1.1388569236670504e-05, 'epoch': 1.72}\n",
      "{'loss': 0.2223, 'grad_norm': 26.521656036376953, 'learning_rate': 1.1369390103567319e-05, 'epoch': 1.73}\n"
     ]
    },
    {
     "data": {
      "application/vnd.jupyter.widget-view+json": {
       "model_id": "a84a606db8b64aabb73c80e79013517d",
       "version_major": 2,
       "version_minor": 0
      },
      "text/plain": [
       "  0%|          | 0/7 [00:00<?, ?it/s]"
      ]
     },
     "metadata": {},
     "output_type": "display_data"
    },
    {
     "name": "stdout",
     "output_type": "stream",
     "text": [
      "{'eval_loss': 0.2920812964439392, 'eval_accuracy': 0.8796296296296297, 'eval_runtime': 9.9315, 'eval_samples_per_second': 10.875, 'eval_steps_per_second': 0.705, 'epoch': 1.73}\n",
      "{'loss': 0.2352, 'grad_norm': 3.1780788898468018, 'learning_rate': 1.1350210970464134e-05, 'epoch': 1.73}\n",
      "{'loss': 0.2367, 'grad_norm': 1.9590716361999512, 'learning_rate': 1.1331031837360953e-05, 'epoch': 1.73}\n",
      "{'loss': 0.2289, 'grad_norm': 0.25272950530052185, 'learning_rate': 1.1311852704257768e-05, 'epoch': 1.74}\n",
      "{'loss': 0.2101, 'grad_norm': 8.6296968460083, 'learning_rate': 1.1292673571154585e-05, 'epoch': 1.74}\n",
      "{'loss': 0.2653, 'grad_norm': 15.994946479797363, 'learning_rate': 1.12734944380514e-05, 'epoch': 1.75}\n",
      "{'loss': 0.2914, 'grad_norm': 1.773698091506958, 'learning_rate': 1.1254315304948218e-05, 'epoch': 1.75}\n",
      "{'loss': 0.2145, 'grad_norm': 0.5356663465499878, 'learning_rate': 1.1235136171845033e-05, 'epoch': 1.75}\n",
      "{'loss': 0.1572, 'grad_norm': 10.711459159851074, 'learning_rate': 1.1215957038741848e-05, 'epoch': 1.76}\n",
      "{'loss': 0.5073, 'grad_norm': 24.41959571838379, 'learning_rate': 1.1196777905638665e-05, 'epoch': 1.76}\n",
      "{'loss': 0.1889, 'grad_norm': 0.31454622745513916, 'learning_rate': 1.1177598772535482e-05, 'epoch': 1.76}\n",
      "{'loss': 0.2062, 'grad_norm': 0.14345943927764893, 'learning_rate': 1.1158419639432299e-05, 'epoch': 1.77}\n",
      "{'loss': 0.2629, 'grad_norm': 12.837882041931152, 'learning_rate': 1.1139240506329114e-05, 'epoch': 1.77}\n",
      "{'loss': 0.3422, 'grad_norm': 9.176666259765625, 'learning_rate': 1.1120061373225932e-05, 'epoch': 1.78}\n",
      "{'loss': 0.3373, 'grad_norm': 2.228069543838501, 'learning_rate': 1.1100882240122748e-05, 'epoch': 1.78}\n",
      "{'loss': 0.259, 'grad_norm': 19.703054428100586, 'learning_rate': 1.1081703107019563e-05, 'epoch': 1.78}\n",
      "{'loss': 0.2341, 'grad_norm': 0.3291705548763275, 'learning_rate': 1.106252397391638e-05, 'epoch': 1.79}\n",
      "{'loss': 0.2281, 'grad_norm': 21.07726287841797, 'learning_rate': 1.1043344840813196e-05, 'epoch': 1.79}\n",
      "{'loss': 0.3098, 'grad_norm': 12.116107940673828, 'learning_rate': 1.1024165707710013e-05, 'epoch': 1.8}\n",
      "{'loss': 0.1659, 'grad_norm': 0.720206081867218, 'learning_rate': 1.1004986574606828e-05, 'epoch': 1.8}\n",
      "{'loss': 0.2715, 'grad_norm': 9.766594886779785, 'learning_rate': 1.0985807441503643e-05, 'epoch': 1.8}\n",
      "{'loss': 0.2804, 'grad_norm': 0.8192911744117737, 'learning_rate': 1.0966628308400462e-05, 'epoch': 1.81}\n",
      "{'loss': 0.2458, 'grad_norm': 2.7337093353271484, 'learning_rate': 1.0947449175297277e-05, 'epoch': 1.81}\n",
      "{'loss': 0.2505, 'grad_norm': 3.828418016433716, 'learning_rate': 1.0928270042194094e-05, 'epoch': 1.81}\n",
      "{'loss': 0.1632, 'grad_norm': 12.745501518249512, 'learning_rate': 1.0909090909090909e-05, 'epoch': 1.82}\n",
      "{'loss': 0.3314, 'grad_norm': 16.49909019470215, 'learning_rate': 1.0889911775987727e-05, 'epoch': 1.82}\n",
      "{'loss': 0.2259, 'grad_norm': 10.542328834533691, 'learning_rate': 1.0870732642884543e-05, 'epoch': 1.83}\n",
      "{'loss': 0.257, 'grad_norm': 8.318796157836914, 'learning_rate': 1.0851553509781358e-05, 'epoch': 1.83}\n",
      "{'loss': 0.0729, 'grad_norm': 1.3288201093673706, 'learning_rate': 1.0832374376678174e-05, 'epoch': 1.83}\n",
      "{'loss': 0.2953, 'grad_norm': 4.34586238861084, 'learning_rate': 1.0813195243574991e-05, 'epoch': 1.84}\n",
      "{'loss': 0.2274, 'grad_norm': 0.43738850951194763, 'learning_rate': 1.0794016110471808e-05, 'epoch': 1.84}\n",
      "{'loss': 0.2731, 'grad_norm': 19.47545051574707, 'learning_rate': 1.0774836977368623e-05, 'epoch': 1.85}\n",
      "{'loss': 0.2183, 'grad_norm': 12.94821548461914, 'learning_rate': 1.075565784426544e-05, 'epoch': 1.85}\n",
      "{'loss': 0.2296, 'grad_norm': 0.8387703895568848, 'learning_rate': 1.0736478711162257e-05, 'epoch': 1.85}\n",
      "{'loss': 0.1934, 'grad_norm': 0.20747506618499756, 'learning_rate': 1.0717299578059072e-05, 'epoch': 1.86}\n",
      "{'loss': 0.2487, 'grad_norm': 6.755515098571777, 'learning_rate': 1.0698120444955889e-05, 'epoch': 1.86}\n",
      "{'loss': 0.2895, 'grad_norm': 8.959359169006348, 'learning_rate': 1.0678941311852704e-05, 'epoch': 1.86}\n",
      "{'loss': 0.2471, 'grad_norm': 2.207688093185425, 'learning_rate': 1.0659762178749522e-05, 'epoch': 1.87}\n",
      "{'loss': 0.2321, 'grad_norm': 4.2412428855896, 'learning_rate': 1.0640583045646337e-05, 'epoch': 1.87}\n",
      "{'loss': 0.1715, 'grad_norm': 0.34538784623146057, 'learning_rate': 1.0621403912543154e-05, 'epoch': 1.88}\n",
      "{'loss': 0.2057, 'grad_norm': 16.091773986816406, 'learning_rate': 1.060222477943997e-05, 'epoch': 1.88}\n",
      "{'loss': 0.4256, 'grad_norm': 6.62359619140625, 'learning_rate': 1.0583045646336786e-05, 'epoch': 1.88}\n",
      "{'loss': 0.2416, 'grad_norm': 4.260581970214844, 'learning_rate': 1.0563866513233603e-05, 'epoch': 1.89}\n",
      "{'loss': 0.2124, 'grad_norm': 0.9403344392776489, 'learning_rate': 1.0544687380130418e-05, 'epoch': 1.89}\n",
      "{'loss': 0.2748, 'grad_norm': 3.22589373588562, 'learning_rate': 1.0525508247027237e-05, 'epoch': 1.89}\n",
      "{'loss': 0.2059, 'grad_norm': 3.737579107284546, 'learning_rate': 1.0506329113924052e-05, 'epoch': 1.9}\n",
      "{'loss': 0.1759, 'grad_norm': 0.8265866637229919, 'learning_rate': 1.0487149980820868e-05, 'epoch': 1.9}\n",
      "{'loss': 0.2624, 'grad_norm': 16.790372848510742, 'learning_rate': 1.0467970847717684e-05, 'epoch': 1.91}\n",
      "{'loss': 0.1515, 'grad_norm': 7.85605001449585, 'learning_rate': 1.04487917146145e-05, 'epoch': 1.91}\n",
      "{'loss': 0.3474, 'grad_norm': 10.754875183105469, 'learning_rate': 1.0429612581511317e-05, 'epoch': 1.91}\n",
      "{'loss': 0.3704, 'grad_norm': 9.459282875061035, 'learning_rate': 1.0410433448408132e-05, 'epoch': 1.92}\n"
     ]
    },
    {
     "data": {
      "application/vnd.jupyter.widget-view+json": {
       "model_id": "f62b47f87cf74f35ae525be00b9cc271",
       "version_major": 2,
       "version_minor": 0
      },
      "text/plain": [
       "  0%|          | 0/7 [00:00<?, ?it/s]"
      ]
     },
     "metadata": {},
     "output_type": "display_data"
    },
    {
     "name": "stdout",
     "output_type": "stream",
     "text": [
      "{'eval_loss': 0.373020201921463, 'eval_accuracy': 0.8796296296296297, 'eval_runtime': 9.5255, 'eval_samples_per_second': 11.338, 'eval_steps_per_second': 0.735, 'epoch': 1.92}\n",
      "{'loss': 0.228, 'grad_norm': 9.756766319274902, 'learning_rate': 1.0391254315304949e-05, 'epoch': 1.92}\n",
      "{'loss': 0.2005, 'grad_norm': 13.380814552307129, 'learning_rate': 1.0372075182201766e-05, 'epoch': 1.93}\n",
      "{'loss': 0.1016, 'grad_norm': 8.003312110900879, 'learning_rate': 1.0352896049098583e-05, 'epoch': 1.93}\n",
      "{'loss': 0.2321, 'grad_norm': 9.793625831604004, 'learning_rate': 1.0333716915995398e-05, 'epoch': 1.93}\n",
      "{'loss': 0.1881, 'grad_norm': 24.986961364746094, 'learning_rate': 1.0314537782892213e-05, 'epoch': 1.94}\n",
      "{'loss': 0.2649, 'grad_norm': 0.34415605664253235, 'learning_rate': 1.0295358649789031e-05, 'epoch': 1.94}\n",
      "{'loss': 0.1778, 'grad_norm': 1.7811225652694702, 'learning_rate': 1.0276179516685847e-05, 'epoch': 1.94}\n",
      "{'loss': 0.2087, 'grad_norm': 3.0753870010375977, 'learning_rate': 1.0257000383582663e-05, 'epoch': 1.95}\n",
      "{'loss': 0.3512, 'grad_norm': 14.395018577575684, 'learning_rate': 1.0237821250479479e-05, 'epoch': 1.95}\n",
      "{'loss': 0.2183, 'grad_norm': 8.83843994140625, 'learning_rate': 1.0218642117376297e-05, 'epoch': 1.96}\n",
      "{'loss': 0.2161, 'grad_norm': 1.7285118103027344, 'learning_rate': 1.0199462984273112e-05, 'epoch': 1.96}\n",
      "{'loss': 0.2558, 'grad_norm': 16.247940063476562, 'learning_rate': 1.0180283851169927e-05, 'epoch': 1.96}\n",
      "{'loss': 0.2348, 'grad_norm': 15.651041030883789, 'learning_rate': 1.0161104718066744e-05, 'epoch': 1.97}\n",
      "{'loss': 0.2053, 'grad_norm': 0.5729929208755493, 'learning_rate': 1.0141925584963561e-05, 'epoch': 1.97}\n",
      "{'loss': 0.1598, 'grad_norm': 15.9442777633667, 'learning_rate': 1.0122746451860378e-05, 'epoch': 1.98}\n",
      "{'loss': 0.2684, 'grad_norm': 20.82648277282715, 'learning_rate': 1.0103567318757193e-05, 'epoch': 1.98}\n",
      "{'loss': 0.2365, 'grad_norm': 15.041007041931152, 'learning_rate': 1.0084388185654008e-05, 'epoch': 1.98}\n",
      "{'loss': 0.2674, 'grad_norm': 0.46730297803878784, 'learning_rate': 1.0065209052550826e-05, 'epoch': 1.99}\n",
      "{'loss': 0.109, 'grad_norm': 0.25859534740448, 'learning_rate': 1.0046029919447641e-05, 'epoch': 1.99}\n",
      "{'loss': 0.4375, 'grad_norm': 19.2717227935791, 'learning_rate': 1.0026850786344458e-05, 'epoch': 1.99}\n",
      "{'loss': 0.2488, 'grad_norm': 0.0949101448059082, 'learning_rate': 1.0007671653241273e-05, 'epoch': 2.0}\n",
      "{'loss': 0.1513, 'grad_norm': 0.6744953989982605, 'learning_rate': 9.988492520138092e-06, 'epoch': 2.0}\n",
      "{'loss': 0.2979, 'grad_norm': 25.957983016967773, 'learning_rate': 9.969313387034907e-06, 'epoch': 2.01}\n",
      "{'loss': 0.1604, 'grad_norm': 14.989799499511719, 'learning_rate': 9.950134253931724e-06, 'epoch': 2.01}\n",
      "{'loss': 0.1507, 'grad_norm': 6.317166328430176, 'learning_rate': 9.930955120828539e-06, 'epoch': 2.01}\n",
      "{'loss': 0.0336, 'grad_norm': 0.10983234643936157, 'learning_rate': 9.911775987725356e-06, 'epoch': 2.02}\n",
      "{'loss': 0.0569, 'grad_norm': 0.0833422914147377, 'learning_rate': 9.892596854622173e-06, 'epoch': 2.02}\n",
      "{'loss': 0.1454, 'grad_norm': 7.17267370223999, 'learning_rate': 9.87341772151899e-06, 'epoch': 2.03}\n",
      "{'loss': 0.1187, 'grad_norm': 29.49505043029785, 'learning_rate': 9.854238588415804e-06, 'epoch': 2.03}\n",
      "{'loss': 0.1883, 'grad_norm': 0.4217807948589325, 'learning_rate': 9.835059455312621e-06, 'epoch': 2.03}\n",
      "{'loss': 0.1201, 'grad_norm': 8.27066707611084, 'learning_rate': 9.815880322209436e-06, 'epoch': 2.04}\n",
      "{'loss': 0.0612, 'grad_norm': 0.10687139630317688, 'learning_rate': 9.796701189106253e-06, 'epoch': 2.04}\n",
      "{'loss': 0.0745, 'grad_norm': 1.267518162727356, 'learning_rate': 9.77752205600307e-06, 'epoch': 2.04}\n",
      "{'loss': 0.1507, 'grad_norm': 12.233757972717285, 'learning_rate': 9.758342922899887e-06, 'epoch': 2.05}\n",
      "{'loss': 0.1676, 'grad_norm': 22.158222198486328, 'learning_rate': 9.739163789796702e-06, 'epoch': 2.05}\n",
      "{'loss': 0.3082, 'grad_norm': 28.114362716674805, 'learning_rate': 9.719984656693519e-06, 'epoch': 2.06}\n",
      "{'loss': 0.0842, 'grad_norm': 0.7303455471992493, 'learning_rate': 9.700805523590334e-06, 'epoch': 2.06}\n",
      "{'loss': 0.102, 'grad_norm': 0.08012263476848602, 'learning_rate': 9.68162639048715e-06, 'epoch': 2.06}\n",
      "{'loss': 0.16, 'grad_norm': 0.26481252908706665, 'learning_rate': 9.662447257383967e-06, 'epoch': 2.07}\n",
      "{'loss': 0.0693, 'grad_norm': 0.12836213409900665, 'learning_rate': 9.643268124280784e-06, 'epoch': 2.07}\n",
      "{'loss': 0.0703, 'grad_norm': 0.17032524943351746, 'learning_rate': 9.6240889911776e-06, 'epoch': 2.08}\n",
      "{'loss': 0.1834, 'grad_norm': 46.910987854003906, 'learning_rate': 9.604909858074416e-06, 'epoch': 2.08}\n",
      "{'loss': 0.1962, 'grad_norm': 23.1444034576416, 'learning_rate': 9.585730724971231e-06, 'epoch': 2.08}\n",
      "{'loss': 0.0366, 'grad_norm': 0.10537605732679367, 'learning_rate': 9.566551591868048e-06, 'epoch': 2.09}\n",
      "{'loss': 0.2383, 'grad_norm': 18.526477813720703, 'learning_rate': 9.547372458764865e-06, 'epoch': 2.09}\n",
      "{'loss': 0.0784, 'grad_norm': 34.468082427978516, 'learning_rate': 9.528193325661682e-06, 'epoch': 2.09}\n",
      "{'loss': 0.136, 'grad_norm': 0.2975786030292511, 'learning_rate': 9.509014192558497e-06, 'epoch': 2.1}\n",
      "{'loss': 0.0791, 'grad_norm': 0.07505578547716141, 'learning_rate': 9.489835059455314e-06, 'epoch': 2.1}\n",
      "{'loss': 0.1417, 'grad_norm': 12.497693061828613, 'learning_rate': 9.470655926352129e-06, 'epoch': 2.11}\n",
      "{'loss': 0.1291, 'grad_norm': 0.566471517086029, 'learning_rate': 9.451476793248946e-06, 'epoch': 2.11}\n"
     ]
    },
    {
     "data": {
      "application/vnd.jupyter.widget-view+json": {
       "model_id": "ee59560ce91c4dde8163d109c4b0f8cf",
       "version_major": 2,
       "version_minor": 0
      },
      "text/plain": [
       "  0%|          | 0/7 [00:00<?, ?it/s]"
      ]
     },
     "metadata": {},
     "output_type": "display_data"
    },
    {
     "name": "stdout",
     "output_type": "stream",
     "text": [
      "{'eval_loss': 0.6080036759376526, 'eval_accuracy': 0.8240740740740741, 'eval_runtime': 9.3055, 'eval_samples_per_second': 11.606, 'eval_steps_per_second': 0.752, 'epoch': 2.11}\n",
      "{'loss': 0.2344, 'grad_norm': 0.1609368771314621, 'learning_rate': 9.432297660145762e-06, 'epoch': 2.11}\n",
      "{'loss': 0.2177, 'grad_norm': 2.323402166366577, 'learning_rate': 9.41311852704258e-06, 'epoch': 2.12}\n",
      "{'loss': 0.108, 'grad_norm': 4.056036472320557, 'learning_rate': 9.393939393939396e-06, 'epoch': 2.12}\n",
      "{'loss': 0.085, 'grad_norm': 0.24836866557598114, 'learning_rate': 9.374760260836211e-06, 'epoch': 2.13}\n",
      "{'loss': 0.0149, 'grad_norm': 2.7938976287841797, 'learning_rate': 9.355581127733028e-06, 'epoch': 2.13}\n",
      "{'loss': 0.266, 'grad_norm': 1.6446943283081055, 'learning_rate': 9.336401994629843e-06, 'epoch': 2.13}\n",
      "{'loss': 0.0734, 'grad_norm': 0.3697373569011688, 'learning_rate': 9.31722286152666e-06, 'epoch': 2.14}\n",
      "{'loss': 0.1338, 'grad_norm': 0.7156596779823303, 'learning_rate': 9.298043728423477e-06, 'epoch': 2.14}\n",
      "{'loss': 0.2176, 'grad_norm': 0.20080970227718353, 'learning_rate': 9.278864595320293e-06, 'epoch': 2.14}\n",
      "{'loss': 0.0573, 'grad_norm': 0.15699635446071625, 'learning_rate': 9.259685462217109e-06, 'epoch': 2.15}\n",
      "{'loss': 0.1425, 'grad_norm': 0.10629267245531082, 'learning_rate': 9.240506329113925e-06, 'epoch': 2.15}\n",
      "{'loss': 0.106, 'grad_norm': 22.18779182434082, 'learning_rate': 9.22132719601074e-06, 'epoch': 2.16}\n",
      "{'loss': 0.0952, 'grad_norm': 0.22982275485992432, 'learning_rate': 9.202148062907557e-06, 'epoch': 2.16}\n",
      "{'loss': 0.2042, 'grad_norm': 1.1128559112548828, 'learning_rate': 9.182968929804374e-06, 'epoch': 2.16}\n",
      "{'loss': 0.1335, 'grad_norm': 4.145030975341797, 'learning_rate': 9.163789796701191e-06, 'epoch': 2.17}\n",
      "{'loss': 0.1754, 'grad_norm': 0.3033580780029297, 'learning_rate': 9.144610663598006e-06, 'epoch': 2.17}\n",
      "{'loss': 0.2385, 'grad_norm': 0.33258959650993347, 'learning_rate': 9.125431530494823e-06, 'epoch': 2.17}\n",
      "{'loss': 0.1411, 'grad_norm': 0.5402876734733582, 'learning_rate': 9.106252397391638e-06, 'epoch': 2.18}\n",
      "{'loss': 0.057, 'grad_norm': 20.607967376708984, 'learning_rate': 9.087073264288455e-06, 'epoch': 2.18}\n",
      "{'loss': 0.0872, 'grad_norm': 0.391254186630249, 'learning_rate': 9.067894131185272e-06, 'epoch': 2.19}\n",
      "{'loss': 0.0715, 'grad_norm': 24.383031845092773, 'learning_rate': 9.048714998082088e-06, 'epoch': 2.19}\n",
      "{'loss': 0.106, 'grad_norm': 31.549684524536133, 'learning_rate': 9.029535864978903e-06, 'epoch': 2.19}\n",
      "{'loss': 0.1537, 'grad_norm': 61.02906036376953, 'learning_rate': 9.01035673187572e-06, 'epoch': 2.2}\n",
      "{'loss': 0.1152, 'grad_norm': 25.873214721679688, 'learning_rate': 8.991177598772535e-06, 'epoch': 2.2}\n",
      "{'loss': 0.1895, 'grad_norm': 5.3952484130859375, 'learning_rate': 8.971998465669352e-06, 'epoch': 2.21}\n",
      "{'loss': 0.099, 'grad_norm': 0.11587104201316833, 'learning_rate': 8.952819332566169e-06, 'epoch': 2.21}\n",
      "{'loss': 0.132, 'grad_norm': 0.7263187170028687, 'learning_rate': 8.933640199462986e-06, 'epoch': 2.21}\n",
      "{'loss': 0.2865, 'grad_norm': 1.7563122510910034, 'learning_rate': 8.914461066359801e-06, 'epoch': 2.22}\n",
      "{'loss': 0.1944, 'grad_norm': 1.8819148540496826, 'learning_rate': 8.895281933256618e-06, 'epoch': 2.22}\n",
      "{'loss': 0.1857, 'grad_norm': 0.054270364344120026, 'learning_rate': 8.876102800153433e-06, 'epoch': 2.22}\n",
      "{'loss': 0.1981, 'grad_norm': 2.569167137145996, 'learning_rate': 8.85692366705025e-06, 'epoch': 2.23}\n",
      "{'loss': 0.1672, 'grad_norm': 0.17779521644115448, 'learning_rate': 8.837744533947066e-06, 'epoch': 2.23}\n",
      "{'loss': 0.123, 'grad_norm': 0.08458922803401947, 'learning_rate': 8.818565400843883e-06, 'epoch': 2.24}\n",
      "{'loss': 0.1432, 'grad_norm': 1.2234915494918823, 'learning_rate': 8.7993862677407e-06, 'epoch': 2.24}\n",
      "{'loss': 0.1193, 'grad_norm': 3.0130105018615723, 'learning_rate': 8.780207134637515e-06, 'epoch': 2.24}\n",
      "{'loss': 0.0865, 'grad_norm': 1.8293025493621826, 'learning_rate': 8.761028001534332e-06, 'epoch': 2.25}\n",
      "{'loss': 0.1214, 'grad_norm': 2.1114323139190674, 'learning_rate': 8.741848868431147e-06, 'epoch': 2.25}\n",
      "{'loss': 0.2431, 'grad_norm': 66.138671875, 'learning_rate': 8.722669735327964e-06, 'epoch': 2.26}\n",
      "{'loss': 0.0658, 'grad_norm': 0.2699788510799408, 'learning_rate': 8.70349060222478e-06, 'epoch': 2.26}\n",
      "{'loss': 0.1982, 'grad_norm': 37.08928298950195, 'learning_rate': 8.684311469121598e-06, 'epoch': 2.26}\n",
      "{'loss': 0.0974, 'grad_norm': 0.10209199786186218, 'learning_rate': 8.665132336018413e-06, 'epoch': 2.27}\n",
      "{'loss': 0.1516, 'grad_norm': 0.16084861755371094, 'learning_rate': 8.64595320291523e-06, 'epoch': 2.27}\n",
      "{'loss': 0.1509, 'grad_norm': 0.09350018203258514, 'learning_rate': 8.626774069812045e-06, 'epoch': 2.27}\n",
      "{'loss': 0.0817, 'grad_norm': 2.073345422744751, 'learning_rate': 8.607594936708861e-06, 'epoch': 2.28}\n",
      "{'loss': 0.1215, 'grad_norm': 0.18904125690460205, 'learning_rate': 8.588415803605678e-06, 'epoch': 2.28}\n",
      "{'loss': 0.0656, 'grad_norm': 51.207313537597656, 'learning_rate': 8.569236670502495e-06, 'epoch': 2.29}\n",
      "{'loss': 0.1455, 'grad_norm': 1.8678267002105713, 'learning_rate': 8.55005753739931e-06, 'epoch': 2.29}\n",
      "{'loss': 0.1055, 'grad_norm': 2.755484104156494, 'learning_rate': 8.530878404296127e-06, 'epoch': 2.29}\n",
      "{'loss': 0.0701, 'grad_norm': 3.3306424617767334, 'learning_rate': 8.511699271192942e-06, 'epoch': 2.3}\n",
      "{'loss': 0.146, 'grad_norm': 0.06900877505540848, 'learning_rate': 8.492520138089759e-06, 'epoch': 2.3}\n"
     ]
    },
    {
     "data": {
      "application/vnd.jupyter.widget-view+json": {
       "model_id": "9e8bd255369e4f5a8a6ede629b9b293c",
       "version_major": 2,
       "version_minor": 0
      },
      "text/plain": [
       "  0%|          | 0/7 [00:00<?, ?it/s]"
      ]
     },
     "metadata": {},
     "output_type": "display_data"
    },
    {
     "name": "stdout",
     "output_type": "stream",
     "text": [
      "{'eval_loss': 0.5993662476539612, 'eval_accuracy': 0.7962962962962963, 'eval_runtime': 9.4824, 'eval_samples_per_second': 11.39, 'eval_steps_per_second': 0.738, 'epoch': 2.3}\n",
      "{'loss': 0.1508, 'grad_norm': 0.07078567147254944, 'learning_rate': 8.473341004986576e-06, 'epoch': 2.31}\n",
      "{'loss': 0.1486, 'grad_norm': 0.18128710985183716, 'learning_rate': 8.454161871883392e-06, 'epoch': 2.31}\n",
      "{'loss': 0.1005, 'grad_norm': 1.624232292175293, 'learning_rate': 8.434982738780208e-06, 'epoch': 2.31}\n",
      "{'loss': 0.1845, 'grad_norm': 5.474138259887695, 'learning_rate': 8.415803605677024e-06, 'epoch': 2.32}\n",
      "{'loss': 0.294, 'grad_norm': 0.10810577869415283, 'learning_rate': 8.39662447257384e-06, 'epoch': 2.32}\n",
      "{'loss': 0.179, 'grad_norm': 17.01466178894043, 'learning_rate': 8.377445339470656e-06, 'epoch': 2.32}\n",
      "{'loss': 0.161, 'grad_norm': 52.175636291503906, 'learning_rate': 8.358266206367473e-06, 'epoch': 2.33}\n",
      "{'loss': 0.1547, 'grad_norm': 4.878843784332275, 'learning_rate': 8.33908707326429e-06, 'epoch': 2.33}\n",
      "{'loss': 0.1052, 'grad_norm': 1.1371911764144897, 'learning_rate': 8.319907940161105e-06, 'epoch': 2.34}\n",
      "{'loss': 0.1043, 'grad_norm': 0.4527431130409241, 'learning_rate': 8.300728807057922e-06, 'epoch': 2.34}\n",
      "{'loss': 0.1005, 'grad_norm': 0.563822865486145, 'learning_rate': 8.281549673954737e-06, 'epoch': 2.34}\n",
      "{'loss': 0.099, 'grad_norm': 45.68411636352539, 'learning_rate': 8.262370540851554e-06, 'epoch': 2.35}\n",
      "{'loss': 0.2054, 'grad_norm': 0.050948962569236755, 'learning_rate': 8.24319140774837e-06, 'epoch': 2.35}\n",
      "{'loss': 0.2822, 'grad_norm': 4.220354080200195, 'learning_rate': 8.224012274645187e-06, 'epoch': 2.36}\n",
      "{'loss': 0.1995, 'grad_norm': 3.6365890502929688, 'learning_rate': 8.204833141542004e-06, 'epoch': 2.36}\n",
      "{'loss': 0.2065, 'grad_norm': 2.5005085468292236, 'learning_rate': 8.18565400843882e-06, 'epoch': 2.36}\n",
      "{'loss': 0.0415, 'grad_norm': 1.4951000213623047, 'learning_rate': 8.166474875335636e-06, 'epoch': 2.37}\n",
      "{'loss': 0.1089, 'grad_norm': 6.133314609527588, 'learning_rate': 8.147295742232451e-06, 'epoch': 2.37}\n",
      "{'loss': 0.1485, 'grad_norm': 2.4839744567871094, 'learning_rate': 8.128116609129268e-06, 'epoch': 2.37}\n",
      "{'loss': 0.0098, 'grad_norm': 0.20471370220184326, 'learning_rate': 8.108937476026085e-06, 'epoch': 2.38}\n",
      "{'loss': 0.3421, 'grad_norm': 0.4000277817249298, 'learning_rate': 8.089758342922902e-06, 'epoch': 2.38}\n",
      "{'loss': 0.1667, 'grad_norm': 0.6077089309692383, 'learning_rate': 8.070579209819717e-06, 'epoch': 2.39}\n",
      "{'loss': 0.1511, 'grad_norm': 0.06858949363231659, 'learning_rate': 8.051400076716534e-06, 'epoch': 2.39}\n",
      "{'loss': 0.1031, 'grad_norm': 0.10724779963493347, 'learning_rate': 8.032220943613349e-06, 'epoch': 2.39}\n",
      "{'loss': 0.1771, 'grad_norm': 1.1614058017730713, 'learning_rate': 8.013041810510165e-06, 'epoch': 2.4}\n",
      "{'loss': 0.188, 'grad_norm': 9.036499977111816, 'learning_rate': 7.993862677406982e-06, 'epoch': 2.4}\n",
      "{'loss': 0.2043, 'grad_norm': 0.07385852187871933, 'learning_rate': 7.974683544303799e-06, 'epoch': 2.41}\n",
      "{'loss': 0.2118, 'grad_norm': 32.03757095336914, 'learning_rate': 7.955504411200614e-06, 'epoch': 2.41}\n",
      "{'loss': 0.1975, 'grad_norm': 1.8255529403686523, 'learning_rate': 7.936325278097431e-06, 'epoch': 2.41}\n",
      "{'loss': 0.1709, 'grad_norm': 1.5320384502410889, 'learning_rate': 7.917146144994246e-06, 'epoch': 2.42}\n",
      "{'loss': 0.1462, 'grad_norm': 39.86838912963867, 'learning_rate': 7.897967011891063e-06, 'epoch': 2.42}\n",
      "{'loss': 0.195, 'grad_norm': 6.0238189697265625, 'learning_rate': 7.87878787878788e-06, 'epoch': 2.42}\n",
      "{'loss': 0.2792, 'grad_norm': 0.061066947877407074, 'learning_rate': 7.859608745684696e-06, 'epoch': 2.43}\n",
      "{'loss': 0.0449, 'grad_norm': 0.11907440423965454, 'learning_rate': 7.840429612581512e-06, 'epoch': 2.43}\n",
      "{'loss': 0.2866, 'grad_norm': 20.377164840698242, 'learning_rate': 7.821250479478328e-06, 'epoch': 2.44}\n",
      "{'loss': 0.011, 'grad_norm': 0.06357398629188538, 'learning_rate': 7.802071346375144e-06, 'epoch': 2.44}\n",
      "{'loss': 0.107, 'grad_norm': 0.07573321461677551, 'learning_rate': 7.78289221327196e-06, 'epoch': 2.44}\n",
      "{'loss': 0.1338, 'grad_norm': 0.16517849266529083, 'learning_rate': 7.763713080168777e-06, 'epoch': 2.45}\n",
      "{'loss': 0.177, 'grad_norm': 7.007810115814209, 'learning_rate': 7.744533947065594e-06, 'epoch': 2.45}\n",
      "{'loss': 0.067, 'grad_norm': 2.1296544075012207, 'learning_rate': 7.725354813962409e-06, 'epoch': 2.45}\n",
      "{'loss': 0.162, 'grad_norm': 10.515305519104004, 'learning_rate': 7.706175680859226e-06, 'epoch': 2.46}\n",
      "{'loss': 0.1063, 'grad_norm': 0.13175979256629944, 'learning_rate': 7.686996547756041e-06, 'epoch': 2.46}\n",
      "{'loss': 0.163, 'grad_norm': 0.16007590293884277, 'learning_rate': 7.667817414652858e-06, 'epoch': 2.47}\n",
      "{'loss': 0.1183, 'grad_norm': 0.22533652186393738, 'learning_rate': 7.648638281549675e-06, 'epoch': 2.47}\n",
      "{'loss': 0.1787, 'grad_norm': 0.046306636184453964, 'learning_rate': 7.629459148446491e-06, 'epoch': 2.47}\n",
      "{'loss': 0.2528, 'grad_norm': 0.10905619710683823, 'learning_rate': 7.610280015343307e-06, 'epoch': 2.48}\n",
      "{'loss': 0.0115, 'grad_norm': 0.11417368054389954, 'learning_rate': 7.591100882240123e-06, 'epoch': 2.48}\n",
      "{'loss': 0.1609, 'grad_norm': 13.335766792297363, 'learning_rate': 7.57192174913694e-06, 'epoch': 2.49}\n",
      "{'loss': 0.2228, 'grad_norm': 34.93194580078125, 'learning_rate': 7.552742616033756e-06, 'epoch': 2.49}\n",
      "{'loss': 0.132, 'grad_norm': 36.79716491699219, 'learning_rate': 7.533563482930573e-06, 'epoch': 2.49}\n"
     ]
    },
    {
     "data": {
      "application/vnd.jupyter.widget-view+json": {
       "model_id": "c40f5b13a47b46ec91db4e9aed8f770c",
       "version_major": 2,
       "version_minor": 0
      },
      "text/plain": [
       "  0%|          | 0/7 [00:00<?, ?it/s]"
      ]
     },
     "metadata": {},
     "output_type": "display_data"
    },
    {
     "name": "stdout",
     "output_type": "stream",
     "text": [
      "{'eval_loss': 0.5541447997093201, 'eval_accuracy': 0.8240740740740741, 'eval_runtime': 9.4724, 'eval_samples_per_second': 11.402, 'eval_steps_per_second': 0.739, 'epoch': 2.49}\n",
      "{'loss': 0.0473, 'grad_norm': 4.8821611404418945, 'learning_rate': 7.514384349827388e-06, 'epoch': 2.5}\n",
      "{'loss': 0.0686, 'grad_norm': 1.5881664752960205, 'learning_rate': 7.495205216724205e-06, 'epoch': 2.5}\n",
      "{'loss': 0.1131, 'grad_norm': 1.5163018703460693, 'learning_rate': 7.476026083621021e-06, 'epoch': 2.5}\n",
      "{'loss': 0.0192, 'grad_norm': 0.17481482028961182, 'learning_rate': 7.456846950517838e-06, 'epoch': 2.51}\n",
      "{'loss': 0.0981, 'grad_norm': 0.08104568719863892, 'learning_rate': 7.4376678174146535e-06, 'epoch': 2.51}\n",
      "{'loss': 0.0469, 'grad_norm': 0.04922584444284439, 'learning_rate': 7.41848868431147e-06, 'epoch': 2.52}\n",
      "{'loss': 0.1663, 'grad_norm': 4.7939229011535645, 'learning_rate': 7.3993095512082855e-06, 'epoch': 2.52}\n",
      "{'loss': 0.2111, 'grad_norm': 27.327547073364258, 'learning_rate': 7.380130418105102e-06, 'epoch': 2.52}\n",
      "{'loss': 0.1973, 'grad_norm': 0.1063210666179657, 'learning_rate': 7.360951285001918e-06, 'epoch': 2.53}\n",
      "{'loss': 0.1742, 'grad_norm': 11.971582412719727, 'learning_rate': 7.341772151898735e-06, 'epoch': 2.53}\n",
      "{'loss': 0.1206, 'grad_norm': 0.04492880776524544, 'learning_rate': 7.322593018795551e-06, 'epoch': 2.54}\n",
      "{'loss': 0.1043, 'grad_norm': 0.04853218421339989, 'learning_rate': 7.303413885692368e-06, 'epoch': 2.54}\n",
      "{'loss': 0.1938, 'grad_norm': 49.084468841552734, 'learning_rate': 7.284234752589183e-06, 'epoch': 2.54}\n",
      "{'loss': 0.2265, 'grad_norm': 0.05252672731876373, 'learning_rate': 7.265055619486e-06, 'epoch': 2.55}\n",
      "{'loss': 0.151, 'grad_norm': 4.472719192504883, 'learning_rate': 7.245876486382816e-06, 'epoch': 2.55}\n",
      "{'loss': 0.2538, 'grad_norm': 0.5493947267532349, 'learning_rate': 7.2266973532796325e-06, 'epoch': 2.55}\n",
      "{'loss': 0.2158, 'grad_norm': 25.91562843322754, 'learning_rate': 7.2075182201764484e-06, 'epoch': 2.56}\n",
      "{'loss': 0.0552, 'grad_norm': 0.04941747710108757, 'learning_rate': 7.188339087073265e-06, 'epoch': 2.56}\n",
      "{'loss': 0.1527, 'grad_norm': 4.1656880378723145, 'learning_rate': 7.16915995397008e-06, 'epoch': 2.57}\n",
      "{'loss': 0.0954, 'grad_norm': 8.872862815856934, 'learning_rate': 7.149980820866897e-06, 'epoch': 2.57}\n",
      "{'loss': 0.1862, 'grad_norm': 1.8747930526733398, 'learning_rate': 7.130801687763713e-06, 'epoch': 2.57}\n",
      "{'loss': 0.1717, 'grad_norm': 0.09808944910764694, 'learning_rate': 7.11162255466053e-06, 'epoch': 2.58}\n",
      "{'loss': 0.1923, 'grad_norm': 26.891382217407227, 'learning_rate': 7.092443421557346e-06, 'epoch': 2.58}\n",
      "{'loss': 0.1356, 'grad_norm': 26.166074752807617, 'learning_rate': 7.073264288454163e-06, 'epoch': 2.59}\n",
      "{'loss': 0.0901, 'grad_norm': 25.672744750976562, 'learning_rate': 7.0540851553509795e-06, 'epoch': 2.59}\n",
      "{'loss': 0.0329, 'grad_norm': 51.714962005615234, 'learning_rate': 7.034906022247795e-06, 'epoch': 2.59}\n",
      "{'loss': 0.1527, 'grad_norm': 38.763397216796875, 'learning_rate': 7.0157268891446114e-06, 'epoch': 2.6}\n",
      "{'loss': 0.3108, 'grad_norm': 6.763010501861572, 'learning_rate': 6.996547756041427e-06, 'epoch': 2.6}\n",
      "{'loss': 0.0446, 'grad_norm': 0.1898944228887558, 'learning_rate': 6.977368622938244e-06, 'epoch': 2.6}\n",
      "{'loss': 0.1933, 'grad_norm': 0.05469862371683121, 'learning_rate': 6.95818948983506e-06, 'epoch': 2.61}\n",
      "{'loss': 0.2005, 'grad_norm': 0.07396207004785538, 'learning_rate': 6.939010356731877e-06, 'epoch': 2.61}\n",
      "{'loss': 0.1431, 'grad_norm': 0.5469323396682739, 'learning_rate': 6.919831223628692e-06, 'epoch': 2.62}\n",
      "{'loss': 0.0494, 'grad_norm': 2.8425357341766357, 'learning_rate': 6.900652090525509e-06, 'epoch': 2.62}\n",
      "{'loss': 0.0748, 'grad_norm': 0.2182195633649826, 'learning_rate': 6.881472957422325e-06, 'epoch': 2.62}\n",
      "{'loss': 0.0731, 'grad_norm': 0.047670360654592514, 'learning_rate': 6.862293824319142e-06, 'epoch': 2.63}\n",
      "{'loss': 0.1799, 'grad_norm': 27.439453125, 'learning_rate': 6.843114691215958e-06, 'epoch': 2.63}\n",
      "{'loss': 0.145, 'grad_norm': 0.41126570105552673, 'learning_rate': 6.823935558112774e-06, 'epoch': 2.64}\n",
      "{'loss': 0.1397, 'grad_norm': 0.058341991156339645, 'learning_rate': 6.8047564250095895e-06, 'epoch': 2.64}\n",
      "{'loss': 0.0986, 'grad_norm': 1.2236342430114746, 'learning_rate': 6.785577291906406e-06, 'epoch': 2.64}\n",
      "{'loss': 0.2143, 'grad_norm': 0.16925682127475739, 'learning_rate': 6.766398158803222e-06, 'epoch': 2.65}\n",
      "{'loss': 0.1355, 'grad_norm': 12.87166690826416, 'learning_rate': 6.747219025700039e-06, 'epoch': 2.65}\n",
      "{'loss': 0.1363, 'grad_norm': 1.9330353736877441, 'learning_rate': 6.728039892596855e-06, 'epoch': 2.65}\n",
      "{'loss': 0.0674, 'grad_norm': 0.08061985671520233, 'learning_rate': 6.708860759493672e-06, 'epoch': 2.66}\n",
      "{'loss': 0.034, 'grad_norm': 12.779121398925781, 'learning_rate': 6.689681626390487e-06, 'epoch': 2.66}\n",
      "{'loss': 0.2554, 'grad_norm': 2.873173952102661, 'learning_rate': 6.670502493287304e-06, 'epoch': 2.67}\n",
      "{'loss': 0.1543, 'grad_norm': 0.3386076092720032, 'learning_rate': 6.65132336018412e-06, 'epoch': 2.67}\n",
      "{'loss': 0.0921, 'grad_norm': 12.064468383789062, 'learning_rate': 6.6321442270809366e-06, 'epoch': 2.67}\n",
      "{'loss': 0.084, 'grad_norm': 23.285701751708984, 'learning_rate': 6.6129650939777525e-06, 'epoch': 2.68}\n",
      "{'loss': 0.0103, 'grad_norm': 6.106071472167969, 'learning_rate': 6.593785960874569e-06, 'epoch': 2.68}\n",
      "{'loss': 0.3142, 'grad_norm': 22.66419792175293, 'learning_rate': 6.5746068277713844e-06, 'epoch': 2.69}\n"
     ]
    },
    {
     "data": {
      "application/vnd.jupyter.widget-view+json": {
       "model_id": "82f6a5f6244a4e79ba3cdfd5005620a6",
       "version_major": 2,
       "version_minor": 0
      },
      "text/plain": [
       "  0%|          | 0/7 [00:00<?, ?it/s]"
      ]
     },
     "metadata": {},
     "output_type": "display_data"
    },
    {
     "name": "stdout",
     "output_type": "stream",
     "text": [
      "{'eval_loss': 0.6513680219650269, 'eval_accuracy': 0.8055555555555556, 'eval_runtime': 9.4841, 'eval_samples_per_second': 11.387, 'eval_steps_per_second': 0.738, 'epoch': 2.69}\n",
      "{'loss': 0.286, 'grad_norm': 27.621780395507812, 'learning_rate': 6.555427694668201e-06, 'epoch': 2.69}\n",
      "{'loss': 0.1116, 'grad_norm': 0.06574835628271103, 'learning_rate': 6.536248561565017e-06, 'epoch': 2.69}\n",
      "{'loss': 0.2715, 'grad_norm': 5.369364261627197, 'learning_rate': 6.517069428461834e-06, 'epoch': 2.7}\n",
      "{'loss': 0.0719, 'grad_norm': 0.08032599091529846, 'learning_rate': 6.49789029535865e-06, 'epoch': 2.7}\n",
      "{'loss': 0.1867, 'grad_norm': 7.615720748901367, 'learning_rate': 6.478711162255467e-06, 'epoch': 2.7}\n",
      "{'loss': 0.2304, 'grad_norm': 1.4960224628448486, 'learning_rate': 6.459532029152284e-06, 'epoch': 2.71}\n",
      "{'loss': 0.0088, 'grad_norm': 0.08142264932394028, 'learning_rate': 6.440352896049099e-06, 'epoch': 2.71}\n",
      "{'loss': 0.1199, 'grad_norm': 1.1926429271697998, 'learning_rate': 6.4211737629459155e-06, 'epoch': 2.72}\n",
      "{'loss': 0.1244, 'grad_norm': 0.11146487295627594, 'learning_rate': 6.4019946298427315e-06, 'epoch': 2.72}\n",
      "{'loss': 0.0118, 'grad_norm': 10.35301685333252, 'learning_rate': 6.382815496739548e-06, 'epoch': 2.72}\n",
      "{'loss': 0.0389, 'grad_norm': 2.789215326309204, 'learning_rate': 6.363636363636364e-06, 'epoch': 2.73}\n",
      "{'loss': 0.1406, 'grad_norm': 0.06900541484355927, 'learning_rate': 6.344457230533181e-06, 'epoch': 2.73}\n",
      "{'loss': 0.2143, 'grad_norm': 0.563795268535614, 'learning_rate': 6.325278097429996e-06, 'epoch': 2.73}\n",
      "{'loss': 0.0334, 'grad_norm': 40.47132873535156, 'learning_rate': 6.306098964326813e-06, 'epoch': 2.74}\n",
      "{'loss': 0.0712, 'grad_norm': 0.0799679383635521, 'learning_rate': 6.286919831223629e-06, 'epoch': 2.74}\n",
      "{'loss': 0.0799, 'grad_norm': 0.04414677992463112, 'learning_rate': 6.267740698120446e-06, 'epoch': 2.75}\n",
      "{'loss': 0.1644, 'grad_norm': 36.116756439208984, 'learning_rate': 6.248561565017262e-06, 'epoch': 2.75}\n",
      "{'loss': 0.0654, 'grad_norm': 0.049673259258270264, 'learning_rate': 6.2293824319140785e-06, 'epoch': 2.75}\n",
      "{'loss': 0.2528, 'grad_norm': 0.12416853755712509, 'learning_rate': 6.210203298810894e-06, 'epoch': 2.76}\n",
      "{'loss': 0.0602, 'grad_norm': 1.0395183563232422, 'learning_rate': 6.19102416570771e-06, 'epoch': 2.76}\n",
      "{'loss': 0.096, 'grad_norm': 5.1702141761779785, 'learning_rate': 6.171845032604526e-06, 'epoch': 2.77}\n",
      "{'loss': 0.163, 'grad_norm': 0.146057590842247, 'learning_rate': 6.152665899501343e-06, 'epoch': 2.77}\n",
      "{'loss': 0.2222, 'grad_norm': 0.8830376267433167, 'learning_rate': 6.133486766398159e-06, 'epoch': 2.77}\n",
      "{'loss': 0.0391, 'grad_norm': 11.406150817871094, 'learning_rate': 6.114307633294976e-06, 'epoch': 2.78}\n",
      "{'loss': 0.1311, 'grad_norm': 0.0556502491235733, 'learning_rate': 6.095128500191791e-06, 'epoch': 2.78}\n",
      "{'loss': 0.2692, 'grad_norm': 0.049821287393569946, 'learning_rate': 6.075949367088608e-06, 'epoch': 2.78}\n",
      "{'loss': 0.1565, 'grad_norm': 0.04404919594526291, 'learning_rate': 6.056770233985424e-06, 'epoch': 2.79}\n",
      "{'loss': 0.0169, 'grad_norm': 0.0489673838019371, 'learning_rate': 6.037591100882241e-06, 'epoch': 2.79}\n",
      "{'loss': 0.1771, 'grad_norm': 6.958548545837402, 'learning_rate': 6.018411967779057e-06, 'epoch': 2.8}\n",
      "{'loss': 0.2129, 'grad_norm': 3.857879638671875, 'learning_rate': 5.999232834675873e-06, 'epoch': 2.8}\n",
      "{'loss': 0.1261, 'grad_norm': 0.19515052437782288, 'learning_rate': 5.980053701572689e-06, 'epoch': 2.8}\n",
      "{'loss': 0.3008, 'grad_norm': 28.996530532836914, 'learning_rate': 5.960874568469505e-06, 'epoch': 2.81}\n",
      "{'loss': 0.1023, 'grad_norm': 0.05961944907903671, 'learning_rate': 5.941695435366321e-06, 'epoch': 2.81}\n",
      "{'loss': 0.2106, 'grad_norm': 40.928218841552734, 'learning_rate': 5.922516302263138e-06, 'epoch': 2.82}\n",
      "{'loss': 0.0724, 'grad_norm': 3.798151969909668, 'learning_rate': 5.903337169159954e-06, 'epoch': 2.82}\n",
      "{'loss': 0.1966, 'grad_norm': 14.190176010131836, 'learning_rate': 5.884158036056771e-06, 'epoch': 2.82}\n",
      "{'loss': 0.262, 'grad_norm': 2.3194081783294678, 'learning_rate': 5.864978902953588e-06, 'epoch': 2.83}\n",
      "{'loss': 0.1495, 'grad_norm': 0.3180091083049774, 'learning_rate': 5.845799769850404e-06, 'epoch': 2.83}\n",
      "{'loss': 0.0309, 'grad_norm': 22.722126007080078, 'learning_rate': 5.8266206367472204e-06, 'epoch': 2.83}\n",
      "{'loss': 0.0255, 'grad_norm': 0.08349375426769257, 'learning_rate': 5.8074415036440355e-06, 'epoch': 2.84}\n",
      "{'loss': 0.1633, 'grad_norm': 53.32886505126953, 'learning_rate': 5.788262370540852e-06, 'epoch': 2.84}\n",
      "{'loss': 0.151, 'grad_norm': 0.18038803339004517, 'learning_rate': 5.769083237437668e-06, 'epoch': 2.85}\n",
      "{'loss': 0.135, 'grad_norm': 0.05816683918237686, 'learning_rate': 5.749904104334485e-06, 'epoch': 2.85}\n",
      "{'loss': 0.1179, 'grad_norm': 27.41304588317871, 'learning_rate': 5.730724971231301e-06, 'epoch': 2.85}\n",
      "{'loss': 0.1399, 'grad_norm': 0.3465813100337982, 'learning_rate': 5.711545838128118e-06, 'epoch': 2.86}\n",
      "{'loss': 0.0578, 'grad_norm': 41.012813568115234, 'learning_rate': 5.692366705024933e-06, 'epoch': 2.86}\n",
      "{'loss': 0.0182, 'grad_norm': 0.16549627482891083, 'learning_rate': 5.67318757192175e-06, 'epoch': 2.87}\n",
      "{'loss': 0.2115, 'grad_norm': 0.44266924262046814, 'learning_rate': 5.654008438818566e-06, 'epoch': 2.87}\n",
      "{'loss': 0.1311, 'grad_norm': 0.2952406406402588, 'learning_rate': 5.6348293057153826e-06, 'epoch': 2.87}\n",
      "{'loss': 0.1252, 'grad_norm': 1.6148449182510376, 'learning_rate': 5.6156501726121985e-06, 'epoch': 2.88}\n"
     ]
    },
    {
     "data": {
      "application/vnd.jupyter.widget-view+json": {
       "model_id": "eec32ea1334a458abb239d4e6574f278",
       "version_major": 2,
       "version_minor": 0
      },
      "text/plain": [
       "  0%|          | 0/7 [00:00<?, ?it/s]"
      ]
     },
     "metadata": {},
     "output_type": "display_data"
    },
    {
     "name": "stdout",
     "output_type": "stream",
     "text": [
      "{'eval_loss': 0.4903107285499573, 'eval_accuracy': 0.8518518518518519, 'eval_runtime': 9.3894, 'eval_samples_per_second': 11.502, 'eval_steps_per_second': 0.746, 'epoch': 2.88}\n",
      "{'loss': 0.2076, 'grad_norm': 59.49931716918945, 'learning_rate': 5.596471039509015e-06, 'epoch': 2.88}\n",
      "{'loss': 0.097, 'grad_norm': 0.2787465453147888, 'learning_rate': 5.5772919064058304e-06, 'epoch': 2.88}\n",
      "{'loss': 0.0752, 'grad_norm': 0.04375157505273819, 'learning_rate': 5.558112773302647e-06, 'epoch': 2.89}\n",
      "{'loss': 0.1807, 'grad_norm': 0.292592316865921, 'learning_rate': 5.538933640199463e-06, 'epoch': 2.89}\n",
      "{'loss': 0.1114, 'grad_norm': 15.856465339660645, 'learning_rate': 5.51975450709628e-06, 'epoch': 2.9}\n",
      "{'loss': 0.1171, 'grad_norm': 0.05956294387578964, 'learning_rate': 5.500575373993096e-06, 'epoch': 2.9}\n",
      "{'loss': 0.0879, 'grad_norm': 1.2402962446212769, 'learning_rate': 5.481396240889913e-06, 'epoch': 2.9}\n",
      "{'loss': 0.12, 'grad_norm': 49.391841888427734, 'learning_rate': 5.462217107786728e-06, 'epoch': 2.91}\n",
      "{'loss': 0.2713, 'grad_norm': 32.808658599853516, 'learning_rate': 5.443037974683545e-06, 'epoch': 2.91}\n",
      "{'loss': 0.1391, 'grad_norm': 2.2135801315307617, 'learning_rate': 5.423858841580361e-06, 'epoch': 2.92}\n",
      "{'loss': 0.0494, 'grad_norm': 0.07340442389249802, 'learning_rate': 5.4046797084771775e-06, 'epoch': 2.92}\n",
      "{'loss': 0.332, 'grad_norm': 18.96119499206543, 'learning_rate': 5.3855005753739934e-06, 'epoch': 2.92}\n",
      "{'loss': 0.1935, 'grad_norm': 26.82465362548828, 'learning_rate': 5.36632144227081e-06, 'epoch': 2.93}\n",
      "{'loss': 0.0136, 'grad_norm': 8.007522583007812, 'learning_rate': 5.347142309167625e-06, 'epoch': 2.93}\n",
      "{'loss': 0.1306, 'grad_norm': 0.7196059226989746, 'learning_rate': 5.327963176064442e-06, 'epoch': 2.93}\n",
      "{'loss': 0.1218, 'grad_norm': 0.0627158135175705, 'learning_rate': 5.308784042961258e-06, 'epoch': 2.94}\n",
      "{'loss': 0.1255, 'grad_norm': 0.15546327829360962, 'learning_rate': 5.289604909858075e-06, 'epoch': 2.94}\n",
      "{'loss': 0.0249, 'grad_norm': 0.11088693886995316, 'learning_rate': 5.270425776754892e-06, 'epoch': 2.95}\n",
      "{'loss': 0.0506, 'grad_norm': 0.09620855003595352, 'learning_rate': 5.251246643651708e-06, 'epoch': 2.95}\n",
      "{'loss': 0.0763, 'grad_norm': 0.056012388318777084, 'learning_rate': 5.2320675105485245e-06, 'epoch': 2.95}\n",
      "{'loss': 0.0677, 'grad_norm': 0.21883589029312134, 'learning_rate': 5.21288837744534e-06, 'epoch': 2.96}\n",
      "{'loss': 0.0152, 'grad_norm': 0.06492822617292404, 'learning_rate': 5.193709244342156e-06, 'epoch': 2.96}\n",
      "{'loss': 0.2099, 'grad_norm': 1.8638312816619873, 'learning_rate': 5.174530111238972e-06, 'epoch': 2.97}\n",
      "{'loss': 0.0608, 'grad_norm': 0.3927321434020996, 'learning_rate': 5.155350978135789e-06, 'epoch': 2.97}\n",
      "{'loss': 0.0322, 'grad_norm': 0.24691390991210938, 'learning_rate': 5.136171845032605e-06, 'epoch': 2.97}\n",
      "{'loss': 0.008, 'grad_norm': 0.11074107885360718, 'learning_rate': 5.116992711929422e-06, 'epoch': 2.98}\n",
      "{'loss': 0.3733, 'grad_norm': 9.660011291503906, 'learning_rate': 5.097813578826237e-06, 'epoch': 2.98}\n",
      "{'loss': 0.1188, 'grad_norm': 0.040243491530418396, 'learning_rate': 5.078634445723054e-06, 'epoch': 2.98}\n",
      "{'loss': 0.0729, 'grad_norm': 0.17079274356365204, 'learning_rate': 5.05945531261987e-06, 'epoch': 2.99}\n",
      "{'loss': 0.1149, 'grad_norm': 0.12634597718715668, 'learning_rate': 5.040276179516687e-06, 'epoch': 2.99}\n",
      "{'loss': 0.1238, 'grad_norm': 0.29085275530815125, 'learning_rate': 5.021097046413503e-06, 'epoch': 3.0}\n",
      "{'loss': 0.0823, 'grad_norm': 2.903477907180786, 'learning_rate': 5.001917913310319e-06, 'epoch': 3.0}\n",
      "{'loss': 0.0267, 'grad_norm': 61.494834899902344, 'learning_rate': 4.982738780207135e-06, 'epoch': 3.0}\n",
      "{'loss': 0.0194, 'grad_norm': 45.73017883300781, 'learning_rate': 4.963559647103951e-06, 'epoch': 3.01}\n",
      "{'loss': 0.0612, 'grad_norm': 0.06309743225574493, 'learning_rate': 4.944380514000768e-06, 'epoch': 3.01}\n",
      "{'loss': 0.201, 'grad_norm': 54.86201095581055, 'learning_rate': 4.925201380897584e-06, 'epoch': 3.01}\n",
      "{'loss': 0.1558, 'grad_norm': 4.231834888458252, 'learning_rate': 4.9060222477944e-06, 'epoch': 3.02}\n",
      "{'loss': 0.0656, 'grad_norm': 7.0587615966796875, 'learning_rate': 4.886843114691217e-06, 'epoch': 3.02}\n",
      "{'loss': 0.0142, 'grad_norm': 2.122267246246338, 'learning_rate': 4.867663981588033e-06, 'epoch': 3.03}\n",
      "{'loss': 0.0469, 'grad_norm': 0.07331431657075882, 'learning_rate': 4.848484848484849e-06, 'epoch': 3.03}\n",
      "{'loss': 0.0672, 'grad_norm': 0.05879694223403931, 'learning_rate': 4.829305715381666e-06, 'epoch': 3.03}\n",
      "{'loss': 0.0405, 'grad_norm': 0.08370388299226761, 'learning_rate': 4.8101265822784815e-06, 'epoch': 3.04}\n",
      "{'loss': 0.0391, 'grad_norm': 0.15819713473320007, 'learning_rate': 4.7909474491752975e-06, 'epoch': 3.04}\n",
      "{'loss': 0.0093, 'grad_norm': 0.25175610184669495, 'learning_rate': 4.771768316072114e-06, 'epoch': 3.05}\n",
      "{'loss': 0.0207, 'grad_norm': 0.1416018307209015, 'learning_rate': 4.75258918296893e-06, 'epoch': 3.05}\n",
      "{'loss': 0.064, 'grad_norm': 35.434696197509766, 'learning_rate': 4.733410049865746e-06, 'epoch': 3.05}\n",
      "{'loss': 0.01, 'grad_norm': 0.06776129454374313, 'learning_rate': 4.714230916762563e-06, 'epoch': 3.06}\n",
      "{'loss': 0.1262, 'grad_norm': 0.04497036337852478, 'learning_rate': 4.695051783659379e-06, 'epoch': 3.06}\n",
      "{'loss': 0.0267, 'grad_norm': 0.08043424040079117, 'learning_rate': 4.675872650556195e-06, 'epoch': 3.06}\n",
      "{'loss': 0.1028, 'grad_norm': 0.03812718018889427, 'learning_rate': 4.656693517453012e-06, 'epoch': 3.07}\n"
     ]
    },
    {
     "data": {
      "application/vnd.jupyter.widget-view+json": {
       "model_id": "946c418f288746a690175e5f57461eb7",
       "version_major": 2,
       "version_minor": 0
      },
      "text/plain": [
       "  0%|          | 0/7 [00:00<?, ?it/s]"
      ]
     },
     "metadata": {},
     "output_type": "display_data"
    },
    {
     "name": "stdout",
     "output_type": "stream",
     "text": [
      "{'eval_loss': 0.6785677671432495, 'eval_accuracy': 0.8240740740740741, 'eval_runtime': 9.2264, 'eval_samples_per_second': 11.706, 'eval_steps_per_second': 0.759, 'epoch': 3.07}\n",
      "{'loss': 0.0614, 'grad_norm': 0.08005579560995102, 'learning_rate': 4.637514384349828e-06, 'epoch': 3.07}\n",
      "{'loss': 0.041, 'grad_norm': 0.04331929236650467, 'learning_rate': 4.618335251246644e-06, 'epoch': 3.08}\n",
      "{'loss': 0.0692, 'grad_norm': 0.34640005230903625, 'learning_rate': 4.5991561181434605e-06, 'epoch': 3.08}\n",
      "{'loss': 0.0049, 'grad_norm': 0.06067270413041115, 'learning_rate': 4.5799769850402765e-06, 'epoch': 3.08}\n",
      "{'loss': 0.0044, 'grad_norm': 0.07017267495393753, 'learning_rate': 4.560797851937092e-06, 'epoch': 3.09}\n",
      "{'loss': 0.1348, 'grad_norm': 2.7784316539764404, 'learning_rate': 4.541618718833909e-06, 'epoch': 3.09}\n",
      "{'loss': 0.0051, 'grad_norm': 0.049637921154499054, 'learning_rate': 4.522439585730725e-06, 'epoch': 3.1}\n",
      "{'loss': 0.0386, 'grad_norm': 0.039350613951683044, 'learning_rate': 4.503260452627541e-06, 'epoch': 3.1}\n",
      "{'loss': 0.0463, 'grad_norm': 0.23955562710762024, 'learning_rate': 4.484081319524358e-06, 'epoch': 3.1}\n",
      "{'loss': 0.0978, 'grad_norm': 0.032928988337516785, 'learning_rate': 4.464902186421174e-06, 'epoch': 3.11}\n",
      "{'loss': 0.0072, 'grad_norm': 0.03337004408240318, 'learning_rate': 4.44572305331799e-06, 'epoch': 3.11}\n",
      "{'loss': 0.0053, 'grad_norm': 0.383698970079422, 'learning_rate': 4.426543920214807e-06, 'epoch': 3.11}\n",
      "{'loss': 0.0567, 'grad_norm': 0.03886648267507553, 'learning_rate': 4.4073647871116235e-06, 'epoch': 3.12}\n",
      "{'loss': 0.1226, 'grad_norm': 26.19659423828125, 'learning_rate': 4.3881856540084394e-06, 'epoch': 3.12}\n",
      "{'loss': 0.0508, 'grad_norm': 0.06129062920808792, 'learning_rate': 4.369006520905255e-06, 'epoch': 3.13}\n",
      "{'loss': 0.0053, 'grad_norm': 0.056442249566316605, 'learning_rate': 4.349827387802072e-06, 'epoch': 3.13}\n",
      "{'loss': 0.0171, 'grad_norm': 0.48180121183395386, 'learning_rate': 4.330648254698888e-06, 'epoch': 3.13}\n",
      "{'loss': 0.0105, 'grad_norm': 0.5980380177497864, 'learning_rate': 4.311469121595704e-06, 'epoch': 3.14}\n",
      "{'loss': 0.097, 'grad_norm': 0.03556038811802864, 'learning_rate': 4.292289988492521e-06, 'epoch': 3.14}\n",
      "{'loss': 0.0261, 'grad_norm': 94.99564361572266, 'learning_rate': 4.273110855389337e-06, 'epoch': 3.15}\n",
      "{'loss': 0.0082, 'grad_norm': 0.0352361798286438, 'learning_rate': 4.253931722286153e-06, 'epoch': 3.15}\n",
      "{'loss': 0.0911, 'grad_norm': 0.16907568275928497, 'learning_rate': 4.23475258918297e-06, 'epoch': 3.15}\n",
      "{'loss': 0.0143, 'grad_norm': 0.07993505150079727, 'learning_rate': 4.215573456079786e-06, 'epoch': 3.16}\n",
      "{'loss': 0.0924, 'grad_norm': 0.04741295054554939, 'learning_rate': 4.196394322976602e-06, 'epoch': 3.16}\n",
      "{'loss': 0.0699, 'grad_norm': 0.04251698777079582, 'learning_rate': 4.177215189873418e-06, 'epoch': 3.16}\n",
      "{'loss': 0.1266, 'grad_norm': 13.388970375061035, 'learning_rate': 4.158036056770234e-06, 'epoch': 3.17}\n",
      "{'loss': 0.0346, 'grad_norm': 0.4139259457588196, 'learning_rate': 4.13885692366705e-06, 'epoch': 3.17}\n",
      "{'loss': 0.0515, 'grad_norm': 0.032139312475919724, 'learning_rate': 4.119677790563867e-06, 'epoch': 3.18}\n",
      "{'loss': 0.0626, 'grad_norm': 0.05199256166815758, 'learning_rate': 4.100498657460683e-06, 'epoch': 3.18}\n",
      "{'loss': 0.0091, 'grad_norm': 0.041831206530332565, 'learning_rate': 4.081319524357499e-06, 'epoch': 3.18}\n",
      "{'loss': 0.1112, 'grad_norm': 0.0702713206410408, 'learning_rate': 4.062140391254316e-06, 'epoch': 3.19}\n",
      "{'loss': 0.0693, 'grad_norm': 0.06165195629000664, 'learning_rate': 4.042961258151132e-06, 'epoch': 3.19}\n",
      "{'loss': 0.0421, 'grad_norm': 0.04152948409318924, 'learning_rate': 4.023782125047948e-06, 'epoch': 3.2}\n",
      "{'loss': 0.1899, 'grad_norm': 0.037129081785678864, 'learning_rate': 4.0046029919447646e-06, 'epoch': 3.2}\n",
      "{'loss': 0.0722, 'grad_norm': 1.1520336866378784, 'learning_rate': 3.9854238588415805e-06, 'epoch': 3.2}\n",
      "{'loss': 0.0234, 'grad_norm': 0.04394970461726189, 'learning_rate': 3.9662447257383965e-06, 'epoch': 3.21}\n",
      "{'loss': 0.0043, 'grad_norm': 0.03294443339109421, 'learning_rate': 3.947065592635213e-06, 'epoch': 3.21}\n",
      "{'loss': 0.0038, 'grad_norm': 0.04293990507721901, 'learning_rate': 3.927886459532029e-06, 'epoch': 3.21}\n",
      "{'loss': 0.0348, 'grad_norm': 0.04413590580224991, 'learning_rate': 3.908707326428845e-06, 'epoch': 3.22}\n",
      "{'loss': 0.041, 'grad_norm': 0.045334331691265106, 'learning_rate': 3.889528193325662e-06, 'epoch': 3.22}\n",
      "{'loss': 0.01, 'grad_norm': 0.11948695033788681, 'learning_rate': 3.870349060222478e-06, 'epoch': 3.23}\n",
      "{'loss': 0.0568, 'grad_norm': 0.27853238582611084, 'learning_rate': 3.851169927119294e-06, 'epoch': 3.23}\n",
      "{'loss': 0.0778, 'grad_norm': 0.04214054346084595, 'learning_rate': 3.831990794016111e-06, 'epoch': 3.23}\n",
      "{'loss': 0.0043, 'grad_norm': 0.11562442034482956, 'learning_rate': 3.812811660912927e-06, 'epoch': 3.24}\n",
      "{'loss': 0.0761, 'grad_norm': 0.03264160826802254, 'learning_rate': 3.7936325278097435e-06, 'epoch': 3.24}\n",
      "{'loss': 0.0052, 'grad_norm': 0.1289030909538269, 'learning_rate': 3.77445339470656e-06, 'epoch': 3.25}\n",
      "{'loss': 0.0151, 'grad_norm': 0.15343354642391205, 'learning_rate': 3.755274261603376e-06, 'epoch': 3.25}\n",
      "{'loss': 0.0679, 'grad_norm': 0.05136921629309654, 'learning_rate': 3.7360951285001922e-06, 'epoch': 3.25}\n",
      "{'loss': 0.0862, 'grad_norm': 0.7411769032478333, 'learning_rate': 3.7169159953970086e-06, 'epoch': 3.26}\n",
      "{'loss': 0.0582, 'grad_norm': 9.216458320617676, 'learning_rate': 3.6977368622938246e-06, 'epoch': 3.26}\n"
     ]
    },
    {
     "data": {
      "application/vnd.jupyter.widget-view+json": {
       "model_id": "329865418581438a9d5cb943dc4a0e86",
       "version_major": 2,
       "version_minor": 0
      },
      "text/plain": [
       "  0%|          | 0/7 [00:00<?, ?it/s]"
      ]
     },
     "metadata": {},
     "output_type": "display_data"
    },
    {
     "name": "stdout",
     "output_type": "stream",
     "text": [
      "{'eval_loss': 0.7066799998283386, 'eval_accuracy': 0.8148148148148148, 'eval_runtime': 9.4489, 'eval_samples_per_second': 11.43, 'eval_steps_per_second': 0.741, 'epoch': 3.26}\n",
      "{'loss': 0.0781, 'grad_norm': 1.9626119136810303, 'learning_rate': 3.678557729190641e-06, 'epoch': 3.26}\n",
      "{'loss': 0.0862, 'grad_norm': 1.1706548929214478, 'learning_rate': 3.6593785960874573e-06, 'epoch': 3.27}\n",
      "{'loss': 0.0258, 'grad_norm': 0.03678247705101967, 'learning_rate': 3.6401994629842733e-06, 'epoch': 3.27}\n",
      "{'loss': 0.1074, 'grad_norm': 1.7814867496490479, 'learning_rate': 3.6210203298810897e-06, 'epoch': 3.28}\n",
      "{'loss': 0.0776, 'grad_norm': 0.046181123703718185, 'learning_rate': 3.601841196777906e-06, 'epoch': 3.28}\n",
      "{'loss': 0.0399, 'grad_norm': 0.2514030933380127, 'learning_rate': 3.5826620636747225e-06, 'epoch': 3.28}\n",
      "{'loss': 0.0047, 'grad_norm': 0.08090579509735107, 'learning_rate': 3.5634829305715384e-06, 'epoch': 3.29}\n",
      "{'loss': 0.0042, 'grad_norm': 0.04317251220345497, 'learning_rate': 3.544303797468355e-06, 'epoch': 3.29}\n",
      "{'loss': 0.1794, 'grad_norm': 17.097675323486328, 'learning_rate': 3.525124664365171e-06, 'epoch': 3.29}\n",
      "{'loss': 0.0578, 'grad_norm': 0.04678792133927345, 'learning_rate': 3.505945531261987e-06, 'epoch': 3.3}\n",
      "{'loss': 0.0109, 'grad_norm': 1.6070631742477417, 'learning_rate': 3.4867663981588035e-06, 'epoch': 3.3}\n",
      "{'loss': 0.102, 'grad_norm': 1.8886157274246216, 'learning_rate': 3.46758726505562e-06, 'epoch': 3.31}\n",
      "{'loss': 0.0094, 'grad_norm': 2.2113442420959473, 'learning_rate': 3.448408131952436e-06, 'epoch': 3.31}\n",
      "{'loss': 0.004, 'grad_norm': 0.042876437306404114, 'learning_rate': 3.4292289988492523e-06, 'epoch': 3.31}\n",
      "{'loss': 0.0496, 'grad_norm': 0.08032459020614624, 'learning_rate': 3.4100498657460686e-06, 'epoch': 3.32}\n",
      "{'loss': 0.0084, 'grad_norm': 0.04159000888466835, 'learning_rate': 3.3908707326428846e-06, 'epoch': 3.32}\n",
      "{'loss': 0.1292, 'grad_norm': 0.03863983228802681, 'learning_rate': 3.371691599539701e-06, 'epoch': 3.33}\n",
      "{'loss': 0.1137, 'grad_norm': 1.6697882413864136, 'learning_rate': 3.3525124664365174e-06, 'epoch': 3.33}\n",
      "{'loss': 0.0037, 'grad_norm': 0.06014709919691086, 'learning_rate': 3.3333333333333333e-06, 'epoch': 3.33}\n",
      "{'loss': 0.0051, 'grad_norm': 0.09434785693883896, 'learning_rate': 3.3141542002301497e-06, 'epoch': 3.34}\n",
      "{'loss': 0.0045, 'grad_norm': 0.041084591299295425, 'learning_rate': 3.294975067126966e-06, 'epoch': 3.34}\n",
      "{'loss': 0.0034, 'grad_norm': 0.03940799459815025, 'learning_rate': 3.275795934023782e-06, 'epoch': 3.34}\n",
      "{'loss': 0.1402, 'grad_norm': 0.038397327065467834, 'learning_rate': 3.2566168009205984e-06, 'epoch': 3.35}\n",
      "{'loss': 0.005, 'grad_norm': 0.040202535688877106, 'learning_rate': 3.237437667817415e-06, 'epoch': 3.35}\n",
      "{'loss': 0.1087, 'grad_norm': 0.02994592860341072, 'learning_rate': 3.2182585347142316e-06, 'epoch': 3.36}\n",
      "{'loss': 0.0039, 'grad_norm': 0.09495987743139267, 'learning_rate': 3.1990794016110476e-06, 'epoch': 3.36}\n",
      "{'loss': 0.0036, 'grad_norm': 0.19416435062885284, 'learning_rate': 3.179900268507864e-06, 'epoch': 3.36}\n",
      "{'loss': 0.0047, 'grad_norm': 0.0518600232899189, 'learning_rate': 3.1607211354046804e-06, 'epoch': 3.37}\n",
      "{'loss': 0.0037, 'grad_norm': 0.02410382591187954, 'learning_rate': 3.1415420023014963e-06, 'epoch': 3.37}\n",
      "{'loss': 0.0475, 'grad_norm': 0.029375068843364716, 'learning_rate': 3.1223628691983127e-06, 'epoch': 3.38}\n",
      "{'loss': 0.0319, 'grad_norm': 0.024651316925883293, 'learning_rate': 3.103183736095129e-06, 'epoch': 3.38}\n",
      "{'loss': 0.005, 'grad_norm': 0.02650262415409088, 'learning_rate': 3.084004602991945e-06, 'epoch': 3.38}\n",
      "{'loss': 0.0821, 'grad_norm': 0.09923823922872543, 'learning_rate': 3.0648254698887614e-06, 'epoch': 3.39}\n",
      "{'loss': 0.0036, 'grad_norm': 0.027028949931263924, 'learning_rate': 3.045646336785578e-06, 'epoch': 3.39}\n",
      "{'loss': 0.0036, 'grad_norm': 0.03680583834648132, 'learning_rate': 3.0264672036823938e-06, 'epoch': 3.39}\n",
      "{'loss': 0.0033, 'grad_norm': 0.025559453293681145, 'learning_rate': 3.00728807057921e-06, 'epoch': 3.4}\n",
      "{'loss': 0.0032, 'grad_norm': 0.07524338364601135, 'learning_rate': 2.9881089374760265e-06, 'epoch': 3.4}\n",
      "{'loss': 0.0045, 'grad_norm': 0.03299558907747269, 'learning_rate': 2.9689298043728425e-06, 'epoch': 3.41}\n",
      "{'loss': 0.0668, 'grad_norm': 0.0280794445425272, 'learning_rate': 2.949750671269659e-06, 'epoch': 3.41}\n",
      "{'loss': 0.007, 'grad_norm': 0.03506970405578613, 'learning_rate': 2.9305715381664753e-06, 'epoch': 3.41}\n",
      "{'loss': 0.0049, 'grad_norm': 3.6098506450653076, 'learning_rate': 2.9113924050632912e-06, 'epoch': 3.42}\n",
      "{'loss': 0.0838, 'grad_norm': 0.07733064144849777, 'learning_rate': 2.8922132719601076e-06, 'epoch': 3.42}\n",
      "{'loss': 0.083, 'grad_norm': 0.034802064299583435, 'learning_rate': 2.873034138856924e-06, 'epoch': 3.43}\n",
      "{'loss': 0.0579, 'grad_norm': 0.47978466749191284, 'learning_rate': 2.85385500575374e-06, 'epoch': 3.43}\n",
      "{'loss': 0.115, 'grad_norm': 3.4446496963500977, 'learning_rate': 2.8346758726505563e-06, 'epoch': 3.43}\n",
      "{'loss': 0.0766, 'grad_norm': 5.259531497955322, 'learning_rate': 2.8154967395473727e-06, 'epoch': 3.44}\n",
      "{'loss': 0.0657, 'grad_norm': 0.04678793624043465, 'learning_rate': 2.7963176064441887e-06, 'epoch': 3.44}\n",
      "{'loss': 0.0163, 'grad_norm': 0.0428793840110302, 'learning_rate': 2.777138473341005e-06, 'epoch': 3.44}\n",
      "{'loss': 0.1001, 'grad_norm': 1.6992385387420654, 'learning_rate': 2.7579593402378214e-06, 'epoch': 3.45}\n",
      "{'loss': 0.0486, 'grad_norm': 0.03418121859431267, 'learning_rate': 2.7387802071346374e-06, 'epoch': 3.45}\n"
     ]
    },
    {
     "data": {
      "application/vnd.jupyter.widget-view+json": {
       "model_id": "2f61df08532b4c1a8196234f40ba55ef",
       "version_major": 2,
       "version_minor": 0
      },
      "text/plain": [
       "  0%|          | 0/7 [00:00<?, ?it/s]"
      ]
     },
     "metadata": {},
     "output_type": "display_data"
    },
    {
     "name": "stdout",
     "output_type": "stream",
     "text": [
      "{'eval_loss': 0.8695071935653687, 'eval_accuracy': 0.8148148148148148, 'eval_runtime': 9.5925, 'eval_samples_per_second': 11.259, 'eval_steps_per_second': 0.73, 'epoch': 3.45}\n",
      "{'loss': 0.1286, 'grad_norm': 0.030384227633476257, 'learning_rate': 2.7196010740314538e-06, 'epoch': 3.46}\n",
      "{'loss': 0.0762, 'grad_norm': 0.024274786934256554, 'learning_rate': 2.70042194092827e-06, 'epoch': 3.46}\n",
      "{'loss': 0.062, 'grad_norm': 0.27304530143737793, 'learning_rate': 2.681242807825086e-06, 'epoch': 3.46}\n",
      "{'loss': 0.0994, 'grad_norm': 0.040920671075582504, 'learning_rate': 2.6620636747219025e-06, 'epoch': 3.47}\n",
      "{'loss': 0.0737, 'grad_norm': 0.04206251725554466, 'learning_rate': 2.6428845416187193e-06, 'epoch': 3.47}\n",
      "{'loss': 0.0825, 'grad_norm': 51.32387924194336, 'learning_rate': 2.6237054085155357e-06, 'epoch': 3.48}\n",
      "{'loss': 0.0716, 'grad_norm': 7.681882381439209, 'learning_rate': 2.6045262754123517e-06, 'epoch': 3.48}\n",
      "{'loss': 0.2291, 'grad_norm': 0.04895525425672531, 'learning_rate': 2.585347142309168e-06, 'epoch': 3.48}\n",
      "{'loss': 0.0034, 'grad_norm': 0.13952194154262543, 'learning_rate': 2.5661680092059844e-06, 'epoch': 3.49}\n",
      "{'loss': 0.1769, 'grad_norm': 0.028999153524637222, 'learning_rate': 2.5469888761028004e-06, 'epoch': 3.49}\n",
      "{'loss': 0.0039, 'grad_norm': 0.5217715501785278, 'learning_rate': 2.5278097429996168e-06, 'epoch': 3.49}\n",
      "{'loss': 0.036, 'grad_norm': 0.09779639542102814, 'learning_rate': 2.508630609896433e-06, 'epoch': 3.5}\n",
      "{'loss': 0.0152, 'grad_norm': 0.029063275083899498, 'learning_rate': 2.489451476793249e-06, 'epoch': 3.5}\n",
      "{'loss': 0.0105, 'grad_norm': 51.438087463378906, 'learning_rate': 2.4702723436900655e-06, 'epoch': 3.51}\n",
      "{'loss': 0.0819, 'grad_norm': 0.04031405970454216, 'learning_rate': 2.451093210586882e-06, 'epoch': 3.51}\n",
      "{'loss': 0.1252, 'grad_norm': 0.022649846971035004, 'learning_rate': 2.431914077483698e-06, 'epoch': 3.51}\n",
      "{'loss': 0.077, 'grad_norm': 0.3985351324081421, 'learning_rate': 2.4127349443805142e-06, 'epoch': 3.52}\n",
      "{'loss': 0.0333, 'grad_norm': 0.030457813292741776, 'learning_rate': 2.3935558112773306e-06, 'epoch': 3.52}\n",
      "{'loss': 0.1443, 'grad_norm': 10.198358535766602, 'learning_rate': 2.3743766781741466e-06, 'epoch': 3.53}\n",
      "{'loss': 0.195, 'grad_norm': 5.553963661193848, 'learning_rate': 2.355197545070963e-06, 'epoch': 3.53}\n",
      "{'loss': 0.0743, 'grad_norm': 0.038614969700574875, 'learning_rate': 2.3360184119677793e-06, 'epoch': 3.53}\n",
      "{'loss': 0.0054, 'grad_norm': 0.07880760729312897, 'learning_rate': 2.3168392788645953e-06, 'epoch': 3.54}\n",
      "{'loss': 0.0676, 'grad_norm': 0.026845760643482208, 'learning_rate': 2.2976601457614117e-06, 'epoch': 3.54}\n",
      "{'loss': 0.069, 'grad_norm': 0.04589276760816574, 'learning_rate': 2.278481012658228e-06, 'epoch': 3.54}\n",
      "{'loss': 0.0228, 'grad_norm': 95.6962661743164, 'learning_rate': 2.259301879555044e-06, 'epoch': 3.55}\n",
      "{'loss': 0.1432, 'grad_norm': 0.7374258637428284, 'learning_rate': 2.2401227464518604e-06, 'epoch': 3.55}\n",
      "{'loss': 0.134, 'grad_norm': 0.040421973913908005, 'learning_rate': 2.2209436133486768e-06, 'epoch': 3.56}\n",
      "{'loss': 0.0833, 'grad_norm': 19.055700302124023, 'learning_rate': 2.201764480245493e-06, 'epoch': 3.56}\n",
      "{'loss': 0.0777, 'grad_norm': 0.034467749297618866, 'learning_rate': 2.1825853471423095e-06, 'epoch': 3.56}\n",
      "{'loss': 0.0884, 'grad_norm': 0.27435776591300964, 'learning_rate': 2.1634062140391255e-06, 'epoch': 3.57}\n",
      "{'loss': 0.0038, 'grad_norm': 0.062179237604141235, 'learning_rate': 2.144227080935942e-06, 'epoch': 3.57}\n",
      "{'loss': 0.0043, 'grad_norm': 0.04096053168177605, 'learning_rate': 2.1250479478327583e-06, 'epoch': 3.57}\n",
      "{'loss': 0.0831, 'grad_norm': 28.946460723876953, 'learning_rate': 2.1058688147295742e-06, 'epoch': 3.58}\n",
      "{'loss': 0.0249, 'grad_norm': 0.057503167539834976, 'learning_rate': 2.0866896816263906e-06, 'epoch': 3.58}\n",
      "{'loss': 0.1107, 'grad_norm': 64.70201110839844, 'learning_rate': 2.067510548523207e-06, 'epoch': 3.59}\n",
      "{'loss': 0.0041, 'grad_norm': 0.10088937729597092, 'learning_rate': 2.048331415420023e-06, 'epoch': 3.59}\n",
      "{'loss': 0.0504, 'grad_norm': 0.04257332533597946, 'learning_rate': 2.0291522823168393e-06, 'epoch': 3.59}\n",
      "{'loss': 0.1157, 'grad_norm': 0.05797513946890831, 'learning_rate': 2.0099731492136557e-06, 'epoch': 3.6}\n",
      "{'loss': 0.0037, 'grad_norm': 0.2745961546897888, 'learning_rate': 1.990794016110472e-06, 'epoch': 3.6}\n",
      "{'loss': 0.0497, 'grad_norm': 0.5345302224159241, 'learning_rate': 1.971614883007288e-06, 'epoch': 3.61}\n",
      "{'loss': 0.0036, 'grad_norm': 0.06079976260662079, 'learning_rate': 1.9524357499041045e-06, 'epoch': 3.61}\n",
      "{'loss': 0.1223, 'grad_norm': 78.40165710449219, 'learning_rate': 1.933256616800921e-06, 'epoch': 3.61}\n",
      "{'loss': 0.0129, 'grad_norm': 0.03703758120536804, 'learning_rate': 1.914077483697737e-06, 'epoch': 3.62}\n",
      "{'loss': 0.0628, 'grad_norm': 0.05041101574897766, 'learning_rate': 1.8948983505945534e-06, 'epoch': 3.62}\n",
      "{'loss': 0.0439, 'grad_norm': 0.05011201277375221, 'learning_rate': 1.8757192174913696e-06, 'epoch': 3.62}\n",
      "{'loss': 0.0046, 'grad_norm': 0.02751496247947216, 'learning_rate': 1.856540084388186e-06, 'epoch': 3.63}\n",
      "{'loss': 0.0036, 'grad_norm': 0.02610994502902031, 'learning_rate': 1.8373609512850021e-06, 'epoch': 3.63}\n",
      "{'loss': 0.0785, 'grad_norm': 0.04992273822426796, 'learning_rate': 1.8181818181818183e-06, 'epoch': 3.64}\n",
      "{'loss': 0.0763, 'grad_norm': 0.056211795657873154, 'learning_rate': 1.7990026850786347e-06, 'epoch': 3.64}\n",
      "{'loss': 0.0744, 'grad_norm': 0.0430828221142292, 'learning_rate': 1.7798235519754508e-06, 'epoch': 3.64}\n"
     ]
    },
    {
     "data": {
      "application/vnd.jupyter.widget-view+json": {
       "model_id": "415b798ad5074682870016c278f31aef",
       "version_major": 2,
       "version_minor": 0
      },
      "text/plain": [
       "  0%|          | 0/7 [00:00<?, ?it/s]"
      ]
     },
     "metadata": {},
     "output_type": "display_data"
    },
    {
     "name": "stdout",
     "output_type": "stream",
     "text": [
      "{'eval_loss': 0.6331143379211426, 'eval_accuracy': 0.8333333333333334, 'eval_runtime': 9.548, 'eval_samples_per_second': 11.311, 'eval_steps_per_second': 0.733, 'epoch': 3.64}\n",
      "{'loss': 0.0032, 'grad_norm': 0.03780414164066315, 'learning_rate': 1.760644418872267e-06, 'epoch': 3.65}\n",
      "{'loss': 0.1449, 'grad_norm': 7.2698798179626465, 'learning_rate': 1.7414652857690834e-06, 'epoch': 3.65}\n",
      "{'loss': 0.0998, 'grad_norm': 0.0261711273342371, 'learning_rate': 1.7222861526658996e-06, 'epoch': 3.66}\n",
      "{'loss': 0.0042, 'grad_norm': 0.08609724789857864, 'learning_rate': 1.7031070195627157e-06, 'epoch': 3.66}\n",
      "{'loss': 0.0869, 'grad_norm': 5.49397087097168, 'learning_rate': 1.6839278864595321e-06, 'epoch': 3.66}\n",
      "{'loss': 0.0455, 'grad_norm': 0.2562508285045624, 'learning_rate': 1.6647487533563483e-06, 'epoch': 3.67}\n",
      "{'loss': 0.0905, 'grad_norm': 0.11306391656398773, 'learning_rate': 1.6455696202531647e-06, 'epoch': 3.67}\n",
      "{'loss': 0.138, 'grad_norm': 0.06401370465755463, 'learning_rate': 1.6263904871499809e-06, 'epoch': 3.67}\n",
      "{'loss': 0.0785, 'grad_norm': 0.025763118639588356, 'learning_rate': 1.6072113540467975e-06, 'epoch': 3.68}\n",
      "{'loss': 0.0083, 'grad_norm': 0.032404787838459015, 'learning_rate': 1.5880322209436136e-06, 'epoch': 3.68}\n",
      "{'loss': 0.0312, 'grad_norm': 0.024852704256772995, 'learning_rate': 1.5688530878404298e-06, 'epoch': 3.69}\n",
      "{'loss': 0.0845, 'grad_norm': 0.14686009287834167, 'learning_rate': 1.5496739547372462e-06, 'epoch': 3.69}\n",
      "{'loss': 0.0095, 'grad_norm': 0.03885966166853905, 'learning_rate': 1.5304948216340623e-06, 'epoch': 3.69}\n",
      "{'loss': 0.0134, 'grad_norm': 0.19398823380470276, 'learning_rate': 1.5113156885308785e-06, 'epoch': 3.7}\n",
      "{'loss': 0.0037, 'grad_norm': 0.06153375282883644, 'learning_rate': 1.492136555427695e-06, 'epoch': 3.7}\n",
      "{'loss': 0.0215, 'grad_norm': 68.32640075683594, 'learning_rate': 1.472957422324511e-06, 'epoch': 3.71}\n",
      "{'loss': 0.0039, 'grad_norm': 0.1179061084985733, 'learning_rate': 1.4537782892213272e-06, 'epoch': 3.71}\n",
      "{'loss': 0.0033, 'grad_norm': 0.16735482215881348, 'learning_rate': 1.4345991561181436e-06, 'epoch': 3.71}\n",
      "{'loss': 0.0029, 'grad_norm': 0.022256549447774887, 'learning_rate': 1.4154200230149598e-06, 'epoch': 3.72}\n",
      "{'loss': 0.1528, 'grad_norm': 0.058018606156110764, 'learning_rate': 1.396240889911776e-06, 'epoch': 3.72}\n",
      "{'loss': 0.1809, 'grad_norm': 0.11556613445281982, 'learning_rate': 1.3770617568085924e-06, 'epoch': 3.72}\n",
      "{'loss': 0.009, 'grad_norm': 0.29915809631347656, 'learning_rate': 1.3578826237054085e-06, 'epoch': 3.73}\n",
      "{'loss': 0.1418, 'grad_norm': 0.04746571555733681, 'learning_rate': 1.3387034906022247e-06, 'epoch': 3.73}\n",
      "{'loss': 0.0449, 'grad_norm': 0.06337578594684601, 'learning_rate': 1.3195243574990413e-06, 'epoch': 3.74}\n",
      "{'loss': 0.0033, 'grad_norm': 0.04790199175477028, 'learning_rate': 1.3003452243958575e-06, 'epoch': 3.74}\n",
      "{'loss': 0.0858, 'grad_norm': 0.029369479045271873, 'learning_rate': 1.2811660912926738e-06, 'epoch': 3.74}\n",
      "{'loss': 0.0103, 'grad_norm': 0.42956727743148804, 'learning_rate': 1.26198695818949e-06, 'epoch': 3.75}\n",
      "{'loss': 0.0542, 'grad_norm': 22.612167358398438, 'learning_rate': 1.2428078250863062e-06, 'epoch': 3.75}\n",
      "{'loss': 0.0031, 'grad_norm': 0.036817051470279694, 'learning_rate': 1.2236286919831226e-06, 'epoch': 3.76}\n",
      "{'loss': 0.0035, 'grad_norm': 0.026574010029435158, 'learning_rate': 1.2044495588799387e-06, 'epoch': 3.76}\n",
      "{'loss': 0.0143, 'grad_norm': 0.027432294562458992, 'learning_rate': 1.185270425776755e-06, 'epoch': 3.76}\n",
      "{'loss': 0.0728, 'grad_norm': 0.039117127656936646, 'learning_rate': 1.1660912926735713e-06, 'epoch': 3.77}\n",
      "{'loss': 0.0717, 'grad_norm': 2.1345767974853516, 'learning_rate': 1.1469121595703875e-06, 'epoch': 3.77}\n",
      "{'loss': 0.1365, 'grad_norm': 23.6098690032959, 'learning_rate': 1.1277330264672036e-06, 'epoch': 3.77}\n",
      "{'loss': 0.0052, 'grad_norm': 0.03181790933012962, 'learning_rate': 1.10855389336402e-06, 'epoch': 3.78}\n",
      "{'loss': 0.1448, 'grad_norm': 5.746425151824951, 'learning_rate': 1.0893747602608364e-06, 'epoch': 3.78}\n",
      "{'loss': 0.0043, 'grad_norm': 0.08274077624082565, 'learning_rate': 1.0701956271576526e-06, 'epoch': 3.79}\n",
      "{'loss': 0.0036, 'grad_norm': 0.050621483474969864, 'learning_rate': 1.0510164940544688e-06, 'epoch': 3.79}\n",
      "{'loss': 0.077, 'grad_norm': 22.928359985351562, 'learning_rate': 1.0318373609512851e-06, 'epoch': 3.79}\n",
      "{'loss': 0.0054, 'grad_norm': 0.028674568980932236, 'learning_rate': 1.0126582278481013e-06, 'epoch': 3.8}\n",
      "{'loss': 0.2235, 'grad_norm': 9.102428436279297, 'learning_rate': 9.934790947449175e-07, 'epoch': 3.8}\n",
      "{'loss': 0.1412, 'grad_norm': 0.15953223407268524, 'learning_rate': 9.742999616417339e-07, 'epoch': 3.81}\n",
      "{'loss': 0.0031, 'grad_norm': 0.029026344418525696, 'learning_rate': 9.551208285385502e-07, 'epoch': 3.81}\n",
      "{'loss': 0.0524, 'grad_norm': 6.956503391265869, 'learning_rate': 9.359416954353664e-07, 'epoch': 3.81}\n",
      "{'loss': 0.0032, 'grad_norm': 0.030726497992873192, 'learning_rate': 9.167625623321827e-07, 'epoch': 3.82}\n",
      "{'loss': 0.0032, 'grad_norm': 0.03875972330570221, 'learning_rate': 8.97583429228999e-07, 'epoch': 3.82}\n",
      "{'loss': 0.0034, 'grad_norm': 0.030192438513040543, 'learning_rate': 8.784042961258151e-07, 'epoch': 3.82}\n",
      "{'loss': 0.0035, 'grad_norm': 0.029132315889000893, 'learning_rate': 8.592251630226314e-07, 'epoch': 3.83}\n",
      "{'loss': 0.1285, 'grad_norm': 0.04186999797821045, 'learning_rate': 8.400460299194477e-07, 'epoch': 3.83}\n",
      "{'loss': 0.0033, 'grad_norm': 0.3049863278865814, 'learning_rate': 8.208668968162639e-07, 'epoch': 3.84}\n"
     ]
    },
    {
     "data": {
      "application/vnd.jupyter.widget-view+json": {
       "model_id": "14af18e9060b42279b25297cd6242c8a",
       "version_major": 2,
       "version_minor": 0
      },
      "text/plain": [
       "  0%|          | 0/7 [00:00<?, ?it/s]"
      ]
     },
     "metadata": {},
     "output_type": "display_data"
    },
    {
     "name": "stdout",
     "output_type": "stream",
     "text": [
      "{'eval_loss': 0.700778067111969, 'eval_accuracy': 0.8240740740740741, 'eval_runtime': 9.3884, 'eval_samples_per_second': 11.504, 'eval_steps_per_second': 0.746, 'epoch': 3.84}\n",
      "{'loss': 0.0712, 'grad_norm': 0.026738997548818588, 'learning_rate': 8.016877637130803e-07, 'epoch': 3.84}\n",
      "{'loss': 0.0152, 'grad_norm': 0.031867023557424545, 'learning_rate': 7.825086306098965e-07, 'epoch': 3.84}\n",
      "{'loss': 0.015, 'grad_norm': 0.15935231745243073, 'learning_rate': 7.633294975067128e-07, 'epoch': 3.85}\n",
      "{'loss': 0.0654, 'grad_norm': 5.765998363494873, 'learning_rate': 7.44150364403529e-07, 'epoch': 3.85}\n",
      "{'loss': 0.0036, 'grad_norm': 0.13843882083892822, 'learning_rate': 7.249712313003453e-07, 'epoch': 3.86}\n",
      "{'loss': 0.0033, 'grad_norm': 0.05096466466784477, 'learning_rate': 7.057920981971615e-07, 'epoch': 3.86}\n",
      "{'loss': 0.0498, 'grad_norm': 0.030459169298410416, 'learning_rate': 6.866129650939777e-07, 'epoch': 3.86}\n",
      "{'loss': 0.0533, 'grad_norm': 0.057260408997535706, 'learning_rate': 6.67433831990794e-07, 'epoch': 3.87}\n",
      "{'loss': 0.0638, 'grad_norm': 3.9193778038024902, 'learning_rate': 6.482546988876104e-07, 'epoch': 3.87}\n",
      "{'loss': 0.0032, 'grad_norm': 0.032986853271722794, 'learning_rate': 6.290755657844266e-07, 'epoch': 3.87}\n",
      "{'loss': 0.014, 'grad_norm': 5.486460208892822, 'learning_rate': 6.098964326812429e-07, 'epoch': 3.88}\n",
      "{'loss': 0.0751, 'grad_norm': 0.04081603139638901, 'learning_rate': 5.907172995780591e-07, 'epoch': 3.88}\n",
      "{'loss': 0.0738, 'grad_norm': 0.0412832535803318, 'learning_rate': 5.715381664748754e-07, 'epoch': 3.89}\n",
      "{'loss': 0.0037, 'grad_norm': 0.049345314502716064, 'learning_rate': 5.523590333716917e-07, 'epoch': 3.89}\n",
      "{'loss': 0.0717, 'grad_norm': 6.153359413146973, 'learning_rate': 5.331799002685079e-07, 'epoch': 3.89}\n",
      "{'loss': 0.0033, 'grad_norm': 0.026463046669960022, 'learning_rate': 5.140007671653242e-07, 'epoch': 3.9}\n",
      "{'loss': 0.0058, 'grad_norm': 1.1932541131973267, 'learning_rate': 4.948216340621404e-07, 'epoch': 3.9}\n",
      "{'loss': 0.0489, 'grad_norm': 0.03440796583890915, 'learning_rate': 4.756425009589567e-07, 'epoch': 3.9}\n",
      "{'loss': 0.0401, 'grad_norm': 0.14468754827976227, 'learning_rate': 4.56463367855773e-07, 'epoch': 3.91}\n",
      "{'loss': 0.032, 'grad_norm': 0.5686452984809875, 'learning_rate': 4.372842347525892e-07, 'epoch': 3.91}\n",
      "{'loss': 0.0553, 'grad_norm': 0.02391803078353405, 'learning_rate': 4.1810510164940544e-07, 'epoch': 3.92}\n",
      "{'loss': 0.0088, 'grad_norm': 0.040157731622457504, 'learning_rate': 3.9892596854622177e-07, 'epoch': 3.92}\n",
      "{'loss': 0.0935, 'grad_norm': 0.12660017609596252, 'learning_rate': 3.79746835443038e-07, 'epoch': 3.92}\n",
      "{'loss': 0.0112, 'grad_norm': 0.034172091633081436, 'learning_rate': 3.6056770233985427e-07, 'epoch': 3.93}\n",
      "{'loss': 0.0035, 'grad_norm': 0.48316338658332825, 'learning_rate': 3.413885692366705e-07, 'epoch': 3.93}\n",
      "{'loss': 0.048, 'grad_norm': 27.003141403198242, 'learning_rate': 3.222094361334868e-07, 'epoch': 3.94}\n",
      "{'loss': 0.0029, 'grad_norm': 0.032473817467689514, 'learning_rate': 3.0303030303030305e-07, 'epoch': 3.94}\n",
      "{'loss': 0.004, 'grad_norm': 0.049718040972948074, 'learning_rate': 2.838511699271193e-07, 'epoch': 3.94}\n",
      "{'loss': 0.1058, 'grad_norm': 0.02978740632534027, 'learning_rate': 2.646720368239356e-07, 'epoch': 3.95}\n",
      "{'loss': 0.0035, 'grad_norm': 0.6065425872802734, 'learning_rate': 2.4549290372075183e-07, 'epoch': 3.95}\n",
      "{'loss': 0.0658, 'grad_norm': 0.025527695193886757, 'learning_rate': 2.263137706175681e-07, 'epoch': 3.95}\n",
      "{'loss': 0.0625, 'grad_norm': 0.05239317938685417, 'learning_rate': 2.0713463751438436e-07, 'epoch': 3.96}\n",
      "{'loss': 0.0606, 'grad_norm': 0.16891463100910187, 'learning_rate': 1.8795550441120063e-07, 'epoch': 3.96}\n",
      "{'loss': 0.0033, 'grad_norm': 0.02224542945623398, 'learning_rate': 1.6877637130801689e-07, 'epoch': 3.97}\n",
      "{'loss': 0.0695, 'grad_norm': 17.809537887573242, 'learning_rate': 1.4959723820483316e-07, 'epoch': 3.97}\n",
      "{'loss': 0.0034, 'grad_norm': 0.4041394591331482, 'learning_rate': 1.3041810510164941e-07, 'epoch': 3.97}\n",
      "{'loss': 0.0623, 'grad_norm': 0.02350669726729393, 'learning_rate': 1.1123897199846568e-07, 'epoch': 3.98}\n",
      "{'loss': 0.0096, 'grad_norm': 0.05655926465988159, 'learning_rate': 9.205983889528194e-08, 'epoch': 3.98}\n",
      "{'loss': 0.0378, 'grad_norm': 0.03330434486269951, 'learning_rate': 7.28807057920982e-08, 'epoch': 3.99}\n",
      "{'loss': 0.1404, 'grad_norm': 0.02957434579730034, 'learning_rate': 5.3701572688914464e-08, 'epoch': 3.99}\n",
      "{'loss': 0.0515, 'grad_norm': 24.195966720581055, 'learning_rate': 3.452243958573073e-08, 'epoch': 3.99}\n",
      "{'loss': 0.0717, 'grad_norm': 0.07394331693649292, 'learning_rate': 1.534330648254699e-08, 'epoch': 4.0}\n",
      "{'train_runtime': 6860.8481, 'train_samples_per_second': 12.157, 'train_steps_per_second': 1.52, 'train_loss': 0.22475292269975708, 'epoch': 4.0}\n"
     ]
    }
   ],
   "source": [
    "results = trainer.train()"
   ]
  },
  {
   "cell_type": "code",
   "execution_count": null,
   "metadata": {},
   "outputs": [],
   "source": []
  },
  {
   "cell_type": "code",
   "execution_count": 27,
   "metadata": {},
   "outputs": [],
   "source": [
    "dataset_test = ds['test']"
   ]
  },
  {
   "cell_type": "code",
   "execution_count": 28,
   "metadata": {},
   "outputs": [
    {
     "data": {
      "application/vnd.jupyter.widget-view+json": {
       "model_id": "366039f80b1c40c898577150885cf23f",
       "version_major": 2,
       "version_minor": 0
      },
      "text/plain": [
       "  0%|          | 0/90 [00:00<?, ?it/s]"
      ]
     },
     "metadata": {},
     "output_type": "display_data"
    }
   ],
   "source": [
    "prepared_test = dataset_test.with_transform(preprocess)\n",
    "# Obtener predicciones del modelo\n",
    "predictions = trainer.predict(prepared_test)\n",
    "\n",
    "# Extraer logits y etiquetas reales\n",
    "logits = predictions.predictions  # Salidas del modelo (antes de aplicar softmax)\n",
    "labels = predictions.label_ids    # Etiquetas reales\n",
    "\n",
    "predicted_classes = np.argmax(logits, axis=-1)\n"
   ]
  },
  {
   "cell_type": "code",
   "execution_count": 29,
   "metadata": {},
   "outputs": [
    {
     "data": {
      "text/plain": [
       "Dataset({\n",
       "    features: ['image', 'label'],\n",
       "    num_rows: 1436\n",
       "})"
      ]
     },
     "execution_count": 29,
     "metadata": {},
     "output_type": "execute_result"
    }
   ],
   "source": [
    "prepared_test"
   ]
  },
  {
   "cell_type": "code",
   "execution_count": 30,
   "metadata": {},
   "outputs": [
    {
     "data": {
      "image/png": "[encoded data removed]",
      "text/plain": [
       "<Figure size 640x480 with 2 Axes>"
      ]
     },
     "metadata": {},
     "output_type": "display_data"
    }
   ],
   "source": [
    "from sklearn.metrics import confusion_matrix, ConfusionMatrixDisplay\n",
    "import matplotlib.pyplot as plt\n",
    "\n",
    "# Calcular matriz de confusión\n",
    "cm = confusion_matrix(labels, predicted_classes)\n",
    "\n",
    "# Mostrar la matriz de confusión\n",
    "labels_names = ds['train'].features['label'].names  # Nombres de las clases\n",
    "disp = ConfusionMatrixDisplay(confusion_matrix=cm, display_labels=labels_names)\n",
    "disp.plot(cmap=plt.cm.Blues)\n",
    "\n",
    "plt.title(\"Matriz de Confusión\")\n",
    "plt.show()\n"
   ]
  },
  {
   "cell_type": "code",
   "execution_count": 31,
   "metadata": {},
   "outputs": [],
   "source": [
    "trainer.save_model()\n",
    "trainer.save_state()\n"
   ]
  },
  {
   "cell_type": "code",
   "execution_count": 226,
   "metadata": {},
   "outputs": [],
   "source": []
  },
  {
   "cell_type": "code",
   "execution_count": null,
   "metadata": {},
   "outputs": [],
   "source": []
  }
 ],
 "metadata": {
  "kernelspec": {
   "display_name": "base",
   "language": "python",
   "name": "python3"
  },
  "language_info": {
   "codemirror_mode": {
    "name": "ipython",
    "version": 3
   },
   "file_extension": ".py",
   "mimetype": "text/x-python",
   "name": "python",
   "nbconvert_exporter": "python",
   "pygments_lexer": "ipython3",
   "version": "3.11.7"
  }
 },
 "nbformat": 4,
 "nbformat_minor": 2
}
